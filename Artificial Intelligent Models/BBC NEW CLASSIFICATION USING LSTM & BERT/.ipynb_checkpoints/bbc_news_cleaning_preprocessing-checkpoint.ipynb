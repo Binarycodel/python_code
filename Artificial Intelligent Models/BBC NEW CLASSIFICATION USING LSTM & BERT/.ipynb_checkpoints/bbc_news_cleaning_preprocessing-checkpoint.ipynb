{
 "cells": [
  {
   "cell_type": "markdown",
   "metadata": {},
   "source": [
    "# importing bbc news dataset"
   ]
  },
  {
   "cell_type": "code",
   "execution_count": 1,
   "metadata": {},
   "outputs": [],
   "source": [
    "import pandas as pd \n",
    "import numpy as np"
   ]
  },
  {
   "cell_type": "code",
   "execution_count": 2,
   "metadata": {},
   "outputs": [
    {
     "data": {
      "text/html": [
       "<div>\n",
       "<style scoped>\n",
       "    .dataframe tbody tr th:only-of-type {\n",
       "        vertical-align: middle;\n",
       "    }\n",
       "\n",
       "    .dataframe tbody tr th {\n",
       "        vertical-align: top;\n",
       "    }\n",
       "\n",
       "    .dataframe thead th {\n",
       "        text-align: right;\n",
       "    }\n",
       "</style>\n",
       "<table border=\"1\" class=\"dataframe\">\n",
       "  <thead>\n",
       "    <tr style=\"text-align: right;\">\n",
       "      <th></th>\n",
       "      <th>category</th>\n",
       "      <th>text</th>\n",
       "    </tr>\n",
       "  </thead>\n",
       "  <tbody>\n",
       "    <tr>\n",
       "      <th>0</th>\n",
       "      <td>tech</td>\n",
       "      <td>tv future in the hands of viewers with home th...</td>\n",
       "    </tr>\n",
       "    <tr>\n",
       "      <th>1</th>\n",
       "      <td>business</td>\n",
       "      <td>worldcom boss  left books alone  former worldc...</td>\n",
       "    </tr>\n",
       "    <tr>\n",
       "      <th>2</th>\n",
       "      <td>sport</td>\n",
       "      <td>tigers wary of farrell  gamble  leicester say ...</td>\n",
       "    </tr>\n",
       "    <tr>\n",
       "      <th>3</th>\n",
       "      <td>sport</td>\n",
       "      <td>yeading face newcastle in fa cup premiership s...</td>\n",
       "    </tr>\n",
       "    <tr>\n",
       "      <th>4</th>\n",
       "      <td>entertainment</td>\n",
       "      <td>ocean s twelve raids box office ocean s twelve...</td>\n",
       "    </tr>\n",
       "    <tr>\n",
       "      <th>...</th>\n",
       "      <td>...</td>\n",
       "      <td>...</td>\n",
       "    </tr>\n",
       "    <tr>\n",
       "      <th>2220</th>\n",
       "      <td>business</td>\n",
       "      <td>cars pull down us retail figures us retail sal...</td>\n",
       "    </tr>\n",
       "    <tr>\n",
       "      <th>2221</th>\n",
       "      <td>politics</td>\n",
       "      <td>kilroy unveils immigration policy ex-chatshow ...</td>\n",
       "    </tr>\n",
       "    <tr>\n",
       "      <th>2222</th>\n",
       "      <td>entertainment</td>\n",
       "      <td>rem announce new glasgow concert us band rem h...</td>\n",
       "    </tr>\n",
       "    <tr>\n",
       "      <th>2223</th>\n",
       "      <td>politics</td>\n",
       "      <td>how political squabbles snowball it s become c...</td>\n",
       "    </tr>\n",
       "    <tr>\n",
       "      <th>2224</th>\n",
       "      <td>sport</td>\n",
       "      <td>souness delight at euro progress boss graeme s...</td>\n",
       "    </tr>\n",
       "  </tbody>\n",
       "</table>\n",
       "<p>2225 rows × 2 columns</p>\n",
       "</div>"
      ],
      "text/plain": [
       "           category                                               text\n",
       "0              tech  tv future in the hands of viewers with home th...\n",
       "1          business  worldcom boss  left books alone  former worldc...\n",
       "2             sport  tigers wary of farrell  gamble  leicester say ...\n",
       "3             sport  yeading face newcastle in fa cup premiership s...\n",
       "4     entertainment  ocean s twelve raids box office ocean s twelve...\n",
       "...             ...                                                ...\n",
       "2220       business  cars pull down us retail figures us retail sal...\n",
       "2221       politics  kilroy unveils immigration policy ex-chatshow ...\n",
       "2222  entertainment  rem announce new glasgow concert us band rem h...\n",
       "2223       politics  how political squabbles snowball it s become c...\n",
       "2224          sport  souness delight at euro progress boss graeme s...\n",
       "\n",
       "[2225 rows x 2 columns]"
      ]
     },
     "execution_count": 2,
     "metadata": {},
     "output_type": "execute_result"
    }
   ],
   "source": [
    "\n",
    "# pd.set_option('display.max_colwidth', 100)\n",
    "dataset = pd.read_csv('bbc_text.csv')\n",
    "dataset"
   ]
  },
  {
   "cell_type": "markdown",
   "metadata": {},
   "source": [
    "# Data exploration: knowing the bbc news dataset"
   ]
  },
  {
   "cell_type": "code",
   "execution_count": 3,
   "metadata": {},
   "outputs": [],
   "source": [
    "import matplotlib.pyplot as pt"
   ]
  },
  {
   "cell_type": "code",
   "execution_count": 4,
   "metadata": {},
   "outputs": [
    {
     "name": "stdout",
     "output_type": "stream",
     "text": [
      "2225 rows or total datapoint <===> and  2 columns\n"
     ]
    }
   ],
   "source": [
    "row , colums  =  dataset.shape\n",
    "print(f'{row} rows or total datapoint <===> and  {colums} columns')"
   ]
  },
  {
   "cell_type": "code",
   "execution_count": 5,
   "metadata": {},
   "outputs": [
    {
     "data": {
      "text/plain": [
       "array(['tech', 'business', 'sport', 'entertainment', 'politics'],\n",
       "      dtype=object)"
      ]
     },
     "execution_count": 5,
     "metadata": {},
     "output_type": "execute_result"
    }
   ],
   "source": [
    "dataset.category.unique()"
   ]
  },
  {
   "cell_type": "code",
   "execution_count": 6,
   "metadata": {},
   "outputs": [
    {
     "name": "stdout",
     "output_type": "stream",
     "text": [
      "401 tech , 510 business , 511 sport , 386 entertainment , 417 politics\n"
     ]
    }
   ],
   "source": [
    "tech = len(dataset[dataset.category == 'tech'])\n",
    "business = len(dataset[dataset.category == 'business'])\n",
    "sport = len(dataset[dataset.category == 'sport'])\n",
    "entertainment = len(dataset[dataset.category == 'entertainment'])\n",
    "politics = len(dataset[dataset.category == 'politics'])\n",
    "\n",
    "print(f'{tech} tech , {business} business , {sport} sport , {entertainment} entertainment , {politics} politics')"
   ]
  },
  {
   "cell_type": "code",
   "execution_count": 7,
   "metadata": {},
   "outputs": [
    {
     "data": {
      "text/plain": [
       "<BarContainer object of 5 artists>"
      ]
     },
     "execution_count": 7,
     "metadata": {},
     "output_type": "execute_result"
    },
    {
     "data": {
      "image/png": "[encoded data removed]",
      "text/plain": [
       "<Figure size 432x288 with 1 Axes>"
      ]
     },
     "metadata": {
      "needs_background": "light"
     },
     "output_type": "display_data"
    }
   ],
   "source": [
    "# visualizing using bar chart\n",
    "y = [tech, business, sport, entertainment, politics]\n",
    "X = ['tech' , 'business', 'sport' , 'entertainment', 'politics']\n",
    "pt.xlabel('New Category')\n",
    "pt.ylabel(\"No of Datapoint\")\n",
    "pt.bar(X, y , color=['red' , 'green', 'blue', 'gray', 'brown'])"
   ]
  },
  {
   "cell_type": "code",
   "execution_count": 8,
   "metadata": {},
   "outputs": [
    {
     "data": {
      "image/png": "[encoded data removed]",
      "text/plain": [
       "<Figure size 432x288 with 1 Axes>"
      ]
     },
     "metadata": {},
     "output_type": "display_data"
    }
   ],
   "source": [
    "x = y\n",
    "pt.axis('equal')\n",
    "pt.pie(x, labels=X , radius=1.2, autopct=\"%0.2f%%\", explode=[0,0.2,0,0.2,0], shadow=True )\n",
    "pt.show()"
   ]
  },
  {
   "cell_type": "code",
   "execution_count": 9,
   "metadata": {
    "scrolled": true
   },
   "outputs": [
    {
     "name": "stdout",
     "output_type": "stream",
     "text": [
      "missing datapoint count :  0\n"
     ]
    }
   ],
   "source": [
    "# let check for missing datapoint\n",
    "missing_datapoint = dataset['category'].isnull().sum()\n",
    "print('missing datapoint count : ' , missing_datapoint )"
   ]
  },
  {
   "cell_type": "markdown",
   "metadata": {},
   "source": [
    "# data cleaning :  bbc news data cleaning and preprocessing"
   ]
  },
  {
   "cell_type": "code",
   "execution_count": 10,
   "metadata": {},
   "outputs": [
    {
     "name": "stdout",
     "output_type": "stream",
     "text": [
      "['i', 'me', 'my', 'myself', 'we', 'our', 'ours', 'ourselves', 'you', \"you're\"]\n",
      "!\"#$%&'()*+,-./:;<=>?@[\\]^_`{|}~\n",
      "hit\n",
      "hit\n"
     ]
    }
   ],
   "source": [
    "from nltk.corpus import stopwords\n",
    "import string\n",
    "from nltk.tokenize import word_tokenize\n",
    "from nltk.stem import PorterStemmer\n",
    "stop_word = stopwords.words('english')\n",
    "print(stop_word[:10])\n",
    "print(string.punctuation)\n",
    "\n",
    "ps = PorterStemmer()\n",
    "print(ps.stem('hits'))\n",
    "print(ps.stem('hit'))"
   ]
  },
  {
   "cell_type": "code",
   "execution_count": 11,
   "metadata": {},
   "outputs": [
    {
     "data": {
      "text/html": [
       "<div>\n",
       "<style scoped>\n",
       "    .dataframe tbody tr th:only-of-type {\n",
       "        vertical-align: middle;\n",
       "    }\n",
       "\n",
       "    .dataframe tbody tr th {\n",
       "        vertical-align: top;\n",
       "    }\n",
       "\n",
       "    .dataframe thead th {\n",
       "        text-align: right;\n",
       "    }\n",
       "</style>\n",
       "<table border=\"1\" class=\"dataframe\">\n",
       "  <thead>\n",
       "    <tr style=\"text-align: right;\">\n",
       "      <th></th>\n",
       "      <th>category</th>\n",
       "      <th>text</th>\n",
       "    </tr>\n",
       "  </thead>\n",
       "  <tbody>\n",
       "    <tr>\n",
       "      <th>1533</th>\n",
       "      <td>politics</td>\n",
       "      <td>uk rebate  unjustified  - chirac french presid...</td>\n",
       "    </tr>\n",
       "    <tr>\n",
       "      <th>405</th>\n",
       "      <td>sport</td>\n",
       "      <td>o gara revels in ireland victory ireland fly-h...</td>\n",
       "    </tr>\n",
       "    <tr>\n",
       "      <th>793</th>\n",
       "      <td>tech</td>\n",
       "      <td>doors open at biggest gadget fair thousands of...</td>\n",
       "    </tr>\n",
       "  </tbody>\n",
       "</table>\n",
       "</div>"
      ],
      "text/plain": [
       "      category                                               text\n",
       "1533  politics  uk rebate  unjustified  - chirac french presid...\n",
       "405      sport  o gara revels in ireland victory ireland fly-h...\n",
       "793       tech  doors open at biggest gadget fair thousands of..."
      ]
     },
     "execution_count": 11,
     "metadata": {},
     "output_type": "execute_result"
    }
   ],
   "source": [
    "dataset.sample(3)"
   ]
  },
  {
   "cell_type": "code",
   "execution_count": 12,
   "metadata": {},
   "outputs": [],
   "source": [
    "ps = PorterStemmer()\n",
    "\n",
    "def dataset_cleaning(text):\n",
    "    #  removeing punctuation from the dataset\n",
    "    text = ''.join([token for token in text if not token in string.punctuation])\n",
    "    # tokenizing the dataset e.g ['tv' , 'future' , 'in' , 'the']\n",
    "    token = word_tokenize(text)\n",
    "    # removing stopword (words that had less meaning to the dataset)     \n",
    "    text  = [ps.stem(t) for t in token if not t in stop_word ]\n",
    "    return text \n",
    "\n",
    "dataset['clean_text'] = dataset[\"text\"].apply(lambda x: dataset_cleaning(x))"
   ]
  },
  {
   "cell_type": "code",
   "execution_count": 13,
   "metadata": {},
   "outputs": [
    {
     "data": {
      "text/html": [
       "<div>\n",
       "<style scoped>\n",
       "    .dataframe tbody tr th:only-of-type {\n",
       "        vertical-align: middle;\n",
       "    }\n",
       "\n",
       "    .dataframe tbody tr th {\n",
       "        vertical-align: top;\n",
       "    }\n",
       "\n",
       "    .dataframe thead th {\n",
       "        text-align: right;\n",
       "    }\n",
       "</style>\n",
       "<table border=\"1\" class=\"dataframe\">\n",
       "  <thead>\n",
       "    <tr style=\"text-align: right;\">\n",
       "      <th></th>\n",
       "      <th>category</th>\n",
       "      <th>text</th>\n",
       "      <th>clean_text</th>\n",
       "    </tr>\n",
       "  </thead>\n",
       "  <tbody>\n",
       "    <tr>\n",
       "      <th>0</th>\n",
       "      <td>tech</td>\n",
       "      <td>tv future in the hands of viewers with home th...</td>\n",
       "      <td>[tv, futur, hand, viewer, home, theatr, system...</td>\n",
       "    </tr>\n",
       "    <tr>\n",
       "      <th>1</th>\n",
       "      <td>business</td>\n",
       "      <td>worldcom boss  left books alone  former worldc...</td>\n",
       "      <td>[worldcom, boss, left, book, alon, former, wor...</td>\n",
       "    </tr>\n",
       "    <tr>\n",
       "      <th>2</th>\n",
       "      <td>sport</td>\n",
       "      <td>tigers wary of farrell  gamble  leicester say ...</td>\n",
       "      <td>[tiger, wari, farrel, gambl, leicest, say, rus...</td>\n",
       "    </tr>\n",
       "    <tr>\n",
       "      <th>3</th>\n",
       "      <td>sport</td>\n",
       "      <td>yeading face newcastle in fa cup premiership s...</td>\n",
       "      <td>[yead, face, newcastl, fa, cup, premiership, s...</td>\n",
       "    </tr>\n",
       "    <tr>\n",
       "      <th>4</th>\n",
       "      <td>entertainment</td>\n",
       "      <td>ocean s twelve raids box office ocean s twelve...</td>\n",
       "      <td>[ocean, twelv, raid, box, offic, ocean, twelv,...</td>\n",
       "    </tr>\n",
       "    <tr>\n",
       "      <th>5</th>\n",
       "      <td>politics</td>\n",
       "      <td>howard hits back at mongrel jibe michael howar...</td>\n",
       "      <td>[howard, hit, back, mongrel, jibe, michael, ho...</td>\n",
       "    </tr>\n",
       "    <tr>\n",
       "      <th>6</th>\n",
       "      <td>politics</td>\n",
       "      <td>blair prepares to name poll date tony blair is...</td>\n",
       "      <td>[blair, prepar, name, poll, date, toni, blair,...</td>\n",
       "    </tr>\n",
       "    <tr>\n",
       "      <th>7</th>\n",
       "      <td>sport</td>\n",
       "      <td>henman hopes ended in dubai third seed tim hen...</td>\n",
       "      <td>[henman, hope, end, dubai, third, seed, tim, h...</td>\n",
       "    </tr>\n",
       "    <tr>\n",
       "      <th>8</th>\n",
       "      <td>sport</td>\n",
       "      <td>wilkinson fit to face edinburgh england captai...</td>\n",
       "      <td>[wilkinson, fit, face, edinburgh, england, cap...</td>\n",
       "    </tr>\n",
       "    <tr>\n",
       "      <th>9</th>\n",
       "      <td>entertainment</td>\n",
       "      <td>last star wars  not for children  the sixth an...</td>\n",
       "      <td>[last, star, war, children, sixth, final, star...</td>\n",
       "    </tr>\n",
       "  </tbody>\n",
       "</table>\n",
       "</div>"
      ],
      "text/plain": [
       "        category                                               text  \\\n",
       "0           tech  tv future in the hands of viewers with home th...   \n",
       "1       business  worldcom boss  left books alone  former worldc...   \n",
       "2          sport  tigers wary of farrell  gamble  leicester say ...   \n",
       "3          sport  yeading face newcastle in fa cup premiership s...   \n",
       "4  entertainment  ocean s twelve raids box office ocean s twelve...   \n",
       "5       politics  howard hits back at mongrel jibe michael howar...   \n",
       "6       politics  blair prepares to name poll date tony blair is...   \n",
       "7          sport  henman hopes ended in dubai third seed tim hen...   \n",
       "8          sport  wilkinson fit to face edinburgh england captai...   \n",
       "9  entertainment  last star wars  not for children  the sixth an...   \n",
       "\n",
       "                                          clean_text  \n",
       "0  [tv, futur, hand, viewer, home, theatr, system...  \n",
       "1  [worldcom, boss, left, book, alon, former, wor...  \n",
       "2  [tiger, wari, farrel, gambl, leicest, say, rus...  \n",
       "3  [yead, face, newcastl, fa, cup, premiership, s...  \n",
       "4  [ocean, twelv, raid, box, offic, ocean, twelv,...  \n",
       "5  [howard, hit, back, mongrel, jibe, michael, ho...  \n",
       "6  [blair, prepar, name, poll, date, toni, blair,...  \n",
       "7  [henman, hope, end, dubai, third, seed, tim, h...  \n",
       "8  [wilkinson, fit, face, edinburgh, england, cap...  \n",
       "9  [last, star, war, children, sixth, final, star...  "
      ]
     },
     "execution_count": 13,
     "metadata": {},
     "output_type": "execute_result"
    }
   ],
   "source": [
    "dataset.head(10)"
   ]
  },
  {
   "cell_type": "code",
   "execution_count": 14,
   "metadata": {},
   "outputs": [
    {
     "data": {
      "text/plain": [
       "2222    [rem, announc, new, glasgow, concert, us, band...\n",
       "2092    [us, interest, rate, rise, expect, us, interes...\n",
       "634     [mutu, hold, talk, juventu, disgrac, former, c...\n",
       "1979    [india, maruti, see, profit, jump, india, bigg...\n",
       "841     [dominici, back, lacklustr, franc, wing, chris...\n",
       "Name: clean_text, dtype: object"
      ]
     },
     "execution_count": 14,
     "metadata": {},
     "output_type": "execute_result"
    }
   ],
   "source": [
    "# view sample data point \n",
    "dataset['clean_text'].sample(5)"
   ]
  },
  {
   "cell_type": "code",
   "execution_count": 15,
   "metadata": {},
   "outputs": [
    {
     "data": {
      "text/html": [
       "<div>\n",
       "<style scoped>\n",
       "    .dataframe tbody tr th:only-of-type {\n",
       "        vertical-align: middle;\n",
       "    }\n",
       "\n",
       "    .dataframe tbody tr th {\n",
       "        vertical-align: top;\n",
       "    }\n",
       "\n",
       "    .dataframe thead th {\n",
       "        text-align: right;\n",
       "    }\n",
       "</style>\n",
       "<table border=\"1\" class=\"dataframe\">\n",
       "  <thead>\n",
       "    <tr style=\"text-align: right;\">\n",
       "      <th></th>\n",
       "      <th>category</th>\n",
       "      <th>clean_text</th>\n",
       "    </tr>\n",
       "  </thead>\n",
       "  <tbody>\n",
       "    <tr>\n",
       "      <th>0</th>\n",
       "      <td>tech</td>\n",
       "      <td>[tv, futur, hand, viewer, home, theatr, system...</td>\n",
       "    </tr>\n",
       "    <tr>\n",
       "      <th>1</th>\n",
       "      <td>business</td>\n",
       "      <td>[worldcom, boss, left, book, alon, former, wor...</td>\n",
       "    </tr>\n",
       "    <tr>\n",
       "      <th>2</th>\n",
       "      <td>sport</td>\n",
       "      <td>[tiger, wari, farrel, gambl, leicest, say, rus...</td>\n",
       "    </tr>\n",
       "    <tr>\n",
       "      <th>3</th>\n",
       "      <td>sport</td>\n",
       "      <td>[yead, face, newcastl, fa, cup, premiership, s...</td>\n",
       "    </tr>\n",
       "    <tr>\n",
       "      <th>4</th>\n",
       "      <td>entertainment</td>\n",
       "      <td>[ocean, twelv, raid, box, offic, ocean, twelv,...</td>\n",
       "    </tr>\n",
       "  </tbody>\n",
       "</table>\n",
       "</div>"
      ],
      "text/plain": [
       "        category                                         clean_text\n",
       "0           tech  [tv, futur, hand, viewer, home, theatr, system...\n",
       "1       business  [worldcom, boss, left, book, alon, former, wor...\n",
       "2          sport  [tiger, wari, farrel, gambl, leicest, say, rus...\n",
       "3          sport  [yead, face, newcastl, fa, cup, premiership, s...\n",
       "4  entertainment  [ocean, twelv, raid, box, offic, ocean, twelv,..."
      ]
     },
     "execution_count": 15,
     "metadata": {},
     "output_type": "execute_result"
    }
   ],
   "source": [
    "clean_dataset = dataset.drop(columns=['text'])\n",
    "clean_dataset.head()"
   ]
  },
  {
   "cell_type": "code",
   "execution_count": 16,
   "metadata": {},
   "outputs": [],
   "source": [
    "# clean_dataset.to_csv('clean_bbc_news_dataset.csv', index=False)"
   ]
  },
  {
   "cell_type": "markdown",
   "metadata": {},
   "source": [
    "# Vectorizing bbc new dataset : Using TF-IDF approach"
   ]
  },
  {
   "cell_type": "code",
   "execution_count": 17,
   "metadata": {},
   "outputs": [],
   "source": [
    "from sklearn.feature_extraction.text import CountVectorizer"
   ]
  },
  {
   "cell_type": "code",
   "execution_count": 18,
   "metadata": {},
   "outputs": [
    {
     "data": {
      "text/plain": [
       "0     [tv, futur, hand, viewer, home, theatr, system...\n",
       "1     [worldcom, boss, left, book, alon, former, wor...\n",
       "2     [tiger, wari, farrel, gambl, leicest, say, rus...\n",
       "3     [yead, face, newcastl, fa, cup, premiership, s...\n",
       "4     [ocean, twelv, raid, box, offic, ocean, twelv,...\n",
       "                            ...                        \n",
       "95    [dent, continu, adelaid, progress, american, t...\n",
       "96    [oil, rebound, weather, effect, oil, price, re...\n",
       "97    [ireland, win, eclips, refere, error, intern, ...\n",
       "98    [japan, narrowli, escap, recess, japan, econom...\n",
       "99    [rapper, kany, west, shrewd, soul, us, hiphop,...\n",
       "Name: clean_text, Length: 100, dtype: object"
      ]
     },
     "execution_count": 18,
     "metadata": {},
     "output_type": "execute_result"
    }
   ],
   "source": [
    "mini_data = dataset['clean_text'][:100]\n",
    "mini_data.head()\n",
    "text_data = data[]"
   ]
  },
  {
   "cell_type": "code",
   "execution_count": 31,
   "metadata": {},
   "outputs": [],
   "source": [
    "import tensorflow as tf\n",
    "from tensorflow import keras\n",
    "from tensorflow.keras.preprocessing.text import Tokenizer\n",
    "from tensorflow.keras.preprocessing.sequence import pad_sequences"
   ]
  },
  {
   "cell_type": "code",
   "execution_count": 38,
   "metadata": {},
   "outputs": [],
   "source": [
    "# creating dictionary of token with unique index\n",
    "tokenize = Tokenizer(num_words=5000 , oov_token=\"<OOV>\")\n",
    "tokenize.fit_on_texts(mini_data)"
   ]
  },
  {
   "cell_type": "code",
   "execution_count": 39,
   "metadata": {},
   "outputs": [
    {
     "name": "stdout",
     "output_type": "stream",
     "text": [
      "{'<OOV>': 1, 'said': 2, 'mr': 3, 'year': 4, 'would': 5, 'peopl': 6, 'also': 7, 'us': 8, 'new': 9, 'one': 10, 'govern': 11, 'compani': 12, 'could': 13, 'last': 14, 'parti': 15, 'time': 16, 'use': 17, 'make': 18, 'game': 19, 'say': 20, 'go': 21, 'want': 22, 'call': 23, 'firm': 24, 'back': 25, 'music': 26, 'need': 27, 'told': 28, 'work': 29, 'play': 30, 'market': 31, 'two': 32, 'right': 33, 'first': 34, 'like': 35, 'get': 36, 'film': 37, 'month': 38, 'take': 39, 'england': 40, '000': 41, 'club': 42, 'show': 43, 'three': 44, 'way': 45, 'move': 46, 'group': 47, 'share': 48, 'win': 49, 'hope': 50, 'offer': 51, 'uk': 52, 'bbc': 53, 'week': 54, 'may': 55, 'servic': 56, 'put': 57, 'help': 58, 'gener': 59, 'number': 60, 'intern': 61, 'player': 62, 'v': 63, 'countri': 64, 'well': 65, 'price': 66, 'plan': 67, 'technolog': 68, 'nation': 69, 'public': 70, 'minist': 71, 'ad': 72, 'end': 73, 'made': 74, 'day': 75, 'part': 76, 'includ': 77, 'million': 78, 'news': 79, 'sinc': 80, 'come': 81, 'fund': 82, 'live': 83, 'tri': 84, 'hous': 85, 'think': 86, 'match': 87, 'follow': 88, 'top': 89, 'elect': 90, '10': 91, 'world': 92, 'rate': 93, 'set': 94, 'former': 95, 'claim': 96, 'look': 97, 'face': 98, 'union': 99, 'hit': 100, 'good': 101, 'polit': 102, 'human': 103, 'pension': 104, 'start': 105, 'donat': 106, 'home': 107, 'record': 108, 'alreadi': 109, 'mani': 110, 'increas': 111, 'problem': 112, 'cut': 113, 'rule': 114, 'bank': 115, 'money': 116, 'much': 117, 'still': 118, 'next': 119, 'leader': 120, 'star': 121, 'wale': 122, 'programm': 123, 'network': 124, 'announc': 125, 'side': 126, 'howard': 127, 'give': 128, 'secur': 129, '2004': 130, 'continu': 131, 'life': 132, 'deal': 133, 'chang': 134, 'power': 135, 'see': 136, 'know': 137, 'phone': 138, 'final': 139, 'lord': 140, 'realli': 141, 'state': 142, 'level': 143, 'warn': 144, 'tv': 145, 'five': 146, 'ask': 147, 'cup': 148, 'unit': 149, 'second': 150, 'sale': 151, 'return': 152, 'rise': 153, 'develop': 154, 'invest': 155, 'vote': 156, 'busi': 157, 'produc': 158, 'suggest': 159, 'offic': 160, 'howev': 161, 'job': 162, 'great': 163, 'rugbi': 164, 'leagu': 165, 'away': 166, 'beat': 167, 'school': 168, 'case': 169, 'line': 170, 'break': 171, 'close': 172, 'quarter': 173, 'mp': 174, 'coach': 175, 'becom': 176, 'figur': 177, 'allow': 178, 'issu': 179, 'list': 180, 'west': 181, 'took': 182, 'open': 183, 'four': 184, 'award': 185, 'oil': 186, 'around': 187, 'ms': 188, 'law': 189, 'support': 190, 'ireland': 191, 'decis': 192, 'expect': 193, 'third': 194, 'earlier': 195, 'director': 196, 'children': 197, 'recent': 198, 'member': 199, 'demand': 200, 'report': 201, 'agre': 202, 'hagu': 203, 'william': 204, 'came': 205, 'court': 206, 'research': 207, 'health': 208, 'growth': 209, 'japan': 210, 'mobil': 211, 'involv': 212, '2001': 213, 'labour': 214, 'campaign': 215, 'famili': 216, 'name': 217, 'war': 218, 'debt': 219, 'economi': 220, 'broadband': 221, 'mean': 222, 'rais': 223, 'import': 224, 'control': 225, 'even': 226, 'financi': 227, 'believ': 228, 'interest': 229, 'sign': 230, 'whether': 231, 'secretari': 232, 'educ': 233, 'offici': 234, 'feel': 235, 'stock': 236, 'london': 237, 'trade': 238, 'best': 239, 'run': 240, 'winter': 241, 'everi': 242, 'pay': 243, 'footbal': 244, 'scotland': 245, 'pop': 246, 'europ': 247, 'find': 248, 'team': 249, 'better': 250, 'sunday': 251, 'deni': 252, 'blair': 253, 'defeat': 254, 'south': 255, 'seri': 256, 'perform': 257, 'conserv': 258, 'success': 259, 'local': 260, 'yuko': 261, 'hand': 262, 'grow': 263, 'today': 264, 'left': 265, 'britain': 266, 'oper': 267, 'major': 268, 'place': 269, 'releas': 270, 'tori': 271, 'propos': 272, 'almost': 273, 'hold': 274, 'victori': 275, 'british': 276, 'hodgson': 277, 'fall': 278, 'execut': 279, 'due': 280, 'product': 281, 'remain': 282, 'role': 283, 'boost': 284, 'career': 285, 'thought': 286, 'thing': 287, 'answer': 288, 'effort': 289, 'long': 290, 'current': 291, 'action': 292, 'despit': 293, 'album': 294, 'legal': 295, 'watch': 296, 'lead': 297, 'provid': 298, 'term': 299, 'talk': 300, 'microsoft': 301, 'behind': 302, 'anoth': 303, 'step': 304, 'mark': 305, 'far': 306, 'tax': 307, 'robinson': 308, 'six': 309, 'wait': 310, 'analyst': 311, 'benefit': 312, 'takeov': 313, 'high': 314, 'manag': 315, 'staff': 316, 'sound': 317, 'standard': 318, '2003': 319, 'firefox': 320, 'ball': 321, 'sector': 322, 'differ': 323, 'accord': 324, 'forward': 325, 'concern': 326, 'lost': 327, 'senior': 328, 'tell': 329, 'chief': 330, 'david': 331, 'monday': 332, 'posit': 333, 'white': 334, 'festiv': 335, 'direct': 336, 'project': 337, 'york': 338, 'common': 339, 'polici': 340, 'abl': 341, 'previou': 342, 'ensur': 343, 'charg': 344, 'full': 345, 'reach': 346, 'telegraph': 347, 'titl': 348, 'septemb': 349, 'done': 350, 'went': 351, 'turn': 352, 'argonaut': 353, 'sell': 354, 'receiv': 355, 'improv': 356, 'european': 357, 'terror': 358, 'foreign': 359, 'scheme': 360, 'confid': 361, 'econom': 362, 'ukrain': 363, 'futur': 364, 'system': 365, 'discuss': 366, 'moment': 367, 'happen': 368, 'presid': 369, 'account': 370, '2002': 371, 'loss': 372, 'card': 373, 'competit': 374, 'decid': 375, 'across': 376, 'saturday': 377, 'leed': 378, 'decemb': 379, 'bit': 380, 'appear': 381, 'key': 382, 'injuri': 383, 'australia': 384, 'keep': 385, 'profit': 386, 'half': 387, 'singl': 388, 'largest': 389, 'heart': 390, 'past': 391, 'associ': 392, 'friday': 393, 'independ': 394, 'cash': 395, 'onlin': 396, 'save': 397, 'measur': 398, 'internet': 399, 'popular': 400, 'seen': 401, 'dr': 402, 'charl': 403, 'judg': 404, 'evid': 405, 'artist': 406, 'drug': 407, 'test': 408, 'corp': 409, 'india': 410, 'fox': 411, 'annual': 412, 'electron': 413, 'person': 414, 'rather': 415, 'challeng': 416, 'hard': 417, 'launch': 418, 'biggest': 419, 'bill': 420, 'boss': 421, 'comment': 422, 'question': 423, 'respons': 424, 'admit': 425, 'order': 426, 'peter': 427, 'bid': 428, 'process': 429, 'john': 430, 'lot': 431, 'head': 432, 'meet': 433, 'januari': 434, 'held': 435, 'michael': 436, 'attack': 437, 'risk': 438, 'chanc': 439, 'alway': 440, 'parliament': 441, 'prime': 442, 'organis': 443, 'parent': 444, 'rose': 445, 'prize': 446, 'novemb': 447, 'crude': 448, 'tuesday': 449, 'forc': 450, 'given': 451, 'stand': 452, 'publish': 453, 'newspap': 454, 'let': 455, 'creat': 456, '30': 457, 'clear': 458, 'accept': 459, 'approv': 460, 'feder': 461, 'industri': 462, 'bate': 463, 'small': 464, 'band': 465, 'without': 466, 'princ': 467, 'thursday': 468, 'foundat': 469, 'ice': 470, 'osbourn': 471, 'kick': 472, 'author': 473, 'tackl': 474, 'panda': 475, 'ranger': 476, 'gave': 477, 'itali': 478, 'bt': 479, 'fiat': 480, 'car': 481, 'kasabian': 482, 'front': 483, 'big': 484, 'brand': 485, 'although': 486, '50': 487, 'defenc': 488, 'argu': 489, 'ever': 490, 'trial': 491, 'giant': 492, 'late': 493, 'prefer': 494, 'replac': 495, 'premiership': 496, 'chelsea': 497, 'weekend': 498, 'respect': 499, 'man': 500, 'total': 501, 'join': 502, 'movi': 503, 'critic': 504, 'someth': 505, 'reject': 506, 'poll': 507, '5': 508, 'learn': 509, 'financ': 510, 'germani': 511, 'form': 512, '17': 513, 'eight': 514, 'got': 515, 'debut': 516, 'virgin': 517, 'blue': 518, '12': 519, 'corpor': 520, 'valu': 521, 'declin': 522, 'global': 523, 'ambit': 524, 'liber': 525, 'moya': 526, 'rest': 527, 'event': 528, 'avoid': 529, 'stem': 530, 'connor': 531, 'consid': 532, 'stake': 533, 'tournament': 534, 'japanes': 535, 'ufj': 536, '3': 537, 'statement': 538, 'emerg': 539, 'present': 540, 'began': 541, 'race': 542, 'hill': 543, 'browser': 544, 'februari': 545, 'result': 546, 'target': 547, 'audienc': 548, 'saye': 549, 'hendrix': 550, 'kaprano': 551, 'alli': 552, 'stop': 553, 'tp': 554, 'pernod': 555, 'vioxx': 556, 'champion': 557, 'video': 558, 'tim': 559, 'connect': 560, 'book': 561, 'everyth': 562, 'possibl': 563, 'display': 564, 'worldcom': 565, 'never': 566, '20': 567, 'captain': 568, 'least': 569, 'centr': 570, 'cost': 571, 'north': 572, 'act': 573, 'littl': 574, 'strike': 575, 'voter': 576, 'seven': 577, 'cover': 578, 'seek': 579, 'henman': 580, 'cours': 581, 'fourth': 582, 'happi': 583, 'edinburgh': 584, 'octob': 585, 'young': 586, 'origin': 587, 'scholl': 588, 'movement': 589, 'must': 590, 'nomin': 591, 'march': 592, 'tough': 593, 'recov': 594, 'higher': 595, 'sever': 596, 'daili': 597, 'definit': 598, 'stay': 599, 'age': 600, 'energi': 601, 'point': 602, 'lose': 603, 'american': 604, 'threaten': 605, 'fell': 606, 'cell': 607, 'extend': 608, 'achiev': 609, 'buy': 610, 'sport': 611, 'fight': 612, 'administr': 613, 'softwar': 614, 'contract': 615, 'suspect': 616, 'board': 617, 'period': 618, 'taylor': 619, 'audio': 620, 'inform': 621, 'effect': 622, 'listen': 623, 'throughout': 624, 'dicaprio': 625, 'rock': 626, '2005': 627, 'telephon': 628, 'king': 629, 'parker': 630, 'bowl': 631, 'gain': 632, 'prais': 633, 'page': 634, 'paul': 635, 'attorney': 636, 'longer': 637, 'repres': 638, 'watchdog': 639, 'maintain': 640, 'recoveri': 641, 'link': 642, 'musician': 643, 'jamieson': 644, 'advic': 645, 'jone': 646, 'lewsey': 647, 'pari': 648, 'compet': 649, 'gm': 650, 'blog': 651, 'gibbon': 652, 'hutt': 653, 'khodorkovski': 654, 'consum': 655, 'channel': 656, 'websit': 657, 'kind': 658, 'built': 659, 'ebber': 660, 'fraud': 661, 'guilti': 662, 'later': 663, 'meanwhil': 664, 'economist': 665, 'worker': 666, 'leicest': 667, 'andi': 668, 'radio': 669, 'knee': 670, 'confer': 671, 'citi': 672, 'old': 673, 'drawn': 674, 'blackburn': 675, 'sequel': 676, 'less': 677, '4': 678, 'brown': 679, 'toni': 680, 'queen': 681, 'street': 682, 'wednesday': 683, 'june': 684, 'seed': 685, 'miss': 686, 'charli': 687, 'minut': 688, 'german': 689, 'arrest': 690, 'east': 691, 'african': 692, '15': 693, 'previous': 694, 'rival': 695, 'barrel': 696, 'low': 697, 'paper': 698, 'becam': 699, 'describ': 700, '2000': 701, 'certainli': 702, 'whole': 703, 'creditor': 704, 'bankruptci': 705, 'agreement': 706, 'aid': 707, 'exchang': 708, 'politician': 709, 'fear': 710, 'committe': 711, 'longterm': 712, 'impress': 713, 'practic': 714, 'individu': 715, 'sumitomo': 716, 'latest': 717, 'email': 718, 'access': 719, '2': 720, 'gamer': 721, 'amount': 722, 'reserv': 723, 'ahead': 724, 'fan': 725, 'reduc': 726, 'consult': 727, 'sonapt': 728, '3d': 729, 'handset': 730, 'consol': 731, 'ear': 732, 'understand': 733, 'honour': 734, 'titan': 735, '11': 736, 'data': 737, 'paid': 738, 'clark': 739, 'threat': 740, 'democrat': 741, 'classic': 742, 'attend': 743, 'popul': 744, 'ran': 745, 'insur': 746, 'insist': 747, 'cap': 748, 'commiss': 749, 'scottish': 750, 'doubl': 751, 'doubt': 752, 'china': 753, 'encourag': 754, 'design': 755, 'regul': 756, 'opinion': 757, 'manufactur': 758, 'refere': 759, 'nh': 760, 'withprofit': 761, 'franc': 762, 'yushchenko': 763, 'driscol': 764, 'merck': 765, 'journalist': 766, 'tobacco': 767, 'student': 768, 'dam': 769, 'gorg': 770, 'goldsmith': 771, 'khan': 772, 'digit': 773, 'via': 774, 'devic': 775, 'program': 776, 'schedul': 777, 'entertain': 778, 'advertis': 779, 'yet': 780, 'everyon': 781, 'commun': 782, 'exampl': 783, 'free': 784, 'accus': 785, 'myer': 786, 'collaps': 787, 'investor': 788, 'sharehold': 789, 'stage': 790, 'ago': 791, 'bring': 792, 'round': 793, 'draw': 794, 'travel': 795, 'host': 796, 'park': 797, 'difficult': 798, 'season': 799, 'ocean': 800, 'christma': 801, 'label': 802, 'review': 803, 'opposit': 804, 'focu': 805, 'weather': 806, 'media': 807, 'promis': 808, 'appli': 809, 'spend': 810, 'budget': 811, 'seriou': 812, 'short': 813, 'ljubic': 814, '64': 815, 'kept': 816, 'fit': 817, 'train': 818, 'jason': 819, 'surviv': 820, 'saw': 821, '25': 822, 'own': 823, '22': 824, 'cold': 825, 'dollar': 826, 'averag': 827, 'serv': 828, 'unlik': 829, 'suppli': 830, 'huge': 831, 'davi': 832, 'roddick': 833, 'coupl': 834, 'care': 835, 'credit': 836, 'lg': 837, 'capit': 838, 'suffer': 839, 'soul': 840, 'actor': 841, 'relationship': 842, 'spent': 843, 'speak': 844, 'known': 845, 'sack': 846, 'redund': 847, 'base': 848, 'fbi': 849, 'viru': 850, 'investig': 851, 'illeg': 852, 'monitor': 853, 'agenc': 854, 'user': 855, 'traffic': 856, 'net': 857, 'toward': 858, 'complet': 859, 'refus': 860, 'fail': 861, 'area': 862, 'caus': 863, 'limit': 864, 'drive': 865, 'explain': 866, 'relief': 867, 'taken': 868, 'gig': 869, '3g': 870, '1': 871, 'death': 872, 'view': 873, 'halloween': 874, 'carpent': 875, 'pursu': 876, 'civil': 877, 'privat': 878, 'web': 879, 'danc': 880, 'simon': 881, 'brit': 882, 'settl': 883, 'file': 884, 'build': 885, 'donor': 886, 'welsh': 887, 'assembl': 888, 'export': 889, '24': 890, 'addit': 891, 'nationwid': 892, 'clash': 893, 'among': 894, 'intent': 895, 'commission': 896, 'eu': 897, 'summari': 898, 'surpris': 899, 'retir': 900, 'ferguson': 901, 'privatis': 902, 'lion': 903, 'print': 904, 'indonesia': 905, 'disabl': 906, 'russian': 907, 'rapper': 908, 'hiphop': 909, 'viewer': 910, 'panel': 911, 'la': 912, 'content': 913, 'box': 914, 'lack': 915, 'revenu': 916, 'broadcast': 917, 'press': 918, 'guid': 919, 'younger': 920, 'recognis': 921, 'perhap': 922, 'kid': 923, 'push': 924, 'avail': 925, 'experi': 926, 'capabl': 927, 'speech': 928, 'lawyer': 929, 'plead': 930, 'assist': 931, 'alleg': 932, 'abil': 933, 'found': 934, 'farrel': 935, 'code': 936, 'progress': 937, 'row': 938, 'newcastl': 939, 'premier': 940, 'championship': 941, 'villa': 942, 'crime': 943, 'georg': 944, 'robert': 945, 'chart': 946, 'express': 947, 'ring': 948, 'matt': 949, 'debat': 950, 'anyth': 951, 'real': 952, 'poor': 953, 'begin': 954, 'gordon': 955, 'commit': 956, 'earn': 957, 'confirm': 958, 'opportun': 959, 'damag': 960, 'prepar': 961, 'april': 962, 'spokeswoman': 963, 'recess': 964, 'dubai': 965, '75': 966, 'seal': 967, 'spanish': 968, 'frustrat': 969, 'wilkinson': 970, 'injur': 971, 'bench': 972, 'autumn': 973, 'africa': 974, '19': 975, 'carri': 976, 'polic': 977, 'inspir': 978, 'sister': 979, 'summer': 980, 'univers': 981, 'version': 982, 'languag': 983, 'australian': 984, 'domest': 985, 'temperatur': 986, 'euro': 987, 'strong': 988, 'unless': 989, 'northern': 990, 'leadership': 991, 'disappoint': 992, '40': 993, '76': 994, 'valencia': 995, '18': 996, 'mix': 997, 'felt': 998, 'korea': 999, 'trillion': 1000, 'custom': 1001, 'controversi': 1002, 'ill': 1003, 'bodi': 1004, 'acknowledg': 1005, 'genuin': 1006, 'easi': 1007, 'christoph': 1008, 'accid': 1009, 'women': 1010, 'elit': 1011, 'arrang': 1012, '16': 1013, 'brought': 1014, 'battl': 1015, 'enabl': 1016, 'mitsubishi': 1017, 'yen': 1018, '100': 1019, 'suspend': 1020, 'troubl': 1021, 'comput': 1022, 'similar': 1023, 'engag': 1024, 'breach': 1025, 'bandwidth': 1026, 'intellig': 1027, 'main': 1028, 'notic': 1029, 'fast': 1030, 'chairman': 1031, 'gmt': 1032, 'bought': 1033, 'reveal': 1034, 'road': 1035, 'ground': 1036, 'capac': 1037, 'leav': 1038, 'pick': 1039, 'depart': 1040, 'actual': 1041, 'indian': 1042, 'tsunami': 1043, 'tour': 1044, 'shown': 1045, 'prison': 1046, 'talent': 1047, 'earli': 1048, 'explor': 1049, 'larg': 1050, 'ie': 1051, 'juli': 1052, 'extra': 1053, 'attempt': 1054, 'celebr': 1055, 'enough': 1056, 'highest': 1057, 'english': 1058, 'psp': 1059, 'nintendo': 1060, 'guitarist': 1061, 'wide': 1062, 'exist': 1063, 'ban': 1064, 'truant': 1065, 'pupil': 1066, 'penalti': 1067, 'class': 1068, 'child': 1069, '61': 1070, 'cool': 1071, 'though': 1072, 'slowdown': 1073, 'wireless': 1074, 'observ': 1075, 'franz': 1076, 'lectur': 1077, 'requir': 1078, 'lib': 1079, 'dem': 1080, 'regist': 1081, 'approach': 1082, 'colleg': 1083, 'reform': 1084, 'touch': 1085, 'chancellor': 1086, 'bonu': 1087, 'domecq': 1088, 'food': 1089, 'payment': 1090, 'russia': 1091, 'brian': 1092, 'arci': 1093, 'flanker': 1094, 'g': 1095, 'fda': 1096, 'hear': 1097, 'patient': 1098, 'region': 1099, 'ntpc': 1100, 'singapor': 1101, 'poverti': 1102, 'motorsport': 1103, 'tansley': 1104, 'benin': 1105, 'straw': 1106, 'immunis': 1107, 'construct': 1108, 'meighan': 1109, 'amnesti': 1110, 'highdefinit': 1111, 'impact': 1112, 'deliv': 1113, 'dvr': 1114, 'togeth': 1115, 'worri': 1116, 'commerci': 1117, 'realiti': 1118, 'anybodi': 1119, 'googl': 1120, 'instead': 1121, 'might': 1122, '90': 1123, 'window': 1124, 'overse': 1125, 'repli': 1126, 'scott': 1127, 'transform': 1128, 'declar': 1129, 'switch': 1130, 'medic': 1131, 'situat': 1132, 'persist': 1133, 'initi': 1134, 'sure': 1135, 'skill': 1136, 'divid': 1137, 'option': 1138, 'yead': 1139, 'fa': 1140, 'highlight': 1141, 'potenti': 1142, 'palac': 1143, 'pitt': 1144, 'estim': 1145, 'crimin': 1146, 'holiday': 1147, 'lo': 1148, 'mongrel': 1149, 'hain': 1150, 'rattl': 1151, 'morn': 1152, 'pledg': 1153, 'hospit': 1154, 'decent': 1155, 'teenag': 1156, 'basic': 1157, 'appeal': 1158, 'resist': 1159, 'down': 1160, 'matter': 1161, 'westminst': 1162, '2006': 1163, 'rain': 1164, 'afterward': 1165, 'incred': 1166, 'flyhalf': 1167, 'fine': 1168, 'upper': 1169, 'sustain': 1170, 'sixth': 1171, '60': 1172, 'leaflet': 1173, 'idea': 1174, 'featur': 1175, 'pressur': 1176, 'august': 1177, 'fuel': 1178, '31': 1179, 'heavi': 1180, 'output': 1181, 'peak': 1182, 'attent': 1183, '9': 1184, 'domin': 1185, 'write': 1186, 'central': 1187, 'shadow': 1188, 'cabinet': 1189, 'mayb': 1190, 'driven': 1191, 'spain': 1192, 'night': 1193, 'goal': 1194, 'tenni': 1195, 'guy': 1196, 'slow': 1197, 'met': 1198, 'crisi': 1199, 'asset': 1200, 'oppos': 1201, 'moral': 1202, 'victim': 1203, 'parkinson': 1204, 'diseas': 1205, 'specif': 1206, 'brain': 1207, 'societi': 1208, 'jimmi': 1209, 'lta': 1210, 'camp': 1211, 'site': 1212, 'passion': 1213, 'conclud': 1214, 'ongo': 1215, 'tie': 1216, 'specul': 1217, 'increasingli': 1218, 'headquart': 1219, '£6m': 1220, '80': 1221, 'partner': 1222, 'recipi': 1223, 'messag': 1224, 'attach': 1225, 'halo': 1226, 'explos': 1227, 'cope': 1228, 'delight': 1229, 'light': 1230, 'consolid': 1231, 'loan': 1232, 'unabl': 1233, 'seem': 1234, 'grew': 1235, 'sourc': 1236, 'handheld': 1237, 'screen': 1238, 'field': 1239, 'song': 1240, 'defend': 1241, 'tiebreak': 1242, 'contribut': 1243, '26': 1244, 'thailand': 1245, 'fee': 1246, 'excit': 1247, 'hugh': 1248, 'aim': 1249, 'pound': 1250, 'citizen': 1251, 'anyon': 1252, 'abus': 1253, 'prompt': 1254, 'signific': 1255, 'prosecut': 1256, 'spokesman': 1257, 'die': 1258, 'escap': 1259, 'collabor': 1260, 'regard': 1261, 'adapt': 1262, 'pleas': 1263, 'trust': 1264, 'especi': 1265, 'mozilla': 1266, 'text': 1267, 'pair': 1268, 'ozzi': 1269, 'camera': 1270, 'marsh': 1271, 'jonathan': 1272, 'constitu': 1273, 'error': 1274, 'soni': 1275, 'thousand': 1276, 'ship': 1277, 'goe': 1278, 'seattl': 1279, 'candid': 1280, 'nearli': 1281, 'gift': 1282, 'urg': 1283, 'vital': 1284, '02': 1285, 'kelli': 1286, '13': 1287, 'patrol': 1288, 'tens': 1289, 'halv': 1290, 'mortgag': 1291, 'alex': 1292, 'solid': 1293, 'circuit': 1294, 'scot': 1295, 'grand': 1296, 'wolong': 1297, 'natur': 1298, 'cultur': 1299, 'ferdinand': 1300, 'element': 1301, 'socal': 1302, 'particular': 1303, 'glasgow': 1304, 'fellow': 1305, 'art': 1306, 'grant': 1307, 'facil': 1308, 'sectarian': 1309, 'indic': 1310, 'occas': 1311, 'aynsleygreen': 1312, 'morgan': 1313, 'wing': 1314, 'kaplan': 1315, 'cueto': 1316, 'bonus': 1317, 'journal': 1318, 'midfield': 1319, 'transfer': 1320, 'choos': 1321, 'corrupt': 1322, 'viktor': 1323, 'separ': 1324, 'sold': 1325, 'henson': 1326, 'connel': 1327, 'b': 1328, 'stroke': 1329, 'cox2': 1330, 'inhibitor': 1331, 'ignor': 1332, 'format': 1333, 'colour': 1334, 'attract': 1335, 'failur': 1336, 'hingi': 1337, 'speed': 1338, 'msn': 1339, 'corner': 1340, 'sum': 1341, 'vaccin': 1342, 'tradit': 1343, 'gear': 1344, 'steer': 1345, 'minor': 1346, 'auction': 1347, 'mental': 1348, 'lebedev': 1349, 'kerek': 1350, 'ranieri': 1351, 'bu': 1352, 'environment': 1353, 'solskjaer': 1354, 'crucial': 1355, 'jayz': 1356, 'sampl': 1357, 'room': 1358, 'gather': 1359, 'cabl': 1360, 'satellit': 1361, 'telecom': 1362, 'tivo': 1363, 'sky': 1364, 'essenti': 1365, 'slower': 1366, 'advert': 1367, 'hanlon': 1368, 'promot': 1369, 'choic': 1370, 'search': 1371, 'suit': 1372, 'older': 1373, 'ultim': 1374, 'enhanc': 1375, 'crystal': 1376, 'gate': 1377, 'prosecutor': 1378, 'protect': 1379, 'cross': 1380, 'examin': 1381, 'knew': 1382, 'awar': 1383, 'entri': 1384, 'fals': 1385, 'portray': 1386, 'rel': 1387, 'unknown': 1388, 'boom': 1389, 'jail': 1390, 'gambl': 1391, 'rush': 1392, 'els': 1393, 'within': 1394, 'balanc': 1395, 'knock': 1396, 'martin': 1397, 'everton': 1398, 'visit': 1399, 'liverpool': 1400, 'aston': 1401, 'sheffield': 1402, 'norwich': 1403, 'either': 1404, 'brighton': 1405, 'read': 1406, 'twelv': 1407, 'gone': 1408, 'straight': 1409, 'studio': 1410, 'pull': 1411, 'tom': 1412, 'comedi': 1413, 'eleven': 1414, 'pack': 1415, 'reunit': 1416, 'distribut': 1417, 'angel': 1418, 'milder': 1419, 'dub': 1420, 'spring': 1421, 'tactic': 1422, 'prove': 1423, 'someon': 1424, 'stanc': 1425, 'legisl': 1426, 'compar': 1427, 'pm': 1428, 'duti': 1429, 'whose': 1430, 'sens': 1431, 'ordinari': 1432, 'cambridg': 1433, 'love': 1434, 'finish': 1435, 'coordin': 1436, 'entitl': 1437, 'date': 1438, '7': 1439, 'soon': 1440, 'eighth': 1441, 'tommi': 1442, 'score': 1443, 'rob': 1444, 'arm': 1445, 'luca': 1446, 'reveng': 1447, 'predict': 1448, 'equival': 1449, 'restrict': 1450, 'except': 1451, 'compos': 1452, 'dark': 1453, 'emot': 1454, 'berlin': 1455, 'antinazi': 1456, '21': 1457, 'brother': 1458, 'aliv': 1459, 'drop': 1460, 'focus': 1461, 'opera': 1462, 'stori': 1463, 'golden': 1464, 'airlin': 1465, 'lower': 1466, 'struggl': 1467, 'forecast': 1468, 'slightli': 1469, 'patrick': 1470, 'freez': 1471, 'opec': 1472, 'america': 1473, 'chri': 1474, 'weaken': 1475, 'asia': 1476, 'arriv': 1477, 'wife': 1478, 'biographi': 1479, 'determin': 1480, '27': 1481, '36': 1482, 'dream': 1483, 'clay': 1484, 'appropri': 1485, 'stuff': 1486, 'convert': 1487, 'simpl': 1488, 'rescu': 1489, 'consortium': 1490, 'sent': 1491, 'delist': 1492, 'massiv': 1493, 'kim': 1494, 'slowli': 1495, 'scienc': 1496, 'motor': 1497, 'tissu': 1498, 'briton': 1499, 'qualiti': 1500, 'manga': 1501, 'surround': 1502, 'withdrawn': 1503, 'merg': 1504, 'tokyo': 1505, 'histori': 1506, 'fierc': 1507, 'allianc': 1508, 'maker': 1509, 'harri': 1510, 'along': 1511, 'flow': 1512, 'delay': 1513, 'fire': 1514, 'employ': 1515, 'add': 1516, 'wage': 1517, 'spread': 1518, 'complaint': 1519, 'contain': 1520, 'unsolicit': 1521, 'send': 1522, 'shut': 1523, 'sandvin': 1524, 'xbox': 1525, 'other': 1526, 'surg': 1527, 'tend': 1528, 'lowest': 1529, 'belong': 1530, 'krasner': 1531, '£25m': 1532, 'smooth': 1533, 'contact': 1534, 'understood': 1535, 'l': 1536, 'stretch': 1537, 'withdrew': 1538, 'cole': 1539, 'striker': 1540, 'bad': 1541, 'ankl': 1542, 'closer': 1543, 'jump': 1544, 'speaker': 1545, 'quit': 1546, 'bigger': 1547, 'proper': 1548, 'chip': 1549, 'effici': 1550, 'fact': 1551, 'download': 1552, 'often': 1553, 'asian': 1554, 'winner': 1555, 'atp': 1556, 'aviat': 1557, '20th': 1558, 'veteran': 1559, 'russel': 1560, 'enjoy': 1561, 'concert': 1562, 'venu': 1563, 'swap': 1564, 'faster': 1565, 'detent': 1566, 'subject': 1567, 'deport': 1568, 'introduc': 1569, 'terrorist': 1570, 'intercept': 1571, 'men': 1572, 'special': 1573, 'clearli': 1574, 'assum': 1575, 'script': 1576, 'stephen': 1577, 'marri': 1578, 'earth': 1579, 'absolut': 1580, 'marriag': 1581, '1970': 1582, 'wish': 1583, 'diana': 1584, 'sensibl': 1585, 'fewer': 1586, 'instanc': 1587, 'extens': 1588, 'heel': 1589, 'contest': 1590, 'mtv': 1591, 'black': 1592, 'rome': 1593, 'spitzer': 1594, 'count': 1595, 'conduct': 1596, 'sir': 1597, 'wrong': 1598, '1997': 1599, '200': 1600, 'retail': 1601, 'ds': 1602, 'museum': 1603, 'father': 1604, 'ray': 1605, 'jame': 1606, 'deadlin': 1607, 'properti': 1608, 'temporari': 1609, 'nice': 1610, 'elector': 1611, '£10': 1612, 'suspicion': 1613, 'taxpay': 1614, 'introduct': 1615, 'statist': 1616, 'welfar': 1617, 'trim': 1618, 'ruth': 1619, 'serial': 1620, 'truanci': 1621, 'sweep': 1622, '14': 1623, 'roger': 1624, 'trophi': 1625, 'indoor': 1626, 'badli': 1627, 'suddenli': 1628, 'near': 1629, 'risen': 1630, 'rang': 1631, 'equal': 1632, 'provinc': 1633, 'feed': 1634, 'dialogu': 1635, 'founder': 1636, 'centuri': 1637, 'creativ': 1638, 'mikhail': 1639, 'voic': 1640, 'snow': 1641, 'mass': 1642, 'breakthrough': 1643, 'bigot': 1644, 'celtic': 1645, 'violenc': 1646, 'stick': 1647, 'check': 1648, '£100': 1649, 'prof': 1650, 'strengthen': 1651, 'eye': 1652, 'strength': 1653, 'josh': 1654, 'turnov': 1655, 'led': 1656, 'salari': 1657, 'afford': 1658, 'unison': 1659, 'mutual': 1660, 'policyhold': 1661, 'gill': 1662, 'divis': 1663, 'meant': 1664, 'french': 1665, 'spirit': 1666, 'slip': 1667, 'seagram': 1668, 'whiski': 1669, 'chain': 1670, 'insul': 1671, 'brussel': 1672, 'moscow': 1673, 'bet': 1674, 'written': 1675, 'caught': 1676, 'cusit': 1677, 'hogg': 1678, 'italian': 1679, 'kirwan': 1680, 'draft': 1681, 'c': 1682, 'r': 1683, 'n': 1684, 'painkil': 1685, 'reader': 1686, 'amid': 1687, 'tabloid': 1688, 'plant': 1689, 'trinat': 1690, 'boy': 1691, '280bn': 1692, 'smoke': 1693, 'reynold': 1694, 'competitor': 1695, 'slam': 1696, '54bn': 1697, '600': 1698, 'per': 1699, 'telecommun': 1700, 'influenc': 1701, 'relaunch': 1702, 'space': 1703, 'blake': 1704, 'bakri': 1705, 'moratorium': 1706, 'monthli': 1707, 'tremend': 1708, 'fixtur': 1709, 'humphrey': 1710, 'tuc': 1711, 'submiss': 1712, 'endeavour': 1713, 'motorcycl': 1714, 'ralli': 1715, 'driver': 1716, 'clutch': 1717, 'pedal': 1718, 'wheel': 1719, 'su': 1720, 'yuganskneftega': 1721, 'gazprom': 1722, 'baikal': 1723, 'rosneft': 1724, 'houston': 1725, 'disput': 1726, 'dismiss': 1727, 'uefa': 1728, 'technic': 1729, 'perfect': 1730, 'physic': 1731, 'bow': 1732, 'gara': 1733, 'convict': 1734, 'kashmir': 1735, 'welcom': 1736, 'pakistan': 1737, 'kashmiri': 1738, 'un': 1739, 'gavi': 1740, 'chines': 1741, 'beij': 1742, 'xiluodu': 1743, 'electr': 1744, 'slovakia': 1745, 'hopman': 1746, 'alicia': 1747, 'iraq': 1748, 'confidenti': 1749, 'militari': 1750, 'parliamentari': 1751, 'burger': 1752, 'dent': 1753, 'johansson': 1754, 'rochu': 1755, 'kany': 1756, 'solo': 1757, 'wire': 1758, 'dropout': 1759, 'theatr': 1760, 'radic': 1761, 'trend': 1762, 'portabl': 1763, 'ce': 1764, 'paus': 1765, 'wind': 1766, 'forget': 1767, 'abid': 1768, 'loyalti': 1769, 'particularli': 1770, 'nine': 1771, 'vice': 1772, 'engin': 1773, 'model': 1774, 'gadget': 1775, 'familiar': 1776, 'lcd': 1777, 'liquid': 1778, 'replay': 1779, 'hour': 1780, 'pc': 1781, 'reflect': 1782, 'alon': 1783, '11bn': 1784, 'wit': 1785, 'reid': 1786, 'weingarten': 1787, 'client': 1788, 'request': 1789, 'sullivan': 1790, 'paint': 1791, 'admiss': 1792, 'darl': 1793, '1990': 1794, 'substanti': 1795, 'sentenc': 1796, 'tiger': 1797, 'saracen': 1798, 'trip': 1799, 'nonleagu': 1800, 'exet': 1801, 'manchest': 1802, 'arsen': 1803, 'stoke': 1804, 'scunthorp': 1805, 'luton': 1806, '89': 1807, 'plymouth': 1808, 'burnley': 1809, 'sunderland': 1810, 'fulham': 1811, 'carl': 1812, 'watford': 1813, 'bolton': 1814, 'ipswich': 1815, 'brom': 1816, 'ham': 1817, 'cardiff': 1818, 'preston': 1819, 'southampton': 1820, 'northampton': 1821, 'middlesbrough': 1822, 'utd': 1823, 'derbi': 1824, 'millwal': 1825, 'colchest': 1826, 'birmingham': 1827, 'crew': 1828, 'clooney': 1829, 'ticket': 1830, 'master': 1831, 'treasur': 1832, 'triniti': 1833, 'anim': 1834, 'triumph': 1835, 'narrowli': 1836, 'predecessor': 1837, 'remak': 1838, 'oscarwin': 1839, 'steven': 1840, 'soderbergh': 1841, 'cast': 1842, 'fun': 1843, 'upbeat': 1844, 'antiterror': 1845, 'somewher': 1846, 'fli': 1847, 'environ': 1848, 'margaret': 1849, 'immigr': 1850, 'dixon': 1851, 'cancel': 1852, 'grab': 1853, 'shield': 1854, 'rid': 1855, 'stress': 1856, 'activist': 1857, 'milburn': 1858, 'strategi': 1859, 'refer': 1860, 'easter': 1861, 'andrew': 1862, 'marr': 1863, 'dissolv': 1864, 'pass': 1865, 'session': 1866, 'id': 1867, 'insid': 1868, 'whip': 1869, 'favour': 1870, 'slump': 1871, 'ivan': 1872, 'halt': 1873, 'fifth': 1874, 'curs': 1875, 'umpir': 1876, 'irrelev': 1877, 'jonni': 1878, 'longawait': 1879, '25yearold': 1880, 'heineken': 1881, 'murrayfield': 1882, 'subsequ': 1883, 'shirt': 1884, 'canada': 1885, 'sidelin': 1886, 'suitabl': 1887, 'filmmak': 1888, 'sith': 1889, 'roughli': 1890, 'pg': 1891, 'chronicl': 1892, '1943': 1893, 'adolf': 1894, 'hitler': 1895, 'marc': 1896, 'rothemund': 1897, 'drew': 1898, 'archiv': 1899, 'secret': 1900, 'discoveri': 1901, 'histor': 1902, 'reckon': 1903, 'carmen': 1904, 'town': 1905, 'plung': 1906, 'sluggish': 1907, 'richard': 1908, 'jetstar': 1909, 'carrier': 1910, '46': 1911, 'heat': 1912, 'fresh': 1913, '5115': 1914, 'brent': 1915, '189': 1916, 'inflat': 1917, 'sharpli': 1918, 'strategist': 1919, 'obvious': 1920, 'cite': 1921, 'reuter': 1922, 'stockpil': 1923, 'eas': 1924, '43': 1925, 'bore': 1926, 'unfulfil': 1927, 'richmond': 1928, 'ffion': 1929, 'speechwrit': 1930, 'collin': 1931, 'fortun': 1932, 'cram': 1933, 'entir': 1934, 'branch': 1935, 'thingsit': 1936, 'misjudg': 1937, 'carlo': 1938, 'sevil': 1939, '62': 1940, 'obsess': 1941, 'remark': 1942, 'nadal': 1943, 'mcenro': 1944, 'stadium': 1945, 'bailout': 1946, 'stabilis': 1947, 'trigger': 1948, 'equiti': 1949, 'purpos': 1950, 'inject': 1951, 'repay': 1952, 'thrown': 1953, 'frighten': 1954, 'presidenti': 1955, 'bush': 1956, 'embrac': 1957, 'alzheim': 1958, 'neuron': 1959, 'devast': 1960, 'type': 1961, 'optimist': 1962, 'framework': 1963, 'necessari': 1964, 'advoc': 1965, 'shortterm': 1966, 'amaz': 1967, 'bunch': 1968, 'desir': 1969, 'fantast': 1970, 'input': 1971, 'reput': 1972, 'exit': 1973, 'mtfg': 1974, 'merger': 1975, 'formal': 1976, 'londonbas': 1977, 'potter': 1978, 'employe': 1979, 'partli': 1980, 'quick': 1981, 'bureau': 1982, 'purport': 1983, 'fbigov': 1984, 'click': 1985, 'infect': 1986, 'manner': 1987, 'incid': 1988, 'analysi': 1989, 'factor': 1990, 'lag': 1991, 'mous': 1992, 'keyboard': 1993, 'ken': 1994, 'fallen': 1995, 'elland': 1996, 'jon': 1997, 'task': 1998, 'sort': 1999, 'firefight': 2000, 'outgo': 2001, 'solv': 2002, 'overcom': 2003, 'background': 2004, 'unpaid': 2005, 'lorim': 2006, 'incom': 2007, 'detail': 2008, 'chequ': 2009, 'bridg': 2010, '£10m': 2011, 'brink': 2012, 'prospect': 2013, 'carlton': 2014, 'under21': 2015, 'leari': 2016, 'shortag': 2017, 'broken': 2018, 'enter': 2019, 'buzz': 2020, 'monteith': 2021, 'noon': 2022, 'nec': 2023, 'fool': 2024, 'certain': 2025, 'synthesis': 2026, 'structur': 2027, 'encod': 2028, 'montieth': 2029, 'shape': 2030, 'immers': 2031, 'expans': 2032, 'advanc': 2033, 'srichaphan': 2034, 'bounc': 2035, 'disast': 2036, '150': 2037, 'scorses': 2038, 'horror': 2039, 'millionair': 2040, 'actress': 2041, 'jane': 2042, 'oscar': 2043, 'crowd': 2044, 'bar': 2045, 'clip': 2046, 'henderson': 2047, 'hall': 2048, 'dip': 2049, 'regular': 2050, 'detaine': 2051, 'belmarsh': 2052, 'clive': 2053, 'prevent': 2054, 'wiretap': 2055, 'confin': 2056, 'recruit': 2057, 'proof': 2058, 'opt': 2059, 'writer': 2060, 'debra': 2061, '70': 2062, '54': 2063, 'jami': 2064, '60m': 2065, 'fog': 2066, 'rank': 2067, 'pioneer': 2068, 'woman': 2069, '1974': 2070, 'friend': 2071, 'string': 2072, 'nomine': 2073, '1983': 2074, 'twin': 2075, 'coproduc': 2076, 'royal': 2077, 'camilla': 2078, 'reaction': 2079, '8': 2080, 'ceremoni': 2081, 'windsor': 2082, 'castl': 2083, 'twothird': 2084, 'princess': 2085, '56': 2086, 'luck': 2087, 'dedic': 2088, 'archbishop': 2089, 'canterburi': 2090, 'sensit': 2091, 'divorc': 2092, 'husband': 2093, 'governor': 2094, 'church': 2095, 'treat': 2096, 'wrote': 2097, 'authoris': 2098, 'congratul': 2099, 'numer': 2100, 'pain': 2101, 'drum': 2102, 'steadili': 2103, 'netscap': 2104, '1998': 2105, 'core': 2106, 'phoenix': 2107, 'firebird': 2108, 'websidestori': 2109, 'stood': 2110, '929': 2111, 'publicli': 2112, 'innov': 2113, 'block': 2114, 'brows': 2115, 'hundr': 2116, 'ten': 2117, 'altern': 2118, 'skate': 2119, 'strictli': 2120, 'televis': 2121, 'carol': 2122, 'profession': 2123, 'skater': 2124, 'practis': 2125, 'rink': 2126, 'itv': 2127, 'thin': 2128, 'routin': 2129, 'crown': 2130, 'episod': 2131, 'singer': 2132, 'sharon': 2133, 'alongsid': 2134, 'renew': 2135, 'tshirt': 2136, 'bewlay': 2137, 'defraud': 2138, 'lawsuit': 2139, 'settlement': 2140, 'deselect': 2141, 'midbedfordshir': 2142, 'resign': 2143, 'privileg': 2144, 'intend': 2145, 'stanley': 2146, 'inquiri': 2147, 'chamber': 2148, '500': 2149, '800': 2150, 'jimi': 2151, 'wholesal': 2152, 'mayor': 2153, 'destroy': 2154, 'marshal': 2155, 'al': 2156, 'land': 2157, 'goldman': 2158, 'memori': 2159, 'district': 2160, 'worth': 2161, '£1m': 2162, 'principl': 2163, '£200': 2164, 'resourc': 2165, 'revers': 2166, 'track': 2167, 'daimlerchrysl': 2168, 'weak': 2169, 'oversea': 2170, 'eurozon': 2171, 'rateset': 2172, 'hardcor': 2173, 'absenc': 2174, 'remaind': 2175, 'behaviour': 2176, 'twice': 2177, 'accompani': 2178, 'tool': 2179, 'crack': 2180, 'swiss': 2181, '63': 2182, 'overal': 2183, 'slight': 2184, 'adjust': 2185, '05': 2186, '04': 2187, '126': 2188, 'bannist': 2189, 'barclay': 2190, '2007': 2191, '475': 2192, 'lend': 2193, '82': 2194, '48': 2195, 'margin': 2196, 'medal': 2197, 'jose': 2198, 'madrid': 2199, 'athlet': 2200, 'vivanco': 2201, 'sweden': 2202, 'kronberg': 2203, 'doriv': 2204, 'clock': 2205, 'dwindl': 2206, 'instal': 2207, 'activ': 2208, 'imag': 2209, 'infant': 2210, 'foster': 2211, 'drove': 2212, 'incorpor': 2213, 'globio': 2214, 'peer': 2215, 'fourpiec': 2216, 'selftitl': 2217, 'spawn': 2218, 'stereotyp': 2219, 'hostil': 2220, 'defin': 2221, 'professor': 2222, 'discov': 2223, 'scrap': 2224, 'licenc': 2225, 'fork': 2226, 'divers': 2227, 'merit': 2228, 'multibillion': 2229, 'serious': 2230, 'fundament': 2231, 'multimillion': 2232, 'lucki': 2233, 'joy': 2234, 'chariti': 2235, 'beyond': 2236, 'condit': 2237, 'smaller': 2238, 'pretti': 2239, 'plough': 2240, 'soccer': 2241, 'hurt': 2242, 'object': 2243, 'jack': 2244, 'summit': 2245, 'invit': 2246, 'hatr': 2247, 'survey': 2248, 'runup': 2249, 'membership': 2250, 'rung': 2251, 'stuck': 2252, 'subscrib': 2253, 'phil': 2254, 'constitut': 2255, 'appoint': 2256, 'relat': 2257, 'affect': 2258, 'oxford': 2259, 'contrast': 2260, 'blame': 2261, 'slide': 2262, 'puzzl': 2263, 'disallow': 2264, 'wasp': 2265, 'whistl': 2266, 'irish': 2267, 'scoop': 2268, 'crossfield': 2269, 'mandatori': 2270, '65': 2271, 'expens': 2272, 'green': 2273, 'widespread': 2274, 'congress': 2275, 'dave': 2276, 'prenti': 2277, 'provis': 2278, 'conflict': 2279, 'apart': 2280, 'sun': 2281, 'lift': 2282, 'drink': 2283, 'purchas': 2284, 'rum': 2285, 'dealt': 2286, '18bn': 2287, 'rover': 2288, 'barri': 2289, 'midnight': 2290, '£5m': 2291, 'voucher': 2292, 'household': 2293, '£300': 2294, 'discount': 2295, 'dozen': 2296, 'mention': 2297, 'kuchma': 2298, 'richest': 2299, 'rybachuk': 2300, 'readi': 2301, 'deserv': 2302, 'interview': 2303, 'wto': 2304, 'zealand': 2305, 'xv': 2306, 'arrog': 2307, 'mathew': 2308, 'tait': 2309, 'outsid': 2310, 'prop': 2311, 'harm': 2312, 'smith': 2313, 'certainti': 2314, 'combin': 2315, 'edg': 2316, 'shane': 2317, 'byrn': 2318, 'scrumhalf': 2319, 'trail': 2320, 'mistak': 2321, 'recal': 2322, 'stoica': 2323, 'dal': 2324, 'maso': 2325, 'bergamasco': 2326, 'webster': 2327, 'capt': 2328, 'murray': 2329, 'j': 2330, 'advisori': 2331, 'celebrex': 2332, 'easier': 2333, 'note': 2334, 'pfizer': 2335, 'graham': 2336, 'safeti': 2337, 'doctor': 2338, 'axe': 2339, 'strongli': 2340, 'procedur': 2341, 'nuj': 2342, 'fitzpatrick': 2343, 'circul': 2344, 'guardian': 2345, 'murdoch': 2346, 'dual': 2347, 'aussi': 2348, 'regret': 2349, 'fulli': 2350, '1999': 2351, 'altria': 2352, 'danger': 2353, 'accumul': 2354, 'sue': 2355, 'surgeri': 2356, 'staterun': 2357, '1bn': 2358, 'flotat': 2359, 'ofcom': 2360, 'translat': 2361, 'netherland': 2362, 'resel': 2363, 'llu': 2364, 'cp': 2365, 'opel': 2366, 'lover': 2367, 'kash': 2368, 'keat': 2369, 'slot': 2370, 'aol': 2371, 'accur': 2372, 'owe': 2373, 'packag': 2374, 'normal': 2375, 'indonesian': 2376, '12bn': 2377, 'rebuild': 2378, 'siregar': 2379, 'true': 2380, 'criticis': 2381, 'lesson': 2382, 'plaid': 2383, 'cymru': 2384, 'agenda': 2385, 'length': 2386, 'treatment': 2387, 'overshadow': 2388, 'remov': 2389, 'reshuffl': 2390, 'appar': 2391, 'sink': 2392, '81': 2393, 'chest': 2394, '£500': 2395, 'joint': 2396, '£250': 2397, 'institut': 2398, 'reorganis': 2399, 'youth': 2400, 'morri': 2401, 'childcar': 2402, 'thank': 2403, 'vehicl': 2404, 'racer': 2405, 'roy': 2406, 'leg': 2407, 'amput': 2408, 'invent': 2409, 'foot': 2410, 'ampute': 2411, 'eventu': 2412, 'proshift': 2413, 'gearbox': 2414, 'rider': 2415, 'keen': 2416, 'subaru': 2417, 'impreza': 2418, 'accommod': 2419, 'parar': 2420, 'hawkin': 2421, 'throttl': 2422, 'brake': 2423, 'rainey': 2424, 'climb': 2425, 'sydney': 2426, '20bn': 2427, 'yugansk': 2428, 'gazpromneft': 2429, 'submit': 2430, 'regain': 2431, 'punish': 2432, 'evas': 2433, 'recharg': 2434, 'batteri': 2435, 'advantag': 2436, 'enthusiasm': 2437, 'rb': 2438, 'hamstr': 2439, 'kevin': 2440, 'horgan': 2441, 'ulster': 2442, 'johnni': 2443, 'hicki': 2444, 'easterbi': 2445, 'basi': 2446, 'briberi': 2447, 'violat': 2448, 'sec': 2449, 'bribe': 2450, 'juan': 2451, 'lopez': 2452, 'cooper': 2453, 'amritsar': 2454, 'nuclear': 2455, 'huckabe': 2456, 'cent': 2457, '£1bn': 2458, '£960m': 2459, 'millennium': 2460, 'norway': 2461, 'iff': 2462, 'sepa': 2463, '700': 2464, 'mw': 2465, 'sand': 2466, 'cult': 2467, 'indi': 2468, 'shortlist': 2469, 'pizzorno': 2470, 'spot': 2471, 'pub': 2472, 'roll': 2473, 'rutland': 2474, 'water': 2475, 'jeffrey': 2476, 'argentina': 2477, 'hantuchova': 2478, 'wessel': 2479, 'dominik': 2480, 'shaughnessi': 2481, 'molik': 2482, 'baccanello': 2483, 'leant': 2484, 'consumpt': 2485, 'qc': 2486, 'resolut': 2487, 'mate': 2488, 'schalk': 2489, 'amor': 2490, 'argentin': 2491, 'irb': 2492, 'gloucest': 2493, 'outrag': 2494, 'indict': 2495, 'simpler': 2496, 'sceptic': 2497, 'adelaid': 2498, 'jaslyn': 2499, 'rebound': 2500, 'piec': 2501, 'ronan': 2502, 'brilliant': 2503, 'defens': 2504, 'grammi': 2505, 'crash': 2506, 'jaw': 2507, 'chicago': 2508, 'god': 2509, 'plasma': 2510, 'expert': 2511, 'vega': 2512, 'favourit': 2513, 'pastim': 2514, 'talkedabout': 2515, 'pvr': 2516, 'settop': 2517, 'store': 2518, 'personalis': 2519, 'builtin': 2520, 'alacart': 2521, 'ident': 2522, 'uptak': 2523, 'adam': 2524, 'hume': 2525, 'futurologist': 2526, 'starcom': 2527, 'mediavest': 2528, 'stacey': 2529, 'jolna': 2530, 'simplifi': 2531, 'leaf': 2532, 'ipod': 2533, 'comfort': 2534, 'diaper': 2535, 'button': 2536, 'showcas': 2537, 'tvwatch': 2538, 'everywher': 2539, 'extern': 2540, 'humax': 2541, '26inch': 2542, '80hour': 2543, 'dvd': 2544, 'directtv': 2545, '100hour': 2546, 'instant': 2547, 'function': 2548, 'rewind': 2549, 'preshow': 2550, 'keynot': 2551, 'partnership': 2552, 'tivotogo': 2553, 'multimedia': 2554, 'berni': 2555, '£58bn': 2556, 'juror': 2557, 'hidden': 2558, 'distanc': 2559, 'testifi': 2560, 'mastermind': 2561, 'affabl': 2562, 'pe': 2563, 'graduat': 2564, 'whatev': 2565, '160bn': 2566, 'mount': 2567, '180bn': 2568, 'ceo': 2569, 'firmli': 2570, 'innoc': 2571, 'wari': 2572, 'whoever': 2573, '15man': 2574, 'juri': 2575, 'struck': 2576, 'readymad': 2577, 'ryman': 2578, 'arguabl': 2579, 'moneyspinn': 2580, 'slough': 2581, 'doncast': 2582, 'trafford': 2583, 'holder': 2584, 'hinckley': 2585, 'brentford': 2586, 'goalless': 2587, 'allen': 2588, 'griffin': 2589, 'thirdplac': 2590, 'semifinalist': 2591, 'struggler': 2592, 'beaten': 2593, 'swindon': 2594, 'nott': 2595, 'counti': 2596, 'spur': 2597, 'hart': 2598, 'lane': 2599, 'swindonnott': 2600, 'co': 2601, 'blackpool': 2602, 'wigan': 2603, 'wolv': 2604, 'hull': 2605, 'tottenham': 2606, 'stockportswansea': 2607, 'hartlepool': 2608, 'boston': 2609, 'milton': 2610, 'keyn': 2611, 'don': 2612, 'peterborough': 2613, 'oldham': 2614, 'charlton': 2615, 'rochdal': 2616, 'sheff': 2617, 'rotherham': 2618, 'yeovil': 2619, 'bournemouth': 2620, 'chester': 2621, 'coventri': 2622, 'portsmouth': 2623, 'gillingham': 2624, 'qpr': 2625, 'nottm': 2626, 'forest': 2627, 'hinckleybrentford': 2628, 'raid': 2629, 'caper': 2630, 'brad': 2631, 'julia': 2632, '408m': 2633, '£21m': 2634, 'heist': 2635, 'wesley': 2636, 'snipe': 2637, 'blade': 2638, '161m': 2639, '£84m': 2640, 'fabl': 2641, 'polar': 2642, 'hank': 2643, 'krank': 2644, 'fourthbiggest': 2645, 'trilog': 2646, '381m': 2647, '£198m': 2648, '184m': 2649, '£958m': 2650, '1960': 2651, 'frank': 2652, 'sinatra': 2653, 'rat': 2654, 'damon': 2655, 'garcia': 2656, 'elliott': 2657, 'gould': 2658, 'catherin': 2659, 'zetajon': 2660, 'allstar': 2661, 'dan': 2662, 'fellman': 2663, 'warner': 2664, 'bro': 2665, 'complimentari': 2666, '110m': 2667, '£572m': 2668, 'dispirit': 2669, 'vaniti': 2670, 'unabashedli': 2671, 'trivial': 2672, 'jibe': 2673, 'behav': 2674, 'sake': 2675, 'cling': 2676, 'fagin': 2677, 'shylock': 2678, 'pig': 2679, 'beckett': 2680, 'judgement': 2681, 'behalf': 2682, 'chord': 2683, 'headlin': 2684, 'quota': 2685, 'coverag': 2686, 'racist': 2687, 'cleaner': 2688, 'disciplin': 2689, 'correct': 2690, 'curriculum': 2691, 'red': 2692, 'tape': 2693, 'grandchildren': 2694, 'mine': 2695, 'famou': 2696, 'alan': 2697, 'vision': 2698, 'perfectli': 2699, 'pose': 2700, '£35bn': 2701, 'editor': 2702, 'signal': 2703, 'frantic': 2704, 'nobodi': 2705, 'fouryear': 2706, 'raininterrupt': 2707, 'quarterfin': 2708, 'croatian': 2709, 'interven': 2710, 'robredo': 2711, 'semifin': 2712, 'nicola': 2713, 'kiefer': 2714, 'till': 2715, 'desert': 2716, 'bicep': 2717, 'fullcontact': 2718, 'falcon': 2719, 'aggrav': 2720, 'haematoma': 2721, 'fullback': 2722, 'disrupt': 2723, 'muscl': 2724, 'shoulder': 2725, 'darkest': 2726, 'violent': 2727, 'sixyearold': 2728, 'cb': 2729, 'air': 2730, 'advis': 2731, 'scene': 2732, 'unsuit': 2733, 'under13': 2734, 'classifi': 2735, 'pg13': 2736, '12a': 2737, 'guidanc': 2738, 'u': 2739, 'clone': 2740, 'prequel': 2741, '1977': 2742, 'heroic': 2743, 'anakin': 2744, 'skywalk': 2745, 'evil': 2746, 'darth': 2747, 'vader': 2748, 'helllik': 2749, 'planet': 2750, 'erupt': 2751, 'volcano': 2752, 'molten': 2753, 'lava': 2754, 'pact': 2755, 'devil': 2756, 'tragedi': 2757, 'cheer': 2758, 'heroin': 2759, 'loud': 2760, 'applaus': 2761, 'sophi': 2762, 'behead': 2763, 'han': 2764, 'condemn': 2765, 'abhorr': 2766, 'tyranni': 2767, 'legaci': 2768, 'somehow': 2769, 'transcript': 2770, 'gestapo': 2771, 'interrog': 2772, 'preserv': 2773, 'communist': 2774, 'accuraci': 2775, '1942': 2776, 'munich': 2777, 'regim': 2778, 'intens': 2779, 'defiant': 2780, 'vy': 2781, 'bizet': 2782, 'tragic': 2783, 'shot': 2784, 'cape': 2785, 'xhosa': 2786, 'ucarmen': 2787, 'ekhayelitsha': 2788, 'khayelitsha': 2789, 'township': 2790, '40strong': 2791, 'troup': 2792, 'bear': 2793, 'plummet': 2794, 'steep': 2795, 'brett': 2796, 'godfrey': 2797, 'branson': 2798, 'fend': 2799, 'passeng': 2800, 'approxim': 2801, 'slack': 2802, 'qanta': 2803, 'fought': 2804, 'sydneylist': 2805, 'snowfal': 2806, '280': 2807, 'reason': 2808, '5567': 2809, '4148': 2810, '4862': 2811, 'western': 2812, 'shiver': 2813, 'unseason': 2814, 'fiveweek': 2815, 'overnight': 2816, 'fur': 2817, '4cast': 2818, 'fathi': 2819, 'bin': 2820, 'shatwan': 2821, 'libya': 2822, '35': 2823, 'excess': 2824, 'hemispher': 2825, 'gasolin': 2826, 'usa': 2827, '71': 2828, 'unassail': 2829, 'woken': 2830, 'nicknam': 2831, 'nervou': 2832, 'outset': 2833, 'jordi': 2834, 'arres': 2835, 'rafael': 2836, '185': 2837, 'mallorcan': 2838, 'youngest': 2839, 'hone': 2840, 'surfac': 2841, 'smarter': 2842, 'unrealist': 2843, 'constantli': 2844, 'olymp': 2845, 'claycourt': 2846, 'bottom': 2847, 'korean': 2848, 'avert': 2849, '960m': 2850, '£499m': 2851, 'conglomer': 2852, '480m': 2853, 'shockwav': 2854, '99': 2855, '45bn': 2856, 'redempt': 2857, 'laah': 2858, 'chonggyu': 2859, 'sejong': 2860, 'bubbl': 2861, 'burst': 2862, 'exce': 2863, 'embryon': 2864, 'scientist': 2865, 'laboratori': 2866, 'kidney': 2867, 'nostalg': 2868, 'har': 2869, 'mankind': 2870, 'mid70': 2871, 'stemcel': 2872, 'meddl': 2873, 'multipl': 2874, 'sclerosi': 2875, 'courag': 2876, 'grownup': 2877, 'superman': 2878, 'reev': 2879, 'paralys': 2880, 'hors': 2881, 'ride': 2882, 'lawn': 2883, 'unearth': 2884, 'attitud': 2885, 'confus': 2886, 'crowther': 2887, 'junior': 2888, 'greg': 2889, 'rusedski': 2890, 'arvind': 2891, 'parmar': 2892, 'ann': 2893, 'keothavong': 2894, 'workout': 2895, 'instil': 2896, 'felgat': 2897, 'humbl': 2898, 'word': 2899, '52weekayear': 2900, 'wimbledon': 2901, 'mitsui': 2902, 'latter': 2903, 'counterpart': 2904, '29bn': 2905, 'profil': 2906, 'fourthlargest': 2907, 'thirdlargest': 2908, 'tabl': 2909, '35bn': 2910, 'secondlargest': 2911, 'absorb': 2912, 'ufjmtfg': 2913, 'integr': 2914, 'largestev': 2915, 'deepen': 2916, 'daiwa': 2917, 'ventur': 2918, 'fullblown': 2919, 'healthi': 2920, 'constant': 2921, 'midoctob': 2922, 'costcut': 2923, '268': 2924, 'edgwar': 2925, 'morphem': 2926, 'kentish': 2927, 'monster': 2928, 'rubin': 2929, 'restructu': 2930, 'overhead': 2931, 'premis': 2932, '110': 2933, 'address': 2934, 'center': 2935, 'questionnair': 2936, 'solicit': 2937, 'phoney': 2938, 'unrel': 2939, 'herald': 2940, 'spell': 2941, 'fourfold': 2942, 'singleplay': 2943, 'subscriptionbas': 2944, 'clan': 2945, 'wakeup': 2946, 'morin': 2947, 'congest': 2948, 'attribut': 2949, 'clarion': 2950, 'isp': 2951, 'highend': 2952, 'prioritis': 2953, 'spoil': 2954, 'migrat': 2955, 'analys': 2956, 'bandwidthhungri': 2957, 'lindsay': 2958, 'schroth': 2959, 'yanke': 2960, 'differenti': 2961, 'liveplay': 2962, '73yearold': 2963, '0227': 2964, 'mantel': 2965, 'guis': 2966, 'genevabas': 2967, 'thorp': 2968, 'arch': 2969, 'tunnel': 2970, 'gerald': 2971, 'medium': 2972, '£103m': 2973, 'succeed': 2974, 'tirelessli': 2975, 'eighti': 2976, 'percent': 2977, 'undisclos': 2978, 'handov': 2979, 'mccormick': 2980, '£45m': 2981, 'newlook': 2982, 'yvonn': 2983, 'todd': 2984, 'dea': 2985, 'roman': 2986, 'abramovich': 2987, '£140m': 2988, 'stamford': 2989, 'sebastien': 2990, 'sainsburi': 2991, '£40m': 2992, 'deduct': 2993, 'spare': 2994, 'lengthi': 2995, 'layoff': 2996, 'seasonlong': 2997, 'holland': 2998, 'dariu': 2999, 'vassel': 3000, 'luke': 3001, 'moor': 3002, 'allevi': 3003, 'dimens': 3004, 'ubiquit': 3005, 'allinon': 3006, 'bee': 3007, 'disappear': 3008, 'demo': 3009, 'unremark': 3010, 'heard': 3011, 'multispeak': 3012, 'cinema': 3013, 'startl': 3014, 'stereo': 3015, 'am3d': 3016, 'sr': 3017, 'stereowiden': 3018, 'headphon': 3019, 'nicer': 3020, 'ntt': 3021, 'docomo': 3022, 'fujitsu': 3023, 'marker': 3024, 'yamaha': 3025, 'rohm': 3026, 'psychoacoust': 3027, 'alastair': 3028, 'sibbald': 3029, 'eman': 3030, 'algorithm': 3031, 'mimic': 3032, 'bend': 3033, 'fish': 3034, 'shoot': 3035, 'em': 3036, 'up': 3037, 'significantli': 3038, 'processor': 3039, 'otherwis': 3040, 'vodafon': 3041, 'chennai': 3042, 'fourtim': 3043, 'finalist': 3044, 'paradorn': 3045, 'spaniard': 3046, '£28': 3047, 'thai': 3048, '52': 3049, 'scrichapan': 3050, 'unspecifi': 3051, 'kill': 3052, 'us25': 3053, 'unicef': 3054, 'tamil': 3055, 'nadu': 3056, 'sponsor': 3057, 'merced': 3058, 'us40': 3059, 'leonardo': 3060, 'santa': 3061, 'barbara': 3062, 'oscarnomin': 3063, 'lifetim': 3064, 'utterli': 3065, 'surreal': 3066, 'retrospect': 3067, 'critter': 3068, 'onto': 3069, 'basketbal': 3070, 'diari': 3071, 'romeo': 3072, 'juliet': 3073, 'gang': 3074, 'commemor': 3075, 'california': 3076, 'anniversari': 3077, 'coincid': 3078, 'outlaw': 3079, 'quest': 3080, 'authent': 3081, 'pole': 3082, 'outfit': 3083, 'rooster': 3084, '45minut': 3085, '2g': 3086, 'gsm': 3087, 'spokesperson': 3088, 'belinda': 3089, 'virtual': 3090, 'stream': 3091, 'persuad': 3092, 'intermiss': 3093, 'outlin': 3094, 'curfew': 3095, 'tag': 3096, 'sought': 3097, 'mainli': 3098, 'algeria': 3099, 'tunisia': 3100, 'egypt': 3101, 'jordan': 3102, 'tortur': 3103, 'discriminatori': 3104, 'staffordsmith': 3105, 'scrutini': 3106, 'deter': 3107, 'freed': 3108, 'indefinit': 3109, 'backfir': 3110, 'resent': 3111, 'securityclear': 3112, 'phonetap': 3113, 'oaten': 3114, 'inde': 3115, 'shami': 3116, 'chakrabarti': 3117, 'liberti': 3118, 'adher': 3119, 'cat': 3120, 'screenwrit': 3121, 'cancer': 3122, 'cowrot': 3123, '1978': 3124, 'lee': 3125, 'curti': 3126, 'babysitt': 3127, 'terroris': 3128, 'psychopath': 3129, '£313m': 3130, 'worldwid': 3131, 'born': 3132, 'jersey': 3133, 'secondunit': 3134, 'commonli': 3135, 'makeup': 3136, 'hair': 3137, 'realis': 3138, 'carv': 3139, 'nich': 3140, 'greatest': 3141, 'trailblaz': 3142, 'ii': 3143, 'resurrect': 3144, 'lynda': 3145, 'obst': 3146, 'fisher': 3147, 'teen': 3148, 'adventur': 3149, 'babysit': 3150, 'dead': 3151, 'zone': 3152, '1985': 3153, 'clue': 3154, 'cluedo': 3155, '1996': 3156, 'rubbl': 3157, 'tower': 3158, 'mood': 3159, 'await': 3160, 'hrh': 3161, 'duchess': 3162, 'cornwal': 3163, '313': 3164, 'consort': 3165, '47': 3166, 'monarchi': 3167, 'throne': 3168, 'grandson': 3169, 'abdic': 3170, '57': 3171, 'dinner': 3172, 'diamond': 3173, 'heirloom': 3174, 'wifetob': 3175, 'duke': 3176, 'wed': 3177, 'prayer': 3178, 'st': 3179, 'chapel': 3180, 'rowan': 3181, 'suprem': 3182, 'anglican': 3183, 'remarriag': 3184, 'divorce': 3185, 'disillusion': 3186, 'ro': 3187, 'coward': 3188, 'kennedi': 3189, 'mostli': 3190, 'clarenc': 3191, 'prelaunch': 3192, 'fervour': 3193, 'incarn': 3194, 'vulner': 3195, 'erod': 3196, 'stranglehold': 3197, '95': 3198, 'surfer': 3199, 'static': 3200, '947': 3201, 'garner': 3202, 'netbrows': 3203, 'hole': 3204, 'tab': 3205, 'easili': 3206, 'popup': 3207, 'neat': 3208, 'creator': 3209, 'addon': 3210, 'toolbar': 3211, 'homeland': 3212, 'vocal': 3213, 'netbas': 3214, '2500': 3215, 'volunt': 3216, '250': 3217, 'sometim': 3218, 'threeweek': 3219, 'novemberearli': 3220, 'surplu': 3221, 'safari': 3222, 'amaya': 3223, 'gascoign': 3224, 'eastend': 3225, 'scarlett': 3226, 'johnson': 3227, 'oneoff': 3228, 'smilli': 3229, 'jessica': 3230, 'libertyx': 3231, 'bruce': 3232, 'forsyth': 3233, 'tess': 3234, 'dali': 3235, 'hot': 3236, 'stipul': 3237, 'duo': 3238, 'jayn': 3239, 'torvil': 3240, 'dean': 3241, 'sabbath': 3242, 'everybodi': 3243, '25minut': 3244, 'mentor': 3245, 'itv1': 3246, 'xfactor': 3247, 'cowel': 3248, 'loui': 3249, 'walsh': 3250, '85m': 3251, '£46m': 3252, 'merchandis': 3253, '50m': 3254, '£272m': 3255, 'metal': 3256, 'accessori': 3257, 'rocket': 3258, 'magazin': 3259, 'simpson': 3260, 'spinal': 3261, 'tap': 3262, 'suppos': 3263, 'crazi': 3264, 'malpractic': 3265, 'aig': 3266, 'mclennan': 3267, 'eliot': 3268, 'obtain': 3269, 'plea': 3270, 'joshua': 3271, 'feloni': 3272, 'rig': 3273, 'fix': 3274, '850m': 3275, '£415m': 3276, 'neither': 3277, 'visitor': 3278, '173': 3279, '299': 3280, 'odel': 3281, 'protest': 3282, 'suspens': 3283, 'unjust': 3284, 'unreserv': 3285, 'apolog': 3286, 'bristol': 3287, '1992': 3288, 'snap': 3289, 'batch': 3290, 'playstat': 3291, 'queu': 3292, '000strong': 3293, 'shipment': 3294, '188': 3295, '£98': 3296, '£78': 3297, 'flail': 3298, 'rundown': 3299, 'rae': 3300, '1953': 3301, '1956': 3302, 'plot': 3303, 'franklin': 3304, 'perspect': 3305, 'demolish': 3306, 'simpli': 3307, 'jani': 3308, 'stepsist': 3309, 'overdos': 3310, 'spark': 3311, '£68m': 3312, '£12m': 3313, 'departur': 3314, '£56m': 3315, 'smallscal': 3316, '£3m': 3317, 'turnout': 3318, 'mailshot': 3319, 'shift': 3320, '£20m': 3321, '£15m': 3322, 'sam': 3323, 'democraci': 3324, 'adequ': 3325, 'visibl': 3326, 'reluct': 3327, 'unhappi': 3328, 'wider': 3329, 'consensu': 3330, 'shrank': 3331, 'upset': 3332, 'confound': 3333, 'zero': 3334, 'standstil': 3335, 'onward': 3336, 'reliant': 3337, 'unemploy': 3338, 'impend': 3339, 'volkswagen': 3340, 'siemen': 3341, 'destati': 3342, 'outweigh': 3343, 'relentless': 3344, 'depress': 3345, '12nation': 3346, 'ecb': 3347, 'mandat': 3348, 'crackdown': 3349, 'stubborn': 3350, 'skip': 3351, 'permit': 3352, 'classroom': 3353, '£885m': 3354, 'academ': 3355, 'adopt': 3356, '776': 3357, '128': 3358, 'worst': 3359, 'hotspot': 3360, 'countrywid': 3361, 'apprehend': 3362, 'dodg': 3363, 'youngster': 3364, 'seiz': 3365, 'thump': 3366, 'dug': 3367, 'deep': 3368, 'style': 3369, 'rerun': 3370, 'rotterdam': 3371, 'rhythm': 3372, '030': 3373, 'racket': 3374, 'loos': 3375, 'relax': 3376, 'weird': 3377, 'topclass': 3378, '102': 3379, '10year': 3380, 'downturn': 3381, 'woolwich': 3382, 'pricewaterhousecoop': 3383, 'pwc': 3384, 'overvalu': 3385, '2009': 3386, '£152': 3387, '879': 3388, 'homeown': 3389, '09': 3390, 'pace': 3391, '6': 3392, '79': 3393, '1995': 3394, '£72bn': 3395, '£71bn': 3396, 'allan': 3397, '22yearold': 3398, 'hurdl': 3399, 'cagig': 3400, 'curv': 3401, 'kilbrid': 3402, 'felip': 3403, 'haiti': 3404, 'dudley': 3405, '764sec': 3406, '004sec': 3407, 'iaaf': 3408, 'prix': 3409, 'slash': 3410, '760sec': 3411, '762sec': 3412, '763sec': 3413, 'sichuan': 3414, 'southwest': 3415, 'colleagu': 3416, 'breed': 3417, 'bamboo': 3418, 'ecolog': 3419, 'vet': 3420, 'tini': 3421, 'cub': 3422, 'zhang': 3423, 'hemin': 3424, 'stateoftheart': 3425, 'preciou': 3426, 'intel': 3427, '80211b': 3428, 'infrastructur': 3429, 'walk': 3430, 'floppi': 3431, 'disk': 3432, 'notebook': 3433, 'globe': 3434, 'lab': 3435, 'biodivers': 3436, 'nonprofit': 3437, 'primari': 3438, 'hook': 3439, 'portland': 3440, 'oregon': 3441, 'gerri': 3442, 'elli': 3443, 'frontman': 3444, 'thrive': 3445, 'bed': 3446, 'prestigi': 3447, '21st': 3448, 'susten': 3449, 'selfsuffici': 3450, 'tea': 3451, 'mercuri': 3452, '300strong': 3453, 'nirvana': 3454, 'korn': 3455, 'riddl': 3456, 'angst': 3457, 'chopin': 3458, 'debussi': 3459, 'kyli': 3460, 'minogu': 3461, 'scissor': 3462, 'wagner': 3463, 'smell': 3464, 'napalm': 3465, 'fm': 3466, 'macmillan': 3467, 'rediscov': 3468, 'soviet': 3469, 'gorbachev': 3470, 'hawk': 3471, 'daunt': 3472, 'upcom': 3473, 'exercis': 3474, 'tonight': 3475, 'upandcom': 3476, 'louder': 3477, 'commercialis': 3478, 'megastar': 3479, 'wealthiest': 3480, 'rake': 3481, 'etc': 3482, 'lotteri': 3483, 'benefici': 3484, 'appreci': 3485, 'travi': 3486, 'subsidis': 3487, 'sorri': 3488, 'subsidi': 3489, 'sponsorship': 3490, 'ye': 3491, 'statefund': 3492, 'sit': 3493, 'twiddl': 3494, 'thumb': 3495, 'wast': 3496, 'hate': 3497, 'idoltyp': 3498, 'reinforc': 3499, 'treasuri': 3500, 'equip': 3501, 'cheap': 3502, 'extent': 3503, 'flourish': 3504, 'mould': 3505, 'will': 3506, 'yeah': 3507, 'modern': 3508, 'bandsartist': 3509, 'fratern': 3510, 'convinc': 3511, 'penalis': 3512, 'idolstyl': 3513, 'whatsoev': 3514, 'pocket': 3515, 'pollut': 3516, 'disagre': 3517, 'avenu': 3518, 'nea': 3519, 'allot': 3520, 'solut': 3521, 'privatelyfund': 3522, 'organ': 3523, 'justic': 3524, 'cathi': 3525, 'exclus': 3526, 'parkhead': 3527, 'section': 3528, 'mcconnel': 3529, 'antisectarian': 3530, 'squeez': 3531, 'tension': 3532, 'troublesom': 3533, 'taint': 3534, 'troublemak': 3535, 'religi': 3536, 'boil': 3537, 'identifi': 3538, 'incit': 3539, 'inappropri': 3540, 'privaci': 3541, 'fundrais': 3542, 'identif': 3543, 'depend': 3544, 'matthew': 3545, 'therefor': 3546, 'swift': 3547, 'ceas': 3548, 'guidelin': 3549, 'tsar': 3550, 'ormond': 3551, 'chosen': 3552, '000ayear': 3553, 'immedi': 3554, 'wellb': 3555, 'clinic': 3556, 'oriel': 3557, 'switzerland': 3558, 'proud': 3559, 'grandfath': 3560, 'amidst': 3561, 'nikkei': 3562, 'index': 3563, '48876': 3564, 'naoki': 3565, 'kamiyama': 3566, 'optim': 3567, 'pessim': 3568, 'quarterli': 3569, 'tankan': 3570, 'stronger': 3571, 'weaker': 3572, 'trader': 3573, 'anticip': 3574, 'bundl': 3575, 'offsid': 3576, 'techniqu': 3577, 'cuff': 3578, 'rehears': 3579, '45m': 3580, 'overhaul': 3581, 'eightieth': 3582, 'anxiou': 3583, 'leadup': 3584, 'anger': 3585, 'servant': 3586, 'raw': 3587, 'rile': 3588, 'breathtak': 3589, 'hypocrisi': 3590, 'serwotka': 3591, 'rethink': 3592, 'brigad': 3593, 'woolstenholm': 3594, '325': 3595, '87': 3596, 'trough': 3597, 'volatil': 3598, 'outperform': 3599, 'axa': 3600, 'compens': 3601, 'payout': 3602, 'float': 3603, 'ricard': 3604, 'wall': 3605, '1200': 3606, 'acquisit': 3607, 'propel': 3608, 'diageo': 3609, '75bn': 3610, '97bn': 3611, 'capitalis': 3612, '£57bn': 3613, '107bn': 3614, '82bn': 3615, 'glenmorangi': 3616, 'luxuri': 3617, 'lvmh': 3618, 'chiva': 3619, 'regal': 3620, 'scotch': 3621, 'havana': 3622, 'jacob': 3623, 'creek': 3624, 'wine': 3625, 'malibu': 3626, 'courvoisi': 3627, 'brandi': 3628, 'stolichnaya': 3629, 'vodka': 3630, 'ballantin': 3631, 'snack': 3632, 'dunkin': 3633, 'donut': 3634, 'baskinrobbin': 3635, 'cream': 3636, 'wsj': 3637, 'ripe': 3638, 'problemat': 3639, 'portfolio': 3640, 'fastfood': 3641, 'learnt': 3642, '26yearold': 3643, 'ewood': 3644, 'ibrox': 3645, 'lancashir': 3646, '£65m': 3647, '£4m': 3648, 'playerswap': 3649, 'negoti': 3650, 'conced': 3651, 'goodison': 3652, 'groin': 3653, 'ed': 3654, 'davey': 3655, 'scandal': 3656, 'oust': 3657, 'longserv': 3658, 'leonid': 3659, 'w': 3660, 'atlant': 3661, 'treati': 3662, 'nato': 3663, 'nonnato': 3664, 'moscowback': 3665, 'yanukovych': 3666, 'transpar': 3667, 'yulia': 3668, 'tymoshenko': 3669, 'spotlight': 3670, 'sooth': 3671, 'fray': 3672, 'nerv': 3673, '98': 3674, 'ukrainian': 3675, 'steel': 3676, 'krivorizhst': 3677, 'pinchuk': 3678, 'soninlaw': 3679, 'formerpresid': 3680, 'rinat': 3681, 'akhmetov': 3682, '800m': 3683, '£424m': 3684, 'viceprim': 3685, 'oleg': 3686, 'reward': 3687, 'backlash': 3688, 'topic': 3689, 'visa': 3690, 'honest': 3691, 'difficulti': 3692, 'sympathet': 3693, 'reiter': 3694, 'claud': 3695, 'veronrevil': 3696, 'mandelson': 3697, 'border': 3698, 'pragmat': 3699, 'etern': 3700, 'strateg': 3701, 'glitter': 3702, 'gavin': 3703, 'beam': 3704, 'clean': 3705, 'majest': 3706, 'matchwin': 3707, 'inuri': 3708, 'outmuscl': 3709, 'tight': 3710, 'julian': 3711, 'select': 3712, 'gethin': 3713, 'jenkin': 3714, 'vickeri': 3715, 'frame': 3716, 'joe': 3717, 'worsley': 3718, 'noth': 3719, 'beforehand': 3720, 'robust': 3721, 'woodward': 3722, 'fed': 3723, 'unlucki': 3724, 'malcolm': 3725, 'charact': 3726, 'dwayn': 3727, 'peel': 3728, 'choke': 3729, 'possess': 3730, 'sat': 3731, '1400': 3732, 'bbc1': 3733, 'azzurri': 3734, 'erad': 3735, 'blight': 3736, 'taught': 3737, 'aggress': 3738, 'calm': 3739, 'matur': 3740, 'pitch': 3741, 'experienc': 3742, 'cristian': 3743, 'opensid': 3744, 'mauro': 3745, 'danielli': 3746, 'worldclass': 3747, 'revel': 3748, 'paterson': 3749, 'craig': 3750, 'h': 3751, 'southwel': 3752, 'lamont': 3753, 'bulloch': 3754, 'kerr': 3755, 'grime': 3756, 'petri': 3757, 'dougla': 3758, 'hine': 3759, 'dunbar': 3760, 'ross': 3761, 'hinshelwood': 3762, 'de': 3763, 'marigni': 3764, 'mirco': 3765, 'masi': 3766, 'nitoglia': 3767, 'orquera': 3768, 'troncon': 3769, 'cicero': 3770, 'f': 3771, 'ongaro': 3772, 'castrogiovanni': 3773, 'dellap': 3774, 'bortolami': 3775, 'persico': 3776, 'pariss': 3777, 'intoppa': 3778, 'perugini': 3779, 'ca': 3780, 'del': 3781, 'fava': 3782, 'orlando': 3783, 'p': 3784, 'griffen': 3785, 'pedrazzi': 3786, 'kp': 3787, 'robertson': 3788, 'recommend': 3789, 'verdict': 3790, 'shop': 3791, 'justifi': 3792, 'shelv': 3793, 'voluntarili': 3794, 'fourthquart': 3795, '£581m': 3796, '14bn': 3797, 'tumbl': 3798, 'asid': 3799, 'vioxxrel': 3800, 'litig': 3801, 'alarm': 3802, 'bell': 3803, 'stomach': 3804, 'bextra': 3805, 'reintroduct': 3806, 'therapi': 3807, 'cardiovascular': 3808, 'uniqu': 3809, 'calcul': 3810, 'senat': 3811, 'handl': 3812, 'medicin': 3813, 'cautiou': 3814, 'editori': 3815, '£150m': 3816, 'afternoon': 3817, 'react': 3818, 'midday': 3819, 'ballot': 3820, 'pearson': 3821, 'voluntari': 3822, 'torn': 3823, 'teeth': 3824, 'jeremi': 3825, 'dear': 3826, '90day': 3827, 'disregard': 3828, '521': 3829, 'broadsheet': 3830, 'shrink': 3831, 'size': 3832, 'hedg': 3833, 'larger': 3834, 'continent': 3835, 'frederick': 3836, 'conrad': 3837, 'holling': 3838, 'mull': 3839, 'littlewood': 3840, 'maclennan': 3841, 'lifeblood': 3842, 'machineri': 3843, 'alik': 3844, 'mirror': 3845, 'mail': 3846, 'twickenham': 3847, '1430': 3848, '1815': 3849, 'hammer': 3850, 'wallabi': 3851, '34': 3852, 'silverwar': 3853, 'ash': 3854, 'sight': 3855, 'stumbl': 3856, 'showdown': 3857, '£155bn': 3858, 'clinton': 3859, 'washington': 3860, 'antiracket': 3861, 'rj': 3862, 'lorillard': 3863, 'liggett': 3864, 'williamson': 3865, 'manipul': 3866, 'nicotin': 3867, 'addict': 3868, 'lie': 3869, 'contrari': 3870, 'cigarett': 3871, 'surrend': 3872, 'impos': 3873, 'tougher': 3874, 'columbia': 3875, 'counteract': 3876, 'mafia': 3877, 'infiltr': 3878, 'conspir': 3879, 'landmark': 3880, '206bn': 3881, '45': 3882, 'unexpect': 3883, 'martina': 3884, 'competitv': 3885, 'volvo': 3886, 'pattaya': 3887, 'marlen': 3888, 'weingartn': 3889, 'wta': 3890, 'filderstadt': 3891, 'elena': 3892, 'dementieva': 3893, 'comeback': 3894, 'thaliand': 3895, 'thermal': 3896, 'partial': 3897, 'selloff': 3898, '865': 3899, 'rupees12bn': 3900, 'tata': 3901, 'oversubscrib': 3902, 'suha': 3903, 'naik': 3904, 'ing': 3905, 'energystarv': 3906, 'util': 3907, 'highspe': 3908, '33': 3909, 'surpass': 3910, '53': 3911, '67': 3912, '158': 3913, 'adsl': 3914, '6km': 3915, 'asymmetr': 3916, 'copper': 3917, '512kbp': 3918, 'dramat': 3919, 'satisfi': 3920, 'pentup': 3921, 'loop': 3922, 'unbundl': 3923, 'hardwar': 3924, 'ntl': 3925, '42': 3926, 'presect': 3927, 'talktalk': 3928, 'onetel': 3929, 'rout': 3930, 'nonbt': 3931, '300': 3932, 'percentag': 3933, 'shrunk': 3934, '554': 3935, 'fiatgm': 3936, 'disagr': 3937, 'unprofit': 3938, 'deadlock': 3939, 'payoff': 3940, '2bn': 3941, '£106bn': 3942, 'extric': 3943, 'void': 3944, 'capitalrais': 3945, 'outright': 3946, 'gianni': 3947, 'agnelli': 3948, 'godfath': 3949, 'pile': 3950, 'saab': 3951, 'juchemich': 3952, 'auto': 3953, 'sal': 3954, 'oppenheim': 3955, 'flagship': 3956, 'totp2': 3957, 'footag': 3958, 'shakeup': 3959, '1964': 3960, 'blaze': 3961, 'newcom': 3962, 'revitalis': 3963, 'mid1990': 3964, 'soap': 3965, 'coron': 3966, 'fearn': 3967, 'cotton': 3968, 'roli': 3969, 'era': 3970, 'exact': 3971, 'transmit': 3972, '1900': 3973, 'bug': 3974, 'log': 3975, 'hotmail': 3976, 'messeng': 3977, 'layout': 3978, 'upload': 3979, 'photo': 3980, 'playlist': 3981, 'banner': 3982, 'irv': 3983, 'foray': 3984, 'phenomenon': 3985, 'blogger': 3986, 'technorati': 3987, 'blogospher': 3988, 'exceed': 3989, 'regularli': 3990, 'aburiz': 3991, 'reportedli': 3992, '48bn': 3993, '£255bn': 3994, 'bisni': 3995, '17bn': 3996, 'unnecessari': 3997, 'previouslypledg': 3998, '34bn': 3999, 'deficit': 4000, '500m': 4001, 'soft': 4002, 'aceh': 4003, 'nevertheless': 4004, 'deputi': 4005, 'mahendra': 4006, 'afp': 4007, 'rich': 4008, 'temporarili': 4009, '5bn': 4010, 'sri': 4011, 'lanka': 4012, 'seychel': 4013, 'reli': 4014, 'borrow': 4015, 'alwi': 4016, 'shihab': 4017, 'ap': 4018, 'allay': 4019, 'gp': 4020, 'blaengwynfi': 4021, 'afan': 4022, 'valley': 4023, 'aberavon': 4024, 'fiveandahalf': 4025, 'weep': 4026, 'despair': 4027, '311': 4028, '400': 4029, '856': 4030, 'healthier': 4031, 'respond': 4032, 'prioriti': 4033, 'consist': 4034, 'acrosstheboard': 4035, 'rhodri': 4036, 'nye': 4037, 'bevan': 4038, 'architect': 4039, 'babi': 4040, 'ieuan': 4041, 'wyn': 4042, 'deckchair': 4043, 'kisrti': 4044, 'underli': 4045, 'deflect': 4046, 'flak': 4047, 'ministri': 4048, 'secondfastest': 4049, '131': 4050, 'slowerthanexpect': 4051, 'modest': 4052, 'tradedriven': 4053, 'gross': 4054, 'gdp': 4055, 'drag': 4056, 'lian': 4057, 'chia': 4058, 'liang': 4059, 'jp': 4060, 'chase': 4061, 'weigh': 4062, 'soar': 4063, 'consecut': 4064, 'doubledigit': 4065, 'deadli': 4066, 'sar': 4067, '£11': 4068, '724': 4069, '£4': 4070, '610': 4071, '849': 4072, 'affili': 4073, 'drayson': 4074, 'powderject': 4075, 'smallpox': 4076, 'businessman': 4077, 'philanthropist': 4078, 'ondaatj': 4079, 'refriger': 4080, 'magnat': 4081, 'haughey': 4082, 'obe': 4083, '£330': 4084, 'bequest': 4085, 'beardmor': 4086, '£400': 4087, 'merchant': 4088, 'hambro': 4089, 'magan': 4090, '£325': 4091, '417': 4092, '£161': 4093, '840': 4094, 'bearwood': 4095, 'ashcroft': 4096, 'joseph': 4097, 'rowntre': 4098, 'ltd': 4099, 'mcdonald': 4100, '575': 4101, 'syke': 4102, 'kilroysilk': 4103, '£63': 4104, '081': 4105, '£8': 4106, '170': 4107, '£5': 4108, '£1': 4109, 'offenc': 4110, 'knowingli': 4111, 'recklessli': 4112, 'casualti': 4113, 'amalgam': 4114, 'under18': 4115, 'gnoll': 4116, 'wru': 4117, 'properli': 4118, 'reverend': 4119, 'eldon': 4120, 'phillip': 4121, 'shame': 4122, 'howley': 4123, 'darren': 4124, 'martyn': 4125, 'ceri': 4126, 'sweeney': 4127, '105': 4128, '36page': 4129, 'brendan': 4130, 'barber': 4131, 'greater': 4132, 'frontlin': 4133, 'tech': 4134, 'demon': 4135, 'aspect': 4136, 'grid': 4137, 'yesterday': 4138, 'autosport': 4139, 'sequenti': 4140, 'changer': 4141, 'heath': 4142, 'autocycl': 4143, 'sidecar': 4144, 'hewland': 4145, 'lap': 4146, 'isl': 4147, 'tt': 4148, 'consider': 4149, 'prejud': 4150, 'ablebodi': 4151, 'joke': 4152, 'exhibit': 4153, 'varieti': 4154, 'lincolnshir': 4155, 'parapleg': 4156, 'quadripleg': 4157, 'limb': 4158, 'vauxhal': 4159, 'astra': 4160, 'gsi': 4161, 'automat': 4162, 'manual': 4163, 'duck': 4164, 'formula': 4165, 'modifi': 4166, 'daughter': 4167, 'statur': 4168, 'cushion': 4169, 'seat': 4170, 'column': 4171, 'lever': 4172, 'marathon': 4173, 'trevor': 4174, '£11bn': 4175, 'ga': 4176, 'arbitr': 4177, 'chapter': 4178, 'kremlin': 4179, '27bn': 4180, 'vow': 4181, 'dispos': 4182, '283bn': 4183, 'jurisdict': 4184, 'wrangl': 4185, 'meaningless': 4186, 'letitia': 4187, 'twoday': 4188, 'argument': 4189, 'forum': 4190, 'littleknown': 4191, '93bn': 4192, 'chunk': 4193, 'repeatedli': 4194, 'bail': 4195, 'relish': 4196, 'gruell': 4197, 'glori': 4198, 'vike': 4199, 'stavang': 4200, 'bayer': 4201, 'leverkusen': 4202, 'anfield': 4203, 'contend': 4204, 'fervent': 4205, 'midway': 4206, 'disadvantag': 4207, 'preseason': 4208, 'plenti': 4209, 'jade': 4210, 'importantli': 4211, 'vari': 4212, 'lineup': 4213, 'undergo': 4214, 'magg': 4215, 'obviou': 4216, 'squad': 4217, 'precautionari': 4218, 'leami': 4219, 'murphi': 4220, 'tbc': 4221, 'stringer': 4222, 'corrigan': 4223, 'hay': 4224, 'foley': 4225, 'sheahan': 4226, 'horan': 4227, 'callaghan': 4228, 'miller': 4229, 'dempsey': 4230, 'platon': 4231, 'fertilis': 4232, 'absurd': 4233, 'contradict': 4234, 'embarrass': 4235, 'menatep': 4236, 'testimoni': 4237, 'fiction': 4238, 'motiv': 4239, 'vladimir': 4240, 'putin': 4241, 'rein': 4242, 'superrich': 4243, 'oligarch': 4244, '275bn': 4245, '£13bn': 4246, 'texa': 4247, '285m': 4248, 'funnel': 4249, '2m': 4250, 'reelect': 4251, 'mathieu': 4252, 'wrongdo': 4253, 'californiabas': 4254, 'falsifi': 4255, 'antibriberi': 4256, '13m': 4257, '155m': 4258, '21m': 4259, 'unnam': 4260, 'agent': 4261, 'slogan': 4262, 'shortli': 4263, 'quadrupl': 4264, 'lam': 4265, 'toler': 4266, 'claudio': 4267, 'primera': 4268, 'liga': 4269, 'elimin': 4270, 'bautista': 4271, 'antonio': 4272, 'mourinho': 4273, 'winless': 4274, 'streak': 4275, 'santand': 4276, 'steaua': 4277, 'bucharest': 4278, 'qualifi': 4279, '54yearold': 4280, 'atletico': 4281, 'ceasefir': 4282, 'peac': 4283, 'islamabad': 4284, 'srinagar': 4285, 'muzaffarabad': 4286, 'decad': 4287, 'warmli': 4288, 'applaud': 4289, 'sikhism': 4290, 'holiest': 4291, 'shrine': 4292, 'templ': 4293, 'bread': 4294, 'roti': 4295, 'pakistani': 4296, 'lahor': 4297, 'rail': 4298, 'rajasthan': 4299, 'sindh': 4300, 'reopen': 4301, 'consul': 4302, 'karachi': 4303, 'mumbai': 4304, 'bombay': 4305, 'mountain': 4306, 'flashpoint': 4307, 'subsidiari': 4308, '£37bn': 4309, 'rupert': 4310, 'robot': 4311, '190': 4312, 'nullifi': 4313, 'retain': 4314, 'domicil': 4315, 'delawar': 4316, '1765': 4317, '3122': 4318, 'hollywood': 4319, 'bacon': 4320, 'paedophil': 4321, 'woodsman': 4322, 'satyajit': 4323, 'lowbudget': 4324, 'nicol': 4325, 'kassel': 4326, 'molest': 4327, 'contenti': 4328, 'insight': 4329, 'cri': 4330, 'murder': 4331, 'transsexu': 4332, 'brandon': 4333, 'teena': 4334, 'writerdirector': 4335, 'amma': 4336, 'asant': 4337, 'mother': 4338, 'embroil': 4339, 'standoff': 4340, 'turkish': 4341, 'neighbour': 4342, 'fipresci': 4343, 'aaltra': 4344, 'belgian': 4345, 'handicap': 4346, 'sutherland': 4347, 'caouett': 4348, 'tarnat': 4349, 'jude': 4350, 'dustin': 4351, 'hoffman': 4352, 'pixar': 4353, 'bullet': 4354, 'asher': 4355, 'mortal': 4356, 'fivepoint': 4357, 'jointli': 4358, '£053bn': 4359, 'bind': 4360, 'collater': 4361, '£4bn': 4362, '74bn': 4363, '2015': 4364, 'thereaft': 4365, 'barrier': 4366, 'hilari': 4367, 'compassion': 4368, 'rhetor': 4369, 'disguis': 4370, 'neoliber': 4371, 'deeper': 4372, 'defi': 4373, 'obey': 4374, 'builder': 4375, 'largescal': 4376, 'underground': 4377, 'assess': 4378, 'compli': 4379, 'shutdown': 4380, 'yuan': 4381, '£12': 4382, 'chronic': 4383, 'factori': 4384, 'parttim': 4385, '440': 4386, 'megawatt': 4387, 'jinshajiang': 4388, 'river': 4389, 'yangtz': 4390, 'downstream': 4391, 'reloc': 4392, 'blend': 4393, 'outspoken': 4394, 'charismat': 4395, 'kean': 4396, 'ars': 4397, 'breath': 4398, 'afterlif': 4399, 'serpent': 4400, 'sea': 4401, 'scare': 4402, 'pirat': 4403, 'songwriterguitarist': 4404, 'sergio': 4405, 'bassist': 4406, 'edward': 4407, 'trio': 4408, 'enlist': 4409, 'karloff': 4410, 'sideburn': 4411, 'hey': 4412, 'britpop': 4413, 'genr': 4414, 'fuse': 4415, 'hip': 4416, 'hop': 4417, 'guitar': 4418, 'linda': 4419, 'getaway': 4420, 'killer': 4421, 'manson': 4422, 'coincident': 4423, 'armenian': 4424, 'butcher': 4425, 'remot': 4426, 'farmhous': 4427, 'isol': 4428, 'sneak': 4429, 'rca': 4430, 'lsf': 4431, 'glastonburi': 4432, 'guerilla': 4433, 'unusu': 4434, 'orang': 4435, 'acclaim': 4436, 'comparison': 4437, 'stone': 4438, 'primal': 4439, 'scream': 4440, 'fieri': 4441, 'assert': 4442, 'ethic': 4443, 'sieg': 4444, 'badland': 4445, 'nme': 4446, 'typic': 4447, 'recept': 4448, 'cutt': 4449, 'embark': 4450, 'upon': 4451, 'wellreceiv': 4452, 'mervyn': 4453, 'softer': 4454, 'patch': 4455, 'rapid': 4456, 'bridgewel': 4457, 'suffici': 4458, 'wood': 4459, 'daniela': 4460, 'michaella': 4461, 'krajicek': 4462, 'slovak': 4463, 'dutchman': 4464, 'hrbati': 4465, 'meghann': 4466, 'philippoussi': 4467, 'okay': 4468, 'ole': 4469, 'gunnar': 4470, 'careerthreaten': 4471, '31yearold': 4472, 'transplant': 4473, 'cartilag': 4474, 'aftenposten': 4475, 'slavishli': 4476, 'substitut': 4477, 'invad': 4478, 'wholli': 4479, 'unfound': 4480, 'stormi': 4481, 'eve': 4482, 'invas': 4483, 'pivot': 4484, 'willing': 4485, 'mackay': 4486, 'skidelski': 4487, 'exactli': 4488, 'notori': 4489, 'dossier': 4490, 'weapon': 4491, 'destruct': 4492, 'finalis': 4493, 'solicitor': 4494, 'harriet': 4495, 'harman': 4496, 'greenwood': 4497, 'irvin': 4498, 'lairg': 4499, 'council': 4500, 'robin': 4501, 'cook': 4502, 'misl': 4503, 'fair': 4504, 'butler': 4505, 'convent': 4506, 'philipp': 4507, 'cheri': 4508, 'matrix': 4509, 'sanction': 4510, 'swept': 4511, 'sensat': 4512, 'giteau': 4513, 'jake': 4514, 'teammat': 4515, 'ben': 4516, 'goll': 4517, 'lucio': 4518, 'fleme': 4519, 'tribut': 4520, 'jonti': 4521, 'rhode': 4522, 'cricket': 4523, 'lament': 4524, 'iren': 4525, 'flout': 4526, 'guantanamo': 4527, 'bay': 4528, 'cuba': 4529, 'ageold': 4530, 'infecti': 4531, 'faith': 4532, 'secretarygener': 4533, 'gap': 4534, 'perceiv': 4535, 'fuell': 4536, 'passiv': 4537, 'mobilis': 4538, 'complex': 4539, 'relev': 4540, 'drip': 4541, 'alqaeda': 4542, 'letter': 4543, 'social': 4544, 'strife': 4545, 'elitist': 4546, 'hopemong': 4547, 'hardcourt': 4548, 'crush': 4549, 'ignacio': 4550, 'chela': 4551, 'swede': 4552, 'joachim': 4553, 'belgium': 4554, 'olivi': 4555, 'boyfriend': 4556, 'lleyton': 4557, 'hewitt': 4558, 'concentr': 4559, 'ruffl': 4560, '133': 4561, '4212': 4562, '4230': 4563, 'deliveri': 4564, '3920': 4565, 'achil': 4566, 'abn': 4567, 'amro': 4568, 'bradi': 4569, 'northeast': 4570, 'blast': 4571, 'yearago': 4572, 'milit': 4573, 'riyadh': 4574, 'saudi': 4575, 'arabia': 4576, 'briefli': 4577, 'panick': 4578, 'evapor': 4579, 'followup': 4580, 'deborah': 4581, 'sg': 4582, 'eclips': 4583, 'harangu': 4584, 'bellyup': 4585, 'nflstyle': 4586, 'slap': 4587, 'vocifer': 4588, 'perpetr': 4589, 'knuckl': 4590, 'scenario': 4591, 'verbal': 4592, 'slang': 4593, 'lansdown': 4594, '1948': 4595, 'muchimprov': 4596, 'enrag': 4597, 'rub': 4598, '1913': 4599, 'endear': 4600, 'blazer': 4601, 'villain': 4602, 'recours': 4603, 'mcdowel': 4604, 'heavili': 4605, 'queri': 4606, 'halfeffort': 4607, 'ravenhil': 4608, 'wipe': 4609, 'conceiv': 4610, 'angl': 4611, 'anomali': 4612, 'upstair': 4613, 'cleverli': 4614, 'touchdown': 4615, 'danni': 4616, 'grewcock': 4617, 'corri': 4618, 'stroll': 4619, 'standout': 4620, 'foe': 4621, 'wellconceiv': 4622, 'compon': 4623, 'cosh': 4624, 'outstand': 4625, 'righthand': 4626, 'gobbl': 4627, 'feet': 4628, 'secondrow': 4629, 'colossu': 4630, 'superb': 4631, 'cordon': 4632, 'disintegr': 4633, 'steam': 4634, 'suck': 4635, 'tackler': 4636, 'unfortun': 4637, 'wrestl': 4638, 'spoke': 4639, 'volum': 4640, 'backfoot': 4641, 'mike': 4642, 'ford': 4643, 'teeter': 4644, 'revis': 4645, '01': 4646, 'similars': 4647, 'hesit': 4648, 'neg': 4649, 'implic': 4650, 'phase': 4651, 'upward': 4652, 'heizo': 4653, 'takenaka': 4654, 'sanguin': 4655, 'pictur': 4656, 'patchier': 4657, 'sheard': 4658, 'lehman': 4659, 'shrewd': 4660, 'promin': 4661, 'behindthescen': 4662, 'nearfat': 4663, 'transatlant': 4664, 'rap': 4665, 'rhyme': 4666, '1980': 4667, 'dmc': 4668, 'reviv': 4669, 'updat': 4670, 'trademark': 4671, 'bless': 4672, 'mase': 4673, 'madd': 4674, 'superstar': 4675, 'rocafella': 4676, 'roster': 4677, 'mainstream': 4678, 'recognit': 4679, 'izzo': 4680, 'hova': 4681, 'blueprint': 4682, 'door': 4683, 'jackson': 4684, '03': 4685, 'bonni': 4686, 'clyde': 4687, 'ludacri': 4688, 'latenight': 4689, 'fractur': 4690, 'anytim': 4691, 'inch': 4692, 'chaka': 4693, 'humor': 4694, 'sharp': 4695, 'clich233d': 4696, 'preoccup': 4697, 'gun': 4698, 'girl': 4699, 'jewelleri': 4700, 'quickli': 4701, 'jamz': 4702, 'twista': 4703, 'foxx': 4704, 'mobo': 4705, 'influenti': 4706}\n"
     ]
    }
   ],
   "source": [
    "word_diction = tokenize.word_index\n",
    "print(word_diction)"
   ]
  },
  {
   "cell_type": "code",
   "execution_count": 40,
   "metadata": {},
   "outputs": [
    {
     "name": "stdout",
     "output_type": "stream",
     "text": [
      "[[145, 364, 262, 910, 107, 1760, 365, 2510, 1111, 145, 773, 558, 108, 46, 83, 1358, 45, 6, 296, 145, 1761, 323, 146, 4, 16, 324, 2511, 911, 1359, 412, 655, 413, 43, 912, 2512, 366, 9, 68, 1112, 10, 2513, 2514, 8, 297, 1762, 123, 913, 1113, 910, 774, 107, 124, 1360, 1361, 1362, 12, 221, 56, 298, 483, 1358, 1763, 775, 10, 2515, 68, 1764, 773, 414, 558, 108, 1114, 2516, 2517, 914, 35, 8, 1363, 52, 1364, 365, 178, 6, 108, 2518, 30, 1765, 325, 1766, 145, 123, 22, 1365, 68, 178, 117, 2519, 145, 7, 2520, 1111, 145, 94, 484, 157, 210, 8, 1366, 39, 247, 915, 1111, 776, 6, 325, 1766, 1367, 7, 1767, 1768, 124, 656, 777, 57, 1115, 2521, 778, 8, 124, 1360, 1361, 12, 1116, 222, 299, 779, 916, 65, 485, 2522, 910, 1769, 656, 486, 8, 297, 68, 367, 7, 326, 223, 247, 1770, 263, 2523, 56, 35, 1364, 368, 264, 136, 1771, 38, 4, 16, 52, 2524, 2525, 53, 917, 2526, 28, 53, 79, 657, 35, 53, 179, 327, 779, 916, 780, 918, 179, 367, 1117, 52, 917, 485, 1769, 224, 781, 300, 913, 485, 415, 124, 485, 2, 559, 1368, 485, 782, 24, 2527, 2528, 1118, 221, 560, 1119, 158, 913, 72, 416, 417, 1369, 123, 117, 1370, 222, 2, 2529, 2530, 328, 1772, 369, 145, 919, 145, 47, 45, 6, 248, 913, 22, 296, 2531, 145, 910, 222, 124, 8, 299, 656, 13, 39, 2532, 1120, 561, 1371, 1773, 364, 1121, 777, 58, 6, 248, 22, 296, 658, 656, 1774, 1122, 29, 920, 2533, 59, 17, 39, 225, 1775, 30, 1122, 1372, 781, 911, 921, 1373, 59, 2534, 1776, 777, 656, 485, 137, 36, 922, 22, 117, 1370, 57, 262, 3, 1368, 159, 73, 923, 2535, 924, 2536, 109, 562, 563, 925, 2, 3, 1368, 1374, 655, 329, 31, 22, 487, 41, 9, 1775, 68, 2537, 1764, 110, 1375, 2538, 926, 1111, 145, 94, 2539, 110, 9, 1774, 1777, 1778, 1376, 564, 145, 418, 1114, 927, 659, 1121, 2540, 914, 10, 783, 418, 43, 2541, 2542, 1777, 145, 2543, 1363, 1114, 2544, 108, 10, 8, 419, 1361, 145, 12, 2545, 226, 418, 485, 1114, 43, 2546, 108, 927, 2547, 1779, 1371, 2548, 94, 1765, 2549, 145, 1123, 1780, 301, 330, 420, 1377, 125, 2550, 2551, 928, 2552, 1363, 23, 2553, 222, 6, 30, 108, 123, 1124, 1781, 211, 775, 1782, 111, 1762, 784, 2554, 6, 296, 22, 22], [565, 421, 265, 561, 1783, 95, 565, 421, 2555, 660, 785, 1125, 1784, 2556, 661, 566, 74, 370, 192, 1785, 28, 2557, 331, 786, 74, 422, 423, 488, 929, 489, 3, 660, 424, 565, 112, 138, 12, 787, 371, 1378, 96, 372, 2558, 1379, 24, 48, 3, 786, 109, 930, 662, 661, 931, 1378, 332, 488, 929, 1786, 1787, 84, 2559, 1788, 932, 1380, 1381, 147, 3, 786, 490, 1382, 3, 660, 18, 370, 192, 1383, 3, 786, 1126, 490, 137, 3, 660, 18, 370, 1384, 565, 561, 3, 1787, 918, 1126, 1785, 3, 786, 425, 426, 1385, 370, 1384, 1789, 95, 565, 330, 227, 160, 1127, 1790, 488, 929, 84, 1791, 3, 1790, 425, 661, 2560, 663, 491, 2561, 302, 565, 370, 85, 373, 3, 660, 249, 664, 97, 1386, 2562, 421, 1792, 2563, 2564, 665, 2565, 933, 3, 660, 1128, 565, 1387, 1388, 2566, 1362, 492, 788, 1793, 493, 1794, 565, 112, 2567, 161, 374, 111, 1362, 1389, 427, 24, 139, 787, 789, 327, 2568, 567, 41, 666, 327, 162, 3, 660, 491, 193, 14, 32, 38, 934, 662, 95, 2569, 98, 1795, 1390, 1796, 2570, 1129, 2571]]\n"
     ]
    }
   ],
   "source": [
    "# creating a documental text to sequence\n",
    "sequence = tokenize.texts_to_sequences(mini_data)\n",
    "print(sequence[:2])"
   ]
  },
  {
   "cell_type": "code",
   "execution_count": 42,
   "metadata": {},
   "outputs": [
    {
     "name": "stdout",
     "output_type": "stream",
     "text": [
      "(100, 668)\n"
     ]
    }
   ],
   "source": [
    "# word padding is essential for doc with unqual lenth\n",
    "pad_text = pad_sequences(sequence)\n",
    "training_pad = pad_text\n",
    "print(pad_text.shape)"
   ]
  },
  {
   "cell_type": "code",
   "execution_count": null,
   "metadata": {},
   "outputs": [],
   "source": []
  },
  {
   "cell_type": "code",
   "execution_count": null,
   "metadata": {},
   "outputs": [],
   "source": []
  }
 ],
 "metadata": {
  "kernelspec": {
   "display_name": "Python 3 (ipykernel)",
   "language": "python",
   "name": "python3"
  },
  "language_info": {
   "codemirror_mode": {
    "name": "ipython",
    "version": 3
   },
   "file_extension": ".py",
   "mimetype": "text/x-python",
   "name": "python",
   "nbconvert_exporter": "python",
   "pygments_lexer": "ipython3",
   "version": "3.9.0"
  }
 },
 "nbformat": 4,
 "nbformat_minor": 2
}
