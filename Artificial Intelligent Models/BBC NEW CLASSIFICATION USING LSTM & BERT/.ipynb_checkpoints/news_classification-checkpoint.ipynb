{
 "cells": [
  {
   "cell_type": "code",
   "execution_count": 2,
   "id": "dd321c98",
   "metadata": {},
   "outputs": [
    {
     "data": {
      "text/html": [
       "<div>\n",
       "<style scoped>\n",
       "    .dataframe tbody tr th:only-of-type {\n",
       "        vertical-align: middle;\n",
       "    }\n",
       "\n",
       "    .dataframe tbody tr th {\n",
       "        vertical-align: top;\n",
       "    }\n",
       "\n",
       "    .dataframe thead th {\n",
       "        text-align: right;\n",
       "    }\n",
       "</style>\n",
       "<table border=\"1\" class=\"dataframe\">\n",
       "  <thead>\n",
       "    <tr style=\"text-align: right;\">\n",
       "      <th></th>\n",
       "      <th>headline</th>\n",
       "      <th>category</th>\n",
       "      <th>authors</th>\n",
       "      <th>short_description</th>\n",
       "    </tr>\n",
       "  </thead>\n",
       "  <tbody>\n",
       "    <tr>\n",
       "      <th>0</th>\n",
       "      <td>There Were 2 Mass Shootings In Texas Last Wee...</td>\n",
       "      <td>CRIME</td>\n",
       "      <td>Melissa Jeltsen</td>\n",
       "      <td>She left her husband. He killed their childre...</td>\n",
       "    </tr>\n",
       "    <tr>\n",
       "      <th>1</th>\n",
       "      <td>Will Smith Joins Diplo And Nicky Jam For The ...</td>\n",
       "      <td>ENTERTAINMENT</td>\n",
       "      <td>Andy McDonald</td>\n",
       "      <td>Of course it has a song.</td>\n",
       "    </tr>\n",
       "    <tr>\n",
       "      <th>2</th>\n",
       "      <td>Hugh Grant Marries For The First Time At Age ...</td>\n",
       "      <td>ENTERTAINMENT</td>\n",
       "      <td>Ron Dicker</td>\n",
       "      <td>The actor and his longtime girlfriend Anna Eb...</td>\n",
       "    </tr>\n",
       "    <tr>\n",
       "      <th>3</th>\n",
       "      <td>Jim Carrey Blasts 'Castrato' Adam Schiff And ...</td>\n",
       "      <td>ENTERTAINMENT</td>\n",
       "      <td>Ron Dicker</td>\n",
       "      <td>The actor gives Dems an ass-kicking for not f...</td>\n",
       "    </tr>\n",
       "    <tr>\n",
       "      <th>4</th>\n",
       "      <td>Julianna Margulies Uses Donald Trump Poop Bag...</td>\n",
       "      <td>ENTERTAINMENT</td>\n",
       "      <td>Ron Dicker</td>\n",
       "      <td>The Dietland actress said using the bags is a...</td>\n",
       "    </tr>\n",
       "  </tbody>\n",
       "</table>\n",
       "</div>"
      ],
      "text/plain": [
       "                                            headline          category  \\\n",
       "0   There Were 2 Mass Shootings In Texas Last Wee...           CRIME     \n",
       "1   Will Smith Joins Diplo And Nicky Jam For The ...   ENTERTAINMENT     \n",
       "2   Hugh Grant Marries For The First Time At Age ...   ENTERTAINMENT     \n",
       "3   Jim Carrey Blasts 'Castrato' Adam Schiff And ...   ENTERTAINMENT     \n",
       "4   Julianna Margulies Uses Donald Trump Poop Bag...   ENTERTAINMENT     \n",
       "\n",
       "              authors                                  short_description  \n",
       "0   Melissa Jeltsen     She left her husband. He killed their childre...  \n",
       "1     Andy McDonald                            Of course it has a song.   \n",
       "2        Ron Dicker     The actor and his longtime girlfriend Anna Eb...  \n",
       "3        Ron Dicker     The actor gives Dems an ass-kicking for not f...  \n",
       "4        Ron Dicker     The Dietland actress said using the bags is a...  "
      ]
     },
     "execution_count": 2,
     "metadata": {},
     "output_type": "execute_result"
    }
   ],
   "source": [
    "import  pandas as pd\n",
    "\n",
    "data = pd.read_csv('News.csv')\n",
    "data.head()"
   ]
  },
  {
   "cell_type": "code",
   "execution_count": 3,
   "id": "4b9179a8",
   "metadata": {
    "scrolled": true
   },
   "outputs": [
    {
     "data": {
      "text/html": [
       "<div>\n",
       "<style scoped>\n",
       "    .dataframe tbody tr th:only-of-type {\n",
       "        vertical-align: middle;\n",
       "    }\n",
       "\n",
       "    .dataframe tbody tr th {\n",
       "        vertical-align: top;\n",
       "    }\n",
       "\n",
       "    .dataframe thead th {\n",
       "        text-align: right;\n",
       "    }\n",
       "</style>\n",
       "<table border=\"1\" class=\"dataframe\">\n",
       "  <thead>\n",
       "    <tr style=\"text-align: right;\">\n",
       "      <th></th>\n",
       "      <th>headline</th>\n",
       "      <th>category</th>\n",
       "    </tr>\n",
       "  </thead>\n",
       "  <tbody>\n",
       "    <tr>\n",
       "      <th>0</th>\n",
       "      <td>There Were 2 Mass Shootings In Texas Last Wee...</td>\n",
       "      <td>CRIME</td>\n",
       "    </tr>\n",
       "    <tr>\n",
       "      <th>1</th>\n",
       "      <td>Will Smith Joins Diplo And Nicky Jam For The ...</td>\n",
       "      <td>ENTERTAINMENT</td>\n",
       "    </tr>\n",
       "    <tr>\n",
       "      <th>2</th>\n",
       "      <td>Hugh Grant Marries For The First Time At Age ...</td>\n",
       "      <td>ENTERTAINMENT</td>\n",
       "    </tr>\n",
       "    <tr>\n",
       "      <th>3</th>\n",
       "      <td>Jim Carrey Blasts 'Castrato' Adam Schiff And ...</td>\n",
       "      <td>ENTERTAINMENT</td>\n",
       "    </tr>\n",
       "    <tr>\n",
       "      <th>4</th>\n",
       "      <td>Julianna Margulies Uses Donald Trump Poop Bag...</td>\n",
       "      <td>ENTERTAINMENT</td>\n",
       "    </tr>\n",
       "  </tbody>\n",
       "</table>\n",
       "</div>"
      ],
      "text/plain": [
       "                                            headline          category\n",
       "0   There Were 2 Mass Shootings In Texas Last Wee...           CRIME  \n",
       "1   Will Smith Joins Diplo And Nicky Jam For The ...   ENTERTAINMENT  \n",
       "2   Hugh Grant Marries For The First Time At Age ...   ENTERTAINMENT  \n",
       "3   Jim Carrey Blasts 'Castrato' Adam Schiff And ...   ENTERTAINMENT  \n",
       "4   Julianna Margulies Uses Donald Trump Poop Bag...   ENTERTAINMENT  "
      ]
     },
     "execution_count": 3,
     "metadata": {},
     "output_type": "execute_result"
    }
   ],
   "source": [
    "news_data = data[['headline', 'category']]\n",
    "news_data.head()"
   ]
  },
  {
   "cell_type": "code",
   "execution_count": 6,
   "id": "09c2469b",
   "metadata": {},
   "outputs": [
    {
     "data": {
      "text/plain": [
       "' There Were 2 Mass Shootings In Texas Last Week But Only 1 On TV authors'"
      ]
     },
     "execution_count": 6,
     "metadata": {},
     "output_type": "execute_result"
    }
   ],
   "source": [
    "news_data.headline[0]"
   ]
  },
  {
   "cell_type": "code",
   "execution_count": 178,
   "id": "4eac53bb",
   "metadata": {},
   "outputs": [
    {
     "name": "stderr",
     "output_type": "stream",
     "text": [
      "C:\\Users\\binary\\AppData\\Local\\Temp\\ipykernel_13680\\1570062048.py:20: SettingWithCopyWarning: \n",
      "A value is trying to be set on a copy of a slice from a DataFrame.\n",
      "Try using .loc[row_indexer,col_indexer] = value instead\n",
      "\n",
      "See the caveats in the documentation: https://pandas.pydata.org/pandas-docs/stable/user_guide/indexing.html#returning-a-view-versus-a-copy\n",
      "  news_data['clean_h'] = news_data['headline'].apply(lambda x: clean_doc(x))\n"
     ]
    },
    {
     "data": {
      "text/html": [
       "<div>\n",
       "<style scoped>\n",
       "    .dataframe tbody tr th:only-of-type {\n",
       "        vertical-align: middle;\n",
       "    }\n",
       "\n",
       "    .dataframe tbody tr th {\n",
       "        vertical-align: top;\n",
       "    }\n",
       "\n",
       "    .dataframe thead th {\n",
       "        text-align: right;\n",
       "    }\n",
       "</style>\n",
       "<table border=\"1\" class=\"dataframe\">\n",
       "  <thead>\n",
       "    <tr style=\"text-align: right;\">\n",
       "      <th></th>\n",
       "      <th>headline</th>\n",
       "      <th>category</th>\n",
       "      <th>clean_h</th>\n",
       "    </tr>\n",
       "  </thead>\n",
       "  <tbody>\n",
       "    <tr>\n",
       "      <th>0</th>\n",
       "      <td>There Were 2 Mass Shootings In Texas Last Wee...</td>\n",
       "      <td>CRIME</td>\n",
       "      <td>2 mass shoot texa last week onli 1 tv author</td>\n",
       "    </tr>\n",
       "    <tr>\n",
       "      <th>1</th>\n",
       "      <td>Will Smith Joins Diplo And Nicky Jam For The ...</td>\n",
       "      <td>ENTERTAINMENT</td>\n",
       "      <td>smith join diplo nicki jam 2018 world cup 's o...</td>\n",
       "    </tr>\n",
       "    <tr>\n",
       "      <th>2</th>\n",
       "      <td>Hugh Grant Marries For The First Time At Age ...</td>\n",
       "      <td>ENTERTAINMENT</td>\n",
       "      <td>hugh grant marri first time age 57 author</td>\n",
       "    </tr>\n",
       "    <tr>\n",
       "      <th>3</th>\n",
       "      <td>Jim Carrey Blasts 'Castrato' Adam Schiff And ...</td>\n",
       "      <td>ENTERTAINMENT</td>\n",
       "      <td>jim carrey blast 'castrato adam schiff democra...</td>\n",
       "    </tr>\n",
       "    <tr>\n",
       "      <th>4</th>\n",
       "      <td>Julianna Margulies Uses Donald Trump Poop Bag...</td>\n",
       "      <td>ENTERTAINMENT</td>\n",
       "      <td>julianna marguli use donald trump poop bag pic...</td>\n",
       "    </tr>\n",
       "  </tbody>\n",
       "</table>\n",
       "</div>"
      ],
      "text/plain": [
       "                                            headline          category  \\\n",
       "0   There Were 2 Mass Shootings In Texas Last Wee...           CRIME     \n",
       "1   Will Smith Joins Diplo And Nicky Jam For The ...   ENTERTAINMENT     \n",
       "2   Hugh Grant Marries For The First Time At Age ...   ENTERTAINMENT     \n",
       "3   Jim Carrey Blasts 'Castrato' Adam Schiff And ...   ENTERTAINMENT     \n",
       "4   Julianna Margulies Uses Donald Trump Poop Bag...   ENTERTAINMENT     \n",
       "\n",
       "                                             clean_h  \n",
       "0       2 mass shoot texa last week onli 1 tv author  \n",
       "1  smith join diplo nicki jam 2018 world cup 's o...  \n",
       "2          hugh grant marri first time age 57 author  \n",
       "3  jim carrey blast 'castrato adam schiff democra...  \n",
       "4  julianna marguli use donald trump poop bag pic...  "
      ]
     },
     "execution_count": 178,
     "metadata": {},
     "output_type": "execute_result"
    }
   ],
   "source": [
    "# from nltk.tokenize import word_tokenizer\n",
    "from nltk.tokenize import word_tokenize\n",
    "from nltk.corpus import stopwords\n",
    "import string\n",
    "from nltk.stem import PorterStemmer\n",
    "\n",
    "st = stopwords.words('english')\n",
    "stemmer = PorterStemmer()\n",
    "import re\n",
    "def clean_doc(doc):\n",
    "\n",
    "    doc = ''.join([d.replace('\\n', ' ') for d in doc])\n",
    "    token = word_tokenize(doc)\n",
    "    doc = [stemmer.stem(d) for d in token if not d in string.punctuation] \n",
    "    doc = [d for d in doc if not d in st]\n",
    "    \n",
    "    \n",
    "    return doc\n",
    "\n",
    "news_data['clean_h'] = news_data['headline'].apply(lambda x: clean_doc(x))\n",
    "news_data.head()"
   ]
  },
  {
   "cell_type": "code",
   "execution_count": 179,
   "id": "804e2501",
   "metadata": {},
   "outputs": [
    {
     "data": {
      "text/html": [
       "<div>\n",
       "<style scoped>\n",
       "    .dataframe tbody tr th:only-of-type {\n",
       "        vertical-align: middle;\n",
       "    }\n",
       "\n",
       "    .dataframe tbody tr th {\n",
       "        vertical-align: top;\n",
       "    }\n",
       "\n",
       "    .dataframe thead th {\n",
       "        text-align: right;\n",
       "    }\n",
       "</style>\n",
       "<table border=\"1\" class=\"dataframe\">\n",
       "  <thead>\n",
       "    <tr style=\"text-align: right;\">\n",
       "      <th></th>\n",
       "      <th>headline</th>\n",
       "      <th>category</th>\n",
       "      <th>clean_h</th>\n",
       "    </tr>\n",
       "  </thead>\n",
       "  <tbody>\n",
       "    <tr>\n",
       "      <th>0</th>\n",
       "      <td>There Were 2 Mass Shootings In Texas Last Wee...</td>\n",
       "      <td>CRIME</td>\n",
       "      <td>2 mass shoot texa last week onli 1 tv author</td>\n",
       "    </tr>\n",
       "    <tr>\n",
       "      <th>1</th>\n",
       "      <td>Will Smith Joins Diplo And Nicky Jam For The ...</td>\n",
       "      <td>ENTERTAINMENT</td>\n",
       "      <td>smith join diplo nicki jam 2018 world cup 's o...</td>\n",
       "    </tr>\n",
       "    <tr>\n",
       "      <th>2</th>\n",
       "      <td>Hugh Grant Marries For The First Time At Age ...</td>\n",
       "      <td>ENTERTAINMENT</td>\n",
       "      <td>hugh grant marri first time age 57 author</td>\n",
       "    </tr>\n",
       "    <tr>\n",
       "      <th>3</th>\n",
       "      <td>Jim Carrey Blasts 'Castrato' Adam Schiff And ...</td>\n",
       "      <td>ENTERTAINMENT</td>\n",
       "      <td>jim carrey blast 'castrato adam schiff democra...</td>\n",
       "    </tr>\n",
       "    <tr>\n",
       "      <th>4</th>\n",
       "      <td>Julianna Margulies Uses Donald Trump Poop Bag...</td>\n",
       "      <td>ENTERTAINMENT</td>\n",
       "      <td>julianna marguli use donald trump poop bag pic...</td>\n",
       "    </tr>\n",
       "  </tbody>\n",
       "</table>\n",
       "</div>"
      ],
      "text/plain": [
       "                                            headline          category  \\\n",
       "0   There Were 2 Mass Shootings In Texas Last Wee...           CRIME     \n",
       "1   Will Smith Joins Diplo And Nicky Jam For The ...   ENTERTAINMENT     \n",
       "2   Hugh Grant Marries For The First Time At Age ...   ENTERTAINMENT     \n",
       "3   Jim Carrey Blasts 'Castrato' Adam Schiff And ...   ENTERTAINMENT     \n",
       "4   Julianna Margulies Uses Donald Trump Poop Bag...   ENTERTAINMENT     \n",
       "\n",
       "                                             clean_h  \n",
       "0       2 mass shoot texa last week onli 1 tv author  \n",
       "1  smith join diplo nicki jam 2018 world cup 's o...  \n",
       "2          hugh grant marri first time age 57 author  \n",
       "3  jim carrey blast 'castrato adam schiff democra...  \n",
       "4  julianna marguli use donald trump poop bag pic...  "
      ]
     },
     "execution_count": 179,
     "metadata": {},
     "output_type": "execute_result"
    }
   ],
   "source": [
    "# test_data = news_data.sample(10)\n",
    "\n",
    "news_data.head()"
   ]
  },
  {
   "cell_type": "code",
   "execution_count": 180,
   "id": "cfa05e99",
   "metadata": {},
   "outputs": [],
   "source": [
    "import gensim\n",
    "\n",
    "model = gensim.models.Word2Vec(\n",
    "    window=2,\n",
    "    min_count=2,\n",
    "    workers = 5 \n",
    ")"
   ]
  },
  {
   "cell_type": "code",
   "execution_count": 181,
   "id": "0741b832",
   "metadata": {},
   "outputs": [
    {
     "data": {
      "text/plain": [
       "(8165411, 43148880)"
      ]
     },
     "execution_count": 181,
     "metadata": {},
     "output_type": "execute_result"
    }
   ],
   "source": [
    "model.build_vocab(news_data['clean_h'], progress_per = 1000)\n",
    "model.train(news_data['clean_h'], total_examples=model.corpus_count, epochs=model.epochs)"
   ]
  },
  {
   "cell_type": "code",
   "execution_count": 182,
   "id": "d6aeb131",
   "metadata": {},
   "outputs": [],
   "source": [
    "from gensim.models import Word2Vec\n",
    "# model.save('news-w2vec')\n",
    "w2vec = Word2Vec.load(\"news-w2vec\")"
   ]
  },
  {
   "cell_type": "code",
   "execution_count": 183,
   "id": "16a0888d",
   "metadata": {},
   "outputs": [
    {
     "data": {
      "text/plain": [
       "[' ',\n",
       " 'a',\n",
       " 'r',\n",
       " 'e',\n",
       " 't',\n",
       " 'o',\n",
       " 'i',\n",
       " 'n',\n",
       " 'h',\n",
       " 'u',\n",
       " 's',\n",
       " 'l',\n",
       " 'c',\n",
       " 'd',\n",
       " 'm',\n",
       " 'p',\n",
       " 'g',\n",
       " 'b',\n",
       " 'w',\n",
       " 'f',\n",
       " 'k',\n",
       " 'v',\n",
       " 'y',\n",
       " \"'\",\n",
       " '-',\n",
       " '0',\n",
       " '1',\n",
       " 'j',\n",
       " 'x',\n",
       " '2',\n",
       " '.',\n",
       " 'z',\n",
       " '\\\\',\n",
       " '9',\n",
       " 'q',\n",
       " '5',\n",
       " '3',\n",
       " '4',\n",
       " '8',\n",
       " '6',\n",
       " '7',\n",
       " '/',\n",
       " '+',\n",
       " '_',\n",
       " '`',\n",
       " '|',\n",
       " '~']"
      ]
     },
     "execution_count": 183,
     "metadata": {},
     "output_type": "execute_result"
    }
   ],
   "source": [
    "w2vec.wv.index_to_key"
   ]
  },
  {
   "cell_type": "code",
   "execution_count": 166,
   "id": "5c10613d",
   "metadata": {},
   "outputs": [
    {
     "ename": "KeyError",
     "evalue": "\"Key 'game' not present\"",
     "output_type": "error",
     "traceback": [
      "\u001b[1;31m---------------------------------------------------------------------------\u001b[0m",
      "\u001b[1;31mKeyError\u001b[0m                                  Traceback (most recent call last)",
      "Input \u001b[1;32mIn [166]\u001b[0m, in \u001b[0;36m<cell line: 1>\u001b[1;34m()\u001b[0m\n\u001b[1;32m----> 1\u001b[0m \u001b[43mw2vec\u001b[49m\u001b[38;5;241;43m.\u001b[39;49m\u001b[43mwv\u001b[49m\u001b[38;5;241;43m.\u001b[39;49m\u001b[43mmost_similar\u001b[49m\u001b[43m(\u001b[49m\u001b[38;5;124;43m'\u001b[39;49m\u001b[38;5;124;43mgame\u001b[39;49m\u001b[38;5;124;43m'\u001b[39;49m\u001b[43m)\u001b[49m\n",
      "File \u001b[1;32mc:\\users\\binary\\appdata\\local\\programs\\python\\python39\\lib\\site-packages\\gensim\\models\\keyedvectors.py:773\u001b[0m, in \u001b[0;36mKeyedVectors.most_similar\u001b[1;34m(self, positive, negative, topn, clip_start, clip_end, restrict_vocab, indexer)\u001b[0m\n\u001b[0;32m    771\u001b[0m     mean\u001b[38;5;241m.\u001b[39mappend(weight \u001b[38;5;241m*\u001b[39m key)\n\u001b[0;32m    772\u001b[0m \u001b[38;5;28;01melse\u001b[39;00m:\n\u001b[1;32m--> 773\u001b[0m     mean\u001b[38;5;241m.\u001b[39mappend(weight \u001b[38;5;241m*\u001b[39m \u001b[38;5;28;43mself\u001b[39;49m\u001b[38;5;241;43m.\u001b[39;49m\u001b[43mget_vector\u001b[49m\u001b[43m(\u001b[49m\u001b[43mkey\u001b[49m\u001b[43m,\u001b[49m\u001b[43m \u001b[49m\u001b[43mnorm\u001b[49m\u001b[38;5;241;43m=\u001b[39;49m\u001b[38;5;28;43;01mTrue\u001b[39;49;00m\u001b[43m)\u001b[49m)\n\u001b[0;32m    774\u001b[0m     \u001b[38;5;28;01mif\u001b[39;00m \u001b[38;5;28mself\u001b[39m\u001b[38;5;241m.\u001b[39mhas_index_for(key):\n\u001b[0;32m    775\u001b[0m         all_keys\u001b[38;5;241m.\u001b[39madd(\u001b[38;5;28mself\u001b[39m\u001b[38;5;241m.\u001b[39mget_index(key))\n",
      "File \u001b[1;32mc:\\users\\binary\\appdata\\local\\programs\\python\\python39\\lib\\site-packages\\gensim\\models\\keyedvectors.py:438\u001b[0m, in \u001b[0;36mKeyedVectors.get_vector\u001b[1;34m(self, key, norm)\u001b[0m\n\u001b[0;32m    414\u001b[0m \u001b[38;5;28;01mdef\u001b[39;00m \u001b[38;5;21mget_vector\u001b[39m(\u001b[38;5;28mself\u001b[39m, key, norm\u001b[38;5;241m=\u001b[39m\u001b[38;5;28;01mFalse\u001b[39;00m):\n\u001b[0;32m    415\u001b[0m     \u001b[38;5;124;03m\"\"\"Get the key's vector, as a 1D numpy array.\u001b[39;00m\n\u001b[0;32m    416\u001b[0m \n\u001b[0;32m    417\u001b[0m \u001b[38;5;124;03m    Parameters\u001b[39;00m\n\u001b[1;32m   (...)\u001b[0m\n\u001b[0;32m    436\u001b[0m \n\u001b[0;32m    437\u001b[0m \u001b[38;5;124;03m    \"\"\"\u001b[39;00m\n\u001b[1;32m--> 438\u001b[0m     index \u001b[38;5;241m=\u001b[39m \u001b[38;5;28;43mself\u001b[39;49m\u001b[38;5;241;43m.\u001b[39;49m\u001b[43mget_index\u001b[49m\u001b[43m(\u001b[49m\u001b[43mkey\u001b[49m\u001b[43m)\u001b[49m\n\u001b[0;32m    439\u001b[0m     \u001b[38;5;28;01mif\u001b[39;00m norm:\n\u001b[0;32m    440\u001b[0m         \u001b[38;5;28mself\u001b[39m\u001b[38;5;241m.\u001b[39mfill_norms()\n",
      "File \u001b[1;32mc:\\users\\binary\\appdata\\local\\programs\\python\\python39\\lib\\site-packages\\gensim\\models\\keyedvectors.py:412\u001b[0m, in \u001b[0;36mKeyedVectors.get_index\u001b[1;34m(self, key, default)\u001b[0m\n\u001b[0;32m    410\u001b[0m     \u001b[38;5;28;01mreturn\u001b[39;00m default\n\u001b[0;32m    411\u001b[0m \u001b[38;5;28;01melse\u001b[39;00m:\n\u001b[1;32m--> 412\u001b[0m     \u001b[38;5;28;01mraise\u001b[39;00m \u001b[38;5;167;01mKeyError\u001b[39;00m(\u001b[38;5;124mf\u001b[39m\u001b[38;5;124m\"\u001b[39m\u001b[38;5;124mKey \u001b[39m\u001b[38;5;124m'\u001b[39m\u001b[38;5;132;01m{\u001b[39;00mkey\u001b[38;5;132;01m}\u001b[39;00m\u001b[38;5;124m'\u001b[39m\u001b[38;5;124m not present\u001b[39m\u001b[38;5;124m\"\u001b[39m)\n",
      "\u001b[1;31mKeyError\u001b[0m: \"Key 'game' not present\""
     ]
    }
   ],
   "source": [
    "w2vec.wv.most_similar('game')"
   ]
  }
 ],
 "metadata": {
  "kernelspec": {
   "display_name": "Python 3 (ipykernel)",
   "language": "python",
   "name": "python3"
  },
  "language_info": {
   "codemirror_mode": {
    "name": "ipython",
    "version": 3
   },
   "file_extension": ".py",
   "mimetype": "text/x-python",
   "name": "python",
   "nbconvert_exporter": "python",
   "pygments_lexer": "ipython3",
   "version": "3.9.0"
  }
 },
 "nbformat": 4,
 "nbformat_minor": 5
}
