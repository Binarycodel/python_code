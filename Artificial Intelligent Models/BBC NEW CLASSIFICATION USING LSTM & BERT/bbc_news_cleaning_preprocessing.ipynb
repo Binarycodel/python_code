{
 "cells": [
  {
   "cell_type": "markdown",
   "metadata": {},
   "source": [
    "# importing bbc news dataset"
   ]
  },
  {
   "cell_type": "code",
   "execution_count": 1,
   "metadata": {},
   "outputs": [],
   "source": [
    "import pandas as pd \n",
    "import numpy as np\n",
    "import glob"
   ]
  },
  {
   "cell_type": "code",
   "execution_count": 2,
   "metadata": {},
   "outputs": [
    {
     "data": {
      "text/html": [
       "<div>\n",
       "<style scoped>\n",
       "    .dataframe tbody tr th:only-of-type {\n",
       "        vertical-align: middle;\n",
       "    }\n",
       "\n",
       "    .dataframe tbody tr th {\n",
       "        vertical-align: top;\n",
       "    }\n",
       "\n",
       "    .dataframe thead th {\n",
       "        text-align: right;\n",
       "    }\n",
       "</style>\n",
       "<table border=\"1\" class=\"dataframe\">\n",
       "  <thead>\n",
       "    <tr style=\"text-align: right;\">\n",
       "      <th></th>\n",
       "      <th>category</th>\n",
       "      <th>text</th>\n",
       "    </tr>\n",
       "  </thead>\n",
       "  <tbody>\n",
       "    <tr>\n",
       "      <th>0</th>\n",
       "      <td>tech</td>\n",
       "      <td>tv future in the hands of viewers with home th...</td>\n",
       "    </tr>\n",
       "    <tr>\n",
       "      <th>1</th>\n",
       "      <td>business</td>\n",
       "      <td>worldcom boss  left books alone  former worldc...</td>\n",
       "    </tr>\n",
       "    <tr>\n",
       "      <th>2</th>\n",
       "      <td>sport</td>\n",
       "      <td>tigers wary of farrell  gamble  leicester say ...</td>\n",
       "    </tr>\n",
       "    <tr>\n",
       "      <th>3</th>\n",
       "      <td>sport</td>\n",
       "      <td>yeading face newcastle in fa cup premiership s...</td>\n",
       "    </tr>\n",
       "    <tr>\n",
       "      <th>4</th>\n",
       "      <td>entertainment</td>\n",
       "      <td>ocean s twelve raids box office ocean s twelve...</td>\n",
       "    </tr>\n",
       "    <tr>\n",
       "      <th>...</th>\n",
       "      <td>...</td>\n",
       "      <td>...</td>\n",
       "    </tr>\n",
       "    <tr>\n",
       "      <th>2220</th>\n",
       "      <td>business</td>\n",
       "      <td>cars pull down us retail figures us retail sal...</td>\n",
       "    </tr>\n",
       "    <tr>\n",
       "      <th>2221</th>\n",
       "      <td>politics</td>\n",
       "      <td>kilroy unveils immigration policy ex-chatshow ...</td>\n",
       "    </tr>\n",
       "    <tr>\n",
       "      <th>2222</th>\n",
       "      <td>entertainment</td>\n",
       "      <td>rem announce new glasgow concert us band rem h...</td>\n",
       "    </tr>\n",
       "    <tr>\n",
       "      <th>2223</th>\n",
       "      <td>politics</td>\n",
       "      <td>how political squabbles snowball it s become c...</td>\n",
       "    </tr>\n",
       "    <tr>\n",
       "      <th>2224</th>\n",
       "      <td>sport</td>\n",
       "      <td>souness delight at euro progress boss graeme s...</td>\n",
       "    </tr>\n",
       "  </tbody>\n",
       "</table>\n",
       "<p>2225 rows × 2 columns</p>\n",
       "</div>"
      ],
      "text/plain": [
       "           category                                               text\n",
       "0              tech  tv future in the hands of viewers with home th...\n",
       "1          business  worldcom boss  left books alone  former worldc...\n",
       "2             sport  tigers wary of farrell  gamble  leicester say ...\n",
       "3             sport  yeading face newcastle in fa cup premiership s...\n",
       "4     entertainment  ocean s twelve raids box office ocean s twelve...\n",
       "...             ...                                                ...\n",
       "2220       business  cars pull down us retail figures us retail sal...\n",
       "2221       politics  kilroy unveils immigration policy ex-chatshow ...\n",
       "2222  entertainment  rem announce new glasgow concert us band rem h...\n",
       "2223       politics  how political squabbles snowball it s become c...\n",
       "2224          sport  souness delight at euro progress boss graeme s...\n",
       "\n",
       "[2225 rows x 2 columns]"
      ]
     },
     "execution_count": 2,
     "metadata": {},
     "output_type": "execute_result"
    }
   ],
   "source": [
    "\n",
    "# pd.set_option('display.max_colwidth', 100)\n",
    "dataset = pd.read_csv('bbc_text.csv')\n",
    "dataset"
   ]
  },
  {
   "cell_type": "markdown",
   "metadata": {},
   "source": [
    "# Data exploration: knowing the bbc news dataset"
   ]
  },
  {
   "cell_type": "code",
   "execution_count": 22,
   "metadata": {},
   "outputs": [],
   "source": [
    "import matplotlib.pyplot as pt"
   ]
  },
  {
   "cell_type": "code",
   "execution_count": 23,
   "metadata": {},
   "outputs": [
    {
     "name": "stdout",
     "output_type": "stream",
     "text": [
      "2225 rows or total datapoint <===> and  2 columns\n"
     ]
    }
   ],
   "source": [
    "row , colums  =  dataset.shape\n",
    "print(f'{row} rows or total datapoint <===> and  {colums} columns')"
   ]
  },
  {
   "cell_type": "code",
   "execution_count": 24,
   "metadata": {},
   "outputs": [
    {
     "data": {
      "text/plain": [
       "array(['tech', 'business', 'sport', 'entertainment', 'politics'],\n",
       "      dtype=object)"
      ]
     },
     "execution_count": 24,
     "metadata": {},
     "output_type": "execute_result"
    }
   ],
   "source": [
    "dataset.category.unique()"
   ]
  },
  {
   "cell_type": "code",
   "execution_count": 25,
   "metadata": {},
   "outputs": [
    {
     "data": {
      "text/plain": [
       "sport            511\n",
       "business         510\n",
       "politics         417\n",
       "tech             401\n",
       "entertainment    386\n",
       "Name: category, dtype: int64"
      ]
     },
     "execution_count": 25,
     "metadata": {},
     "output_type": "execute_result"
    }
   ],
   "source": [
    "dataset['category'].value_counts()"
   ]
  },
  {
   "cell_type": "code",
   "execution_count": 26,
   "metadata": {},
   "outputs": [
    {
     "name": "stdout",
     "output_type": "stream",
     "text": [
      "401 tech , 510 business , 511 sport , 386 entertainment , 417 politics\n"
     ]
    }
   ],
   "source": [
    "tech = len(dataset[dataset.category == 'tech'])\n",
    "business = len(dataset[dataset.category == 'business'])\n",
    "sport = len(dataset[dataset.category == 'sport'])\n",
    "entertainment = len(dataset[dataset.category == 'entertainment'])\n",
    "politics = len(dataset[dataset.category == 'politics'])\n",
    "\n",
    "print(f'{tech} tech , {business} business , {sport} sport , {entertainment} entertainment , {politics} politics')"
   ]
  },
  {
   "cell_type": "code",
   "execution_count": 27,
   "metadata": {},
   "outputs": [
    {
     "data": {
      "text/plain": [
       "<BarContainer object of 5 artists>"
      ]
     },
     "execution_count": 27,
     "metadata": {},
     "output_type": "execute_result"
    },
    {
     "data": {
      "image/png": "[encoded data removed]",
      "text/plain": [
       "<Figure size 432x288 with 1 Axes>"
      ]
     },
     "metadata": {
      "needs_background": "light"
     },
     "output_type": "display_data"
    }
   ],
   "source": [
    "# visualizing using bar chart\n",
    "y = [tech, business, sport, entertainment, politics]\n",
    "X = ['tech' , 'business', 'sport' , 'entertainment', 'politics']\n",
    "pt.xlabel('New Category')\n",
    "pt.ylabel(\"No of Datapoint\")\n",
    "pt.bar(X, y , color=['red' , 'green', 'blue', 'gray', 'brown'])"
   ]
  },
  {
   "cell_type": "code",
   "execution_count": 28,
   "metadata": {},
   "outputs": [
    {
     "data": {
      "image/png": "[encoded data removed]",
      "text/plain": [
       "<Figure size 432x288 with 1 Axes>"
      ]
     },
     "metadata": {},
     "output_type": "display_data"
    }
   ],
   "source": [
    "x = y\n",
    "pt.axis('equal')\n",
    "pt.pie(x, labels=X , radius=1.2, autopct=\"%0.2f%%\", explode=[0,0.2,0,0.2,0], shadow=True )\n",
    "pt.show()"
   ]
  },
  {
   "cell_type": "code",
   "execution_count": 29,
   "metadata": {
    "scrolled": true
   },
   "outputs": [
    {
     "name": "stdout",
     "output_type": "stream",
     "text": [
      "missing datapoint count :  0\n"
     ]
    }
   ],
   "source": [
    "# let check for missing datapoint\n",
    "missing_datapoint = dataset['category'].isnull().sum()\n",
    "print('missing datapoint count : ' , missing_datapoint )"
   ]
  },
  {
   "cell_type": "code",
   "execution_count": null,
   "metadata": {},
   "outputs": [],
   "source": []
  },
  {
   "cell_type": "code",
   "execution_count": null,
   "metadata": {},
   "outputs": [],
   "source": [
    "\n"
   ]
  },
  {
   "cell_type": "markdown",
   "metadata": {},
   "source": [
    "# data cleaning :  bbc news data cleaning and preprocessing"
   ]
  },
  {
   "cell_type": "code",
   "execution_count": 30,
   "metadata": {
    "scrolled": true
   },
   "outputs": [
    {
     "name": "stdout",
     "output_type": "stream",
     "text": [
      "['i', 'me', 'my', 'myself', 'we', 'our', 'ours', 'ourselves', 'you', \"you're\"]\n",
      "!\"#$%&'()*+,-./:;<=>?@[\\]^_`{|}~\n",
      "hit\n",
      "hit\n"
     ]
    }
   ],
   "source": [
    "from nltk.corpus import stopwords\n",
    "import string\n",
    "from nltk.tokenize import word_tokenize\n",
    "from nltk.stem import PorterStemmer\n",
    "stop_word = stopwords.words('english')\n",
    "print(stop_word[:10])\n",
    "print(string.punctuation)\n",
    "\n",
    "ps = PorterStemmer()\n",
    "print(ps.stem('hits'))\n",
    "print(ps.stem('hit'))"
   ]
  },
  {
   "cell_type": "code",
   "execution_count": 31,
   "metadata": {},
   "outputs": [
    {
     "data": {
      "text/html": [
       "<div>\n",
       "<style scoped>\n",
       "    .dataframe tbody tr th:only-of-type {\n",
       "        vertical-align: middle;\n",
       "    }\n",
       "\n",
       "    .dataframe tbody tr th {\n",
       "        vertical-align: top;\n",
       "    }\n",
       "\n",
       "    .dataframe thead th {\n",
       "        text-align: right;\n",
       "    }\n",
       "</style>\n",
       "<table border=\"1\" class=\"dataframe\">\n",
       "  <thead>\n",
       "    <tr style=\"text-align: right;\">\n",
       "      <th></th>\n",
       "      <th>category</th>\n",
       "      <th>text</th>\n",
       "    </tr>\n",
       "  </thead>\n",
       "  <tbody>\n",
       "    <tr>\n",
       "      <th>131</th>\n",
       "      <td>entertainment</td>\n",
       "      <td>film production  falls  40% in uk the number o...</td>\n",
       "    </tr>\n",
       "    <tr>\n",
       "      <th>1017</th>\n",
       "      <td>sport</td>\n",
       "      <td>qpr keeper day heads for preston queens park r...</td>\n",
       "    </tr>\n",
       "    <tr>\n",
       "      <th>1582</th>\n",
       "      <td>sport</td>\n",
       "      <td>martinez sees off vinci challenge veteran span...</td>\n",
       "    </tr>\n",
       "  </tbody>\n",
       "</table>\n",
       "</div>"
      ],
      "text/plain": [
       "           category                                               text\n",
       "131   entertainment  film production  falls  40% in uk the number o...\n",
       "1017          sport  qpr keeper day heads for preston queens park r...\n",
       "1582          sport  martinez sees off vinci challenge veteran span..."
      ]
     },
     "execution_count": 31,
     "metadata": {},
     "output_type": "execute_result"
    }
   ],
   "source": [
    "dataset.sample(3)"
   ]
  },
  {
   "cell_type": "code",
   "execution_count": 32,
   "metadata": {},
   "outputs": [],
   "source": [
    "ps = PorterStemmer()\n",
    "\n",
    "def dataset_cleaning(text):\n",
    "    #  removeing punctuation from the dataset\n",
    "    text = ''.join([token for token in text if not token in string.punctuation])\n",
    "    # tokenizing the dataset e.g ['tv' , 'future' , 'in' , 'the']\n",
    "    token = word_tokenize(text)\n",
    "    # removing stopword (words that had less meaning to the dataset)     \n",
    "    text  = [ps.stem(t) for t in token if not t in stop_word ]\n",
    "    return text \n",
    "\n",
    "dataset['clean_text'] = dataset[\"text\"].apply(lambda x: dataset_cleaning(x))"
   ]
  },
  {
   "cell_type": "code",
   "execution_count": 33,
   "metadata": {},
   "outputs": [
    {
     "data": {
      "text/html": [
       "<div>\n",
       "<style scoped>\n",
       "    .dataframe tbody tr th:only-of-type {\n",
       "        vertical-align: middle;\n",
       "    }\n",
       "\n",
       "    .dataframe tbody tr th {\n",
       "        vertical-align: top;\n",
       "    }\n",
       "\n",
       "    .dataframe thead th {\n",
       "        text-align: right;\n",
       "    }\n",
       "</style>\n",
       "<table border=\"1\" class=\"dataframe\">\n",
       "  <thead>\n",
       "    <tr style=\"text-align: right;\">\n",
       "      <th></th>\n",
       "      <th>category</th>\n",
       "      <th>text</th>\n",
       "      <th>clean_text</th>\n",
       "    </tr>\n",
       "  </thead>\n",
       "  <tbody>\n",
       "    <tr>\n",
       "      <th>0</th>\n",
       "      <td>tech</td>\n",
       "      <td>tv future in the hands of viewers with home th...</td>\n",
       "      <td>[tv, futur, hand, viewer, home, theatr, system...</td>\n",
       "    </tr>\n",
       "    <tr>\n",
       "      <th>1</th>\n",
       "      <td>business</td>\n",
       "      <td>worldcom boss  left books alone  former worldc...</td>\n",
       "      <td>[worldcom, boss, left, book, alon, former, wor...</td>\n",
       "    </tr>\n",
       "    <tr>\n",
       "      <th>2</th>\n",
       "      <td>sport</td>\n",
       "      <td>tigers wary of farrell  gamble  leicester say ...</td>\n",
       "      <td>[tiger, wari, farrel, gambl, leicest, say, rus...</td>\n",
       "    </tr>\n",
       "    <tr>\n",
       "      <th>3</th>\n",
       "      <td>sport</td>\n",
       "      <td>yeading face newcastle in fa cup premiership s...</td>\n",
       "      <td>[yead, face, newcastl, fa, cup, premiership, s...</td>\n",
       "    </tr>\n",
       "    <tr>\n",
       "      <th>4</th>\n",
       "      <td>entertainment</td>\n",
       "      <td>ocean s twelve raids box office ocean s twelve...</td>\n",
       "      <td>[ocean, twelv, raid, box, offic, ocean, twelv,...</td>\n",
       "    </tr>\n",
       "    <tr>\n",
       "      <th>5</th>\n",
       "      <td>politics</td>\n",
       "      <td>howard hits back at mongrel jibe michael howar...</td>\n",
       "      <td>[howard, hit, back, mongrel, jibe, michael, ho...</td>\n",
       "    </tr>\n",
       "    <tr>\n",
       "      <th>6</th>\n",
       "      <td>politics</td>\n",
       "      <td>blair prepares to name poll date tony blair is...</td>\n",
       "      <td>[blair, prepar, name, poll, date, toni, blair,...</td>\n",
       "    </tr>\n",
       "    <tr>\n",
       "      <th>7</th>\n",
       "      <td>sport</td>\n",
       "      <td>henman hopes ended in dubai third seed tim hen...</td>\n",
       "      <td>[henman, hope, end, dubai, third, seed, tim, h...</td>\n",
       "    </tr>\n",
       "    <tr>\n",
       "      <th>8</th>\n",
       "      <td>sport</td>\n",
       "      <td>wilkinson fit to face edinburgh england captai...</td>\n",
       "      <td>[wilkinson, fit, face, edinburgh, england, cap...</td>\n",
       "    </tr>\n",
       "    <tr>\n",
       "      <th>9</th>\n",
       "      <td>entertainment</td>\n",
       "      <td>last star wars  not for children  the sixth an...</td>\n",
       "      <td>[last, star, war, children, sixth, final, star...</td>\n",
       "    </tr>\n",
       "  </tbody>\n",
       "</table>\n",
       "</div>"
      ],
      "text/plain": [
       "        category                                               text  \\\n",
       "0           tech  tv future in the hands of viewers with home th...   \n",
       "1       business  worldcom boss  left books alone  former worldc...   \n",
       "2          sport  tigers wary of farrell  gamble  leicester say ...   \n",
       "3          sport  yeading face newcastle in fa cup premiership s...   \n",
       "4  entertainment  ocean s twelve raids box office ocean s twelve...   \n",
       "5       politics  howard hits back at mongrel jibe michael howar...   \n",
       "6       politics  blair prepares to name poll date tony blair is...   \n",
       "7          sport  henman hopes ended in dubai third seed tim hen...   \n",
       "8          sport  wilkinson fit to face edinburgh england captai...   \n",
       "9  entertainment  last star wars  not for children  the sixth an...   \n",
       "\n",
       "                                          clean_text  \n",
       "0  [tv, futur, hand, viewer, home, theatr, system...  \n",
       "1  [worldcom, boss, left, book, alon, former, wor...  \n",
       "2  [tiger, wari, farrel, gambl, leicest, say, rus...  \n",
       "3  [yead, face, newcastl, fa, cup, premiership, s...  \n",
       "4  [ocean, twelv, raid, box, offic, ocean, twelv,...  \n",
       "5  [howard, hit, back, mongrel, jibe, michael, ho...  \n",
       "6  [blair, prepar, name, poll, date, toni, blair,...  \n",
       "7  [henman, hope, end, dubai, third, seed, tim, h...  \n",
       "8  [wilkinson, fit, face, edinburgh, england, cap...  \n",
       "9  [last, star, war, children, sixth, final, star...  "
      ]
     },
     "execution_count": 33,
     "metadata": {},
     "output_type": "execute_result"
    }
   ],
   "source": [
    "dataset.head(10)"
   ]
  },
  {
   "cell_type": "code",
   "execution_count": 34,
   "metadata": {},
   "outputs": [
    {
     "data": {
      "text/plain": [
       "456     [boothroyd, call, lord, speaker, betti, boothr...\n",
       "132     [wale, get, william, fit, boost, wale, hope, o...\n",
       "1620    [jail, singer, courtney, love, singer, courtne...\n",
       "603     [sir, paul, rock, super, bowl, crowd, sir, pau...\n",
       "1456    [french, wine, get, 70m, euro, topup, french, ...\n",
       "Name: clean_text, dtype: object"
      ]
     },
     "execution_count": 34,
     "metadata": {},
     "output_type": "execute_result"
    }
   ],
   "source": [
    "# view sample data point \n",
    "dataset['clean_text'].sample(5)"
   ]
  },
  {
   "cell_type": "code",
   "execution_count": 35,
   "metadata": {},
   "outputs": [
    {
     "data": {
      "text/html": [
       "<div>\n",
       "<style scoped>\n",
       "    .dataframe tbody tr th:only-of-type {\n",
       "        vertical-align: middle;\n",
       "    }\n",
       "\n",
       "    .dataframe tbody tr th {\n",
       "        vertical-align: top;\n",
       "    }\n",
       "\n",
       "    .dataframe thead th {\n",
       "        text-align: right;\n",
       "    }\n",
       "</style>\n",
       "<table border=\"1\" class=\"dataframe\">\n",
       "  <thead>\n",
       "    <tr style=\"text-align: right;\">\n",
       "      <th></th>\n",
       "      <th>category</th>\n",
       "      <th>clean_text</th>\n",
       "    </tr>\n",
       "  </thead>\n",
       "  <tbody>\n",
       "    <tr>\n",
       "      <th>0</th>\n",
       "      <td>tech</td>\n",
       "      <td>[tv, futur, hand, viewer, home, theatr, system...</td>\n",
       "    </tr>\n",
       "    <tr>\n",
       "      <th>1</th>\n",
       "      <td>business</td>\n",
       "      <td>[worldcom, boss, left, book, alon, former, wor...</td>\n",
       "    </tr>\n",
       "    <tr>\n",
       "      <th>2</th>\n",
       "      <td>sport</td>\n",
       "      <td>[tiger, wari, farrel, gambl, leicest, say, rus...</td>\n",
       "    </tr>\n",
       "    <tr>\n",
       "      <th>3</th>\n",
       "      <td>sport</td>\n",
       "      <td>[yead, face, newcastl, fa, cup, premiership, s...</td>\n",
       "    </tr>\n",
       "    <tr>\n",
       "      <th>4</th>\n",
       "      <td>entertainment</td>\n",
       "      <td>[ocean, twelv, raid, box, offic, ocean, twelv,...</td>\n",
       "    </tr>\n",
       "  </tbody>\n",
       "</table>\n",
       "</div>"
      ],
      "text/plain": [
       "        category                                         clean_text\n",
       "0           tech  [tv, futur, hand, viewer, home, theatr, system...\n",
       "1       business  [worldcom, boss, left, book, alon, former, wor...\n",
       "2          sport  [tiger, wari, farrel, gambl, leicest, say, rus...\n",
       "3          sport  [yead, face, newcastl, fa, cup, premiership, s...\n",
       "4  entertainment  [ocean, twelv, raid, box, offic, ocean, twelv,..."
      ]
     },
     "execution_count": 35,
     "metadata": {},
     "output_type": "execute_result"
    }
   ],
   "source": [
    "clean_dataset = dataset.drop(columns=['text'])\n",
    "clean_dataset.head()"
   ]
  },
  {
   "cell_type": "code",
   "execution_count": 16,
   "metadata": {},
   "outputs": [],
   "source": [
    "# clean_dataset.to_csv('clean_bbc_news_dataset.csv', index=False)"
   ]
  },
  {
   "cell_type": "code",
   "execution_count": null,
   "metadata": {},
   "outputs": [],
   "source": [
    "# WORD FREQUENCY ......"
   ]
  },
  {
   "cell_type": "code",
   "execution_count": 70,
   "metadata": {},
   "outputs": [
    {
     "name": "stdout",
     "output_type": "stream",
     "text": [
      "Num of word  24145\n"
     ]
    }
   ],
   "source": [
    "from nltk.probability import FreqDist\n",
    "import nltk\n",
    "\n",
    "word_list = []\n",
    "\n",
    "news = clean_dataset['clean_text']\n",
    "for new in news:\n",
    "    [word_list.append(w) for w in new]\n",
    "\n",
    "# f_distribution = nltk.FreqDist(clean_dataset['clean_text'])\n",
    "f_distribution = nltk.FreqDist(word_list)\n",
    "\n",
    "sort_freq = sorted(f_distribution, key=f_distribution.__getitem__ , reverse=True)\n",
    "print('Num of word ', len(sort_freq))"
   ]
  },
  {
   "cell_type": "code",
   "execution_count": 65,
   "metadata": {},
   "outputs": [
    {
     "data": {
      "image/png": "[encoded data removed]",
      "text/plain": [
       "<Figure size 432x288 with 1 Axes>"
      ]
     },
     "metadata": {
      "needs_background": "light"
     },
     "output_type": "display_data"
    },
    {
     "data": {
      "text/plain": [
       "<AxesSubplot:title={'center':'word count frequency'}, xlabel='Samples', ylabel='Counts'>"
      ]
     },
     "execution_count": 65,
     "metadata": {},
     "output_type": "execute_result"
    }
   ],
   "source": [
    "f_distribution.plot(20, title='word count frequency', cumulative=False)"
   ]
  },
  {
   "cell_type": "code",
   "execution_count": 2,
   "metadata": {},
   "outputs": [],
   "source": [
    "# from wordcloud import WordCloud"
   ]
  },
  {
   "cell_type": "code",
   "execution_count": null,
   "metadata": {},
   "outputs": [],
   "source": []
  },
  {
   "cell_type": "code",
   "execution_count": null,
   "metadata": {},
   "outputs": [],
   "source": []
  },
  {
   "cell_type": "markdown",
   "metadata": {},
   "source": [
    "# Vectorizing bbc new dataset : Using TF-IDF approach"
   ]
  },
  {
   "cell_type": "code",
   "execution_count": null,
   "metadata": {},
   "outputs": [],
   "source": []
  },
  {
   "cell_type": "code",
   "execution_count": 67,
   "metadata": {},
   "outputs": [],
   "source": [
    "from sklearn.feature_extraction.text import CountVectorizer\n",
    "from sklearn.preprocessing import LabelEncoder\n",
    "\n",
    "lb = LabelEncoder()"
   ]
  },
  {
   "cell_type": "code",
   "execution_count": 68,
   "metadata": {},
   "outputs": [
    {
     "name": "stdout",
     "output_type": "stream",
     "text": [
      "99     [rapper, kany, west, shrewd, soul, us, hiphop,...\n",
      "100    [housew, lift, channel, 4, rate, debut, us, te...\n",
      "101    [mauresmo, open, victori, la, ameli, mauresmo,...\n",
      "102    [target, better, mani, econom, target, set, li...\n",
      "103    [hagu, sixfigur, earn, shown, reward, leav, fr...\n",
      "104    [howard, pitch, uk, ethnic, vote, michael, how...\n",
      "105    [loyalti, card, idea, tv, addict, viewer, coul...\n",
      "106    [mcclaren, eye, uefa, cup, top, spot, steve, m...\n",
      "107    [lit, idol, begin, search, author, second, pop...\n",
      "108    [hong, kong, 2011, world, cup, bid, hong, kong...\n",
      "109    [web, radio, take, spanish, rap, global, spin,...\n",
      "110    [us, trade, gap, hit, record, 2004, gap, us, e...\n",
      "111    [rapper, jayz, becom, label, boss, rap, star, ...\n",
      "112    [prodigi, monfil, blow, away, gaudio, french, ...\n",
      "113    [berlin, hail, european, cinema, organis, say,...\n",
      "114    [beckham, relief, real, go, david, beckham, ex...\n",
      "115    [byrd, produc, melcher, die, 62, record, produ...\n",
      "116    [anim, charm, japan, box, offic, oscarwin, dir...\n",
      "117    [chancellor, ralli, labour, voter, gordon, bro...\n",
      "118    [chelsea, deni, jame, heroic, brave, defens, d...\n",
      "119    [chelsea, sack, mutu, chelsea, sack, adrian, m...\n",
      "120    [slater, star, broadway, play, actor, christia...\n",
      "121    [jack, cunningham, stand, veteran, labour, mp,...\n",
      "122    [safeti, alert, gm, recal, car, world, biggest...\n",
      "123    [screensav, tackl, spam, websit, net, user, ge...\n",
      "124    [profit, slide, india, dr, reddi, profit, indi...\n",
      "125    [us, crude, price, surg, 53, us, crude, price,...\n",
      "126    [ibm, free, 500, softwar, patent, comput, gian...\n",
      "127    [benitez, deflect, blame, dudek, liverpool, ma...\n",
      "128    [csa, could, close, say, minist, minist, would...\n",
      "129    [william, battl, aussi, titl, serena, william,...\n",
      "Name: clean_text, dtype: object\n"
     ]
    }
   ],
   "source": [
    "# just getting sample date for testing neural network....\n",
    "mini_data = dataset['clean_text'][:100]\n",
    "mini_data.head()\n",
    "test_data = dataset['clean_text'][99:130]\n",
    "label = dataset[\"category\"][0:130]\n",
    "label = lb.fit_transform(label)\n",
    "train_label , test_label = label[:100] , label[99:130]\n",
    "print(test_data)"
   ]
  },
  {
   "cell_type": "code",
   "execution_count": 56,
   "metadata": {},
   "outputs": [],
   "source": [
    "import tensorflow as tf\n",
    "from tensorflow import keras\n",
    "from tensorflow.keras.preprocessing.text import Tokenizer\n",
    "from tensorflow.keras.preprocessing.sequence import pad_sequences"
   ]
  },
  {
   "cell_type": "code",
   "execution_count": 57,
   "metadata": {},
   "outputs": [
    {
     "data": {
      "text/plain": [
       "4706"
      ]
     },
     "execution_count": 57,
     "metadata": {},
     "output_type": "execute_result"
    }
   ],
   "source": [
    "# creating dictionary of token with unique index\n",
    "tokenize = Tokenizer(num_words=5000 , oov_token=\"<OOV>\")\n",
    "tokenize.fit_on_texts(mini_data)\n",
    "len(tokenize.word_index)"
   ]
  },
  {
   "cell_type": "code",
   "execution_count": 58,
   "metadata": {},
   "outputs": [
    {
     "name": "stdout",
     "output_type": "stream",
     "text": [
      "(100, 668)\n"
     ]
    },
    {
     "data": {
      "text/plain": [
       "(31, 668)"
      ]
     },
     "execution_count": 58,
     "metadata": {},
     "output_type": "execute_result"
    }
   ],
   "source": [
    "word_diction = tokenize.word_index\n",
    "# print(word_diction)\n",
    "# creating a documental text to sequence\n",
    "sequence = tokenize.texts_to_sequences(mini_data)\n",
    "# print(sequence[:2])\n",
    "# word padding is essential for doc with unqual lenth\n",
    "pad_text = pad_sequences(sequence)\n",
    "train_pad = pad_text\n",
    "print(pad_text.shape)\n",
    "test_seq = tokenize.texts_to_sequences(test_data)\n",
    "test_pad = pad_sequences(test_seq, maxlen=668)\n",
    "test_pad.shape"
   ]
  },
  {
   "cell_type": "code",
   "execution_count": 49,
   "metadata": {},
   "outputs": [
    {
     "data": {
      "text/plain": [
       "array([4, 0, 3, 3, 1, 2, 2, 3, 3, 1, 1, 0, 0, 2, 3, 0, 2, 3, 0, 4, 4, 4,\n",
       "       3, 3, 4, 3, 1, 4, 2, 1, 2, 4, 1, 1, 0, 2, 4, 1, 2, 0, 2, 3, 0, 3,\n",
       "       4, 1, 2, 2, 2, 0, 3, 2, 0, 0, 3, 2, 0, 3, 3, 0, 0, 3, 0, 3, 0, 4,\n",
       "       0, 1, 4, 0, 2, 0, 2, 3, 0, 4, 0, 3, 3, 0, 0, 3, 2, 0, 1, 2, 2, 0,\n",
       "       1, 0, 3, 3, 2, 3, 2, 3, 0, 3, 0, 1])"
      ]
     },
     "execution_count": 49,
     "metadata": {},
     "output_type": "execute_result"
    }
   ],
   "source": [
    "train_label"
   ]
  },
  {
   "cell_type": "code",
   "execution_count": 50,
   "metadata": {},
   "outputs": [
    {
     "data": {
      "text/plain": [
       "array([1, 1, 3, 0, 2, 2, 4, 3, 1, 3, 4, 0, 1, 3, 1, 3, 1, 1, 2, 3, 3, 1,\n",
       "       2, 0, 4, 0, 0, 4, 3, 2, 3])"
      ]
     },
     "execution_count": 50,
     "metadata": {},
     "output_type": "execute_result"
    }
   ],
   "source": [
    "test_label"
   ]
  },
  {
   "cell_type": "code",
   "execution_count": 51,
   "metadata": {},
   "outputs": [
    {
     "data": {
      "text/plain": [
       "100"
      ]
     },
     "execution_count": 51,
     "metadata": {},
     "output_type": "execute_result"
    }
   ],
   "source": [
    "len(train_label)"
   ]
  },
  {
   "cell_type": "code",
   "execution_count": 52,
   "metadata": {},
   "outputs": [],
   "source": [
    "# training nueral network\n",
    "\n",
    "vocab_size = 5000\n",
    "pad_length = 668\n",
    "embedding_dim = 20\n",
    "\n",
    "model = tf.keras.Sequential([\n",
    "    tf.keras.layers.Embedding(vocab_size, embedding_dim, input_length=pad_length),\n",
    "    tf.keras.layers.GlobalAveragePooling1D(),\n",
    "    tf.keras.layers.Dense(120, activation=\"relu\"),\n",
    "    tf.keras.layers.Dense(5, activation=\"sigmoid\")\n",
    "])\n",
    "\n",
    "model.compile(loss='sparse_categorical_crossentropy' , optimizer='adam' , metrics=['accuracy'])\n"
   ]
  },
  {
   "cell_type": "code",
   "execution_count": 38,
   "metadata": {},
   "outputs": [
    {
     "name": "stdout",
     "output_type": "stream",
     "text": [
      "Model: \"sequential_2\"\n",
      "_________________________________________________________________\n",
      " Layer (type)                Output Shape              Param #   \n",
      "=================================================================\n",
      " embedding_2 (Embedding)     (None, 668, 20)           100000    \n",
      "                                                                 \n",
      " global_average_pooling1d_2   (None, 20)               0         \n",
      " (GlobalAveragePooling1D)                                        \n",
      "                                                                 \n",
      " dense_4 (Dense)             (None, 120)               2520      \n",
      "                                                                 \n",
      " dense_5 (Dense)             (None, 5)                 605       \n",
      "                                                                 \n",
      "=================================================================\n",
      "Total params: 103,125\n",
      "Trainable params: 103,125\n",
      "Non-trainable params: 0\n",
      "_________________________________________________________________\n"
     ]
    }
   ],
   "source": [
    "model.summary()"
   ]
  },
  {
   "cell_type": "code",
   "execution_count": 44,
   "metadata": {},
   "outputs": [
    {
     "name": "stdout",
     "output_type": "stream",
     "text": [
      "Epoch 1/100\n",
      "4/4 - 0s - loss: 1.5535 - accuracy: 0.2800 - val_loss: 1.6554 - val_accuracy: 0.1613 - 54ms/epoch - 14ms/step\n",
      "Epoch 2/100\n",
      "4/4 - 0s - loss: 1.5537 - accuracy: 0.2800 - val_loss: 1.6559 - val_accuracy: 0.1613 - 55ms/epoch - 14ms/step\n",
      "Epoch 3/100\n",
      "4/4 - 0s - loss: 1.5539 - accuracy: 0.2800 - val_loss: 1.6576 - val_accuracy: 0.1613 - 39ms/epoch - 10ms/step\n",
      "Epoch 4/100\n",
      "4/4 - 0s - loss: 1.5543 - accuracy: 0.2800 - val_loss: 1.6576 - val_accuracy: 0.1613 - 41ms/epoch - 10ms/step\n",
      "Epoch 5/100\n",
      "4/4 - 0s - loss: 1.5539 - accuracy: 0.2800 - val_loss: 1.6545 - val_accuracy: 0.1613 - 45ms/epoch - 11ms/step\n",
      "Epoch 6/100\n",
      "4/4 - 0s - loss: 1.5540 - accuracy: 0.2800 - val_loss: 1.6529 - val_accuracy: 0.1613 - 44ms/epoch - 11ms/step\n",
      "Epoch 7/100\n",
      "4/4 - 0s - loss: 1.5546 - accuracy: 0.2800 - val_loss: 1.6527 - val_accuracy: 0.1613 - 40ms/epoch - 10ms/step\n",
      "Epoch 8/100\n",
      "4/4 - 0s - loss: 1.5544 - accuracy: 0.2800 - val_loss: 1.6529 - val_accuracy: 0.1613 - 46ms/epoch - 11ms/step\n",
      "Epoch 9/100\n",
      "4/4 - 0s - loss: 1.5549 - accuracy: 0.2800 - val_loss: 1.6536 - val_accuracy: 0.1613 - 45ms/epoch - 11ms/step\n",
      "Epoch 10/100\n",
      "4/4 - 0s - loss: 1.5549 - accuracy: 0.2800 - val_loss: 1.6540 - val_accuracy: 0.1613 - 46ms/epoch - 11ms/step\n",
      "Epoch 11/100\n",
      "4/4 - 0s - loss: 1.5548 - accuracy: 0.2800 - val_loss: 1.6551 - val_accuracy: 0.1613 - 45ms/epoch - 11ms/step\n",
      "Epoch 12/100\n",
      "4/4 - 0s - loss: 1.5545 - accuracy: 0.2800 - val_loss: 1.6552 - val_accuracy: 0.1613 - 38ms/epoch - 10ms/step\n",
      "Epoch 13/100\n",
      "4/4 - 0s - loss: 1.5537 - accuracy: 0.2800 - val_loss: 1.6535 - val_accuracy: 0.1613 - 46ms/epoch - 11ms/step\n",
      "Epoch 14/100\n",
      "4/4 - 0s - loss: 1.5536 - accuracy: 0.2800 - val_loss: 1.6528 - val_accuracy: 0.1613 - 45ms/epoch - 11ms/step\n",
      "Epoch 15/100\n",
      "4/4 - 0s - loss: 1.5534 - accuracy: 0.2800 - val_loss: 1.6531 - val_accuracy: 0.1613 - 45ms/epoch - 11ms/step\n",
      "Epoch 16/100\n",
      "4/4 - 0s - loss: 1.5535 - accuracy: 0.2800 - val_loss: 1.6536 - val_accuracy: 0.1613 - 37ms/epoch - 9ms/step\n",
      "Epoch 17/100\n",
      "4/4 - 0s - loss: 1.5532 - accuracy: 0.2800 - val_loss: 1.6552 - val_accuracy: 0.1613 - 45ms/epoch - 11ms/step\n",
      "Epoch 18/100\n",
      "4/4 - 0s - loss: 1.5534 - accuracy: 0.2800 - val_loss: 1.6567 - val_accuracy: 0.1613 - 46ms/epoch - 11ms/step\n",
      "Epoch 19/100\n",
      "4/4 - 0s - loss: 1.5533 - accuracy: 0.2800 - val_loss: 1.6567 - val_accuracy: 0.1613 - 48ms/epoch - 12ms/step\n",
      "Epoch 20/100\n",
      "4/4 - 0s - loss: 1.5531 - accuracy: 0.2800 - val_loss: 1.6557 - val_accuracy: 0.1613 - 38ms/epoch - 9ms/step\n",
      "Epoch 21/100\n",
      "4/4 - 0s - loss: 1.5536 - accuracy: 0.2800 - val_loss: 1.6567 - val_accuracy: 0.1613 - 46ms/epoch - 11ms/step\n",
      "Epoch 22/100\n",
      "4/4 - 0s - loss: 1.5537 - accuracy: 0.2800 - val_loss: 1.6581 - val_accuracy: 0.1613 - 42ms/epoch - 10ms/step\n",
      "Epoch 23/100\n",
      "4/4 - 0s - loss: 1.5536 - accuracy: 0.2800 - val_loss: 1.6575 - val_accuracy: 0.1613 - 41ms/epoch - 10ms/step\n",
      "Epoch 24/100\n",
      "4/4 - 0s - loss: 1.5534 - accuracy: 0.2800 - val_loss: 1.6563 - val_accuracy: 0.1613 - 44ms/epoch - 11ms/step\n",
      "Epoch 25/100\n",
      "4/4 - 0s - loss: 1.5537 - accuracy: 0.2800 - val_loss: 1.6534 - val_accuracy: 0.1613 - 46ms/epoch - 11ms/step\n",
      "Epoch 26/100\n",
      "4/4 - 0s - loss: 1.5534 - accuracy: 0.2800 - val_loss: 1.6502 - val_accuracy: 0.1613 - 46ms/epoch - 11ms/step\n",
      "Epoch 27/100\n",
      "4/4 - 0s - loss: 1.5531 - accuracy: 0.2800 - val_loss: 1.6461 - val_accuracy: 0.1613 - 46ms/epoch - 11ms/step\n",
      "Epoch 28/100\n",
      "4/4 - 0s - loss: 1.5537 - accuracy: 0.2800 - val_loss: 1.6421 - val_accuracy: 0.1613 - 37ms/epoch - 9ms/step\n",
      "Epoch 29/100\n",
      "4/4 - 0s - loss: 1.5538 - accuracy: 0.2800 - val_loss: 1.6415 - val_accuracy: 0.1613 - 45ms/epoch - 11ms/step\n",
      "Epoch 30/100\n",
      "4/4 - 0s - loss: 1.5536 - accuracy: 0.2800 - val_loss: 1.6411 - val_accuracy: 0.1613 - 46ms/epoch - 11ms/step\n",
      "Epoch 31/100\n",
      "4/4 - 0s - loss: 1.5536 - accuracy: 0.2800 - val_loss: 1.6423 - val_accuracy: 0.1613 - 50ms/epoch - 12ms/step\n",
      "Epoch 32/100\n",
      "4/4 - 0s - loss: 1.5538 - accuracy: 0.2800 - val_loss: 1.6419 - val_accuracy: 0.1613 - 44ms/epoch - 11ms/step\n",
      "Epoch 33/100\n",
      "4/4 - 0s - loss: 1.5535 - accuracy: 0.2800 - val_loss: 1.6392 - val_accuracy: 0.1613 - 46ms/epoch - 11ms/step\n",
      "Epoch 34/100\n",
      "4/4 - 0s - loss: 1.5539 - accuracy: 0.2800 - val_loss: 1.6377 - val_accuracy: 0.1613 - 44ms/epoch - 11ms/step\n",
      "Epoch 35/100\n",
      "4/4 - 0s - loss: 1.5541 - accuracy: 0.2800 - val_loss: 1.6383 - val_accuracy: 0.1613 - 47ms/epoch - 12ms/step\n",
      "Epoch 36/100\n",
      "4/4 - 0s - loss: 1.5536 - accuracy: 0.2800 - val_loss: 1.6375 - val_accuracy: 0.1613 - 47ms/epoch - 12ms/step\n",
      "Epoch 37/100\n",
      "4/4 - 0s - loss: 1.5535 - accuracy: 0.2800 - val_loss: 1.6376 - val_accuracy: 0.1613 - 47ms/epoch - 12ms/step\n",
      "Epoch 38/100\n",
      "4/4 - 0s - loss: 1.5534 - accuracy: 0.2800 - val_loss: 1.6363 - val_accuracy: 0.1613 - 46ms/epoch - 11ms/step\n",
      "Epoch 39/100\n",
      "4/4 - 0s - loss: 1.5534 - accuracy: 0.2800 - val_loss: 1.6373 - val_accuracy: 0.1613 - 48ms/epoch - 12ms/step\n",
      "Epoch 40/100\n",
      "4/4 - 0s - loss: 1.5532 - accuracy: 0.2800 - val_loss: 1.6411 - val_accuracy: 0.1613 - 43ms/epoch - 11ms/step\n",
      "Epoch 41/100\n",
      "4/4 - 0s - loss: 1.5529 - accuracy: 0.2800 - val_loss: 1.6442 - val_accuracy: 0.1613 - 42ms/epoch - 11ms/step\n",
      "Epoch 42/100\n",
      "4/4 - 0s - loss: 1.5534 - accuracy: 0.2800 - val_loss: 1.6471 - val_accuracy: 0.1613 - 41ms/epoch - 10ms/step\n",
      "Epoch 43/100\n",
      "4/4 - 0s - loss: 1.5536 - accuracy: 0.2800 - val_loss: 1.6515 - val_accuracy: 0.1613 - 46ms/epoch - 11ms/step\n",
      "Epoch 44/100\n",
      "4/4 - 0s - loss: 1.5533 - accuracy: 0.2800 - val_loss: 1.6532 - val_accuracy: 0.1613 - 42ms/epoch - 10ms/step\n",
      "Epoch 45/100\n",
      "4/4 - 0s - loss: 1.5536 - accuracy: 0.2800 - val_loss: 1.6531 - val_accuracy: 0.1613 - 45ms/epoch - 11ms/step\n",
      "Epoch 46/100\n",
      "4/4 - 0s - loss: 1.5538 - accuracy: 0.2800 - val_loss: 1.6511 - val_accuracy: 0.1613 - 43ms/epoch - 11ms/step\n",
      "Epoch 47/100\n",
      "4/4 - 0s - loss: 1.5535 - accuracy: 0.2800 - val_loss: 1.6507 - val_accuracy: 0.1613 - 45ms/epoch - 11ms/step\n",
      "Epoch 48/100\n",
      "4/4 - 0s - loss: 1.5533 - accuracy: 0.2800 - val_loss: 1.6505 - val_accuracy: 0.1613 - 46ms/epoch - 11ms/step\n",
      "Epoch 49/100\n",
      "4/4 - 0s - loss: 1.5536 - accuracy: 0.2800 - val_loss: 1.6493 - val_accuracy: 0.1613 - 47ms/epoch - 12ms/step\n",
      "Epoch 50/100\n",
      "4/4 - 0s - loss: 1.5538 - accuracy: 0.2800 - val_loss: 1.6466 - val_accuracy: 0.1613 - 46ms/epoch - 11ms/step\n",
      "Epoch 51/100\n",
      "4/4 - 0s - loss: 1.5536 - accuracy: 0.2800 - val_loss: 1.6463 - val_accuracy: 0.1613 - 48ms/epoch - 12ms/step\n",
      "Epoch 52/100\n",
      "4/4 - 0s - loss: 1.5536 - accuracy: 0.2800 - val_loss: 1.6462 - val_accuracy: 0.1613 - 46ms/epoch - 11ms/step\n",
      "Epoch 53/100\n",
      "4/4 - 0s - loss: 1.5535 - accuracy: 0.2800 - val_loss: 1.6453 - val_accuracy: 0.1613 - 44ms/epoch - 11ms/step\n",
      "Epoch 54/100\n",
      "4/4 - 0s - loss: 1.5542 - accuracy: 0.2800 - val_loss: 1.6442 - val_accuracy: 0.1613 - 51ms/epoch - 13ms/step\n",
      "Epoch 55/100\n",
      "4/4 - 0s - loss: 1.5541 - accuracy: 0.2800 - val_loss: 1.6441 - val_accuracy: 0.1613 - 55ms/epoch - 14ms/step\n",
      "Epoch 56/100\n",
      "4/4 - 0s - loss: 1.5539 - accuracy: 0.2800 - val_loss: 1.6441 - val_accuracy: 0.1613 - 40ms/epoch - 10ms/step\n",
      "Epoch 57/100\n",
      "4/4 - 0s - loss: 1.5535 - accuracy: 0.2800 - val_loss: 1.6468 - val_accuracy: 0.1613 - 39ms/epoch - 10ms/step\n",
      "Epoch 58/100\n",
      "4/4 - 0s - loss: 1.5536 - accuracy: 0.2800 - val_loss: 1.6484 - val_accuracy: 0.1613 - 42ms/epoch - 10ms/step\n",
      "Epoch 59/100\n",
      "4/4 - 0s - loss: 1.5536 - accuracy: 0.2800 - val_loss: 1.6476 - val_accuracy: 0.1613 - 42ms/epoch - 10ms/step\n",
      "Epoch 60/100\n",
      "4/4 - 0s - loss: 1.5537 - accuracy: 0.2800 - val_loss: 1.6445 - val_accuracy: 0.1613 - 37ms/epoch - 9ms/step\n",
      "Epoch 61/100\n",
      "4/4 - 0s - loss: 1.5533 - accuracy: 0.2800 - val_loss: 1.6432 - val_accuracy: 0.1613 - 42ms/epoch - 10ms/step\n",
      "Epoch 62/100\n",
      "4/4 - 0s - loss: 1.5534 - accuracy: 0.2800 - val_loss: 1.6431 - val_accuracy: 0.1613 - 40ms/epoch - 10ms/step\n",
      "Epoch 63/100\n",
      "4/4 - 0s - loss: 1.5533 - accuracy: 0.2800 - val_loss: 1.6420 - val_accuracy: 0.1613 - 43ms/epoch - 11ms/step\n",
      "Epoch 64/100\n",
      "4/4 - 0s - loss: 1.5530 - accuracy: 0.2800 - val_loss: 1.6425 - val_accuracy: 0.1613 - 41ms/epoch - 10ms/step\n",
      "Epoch 65/100\n",
      "4/4 - 0s - loss: 1.5531 - accuracy: 0.2800 - val_loss: 1.6433 - val_accuracy: 0.1613 - 44ms/epoch - 11ms/step\n",
      "Epoch 66/100\n",
      "4/4 - 0s - loss: 1.5527 - accuracy: 0.2800 - val_loss: 1.6432 - val_accuracy: 0.1613 - 44ms/epoch - 11ms/step\n",
      "Epoch 67/100\n",
      "4/4 - 0s - loss: 1.5523 - accuracy: 0.2800 - val_loss: 1.6444 - val_accuracy: 0.1613 - 39ms/epoch - 10ms/step\n"
     ]
    },
    {
     "name": "stdout",
     "output_type": "stream",
     "text": [
      "Epoch 68/100\n",
      "4/4 - 0s - loss: 1.5529 - accuracy: 0.2800 - val_loss: 1.6448 - val_accuracy: 0.1613 - 42ms/epoch - 10ms/step\n",
      "Epoch 69/100\n",
      "4/4 - 0s - loss: 1.5524 - accuracy: 0.2800 - val_loss: 1.6421 - val_accuracy: 0.1613 - 39ms/epoch - 10ms/step\n",
      "Epoch 70/100\n",
      "4/4 - 0s - loss: 1.5530 - accuracy: 0.2800 - val_loss: 1.6385 - val_accuracy: 0.1613 - 46ms/epoch - 11ms/step\n",
      "Epoch 71/100\n",
      "4/4 - 0s - loss: 1.5522 - accuracy: 0.2800 - val_loss: 1.6378 - val_accuracy: 0.1613 - 40ms/epoch - 10ms/step\n",
      "Epoch 72/100\n",
      "4/4 - 0s - loss: 1.5521 - accuracy: 0.2800 - val_loss: 1.6365 - val_accuracy: 0.1613 - 40ms/epoch - 10ms/step\n",
      "Epoch 73/100\n",
      "4/4 - 0s - loss: 1.5524 - accuracy: 0.2800 - val_loss: 1.6344 - val_accuracy: 0.1613 - 36ms/epoch - 9ms/step\n",
      "Epoch 74/100\n",
      "4/4 - 0s - loss: 1.5526 - accuracy: 0.2800 - val_loss: 1.6347 - val_accuracy: 0.1613 - 35ms/epoch - 9ms/step\n",
      "Epoch 75/100\n",
      "4/4 - 0s - loss: 1.5525 - accuracy: 0.2800 - val_loss: 1.6359 - val_accuracy: 0.1613 - 41ms/epoch - 10ms/step\n",
      "Epoch 76/100\n",
      "4/4 - 0s - loss: 1.5526 - accuracy: 0.2800 - val_loss: 1.6349 - val_accuracy: 0.1613 - 43ms/epoch - 11ms/step\n",
      "Epoch 77/100\n",
      "4/4 - 0s - loss: 1.5528 - accuracy: 0.2800 - val_loss: 1.6331 - val_accuracy: 0.1613 - 46ms/epoch - 11ms/step\n",
      "Epoch 78/100\n",
      "4/4 - 0s - loss: 1.5533 - accuracy: 0.2800 - val_loss: 1.6308 - val_accuracy: 0.1613 - 44ms/epoch - 11ms/step\n",
      "Epoch 79/100\n",
      "4/4 - 0s - loss: 1.5528 - accuracy: 0.2800 - val_loss: 1.6312 - val_accuracy: 0.1613 - 46ms/epoch - 11ms/step\n",
      "Epoch 80/100\n",
      "4/4 - 0s - loss: 1.5524 - accuracy: 0.2800 - val_loss: 1.6313 - val_accuracy: 0.1613 - 42ms/epoch - 10ms/step\n",
      "Epoch 81/100\n",
      "4/4 - 0s - loss: 1.5522 - accuracy: 0.2800 - val_loss: 1.6332 - val_accuracy: 0.1613 - 50ms/epoch - 12ms/step\n",
      "Epoch 82/100\n",
      "4/4 - 0s - loss: 1.5519 - accuracy: 0.2800 - val_loss: 1.6362 - val_accuracy: 0.1613 - 44ms/epoch - 11ms/step\n",
      "Epoch 83/100\n",
      "4/4 - 0s - loss: 1.5517 - accuracy: 0.2800 - val_loss: 1.6379 - val_accuracy: 0.1613 - 41ms/epoch - 10ms/step\n",
      "Epoch 84/100\n",
      "4/4 - 0s - loss: 1.5515 - accuracy: 0.2800 - val_loss: 1.6392 - val_accuracy: 0.1613 - 41ms/epoch - 10ms/step\n",
      "Epoch 85/100\n",
      "4/4 - 0s - loss: 1.5515 - accuracy: 0.2800 - val_loss: 1.6419 - val_accuracy: 0.1613 - 42ms/epoch - 10ms/step\n",
      "Epoch 86/100\n",
      "4/4 - 0s - loss: 1.5514 - accuracy: 0.2800 - val_loss: 1.6441 - val_accuracy: 0.1613 - 40ms/epoch - 10ms/step\n",
      "Epoch 87/100\n",
      "4/4 - 0s - loss: 1.5513 - accuracy: 0.2800 - val_loss: 1.6451 - val_accuracy: 0.1613 - 42ms/epoch - 10ms/step\n",
      "Epoch 88/100\n",
      "4/4 - 0s - loss: 1.5512 - accuracy: 0.2800 - val_loss: 1.6443 - val_accuracy: 0.1613 - 38ms/epoch - 9ms/step\n",
      "Epoch 89/100\n",
      "4/4 - 0s - loss: 1.5516 - accuracy: 0.2800 - val_loss: 1.6435 - val_accuracy: 0.1613 - 43ms/epoch - 11ms/step\n",
      "Epoch 90/100\n",
      "4/4 - 0s - loss: 1.5512 - accuracy: 0.2800 - val_loss: 1.6438 - val_accuracy: 0.1613 - 38ms/epoch - 9ms/step\n",
      "Epoch 91/100\n",
      "4/4 - 0s - loss: 1.5512 - accuracy: 0.2800 - val_loss: 1.6423 - val_accuracy: 0.1613 - 37ms/epoch - 9ms/step\n",
      "Epoch 92/100\n",
      "4/4 - 0s - loss: 1.5520 - accuracy: 0.2800 - val_loss: 1.6406 - val_accuracy: 0.1613 - 40ms/epoch - 10ms/step\n",
      "Epoch 93/100\n",
      "4/4 - 0s - loss: 1.5517 - accuracy: 0.2800 - val_loss: 1.6414 - val_accuracy: 0.1613 - 43ms/epoch - 11ms/step\n",
      "Epoch 94/100\n",
      "4/4 - 0s - loss: 1.5523 - accuracy: 0.2800 - val_loss: 1.6429 - val_accuracy: 0.1613 - 50ms/epoch - 12ms/step\n",
      "Epoch 95/100\n",
      "4/4 - 0s - loss: 1.5523 - accuracy: 0.2800 - val_loss: 1.6439 - val_accuracy: 0.1613 - 44ms/epoch - 11ms/step\n",
      "Epoch 96/100\n",
      "4/4 - 0s - loss: 1.5521 - accuracy: 0.2800 - val_loss: 1.6439 - val_accuracy: 0.1613 - 44ms/epoch - 11ms/step\n",
      "Epoch 97/100\n",
      "4/4 - 0s - loss: 1.5515 - accuracy: 0.2800 - val_loss: 1.6447 - val_accuracy: 0.1613 - 43ms/epoch - 11ms/step\n",
      "Epoch 98/100\n",
      "4/4 - 0s - loss: 1.5516 - accuracy: 0.2800 - val_loss: 1.6440 - val_accuracy: 0.1613 - 41ms/epoch - 10ms/step\n",
      "Epoch 99/100\n",
      "4/4 - 0s - loss: 1.5508 - accuracy: 0.2800 - val_loss: 1.6467 - val_accuracy: 0.1613 - 46ms/epoch - 11ms/step\n",
      "Epoch 100/100\n",
      "4/4 - 0s - loss: 1.5510 - accuracy: 0.2800 - val_loss: 1.6504 - val_accuracy: 0.1613 - 44ms/epoch - 11ms/step\n"
     ]
    },
    {
     "data": {
      "text/plain": [
       "<keras.callbacks.History at 0x1bec0bb14f0>"
      ]
     },
     "execution_count": 44,
     "metadata": {},
     "output_type": "execute_result"
    }
   ],
   "source": [
    "epoch = 100\n",
    "model.fit(train_pad, train_label, epochs=epoch, validation_data=(test_pad,test_label), verbose=2)"
   ]
  },
  {
   "cell_type": "code",
   "execution_count": 28,
   "metadata": {},
   "outputs": [],
   "source": [
    "from tensorflow.keras.layers.experimental.preprocessing import TextVectorization\n"
   ]
  },
  {
   "cell_type": "code",
   "execution_count": 29,
   "metadata": {},
   "outputs": [],
   "source": [
    "list_da = list(mini_data)"
   ]
  },
  {
   "cell_type": "code",
   "execution_count": 30,
   "metadata": {},
   "outputs": [
    {
     "data": {
      "text/plain": [
       "<tf.Tensor: shape=(10,), dtype=float32, numpy=\n",
       "array([0.        , 0.5596158 , 0.5596158 , 0.6931472 , 0.        ,\n",
       "       0.        , 0.        , 0.        , 0.        , 0.91629076],\n",
       "      dtype=float32)>"
      ]
     },
     "execution_count": 30,
     "metadata": {},
     "output_type": "execute_result"
    }
   ],
   "source": [
    "sentences = [\n",
    "    'i love my dog',\n",
    "    'i am cool at love my cat and monkey',\n",
    "    'you love my own cat cow goat'\n",
    "]\n",
    "tfidf = TextVectorization(\n",
    "    max_tokens = 10, \n",
    "    output_mode = 'tf-idf',\n",
    "    pad_to_max_tokens=True,\n",
    "    \n",
    ")\n",
    "\n",
    "# bulding vocabulary\n",
    "tfidf.adapt(sentences)\n",
    "\n",
    "# getting a tf idf matrix\n",
    "tf_sequence = tfidf(sentences)\n",
    "tf_sequence[0]"
   ]
  },
  {
   "cell_type": "code",
   "execution_count": 31,
   "metadata": {},
   "outputs": [],
   "source": [
    "train_data2 = dataset['clean_text'][:100]\n",
    "train_data2.head()\n",
    "test_data2 = dataset['clean_text'][99:130]\n",
    "label2 = dataset[\"category\"][0:130]"
   ]
  },
  {
   "cell_type": "code",
   "execution_count": null,
   "metadata": {},
   "outputs": [],
   "source": []
  },
  {
   "cell_type": "code",
   "execution_count": 32,
   "metadata": {},
   "outputs": [
    {
     "data": {
      "text/plain": [
       "4706"
      ]
     },
     "execution_count": 32,
     "metadata": {},
     "output_type": "execute_result"
    }
   ],
   "source": [
    "# creating dictionary of token with unique index\n",
    "tokenize = Tokenizer(num_words=5000 , oov_token=\"<OOV>\")\n",
    "tokenize.fit_on_texts(train_data2)\n",
    "len(tokenize.word_index)"
   ]
  },
  {
   "cell_type": "code",
   "execution_count": 33,
   "metadata": {},
   "outputs": [
    {
     "name": "stdout",
     "output_type": "stream",
     "text": [
      "(100, 668)\n"
     ]
    },
    {
     "data": {
      "text/plain": [
       "(31, 668)"
      ]
     },
     "execution_count": 33,
     "metadata": {},
     "output_type": "execute_result"
    }
   ],
   "source": [
    "word_diction = tokenize.word_index\n",
    "# print(word_diction)\n",
    "# creating a documental text to sequence\n",
    "sequence = tokenize.texts_to_matrix(train_data2, mode='tfidf')\n",
    "# print(sequence[:2])\n",
    "# word padding is essential for doc with unqual lenth\n",
    "pad_text = pad_sequences(sequence, maxlen=668)\n",
    "train_pad = pad_text\n",
    "print(pad_text.shape)\n",
    "test_seq = tokenize.texts_to_matrix(test_data2, mode='tfidf')\n",
    "test_pad = pad_sequences(test_seq, maxlen=668)\n",
    "test_pad.shape"
   ]
  },
  {
   "cell_type": "code",
   "execution_count": 1,
   "metadata": {},
   "outputs": [
    {
     "ename": "ModuleNotFoundError",
     "evalue": "No module named 'enchant'",
     "output_type": "error",
     "traceback": [
      "\u001b[1;31m---------------------------------------------------------------------------\u001b[0m",
      "\u001b[1;31mModuleNotFoundError\u001b[0m                       Traceback (most recent call last)",
      "Input \u001b[1;32mIn [1]\u001b[0m, in \u001b[0;36m<cell line: 1>\u001b[1;34m()\u001b[0m\n\u001b[1;32m----> 1\u001b[0m \u001b[38;5;28;01mimport\u001b[39;00m \u001b[38;5;21;01menchant\u001b[39;00m\n",
      "\u001b[1;31mModuleNotFoundError\u001b[0m: No module named 'enchant'"
     ]
    }
   ],
   "source": [
    "import enchant"
   ]
  },
  {
   "cell_type": "code",
   "execution_count": null,
   "metadata": {},
   "outputs": [],
   "source": []
  }
 ],
 "metadata": {
  "kernelspec": {
   "display_name": "Python 3 (ipykernel)",
   "language": "python",
   "name": "python3"
  },
  "language_info": {
   "codemirror_mode": {
    "name": "ipython",
    "version": 3
   },
   "file_extension": ".py",
   "mimetype": "text/x-python",
   "name": "python",
   "nbconvert_exporter": "python",
   "pygments_lexer": "ipython3",
   "version": "3.9.0"
  }
 },
 "nbformat": 4,
 "nbformat_minor": 2
}
