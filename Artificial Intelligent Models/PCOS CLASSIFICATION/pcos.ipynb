{
  "cells": [
    {
      "cell_type": "code",
      "execution_count": null,
      "metadata": {
        "colab": {
          "base_uri": "https://localhost:8080/",
          "height": 557
        },
        "id": "z6lD8VpTD4GB",
        "outputId": "3b670d6c-90f1-4f95-9d56-782b0691565c"
      },
      "outputs": [
        {
          "output_type": "execute_result",
          "data": {
            "text/plain": [
              "     Sl. No  Patient File No.  PCOS (Y/N)   Age (yrs)  Weight (Kg)  \\\n",
              "0         1                 1           0          28         44.6   \n",
              "1         2                 2           0          36         65.0   \n",
              "2         3                 3           1          33         68.8   \n",
              "3         4                 4           0          37         65.0   \n",
              "4         5                 5           0          25         52.0   \n",
              "..      ...               ...         ...         ...          ...   \n",
              "536     537               537           0          35         50.0   \n",
              "537     538               538           0          30         63.2   \n",
              "538     539               539           0          36         54.0   \n",
              "539     540               540           0          27         50.0   \n",
              "540     541               541           1          23         82.0   \n",
              "\n",
              "     Height(Cm)         BMI  Blood Group  Pulse rate(bpm)   RR (breaths/min)  \\\n",
              "0        152.000  19.300000           15                78                22   \n",
              "1        161.500  24.921163           15                74                20   \n",
              "2        165.000  25.270891           11                72                18   \n",
              "3        148.000  29.674945           13                72                20   \n",
              "4        161.000  20.060954           11                72                18   \n",
              "..           ...        ...          ...               ...               ...   \n",
              "536      164.592  18.500000           17                72                16   \n",
              "537      158.000  25.300000           15                72                18   \n",
              "538      152.000  23.400000           13                74                20   \n",
              "539      150.000  22.200000           15                74                20   \n",
              "540      165.000  30.100000           13                80                20   \n",
              "\n",
              "     ...  Fast food (Y/N)  Reg.Exercise(Y/N)  BP _Systolic (mmHg)  \\\n",
              "0    ...              1.0                  0                  110   \n",
              "1    ...              0.0                  0                  120   \n",
              "2    ...              1.0                  0                  120   \n",
              "3    ...              0.0                  0                  120   \n",
              "4    ...              0.0                  0                  120   \n",
              "..   ...              ...                ...                  ...   \n",
              "536  ...              0.0                  0                  110   \n",
              "537  ...              0.0                  0                  110   \n",
              "538  ...              0.0                  0                  110   \n",
              "539  ...              0.0                  0                  110   \n",
              "540  ...              1.0                  0                  120   \n",
              "\n",
              "     BP _Diastolic (mmHg)  Follicle No. (L)  Follicle No. (R)  \\\n",
              "0                      80                 3                 3   \n",
              "1                      70                 3                 5   \n",
              "2                      80                13                15   \n",
              "3                      70                 2                 2   \n",
              "4                      80                 3                 4   \n",
              "..                    ...               ...               ...   \n",
              "536                    70                 1                 0   \n",
              "537                    70                 9                 7   \n",
              "538                    80                 1                 0   \n",
              "539                    70                 7                 6   \n",
              "540                    70                 9                10   \n",
              "\n",
              "     Avg. F size (L) (mm) Avg. F size (R) (mm)  Endometrium (mm)  Unnamed: 44  \n",
              "0                    18.0                 18.0               8.5          NaN  \n",
              "1                    15.0                 14.0               3.7          NaN  \n",
              "2                    18.0                 20.0              10.0          NaN  \n",
              "3                    15.0                 14.0               7.5          NaN  \n",
              "4                    16.0                 14.0               7.0          NaN  \n",
              "..                    ...                  ...               ...          ...  \n",
              "536                  17.5                 10.0               6.7          NaN  \n",
              "537                  19.0                 18.0               8.2          NaN  \n",
              "538                  18.0                  9.0               7.3          NaN  \n",
              "539                  18.0                 16.0              11.5          NaN  \n",
              "540                  19.0                 18.0               6.9          NaN  \n",
              "\n",
              "[541 rows x 45 columns]"
            ],
            "text/html": [
              "\n",
              "  <div id=\"df-5528d412-abbd-4618-8514-580e5575ac82\">\n",
              "    <div class=\"colab-df-container\">\n",
              "      <div>\n",
              "<style scoped>\n",
              "    .dataframe tbody tr th:only-of-type {\n",
              "        vertical-align: middle;\n",
              "    }\n",
              "\n",
              "    .dataframe tbody tr th {\n",
              "        vertical-align: top;\n",
              "    }\n",
              "\n",
              "    .dataframe thead th {\n",
              "        text-align: right;\n",
              "    }\n",
              "</style>\n",
              "<table border=\"1\" class=\"dataframe\">\n",
              "  <thead>\n",
              "    <tr style=\"text-align: right;\">\n",
              "      <th></th>\n",
              "      <th>Sl. No</th>\n",
              "      <th>Patient File No.</th>\n",
              "      <th>PCOS (Y/N)</th>\n",
              "      <th>Age (yrs)</th>\n",
              "      <th>Weight (Kg)</th>\n",
              "      <th>Height(Cm)</th>\n",
              "      <th>BMI</th>\n",
              "      <th>Blood Group</th>\n",
              "      <th>Pulse rate(bpm)</th>\n",
              "      <th>RR (breaths/min)</th>\n",
              "      <th>...</th>\n",
              "      <th>Fast food (Y/N)</th>\n",
              "      <th>Reg.Exercise(Y/N)</th>\n",
              "      <th>BP _Systolic (mmHg)</th>\n",
              "      <th>BP _Diastolic (mmHg)</th>\n",
              "      <th>Follicle No. (L)</th>\n",
              "      <th>Follicle No. (R)</th>\n",
              "      <th>Avg. F size (L) (mm)</th>\n",
              "      <th>Avg. F size (R) (mm)</th>\n",
              "      <th>Endometrium (mm)</th>\n",
              "      <th>Unnamed: 44</th>\n",
              "    </tr>\n",
              "  </thead>\n",
              "  <tbody>\n",
              "    <tr>\n",
              "      <th>0</th>\n",
              "      <td>1</td>\n",
              "      <td>1</td>\n",
              "      <td>0</td>\n",
              "      <td>28</td>\n",
              "      <td>44.6</td>\n",
              "      <td>152.000</td>\n",
              "      <td>19.300000</td>\n",
              "      <td>15</td>\n",
              "      <td>78</td>\n",
              "      <td>22</td>\n",
              "      <td>...</td>\n",
              "      <td>1.0</td>\n",
              "      <td>0</td>\n",
              "      <td>110</td>\n",
              "      <td>80</td>\n",
              "      <td>3</td>\n",
              "      <td>3</td>\n",
              "      <td>18.0</td>\n",
              "      <td>18.0</td>\n",
              "      <td>8.5</td>\n",
              "      <td>NaN</td>\n",
              "    </tr>\n",
              "    <tr>\n",
              "      <th>1</th>\n",
              "      <td>2</td>\n",
              "      <td>2</td>\n",
              "      <td>0</td>\n",
              "      <td>36</td>\n",
              "      <td>65.0</td>\n",
              "      <td>161.500</td>\n",
              "      <td>24.921163</td>\n",
              "      <td>15</td>\n",
              "      <td>74</td>\n",
              "      <td>20</td>\n",
              "      <td>...</td>\n",
              "      <td>0.0</td>\n",
              "      <td>0</td>\n",
              "      <td>120</td>\n",
              "      <td>70</td>\n",
              "      <td>3</td>\n",
              "      <td>5</td>\n",
              "      <td>15.0</td>\n",
              "      <td>14.0</td>\n",
              "      <td>3.7</td>\n",
              "      <td>NaN</td>\n",
              "    </tr>\n",
              "    <tr>\n",
              "      <th>2</th>\n",
              "      <td>3</td>\n",
              "      <td>3</td>\n",
              "      <td>1</td>\n",
              "      <td>33</td>\n",
              "      <td>68.8</td>\n",
              "      <td>165.000</td>\n",
              "      <td>25.270891</td>\n",
              "      <td>11</td>\n",
              "      <td>72</td>\n",
              "      <td>18</td>\n",
              "      <td>...</td>\n",
              "      <td>1.0</td>\n",
              "      <td>0</td>\n",
              "      <td>120</td>\n",
              "      <td>80</td>\n",
              "      <td>13</td>\n",
              "      <td>15</td>\n",
              "      <td>18.0</td>\n",
              "      <td>20.0</td>\n",
              "      <td>10.0</td>\n",
              "      <td>NaN</td>\n",
              "    </tr>\n",
              "    <tr>\n",
              "      <th>3</th>\n",
              "      <td>4</td>\n",
              "      <td>4</td>\n",
              "      <td>0</td>\n",
              "      <td>37</td>\n",
              "      <td>65.0</td>\n",
              "      <td>148.000</td>\n",
              "      <td>29.674945</td>\n",
              "      <td>13</td>\n",
              "      <td>72</td>\n",
              "      <td>20</td>\n",
              "      <td>...</td>\n",
              "      <td>0.0</td>\n",
              "      <td>0</td>\n",
              "      <td>120</td>\n",
              "      <td>70</td>\n",
              "      <td>2</td>\n",
              "      <td>2</td>\n",
              "      <td>15.0</td>\n",
              "      <td>14.0</td>\n",
              "      <td>7.5</td>\n",
              "      <td>NaN</td>\n",
              "    </tr>\n",
              "    <tr>\n",
              "      <th>4</th>\n",
              "      <td>5</td>\n",
              "      <td>5</td>\n",
              "      <td>0</td>\n",
              "      <td>25</td>\n",
              "      <td>52.0</td>\n",
              "      <td>161.000</td>\n",
              "      <td>20.060954</td>\n",
              "      <td>11</td>\n",
              "      <td>72</td>\n",
              "      <td>18</td>\n",
              "      <td>...</td>\n",
              "      <td>0.0</td>\n",
              "      <td>0</td>\n",
              "      <td>120</td>\n",
              "      <td>80</td>\n",
              "      <td>3</td>\n",
              "      <td>4</td>\n",
              "      <td>16.0</td>\n",
              "      <td>14.0</td>\n",
              "      <td>7.0</td>\n",
              "      <td>NaN</td>\n",
              "    </tr>\n",
              "    <tr>\n",
              "      <th>...</th>\n",
              "      <td>...</td>\n",
              "      <td>...</td>\n",
              "      <td>...</td>\n",
              "      <td>...</td>\n",
              "      <td>...</td>\n",
              "      <td>...</td>\n",
              "      <td>...</td>\n",
              "      <td>...</td>\n",
              "      <td>...</td>\n",
              "      <td>...</td>\n",
              "      <td>...</td>\n",
              "      <td>...</td>\n",
              "      <td>...</td>\n",
              "      <td>...</td>\n",
              "      <td>...</td>\n",
              "      <td>...</td>\n",
              "      <td>...</td>\n",
              "      <td>...</td>\n",
              "      <td>...</td>\n",
              "      <td>...</td>\n",
              "      <td>...</td>\n",
              "    </tr>\n",
              "    <tr>\n",
              "      <th>536</th>\n",
              "      <td>537</td>\n",
              "      <td>537</td>\n",
              "      <td>0</td>\n",
              "      <td>35</td>\n",
              "      <td>50.0</td>\n",
              "      <td>164.592</td>\n",
              "      <td>18.500000</td>\n",
              "      <td>17</td>\n",
              "      <td>72</td>\n",
              "      <td>16</td>\n",
              "      <td>...</td>\n",
              "      <td>0.0</td>\n",
              "      <td>0</td>\n",
              "      <td>110</td>\n",
              "      <td>70</td>\n",
              "      <td>1</td>\n",
              "      <td>0</td>\n",
              "      <td>17.5</td>\n",
              "      <td>10.0</td>\n",
              "      <td>6.7</td>\n",
              "      <td>NaN</td>\n",
              "    </tr>\n",
              "    <tr>\n",
              "      <th>537</th>\n",
              "      <td>538</td>\n",
              "      <td>538</td>\n",
              "      <td>0</td>\n",
              "      <td>30</td>\n",
              "      <td>63.2</td>\n",
              "      <td>158.000</td>\n",
              "      <td>25.300000</td>\n",
              "      <td>15</td>\n",
              "      <td>72</td>\n",
              "      <td>18</td>\n",
              "      <td>...</td>\n",
              "      <td>0.0</td>\n",
              "      <td>0</td>\n",
              "      <td>110</td>\n",
              "      <td>70</td>\n",
              "      <td>9</td>\n",
              "      <td>7</td>\n",
              "      <td>19.0</td>\n",
              "      <td>18.0</td>\n",
              "      <td>8.2</td>\n",
              "      <td>NaN</td>\n",
              "    </tr>\n",
              "    <tr>\n",
              "      <th>538</th>\n",
              "      <td>539</td>\n",
              "      <td>539</td>\n",
              "      <td>0</td>\n",
              "      <td>36</td>\n",
              "      <td>54.0</td>\n",
              "      <td>152.000</td>\n",
              "      <td>23.400000</td>\n",
              "      <td>13</td>\n",
              "      <td>74</td>\n",
              "      <td>20</td>\n",
              "      <td>...</td>\n",
              "      <td>0.0</td>\n",
              "      <td>0</td>\n",
              "      <td>110</td>\n",
              "      <td>80</td>\n",
              "      <td>1</td>\n",
              "      <td>0</td>\n",
              "      <td>18.0</td>\n",
              "      <td>9.0</td>\n",
              "      <td>7.3</td>\n",
              "      <td>NaN</td>\n",
              "    </tr>\n",
              "    <tr>\n",
              "      <th>539</th>\n",
              "      <td>540</td>\n",
              "      <td>540</td>\n",
              "      <td>0</td>\n",
              "      <td>27</td>\n",
              "      <td>50.0</td>\n",
              "      <td>150.000</td>\n",
              "      <td>22.200000</td>\n",
              "      <td>15</td>\n",
              "      <td>74</td>\n",
              "      <td>20</td>\n",
              "      <td>...</td>\n",
              "      <td>0.0</td>\n",
              "      <td>0</td>\n",
              "      <td>110</td>\n",
              "      <td>70</td>\n",
              "      <td>7</td>\n",
              "      <td>6</td>\n",
              "      <td>18.0</td>\n",
              "      <td>16.0</td>\n",
              "      <td>11.5</td>\n",
              "      <td>NaN</td>\n",
              "    </tr>\n",
              "    <tr>\n",
              "      <th>540</th>\n",
              "      <td>541</td>\n",
              "      <td>541</td>\n",
              "      <td>1</td>\n",
              "      <td>23</td>\n",
              "      <td>82.0</td>\n",
              "      <td>165.000</td>\n",
              "      <td>30.100000</td>\n",
              "      <td>13</td>\n",
              "      <td>80</td>\n",
              "      <td>20</td>\n",
              "      <td>...</td>\n",
              "      <td>1.0</td>\n",
              "      <td>0</td>\n",
              "      <td>120</td>\n",
              "      <td>70</td>\n",
              "      <td>9</td>\n",
              "      <td>10</td>\n",
              "      <td>19.0</td>\n",
              "      <td>18.0</td>\n",
              "      <td>6.9</td>\n",
              "      <td>NaN</td>\n",
              "    </tr>\n",
              "  </tbody>\n",
              "</table>\n",
              "<p>541 rows × 45 columns</p>\n",
              "</div>\n",
              "      <button class=\"colab-df-convert\" onclick=\"convertToInteractive('df-5528d412-abbd-4618-8514-580e5575ac82')\"\n",
              "              title=\"Convert this dataframe to an interactive table.\"\n",
              "              style=\"display:none;\">\n",
              "        \n",
              "  <svg xmlns=\"http://www.w3.org/2000/svg\" height=\"24px\"viewBox=\"0 0 24 24\"\n",
              "       width=\"24px\">\n",
              "    <path d=\"M0 0h24v24H0V0z\" fill=\"none\"/>\n",
              "    <path d=\"M18.56 5.44l.94 2.06.94-2.06 2.06-.94-2.06-.94-.94-2.06-.94 2.06-2.06.94zm-11 1L8.5 8.5l.94-2.06 2.06-.94-2.06-.94L8.5 2.5l-.94 2.06-2.06.94zm10 10l.94 2.06.94-2.06 2.06-.94-2.06-.94-.94-2.06-.94 2.06-2.06.94z\"/><path d=\"M17.41 7.96l-1.37-1.37c-.4-.4-.92-.59-1.43-.59-.52 0-1.04.2-1.43.59L10.3 9.45l-7.72 7.72c-.78.78-.78 2.05 0 2.83L4 21.41c.39.39.9.59 1.41.59.51 0 1.02-.2 1.41-.59l7.78-7.78 2.81-2.81c.8-.78.8-2.07 0-2.86zM5.41 20L4 18.59l7.72-7.72 1.47 1.35L5.41 20z\"/>\n",
              "  </svg>\n",
              "      </button>\n",
              "      \n",
              "  <style>\n",
              "    .colab-df-container {\n",
              "      display:flex;\n",
              "      flex-wrap:wrap;\n",
              "      gap: 12px;\n",
              "    }\n",
              "\n",
              "    .colab-df-convert {\n",
              "      background-color: #E8F0FE;\n",
              "      border: none;\n",
              "      border-radius: 50%;\n",
              "      cursor: pointer;\n",
              "      display: none;\n",
              "      fill: #1967D2;\n",
              "      height: 32px;\n",
              "      padding: 0 0 0 0;\n",
              "      width: 32px;\n",
              "    }\n",
              "\n",
              "    .colab-df-convert:hover {\n",
              "      background-color: #E2EBFA;\n",
              "      box-shadow: 0px 1px 2px rgba(60, 64, 67, 0.3), 0px 1px 3px 1px rgba(60, 64, 67, 0.15);\n",
              "      fill: #174EA6;\n",
              "    }\n",
              "\n",
              "    [theme=dark] .colab-df-convert {\n",
              "      background-color: #3B4455;\n",
              "      fill: #D2E3FC;\n",
              "    }\n",
              "\n",
              "    [theme=dark] .colab-df-convert:hover {\n",
              "      background-color: #434B5C;\n",
              "      box-shadow: 0px 1px 3px 1px rgba(0, 0, 0, 0.15);\n",
              "      filter: drop-shadow(0px 1px 2px rgba(0, 0, 0, 0.3));\n",
              "      fill: #FFFFFF;\n",
              "    }\n",
              "  </style>\n",
              "\n",
              "      <script>\n",
              "        const buttonEl =\n",
              "          document.querySelector('#df-5528d412-abbd-4618-8514-580e5575ac82 button.colab-df-convert');\n",
              "        buttonEl.style.display =\n",
              "          google.colab.kernel.accessAllowed ? 'block' : 'none';\n",
              "\n",
              "        async function convertToInteractive(key) {\n",
              "          const element = document.querySelector('#df-5528d412-abbd-4618-8514-580e5575ac82');\n",
              "          const dataTable =\n",
              "            await google.colab.kernel.invokeFunction('convertToInteractive',\n",
              "                                                     [key], {});\n",
              "          if (!dataTable) return;\n",
              "\n",
              "          const docLinkHtml = 'Like what you see? Visit the ' +\n",
              "            '<a target=\"_blank\" href=https://colab.research.google.com/notebooks/data_table.ipynb>data table notebook</a>'\n",
              "            + ' to learn more about interactive tables.';\n",
              "          element.innerHTML = '';\n",
              "          dataTable['output_type'] = 'display_data';\n",
              "          await google.colab.output.renderOutput(dataTable, element);\n",
              "          const docLink = document.createElement('div');\n",
              "          docLink.innerHTML = docLinkHtml;\n",
              "          element.appendChild(docLink);\n",
              "        }\n",
              "      </script>\n",
              "    </div>\n",
              "  </div>\n",
              "  "
            ]
          },
          "metadata": {},
          "execution_count": 1
        }
      ],
      "source": [
        "import pandas as pd\n",
        "dataset = pd.read_csv('/content/drive/MyDrive/Colab Notebooks/DATASET/PCOS_data_without_infertility.csv')\n",
        "dataset"
      ]
    },
    {
      "cell_type": "markdown",
      "source": [
        "# Exploratory Data Analysis"
      ],
      "metadata": {
        "id": "UVCExTlnIebj"
      }
    },
    {
      "cell_type": "code",
      "source": [
        "yes_count, _ = dataset[dataset['PCOS (Y/N)']==1].shape\n",
        "no_count, _ = dataset[dataset['PCOS (Y/N)']==0].shape\n",
        "print(f'Yes Count : {yes_count} | No count : {no_count}')\n",
        "print(f'PCOS DATASET {dataset.shape}')"
      ],
      "metadata": {
        "colab": {
          "base_uri": "https://localhost:8080/"
        },
        "id": "1eK-nAcxIjmK",
        "outputId": "47948549-1f7d-4f0a-cf6c-4fd238f74004"
      },
      "execution_count": null,
      "outputs": [
        {
          "output_type": "stream",
          "name": "stdout",
          "text": [
            "Yes Count : 177 | No count : 364\n",
            "PCOS DATASET (541, 45)\n"
          ]
        }
      ]
    },
    {
      "cell_type": "code",
      "execution_count": null,
      "metadata": {
        "colab": {
          "base_uri": "https://localhost:8080/",
          "height": 350
        },
        "id": "2csHpJlCFAnG",
        "outputId": "058a0543-b127-45e0-8a98-0011ff6e79a3"
      },
      "outputs": [
        {
          "output_type": "stream",
          "name": "stderr",
          "text": [
            "No handles with labels found to put in legend.\n"
          ]
        },
        {
          "output_type": "stream",
          "name": "stdout",
          "text": [
            "Number of Data Point (Rows) : 541\n",
            "Number of Features (Columns) : 45\n"
          ]
        },
        {
          "output_type": "execute_result",
          "data": {
            "text/plain": [
              "<matplotlib.legend.Legend at 0x7f41167d7590>"
            ]
          },
          "metadata": {},
          "execution_count": 3
        },
        {
          "output_type": "display_data",
          "data": {
            "text/plain": [
              "<Figure size 432x288 with 1 Axes>"
            ],
            "image/png": "[encoded data removed]"
          },
          "metadata": {
            "needs_background": "light"
          }
        }
      ],
      "source": [
        "import matplotlib.pyplot as plt\n",
        "rows , columns = dataset.shape\n",
        "print(f'Number of Data Point (Rows) : {rows}')\n",
        "print(f'Number of Features (Columns) : {columns}')\n",
        "\n",
        "no, yes = dataset['PCOS (Y/N)'].value_counts()\n",
        "\n",
        "x_bar = ['Yes', 'No']\n",
        "y_bar = [yes,no]\n",
        "\n",
        "plt.title('Polycystic ovary syndrome (PCOS)')\n",
        "plt.bar(x_bar, y_bar, color=['brown', 'green'])\n",
        "plt.legend()"
      ]
    },
    {
      "cell_type": "code",
      "execution_count": null,
      "metadata": {
        "colab": {
          "base_uri": "https://localhost:8080/"
        },
        "id": "WpbxdARHFQkm",
        "outputId": "3b22f096-aba9-4c46-d3bd-4f42089bbc2e"
      },
      "outputs": [
        {
          "output_type": "stream",
          "name": "stdout",
          "text": [
            "<class 'pandas.core.frame.DataFrame'>\n",
            "RangeIndex: 541 entries, 0 to 540\n",
            "Data columns (total 45 columns):\n",
            " #   Column                  Non-Null Count  Dtype  \n",
            "---  ------                  --------------  -----  \n",
            " 0   Sl. No                  541 non-null    int64  \n",
            " 1   Patient File No.        541 non-null    int64  \n",
            " 2   PCOS (Y/N)              541 non-null    int64  \n",
            " 3    Age (yrs)              541 non-null    int64  \n",
            " 4   Weight (Kg)             541 non-null    float64\n",
            " 5   Height(Cm)              541 non-null    float64\n",
            " 6   BMI                     541 non-null    float64\n",
            " 7   Blood Group             541 non-null    int64  \n",
            " 8   Pulse rate(bpm)         541 non-null    int64  \n",
            " 9   RR (breaths/min)        541 non-null    int64  \n",
            " 10  Hb(g/dl)                541 non-null    float64\n",
            " 11  Cycle(R/I)              541 non-null    int64  \n",
            " 12  Cycle length(days)      541 non-null    int64  \n",
            " 13  Marraige Status (Yrs)   540 non-null    float64\n",
            " 14  Pregnant(Y/N)           541 non-null    int64  \n",
            " 15  No. of aborptions       541 non-null    int64  \n",
            " 16    I   beta-HCG(mIU/mL)  541 non-null    float64\n",
            " 17  II    beta-HCG(mIU/mL)  541 non-null    object \n",
            " 18  FSH(mIU/mL)             541 non-null    float64\n",
            " 19  LH(mIU/mL)              541 non-null    float64\n",
            " 20  FSH/LH                  541 non-null    float64\n",
            " 21  Hip(inch)               541 non-null    int64  \n",
            " 22  Waist(inch)             541 non-null    int64  \n",
            " 23  Waist:Hip Ratio         541 non-null    float64\n",
            " 24  TSH (mIU/L)             541 non-null    float64\n",
            " 25  AMH(ng/mL)              541 non-null    object \n",
            " 26  PRL(ng/mL)              541 non-null    float64\n",
            " 27  Vit D3 (ng/mL)          541 non-null    float64\n",
            " 28  PRG(ng/mL)              541 non-null    float64\n",
            " 29  RBS(mg/dl)              541 non-null    float64\n",
            " 30  Weight gain(Y/N)        541 non-null    int64  \n",
            " 31  hair growth(Y/N)        541 non-null    int64  \n",
            " 32  Skin darkening (Y/N)    541 non-null    int64  \n",
            " 33  Hair loss(Y/N)          541 non-null    int64  \n",
            " 34  Pimples(Y/N)            541 non-null    int64  \n",
            " 35  Fast food (Y/N)         540 non-null    float64\n",
            " 36  Reg.Exercise(Y/N)       541 non-null    int64  \n",
            " 37  BP _Systolic (mmHg)     541 non-null    int64  \n",
            " 38  BP _Diastolic (mmHg)    541 non-null    int64  \n",
            " 39  Follicle No. (L)        541 non-null    int64  \n",
            " 40  Follicle No. (R)        541 non-null    int64  \n",
            " 41  Avg. F size (L) (mm)    541 non-null    float64\n",
            " 42  Avg. F size (R) (mm)    541 non-null    float64\n",
            " 43  Endometrium (mm)        541 non-null    float64\n",
            " 44  Unnamed: 44             2 non-null      object \n",
            "dtypes: float64(19), int64(23), object(3)\n",
            "memory usage: 190.3+ KB\n"
          ]
        }
      ],
      "source": [
        "dataset.info()"
      ]
    },
    {
      "cell_type": "markdown",
      "source": [
        "# DATA CLEANING AND PRE-PROCESSING"
      ],
      "metadata": {
        "id": "yBq4yZCiOx4_"
      }
    },
    {
      "cell_type": "code",
      "execution_count": null,
      "metadata": {
        "id": "gW5C3q-wEkJu"
      },
      "outputs": [],
      "source": [
        "dataset.drop(columns=['Sl. No', 'Patient File No.', 'Unnamed: 44'], inplace=True)\n",
        "# dataset.head(3)\n",
        "X = dataset.drop(columns=['PCOS (Y/N)'])\n",
        "y = dataset['PCOS (Y/N)']"
      ]
    },
    {
      "cell_type": "code",
      "execution_count": null,
      "metadata": {
        "colab": {
          "base_uri": "https://localhost:8080/"
        },
        "id": "n55XzeBWGcSI",
        "outputId": "390a35bb-e3b9-472d-b2f6-22c1ac561a9c"
      },
      "outputs": [
        {
          "output_type": "execute_result",
          "data": {
            "text/plain": [
              "(541, 41)"
            ]
          },
          "metadata": {},
          "execution_count": 6
        }
      ],
      "source": [
        "X.shape"
      ]
    },
    {
      "cell_type": "code",
      "execution_count": null,
      "metadata": {
        "id": "TPl4Qso2MqZm"
      },
      "outputs": [],
      "source": [
        "X['II    beta-HCG(mIU/mL)'] = pd.to_numeric(X['II    beta-HCG(mIU/mL)'], errors='coerce').fillna(0).astype(int)\n",
        "X['AMH(ng/mL)'] = pd.to_numeric(X['AMH(ng/mL)'], errors='coerce').fillna(0).astype(int)\n",
        "# X['TSH (mIU/L)'] = pd.to_numeric(X['TSH (mIU/L)'], errors='coerce').fillna(0).astype(int)"
      ]
    },
    {
      "cell_type": "code",
      "execution_count": null,
      "metadata": {
        "id": "dKWl7fw6Iaz4"
      },
      "outputs": [],
      "source": [
        "# X.info()"
      ]
    },
    {
      "cell_type": "code",
      "execution_count": null,
      "metadata": {
        "id": "UMuZOJjxOkrJ"
      },
      "outputs": [],
      "source": [
        "X['Marraige Status (Yrs)'] = X['Marraige Status (Yrs)'].fillna(method='ffill')\n",
        "X['Fast food (Y/N)'] = X['Fast food (Y/N)'].fillna(method='ffill')"
      ]
    },
    {
      "cell_type": "markdown",
      "source": [
        "# Min Max Scalling"
      ],
      "metadata": {
        "id": "vkIVv3LfWxsk"
      }
    },
    {
      "cell_type": "code",
      "execution_count": null,
      "metadata": {
        "id": "PjAE4UZDPyzH"
      },
      "outputs": [],
      "source": [
        "from sklearn.preprocessing import MinMaxScaler\n",
        "scalar = MinMaxScaler()\n",
        "\n",
        "for col in X.columns:\n",
        "   if (X[col].values.max()) != 1:\n",
        "     X[col] = scalar.fit_transform(X[[col]])\n"
      ]
    },
    {
      "cell_type": "code",
      "execution_count": null,
      "metadata": {
        "colab": {
          "base_uri": "https://localhost:8080/",
          "height": 306
        },
        "id": "n5iy-Hn7EAUu",
        "outputId": "47d3fca7-801e-4ed7-c754-be399bec3622"
      },
      "outputs": [
        {
          "output_type": "execute_result",
          "data": {
            "text/plain": [
              "    Age (yrs)  Weight (Kg)  Height(Cm)        BMI  Blood Group  \\\n",
              "0    0.285714     0.176623     0.348837  0.259878     0.571429   \n",
              "1    0.571429     0.441558     0.569767  0.472141     0.571429   \n",
              "2    0.464286     0.490909     0.651163  0.485347     0.000000   \n",
              "\n",
              "   Pulse rate(bpm)   RR (breaths/min)  Hb(g/dl)  Cycle(R/I)  \\\n",
              "0          0.942029          0.500000  0.314286         0.0   \n",
              "1          0.884058          0.333333  0.507937         0.0   \n",
              "2          0.855072          0.166667  0.523810         0.0   \n",
              "\n",
              "   Cycle length(days)  ...  Pimples(Y/N)  Fast food (Y/N)  Reg.Exercise(Y/N)  \\\n",
              "0            0.416667  ...             0              1.0                  0   \n",
              "1            0.416667  ...             0              0.0                  0   \n",
              "2            0.416667  ...             1              1.0                  0   \n",
              "\n",
              "   BP _Systolic (mmHg)  BP _Diastolic (mmHg)  Follicle No. (L)  \\\n",
              "0             0.765625              0.782609          0.136364   \n",
              "1             0.843750              0.673913          0.136364   \n",
              "2             0.843750              0.782609          0.590909   \n",
              "\n",
              "   Follicle No. (R)  Avg. F size (L) (mm)  Avg. F size (R) (mm)  \\\n",
              "0              0.15                 0.750              0.750000   \n",
              "1              0.25                 0.625              0.583333   \n",
              "2              0.75                 0.750              0.833333   \n",
              "\n",
              "   Endometrium (mm)  \n",
              "0          0.472222  \n",
              "1          0.205556  \n",
              "2          0.555556  \n",
              "\n",
              "[3 rows x 41 columns]"
            ],
            "text/html": [
              "\n",
              "  <div id=\"df-451253a6-49a1-44a6-a07c-63bc24bac858\">\n",
              "    <div class=\"colab-df-container\">\n",
              "      <div>\n",
              "<style scoped>\n",
              "    .dataframe tbody tr th:only-of-type {\n",
              "        vertical-align: middle;\n",
              "    }\n",
              "\n",
              "    .dataframe tbody tr th {\n",
              "        vertical-align: top;\n",
              "    }\n",
              "\n",
              "    .dataframe thead th {\n",
              "        text-align: right;\n",
              "    }\n",
              "</style>\n",
              "<table border=\"1\" class=\"dataframe\">\n",
              "  <thead>\n",
              "    <tr style=\"text-align: right;\">\n",
              "      <th></th>\n",
              "      <th>Age (yrs)</th>\n",
              "      <th>Weight (Kg)</th>\n",
              "      <th>Height(Cm)</th>\n",
              "      <th>BMI</th>\n",
              "      <th>Blood Group</th>\n",
              "      <th>Pulse rate(bpm)</th>\n",
              "      <th>RR (breaths/min)</th>\n",
              "      <th>Hb(g/dl)</th>\n",
              "      <th>Cycle(R/I)</th>\n",
              "      <th>Cycle length(days)</th>\n",
              "      <th>...</th>\n",
              "      <th>Pimples(Y/N)</th>\n",
              "      <th>Fast food (Y/N)</th>\n",
              "      <th>Reg.Exercise(Y/N)</th>\n",
              "      <th>BP _Systolic (mmHg)</th>\n",
              "      <th>BP _Diastolic (mmHg)</th>\n",
              "      <th>Follicle No. (L)</th>\n",
              "      <th>Follicle No. (R)</th>\n",
              "      <th>Avg. F size (L) (mm)</th>\n",
              "      <th>Avg. F size (R) (mm)</th>\n",
              "      <th>Endometrium (mm)</th>\n",
              "    </tr>\n",
              "  </thead>\n",
              "  <tbody>\n",
              "    <tr>\n",
              "      <th>0</th>\n",
              "      <td>0.285714</td>\n",
              "      <td>0.176623</td>\n",
              "      <td>0.348837</td>\n",
              "      <td>0.259878</td>\n",
              "      <td>0.571429</td>\n",
              "      <td>0.942029</td>\n",
              "      <td>0.500000</td>\n",
              "      <td>0.314286</td>\n",
              "      <td>0.0</td>\n",
              "      <td>0.416667</td>\n",
              "      <td>...</td>\n",
              "      <td>0</td>\n",
              "      <td>1.0</td>\n",
              "      <td>0</td>\n",
              "      <td>0.765625</td>\n",
              "      <td>0.782609</td>\n",
              "      <td>0.136364</td>\n",
              "      <td>0.15</td>\n",
              "      <td>0.750</td>\n",
              "      <td>0.750000</td>\n",
              "      <td>0.472222</td>\n",
              "    </tr>\n",
              "    <tr>\n",
              "      <th>1</th>\n",
              "      <td>0.571429</td>\n",
              "      <td>0.441558</td>\n",
              "      <td>0.569767</td>\n",
              "      <td>0.472141</td>\n",
              "      <td>0.571429</td>\n",
              "      <td>0.884058</td>\n",
              "      <td>0.333333</td>\n",
              "      <td>0.507937</td>\n",
              "      <td>0.0</td>\n",
              "      <td>0.416667</td>\n",
              "      <td>...</td>\n",
              "      <td>0</td>\n",
              "      <td>0.0</td>\n",
              "      <td>0</td>\n",
              "      <td>0.843750</td>\n",
              "      <td>0.673913</td>\n",
              "      <td>0.136364</td>\n",
              "      <td>0.25</td>\n",
              "      <td>0.625</td>\n",
              "      <td>0.583333</td>\n",
              "      <td>0.205556</td>\n",
              "    </tr>\n",
              "    <tr>\n",
              "      <th>2</th>\n",
              "      <td>0.464286</td>\n",
              "      <td>0.490909</td>\n",
              "      <td>0.651163</td>\n",
              "      <td>0.485347</td>\n",
              "      <td>0.000000</td>\n",
              "      <td>0.855072</td>\n",
              "      <td>0.166667</td>\n",
              "      <td>0.523810</td>\n",
              "      <td>0.0</td>\n",
              "      <td>0.416667</td>\n",
              "      <td>...</td>\n",
              "      <td>1</td>\n",
              "      <td>1.0</td>\n",
              "      <td>0</td>\n",
              "      <td>0.843750</td>\n",
              "      <td>0.782609</td>\n",
              "      <td>0.590909</td>\n",
              "      <td>0.75</td>\n",
              "      <td>0.750</td>\n",
              "      <td>0.833333</td>\n",
              "      <td>0.555556</td>\n",
              "    </tr>\n",
              "  </tbody>\n",
              "</table>\n",
              "<p>3 rows × 41 columns</p>\n",
              "</div>\n",
              "      <button class=\"colab-df-convert\" onclick=\"convertToInteractive('df-451253a6-49a1-44a6-a07c-63bc24bac858')\"\n",
              "              title=\"Convert this dataframe to an interactive table.\"\n",
              "              style=\"display:none;\">\n",
              "        \n",
              "  <svg xmlns=\"http://www.w3.org/2000/svg\" height=\"24px\"viewBox=\"0 0 24 24\"\n",
              "       width=\"24px\">\n",
              "    <path d=\"M0 0h24v24H0V0z\" fill=\"none\"/>\n",
              "    <path d=\"M18.56 5.44l.94 2.06.94-2.06 2.06-.94-2.06-.94-.94-2.06-.94 2.06-2.06.94zm-11 1L8.5 8.5l.94-2.06 2.06-.94-2.06-.94L8.5 2.5l-.94 2.06-2.06.94zm10 10l.94 2.06.94-2.06 2.06-.94-2.06-.94-.94-2.06-.94 2.06-2.06.94z\"/><path d=\"M17.41 7.96l-1.37-1.37c-.4-.4-.92-.59-1.43-.59-.52 0-1.04.2-1.43.59L10.3 9.45l-7.72 7.72c-.78.78-.78 2.05 0 2.83L4 21.41c.39.39.9.59 1.41.59.51 0 1.02-.2 1.41-.59l7.78-7.78 2.81-2.81c.8-.78.8-2.07 0-2.86zM5.41 20L4 18.59l7.72-7.72 1.47 1.35L5.41 20z\"/>\n",
              "  </svg>\n",
              "      </button>\n",
              "      \n",
              "  <style>\n",
              "    .colab-df-container {\n",
              "      display:flex;\n",
              "      flex-wrap:wrap;\n",
              "      gap: 12px;\n",
              "    }\n",
              "\n",
              "    .colab-df-convert {\n",
              "      background-color: #E8F0FE;\n",
              "      border: none;\n",
              "      border-radius: 50%;\n",
              "      cursor: pointer;\n",
              "      display: none;\n",
              "      fill: #1967D2;\n",
              "      height: 32px;\n",
              "      padding: 0 0 0 0;\n",
              "      width: 32px;\n",
              "    }\n",
              "\n",
              "    .colab-df-convert:hover {\n",
              "      background-color: #E2EBFA;\n",
              "      box-shadow: 0px 1px 2px rgba(60, 64, 67, 0.3), 0px 1px 3px 1px rgba(60, 64, 67, 0.15);\n",
              "      fill: #174EA6;\n",
              "    }\n",
              "\n",
              "    [theme=dark] .colab-df-convert {\n",
              "      background-color: #3B4455;\n",
              "      fill: #D2E3FC;\n",
              "    }\n",
              "\n",
              "    [theme=dark] .colab-df-convert:hover {\n",
              "      background-color: #434B5C;\n",
              "      box-shadow: 0px 1px 3px 1px rgba(0, 0, 0, 0.15);\n",
              "      filter: drop-shadow(0px 1px 2px rgba(0, 0, 0, 0.3));\n",
              "      fill: #FFFFFF;\n",
              "    }\n",
              "  </style>\n",
              "\n",
              "      <script>\n",
              "        const buttonEl =\n",
              "          document.querySelector('#df-451253a6-49a1-44a6-a07c-63bc24bac858 button.colab-df-convert');\n",
              "        buttonEl.style.display =\n",
              "          google.colab.kernel.accessAllowed ? 'block' : 'none';\n",
              "\n",
              "        async function convertToInteractive(key) {\n",
              "          const element = document.querySelector('#df-451253a6-49a1-44a6-a07c-63bc24bac858');\n",
              "          const dataTable =\n",
              "            await google.colab.kernel.invokeFunction('convertToInteractive',\n",
              "                                                     [key], {});\n",
              "          if (!dataTable) return;\n",
              "\n",
              "          const docLinkHtml = 'Like what you see? Visit the ' +\n",
              "            '<a target=\"_blank\" href=https://colab.research.google.com/notebooks/data_table.ipynb>data table notebook</a>'\n",
              "            + ' to learn more about interactive tables.';\n",
              "          element.innerHTML = '';\n",
              "          dataTable['output_type'] = 'display_data';\n",
              "          await google.colab.output.renderOutput(dataTable, element);\n",
              "          const docLink = document.createElement('div');\n",
              "          docLink.innerHTML = docLinkHtml;\n",
              "          element.appendChild(docLink);\n",
              "        }\n",
              "      </script>\n",
              "    </div>\n",
              "  </div>\n",
              "  "
            ]
          },
          "metadata": {},
          "execution_count": 10
        }
      ],
      "source": [
        "X.head(3)"
      ]
    },
    {
      "cell_type": "code",
      "execution_count": null,
      "metadata": {
        "id": "hryjCeIAH9Sg"
      },
      "outputs": [],
      "source": [
        "# X.columns"
      ]
    },
    {
      "cell_type": "markdown",
      "source": [
        "# FEATURE EXTRACTION PROCESS"
      ],
      "metadata": {
        "id": "NsPFdFpbSXF5"
      }
    },
    {
      "cell_type": "markdown",
      "metadata": {
        "id": "ltDtBeisErDs"
      },
      "source": [
        "# LASSO REGULARIZATION"
      ]
    },
    {
      "cell_type": "code",
      "execution_count": null,
      "metadata": {
        "colab": {
          "base_uri": "https://localhost:8080/"
        },
        "id": "iuiwzlduGsg_",
        "outputId": "98e831e9-7970-4b62-bee2-f4c243a8be2e"
      },
      "outputs": [
        {
          "output_type": "stream",
          "name": "stdout",
          "text": [
            "[[0.28571429 0.         0.23333333 ... 0.765625   0.13636364 0.15      ]\n",
            " [0.57142857 0.         0.36666667 ... 0.84375    0.13636364 0.25      ]\n",
            " [0.46428571 0.         0.33333333 ... 0.84375    0.59090909 0.75      ]\n",
            " ...\n",
            " [0.57142857 0.         0.26666667 ... 0.765625   0.04545455 0.        ]\n",
            " [0.25       0.66666667 0.06666667 ... 0.765625   0.31818182 0.3       ]\n",
            " [0.10714286 0.66666667 0.06666667 ... 0.84375    0.40909091 0.5       ]]\n",
            "Number of column:  33\n",
            "colums :   Index([' Age (yrs)', 'Weight (Kg)', 'Height(Cm) ', 'BMI', 'Blood Group',\n",
            "       'Pulse rate(bpm) ', 'RR (breaths/min)', 'Hb(g/dl)', 'Cycle(R/I)',\n",
            "       'Cycle length(days)', 'Marraige Status (Yrs)', 'Pregnant(Y/N)',\n",
            "       'No. of aborptions', '  I   beta-HCG(mIU/mL)', 'II    beta-HCG(mIU/mL)',\n",
            "       'Hip(inch)', 'Waist(inch)', 'Waist:Hip Ratio', 'AMH(ng/mL)',\n",
            "       'PRL(ng/mL)', 'RBS(mg/dl)', 'Weight gain(Y/N)', 'hair growth(Y/N)',\n",
            "       'Skin darkening (Y/N)', 'Hair loss(Y/N)', 'Pimples(Y/N)',\n",
            "       'Fast food (Y/N)', 'Reg.Exercise(Y/N)', 'Follicle No. (L)',\n",
            "       'Follicle No. (R)', 'Avg. F size (L) (mm)', 'Avg. F size (R) (mm)',\n",
            "       'Endometrium (mm)'],\n",
            "      dtype='object')\n"
          ]
        },
        {
          "output_type": "stream",
          "name": "stderr",
          "text": [
            "/usr/local/lib/python3.7/dist-packages/sklearn/base.py:444: UserWarning: X has feature names, but SelectFromModel was fitted without feature names\n",
            "  f\"X has feature names, but {self.__class__.__name__} was fitted without\"\n"
          ]
        }
      ],
      "source": [
        "from sklearn.linear_model import LogisticRegression\n",
        "from sklearn.feature_selection import SelectFromModel\n",
        "# from sklearn import selecte\n",
        "\n",
        "# set the regularization paramter c=1\n",
        "logistic = LogisticRegression(C=1, penalty='l1', solver='liblinear', random_state=7).fit(X,y)\n",
        "model = SelectFromModel(logistic, prefit=True)\n",
        "\n",
        "x_new = model.transform(X)\n",
        "print(x_new)\n",
        "\n",
        "select_colum = X.columns[X.var() > 0.004]\n",
        "print('Number of column: ' , len(select_colum))\n",
        "print('colums :  ' , select_colum)\n",
        "\n",
        "# Dropped colums have value of all 0s, keep other columns \n",
        "# select_columns = selected_features.columns[selected_features.var() != 0]\n",
        "# select_colums\n"
      ]
    },
    {
      "cell_type": "code",
      "source": [
        "def cm_to_inch(value):\n",
        "    return value/2.54\n",
        "lasso_feature = pd.Series(X.var(), X.columns)\n",
        "lasso_feature.plot(kind='barh', color='teal')\n",
        "plt.show()\n",
        "plt.figure(figsize=(cm_to_inch(50), cm_to_inch(25)))\n"
      ],
      "metadata": {
        "colab": {
          "base_uri": "https://localhost:8080/",
          "height": 302
        },
        "id": "Za5pDOR8V0qR",
        "outputId": "591216d6-f205-407b-f2cd-be39db992f12"
      },
      "execution_count": null,
      "outputs": [
        {
          "output_type": "display_data",
          "data": {
            "text/plain": [
              "<Figure size 432x288 with 1 Axes>"
            ],
            "image/png": "[encoded data removed]"
          },
          "metadata": {
            "needs_background": "light"
          }
        },
        {
          "output_type": "execute_result",
          "data": {
            "text/plain": [
              "<Figure size 1417.32x708.661 with 0 Axes>"
            ]
          },
          "metadata": {},
          "execution_count": 12
        },
        {
          "output_type": "display_data",
          "data": {
            "text/plain": [
              "<Figure size 1417.32x708.661 with 0 Axes>"
            ]
          },
          "metadata": {}
        }
      ]
    },
    {
      "cell_type": "code",
      "execution_count": null,
      "metadata": {
        "colab": {
          "base_uri": "https://localhost:8080/"
        },
        "id": "u7WQnT04SyZN",
        "outputId": "efee8f6f-0f83-4713-fb7b-221634cc3490"
      },
      "outputs": [
        {
          "output_type": "execute_result",
          "data": {
            "text/plain": [
              "(541, 33)"
            ]
          },
          "metadata": {},
          "execution_count": 13
        }
      ],
      "source": [
        "data = X[select_colum]\n",
        "data.shape"
      ]
    },
    {
      "cell_type": "markdown",
      "metadata": {
        "id": "uEUnHpEeCktJ"
      },
      "source": [
        "# DATA BALANCING"
      ]
    },
    {
      "cell_type": "markdown",
      "metadata": {
        "id": "NzE8eqiYV2v_"
      },
      "source": [
        "# 4. Random over-sampling with imblearn"
      ]
    },
    {
      "cell_type": "code",
      "execution_count": null,
      "metadata": {
        "colab": {
          "base_uri": "https://localhost:8080/"
        },
        "id": "xrxGAKetM9Uu",
        "outputId": "0cacb4b4-360f-4332-b794-ebdb021c537d"
      },
      "outputs": [
        {
          "output_type": "execute_result",
          "data": {
            "text/plain": [
              "0    364\n",
              "1    364\n",
              "Name: PCOS (Y/N), dtype: int64"
            ]
          },
          "metadata": {},
          "execution_count": 14
        }
      ],
      "source": [
        "# import library\n",
        "from imblearn.over_sampling import RandomOverSampler\n",
        "\n",
        "ros = RandomOverSampler(random_state=42)\n",
        "\n",
        "# fit predictor and target variablex_ros\n",
        "X_balance , y_balance = ros.fit_resample(data, y)\n",
        "\n",
        "y_balance.value_counts()"
      ]
    },
    {
      "cell_type": "markdown",
      "source": [
        "# PEARSON'S CORRELATION FEATURE"
      ],
      "metadata": {
        "id": "XOVWjWEPTX7H"
      }
    },
    {
      "cell_type": "code",
      "execution_count": null,
      "metadata": {
        "colab": {
          "base_uri": "https://localhost:8080/"
        },
        "id": "-3BbejsypX49",
        "outputId": "9c02977d-4ae1-4ad5-87c4-88b959e45359"
      },
      "outputs": [
        {
          "output_type": "stream",
          "name": "stdout",
          "text": [
            "(728, 24)\n"
          ]
        }
      ],
      "source": [
        "# pearson's correlation feature selection for numeric input and numeric output\n",
        "from sklearn.datasets import make_regression\n",
        "from sklearn.feature_selection import SelectKBest\n",
        "from sklearn.feature_selection import f_regression\n",
        "# generate dataset\n",
        "X, y = make_regression(n_samples=100, n_features=100, n_informative=10)\n",
        "# define feature selection\n",
        "fs = SelectKBest(score_func=f_regression, k=24)\n",
        "# apply feature selection\n",
        "X_selected = fs.fit_transform(X_balance, y_balance)\n",
        "print(X_selected.shape)"
      ]
    },
    {
      "cell_type": "code",
      "source": [
        "y_balance[350] == y[350]"
      ],
      "metadata": {
        "colab": {
          "base_uri": "https://localhost:8080/",
          "height": 165
        },
        "id": "5_MNsUmEXiYT",
        "outputId": "1d5cafc9-694a-4aa5-f3ae-226947c914dd"
      },
      "execution_count": null,
      "outputs": [
        {
          "output_type": "error",
          "ename": "IndexError",
          "evalue": "ignored",
          "traceback": [
            "\u001b[0;31m---------------------------------------------------------------------------\u001b[0m",
            "\u001b[0;31mIndexError\u001b[0m                                Traceback (most recent call last)",
            "\u001b[0;32m<ipython-input-16-a14db971803e>\u001b[0m in \u001b[0;36m<module>\u001b[0;34m()\u001b[0m\n\u001b[0;32m----> 1\u001b[0;31m \u001b[0my_balance\u001b[0m\u001b[0;34m[\u001b[0m\u001b[0;36m350\u001b[0m\u001b[0;34m]\u001b[0m \u001b[0;34m==\u001b[0m \u001b[0my\u001b[0m\u001b[0;34m[\u001b[0m\u001b[0;36m350\u001b[0m\u001b[0;34m]\u001b[0m\u001b[0;34m\u001b[0m\u001b[0;34m\u001b[0m\u001b[0m\n\u001b[0m",
            "\u001b[0;31mIndexError\u001b[0m: index 350 is out of bounds for axis 0 with size 100"
          ]
        }
      ]
    },
    {
      "cell_type": "markdown",
      "metadata": {
        "id": "Beraq71OWAym"
      },
      "source": [
        "# 6. Synthetic Minority Oversampling Technique (SMOTE)\n"
      ]
    },
    {
      "cell_type": "code",
      "execution_count": null,
      "metadata": {
        "id": "2W9SMTPDWBuy"
      },
      "outputs": [],
      "source": [
        "# # import library\n",
        "# from imblearn.over_sampling import SMOTE\n",
        "\n",
        "# smote = SMOTE()\n",
        "\n",
        "# # fit predictor and target variable\n",
        "# X_balance , y_balance = smote.fit_resample(data, y)\n"
      ]
    },
    {
      "cell_type": "markdown",
      "metadata": {
        "id": "t76x-NO9M97b"
      },
      "source": [
        "# MODEL TRAINING "
      ]
    },
    {
      "cell_type": "code",
      "execution_count": null,
      "metadata": {
        "id": "kcWd5Kk3CozQ"
      },
      "outputs": [],
      "source": [
        "from sklearn.model_selection import train_test_split\n",
        "# X_train, X_test, y_train, y_test = train_test_split(data, y) \n",
        "# X_train, X_test, y_train, y_test = train_test_split(X_balance, y_balance) \n",
        "X_train, X_test, y_train, y_test = train_test_split(X_selected, y_balance) "
      ]
    },
    {
      "cell_type": "code",
      "execution_count": null,
      "metadata": {
        "id": "zbkBAGBJCoYc",
        "colab": {
          "base_uri": "https://localhost:8080/"
        },
        "outputId": "5128794a-a270-4acf-a7c9-7d7c796b60a9"
      },
      "outputs": [
        {
          "output_type": "stream",
          "name": "stdout",
          "text": [
            "X train : (546, 24)\n",
            "X test : (182, 24)\n",
            "y train : (546,)\n",
            "y test : (182,)\n"
          ]
        }
      ],
      "source": [
        "print(f'X train : {X_train.shape}')\n",
        "print(f'X test : {X_test.shape}')\n",
        "print(f'y train : {y_train.shape}')\n",
        "print(f'y test : {y_test.shape}')"
      ]
    },
    {
      "cell_type": "markdown",
      "metadata": {
        "id": "tyAfsjNjUhwA"
      },
      "source": [
        "# ENSEMBLE RANDOM CLASSIFIER\n",
        "\n",
        "\n"
      ]
    },
    {
      "cell_type": "code",
      "execution_count": null,
      "metadata": {
        "id": "A4aQvp6EUnEv",
        "colab": {
          "base_uri": "https://localhost:8080/"
        },
        "outputId": "b9a033f0-feb5-4119-9e7d-7e6544c7719d"
      },
      "outputs": [
        {
          "output_type": "execute_result",
          "data": {
            "text/plain": [
              "0.978021978021978"
            ]
          },
          "metadata": {},
          "execution_count": 21
        }
      ],
      "source": [
        "from sklearn.ensemble import RandomForestClassifier\n",
        "rf_classifier = RandomForestClassifier()\n",
        "rf_classifier.fit(X_train, y_train)\n",
        "rf_classifier.score(X_test, y_test)"
      ]
    },
    {
      "cell_type": "markdown",
      "source": [
        "# MODEL  TESTING AND EVALUTION"
      ],
      "metadata": {
        "id": "3rEKRN7W9knZ"
      }
    },
    {
      "cell_type": "code",
      "source": [
        "from sklearn.metrics import classification_report\n",
        "\n",
        "prediction = rf_classifier.predict(X_test)\n",
        "report = classification_report(y_test, prediction)\n",
        "report"
      ],
      "metadata": {
        "id": "XlY6eD4-co62"
      },
      "execution_count": null,
      "outputs": []
    },
    {
      "cell_type": "code",
      "source": [
        "#               precision    recall  f1-score   support\n",
        "\n",
        "#            0       0.99      0.96      0.98        84\n",
        "#            1       0.97      0.99      0.98        98\n",
        "\n",
        "#     accuracy                           0.98       182\n",
        "#    macro avg       0.98      0.98      0.98       182\n",
        "# weighted avg       0.98      0.98      0.98       182\n"
      ],
      "metadata": {
        "id": "nVw42TKF-hv9"
      },
      "execution_count": null,
      "outputs": []
    },
    {
      "cell_type": "code",
      "source": [
        "# !pip install --target=$nb_path scikit-plot"
      ],
      "metadata": {
        "id": "yCZv1OGY9swq"
      },
      "execution_count": null,
      "outputs": []
    },
    {
      "cell_type": "markdown",
      "source": [
        "# CONFUSION MATRIX"
      ],
      "metadata": {
        "id": "gMSKDBKC_Y-6"
      }
    },
    {
      "cell_type": "code",
      "source": [
        "# confusion matrix\n",
        "from scikitplot.metrics import plot_confusion_matrix\n",
        "\n",
        "plot_confusion_matrix(y_test, prediction,\n",
        "                      figsize=(8,6),\n",
        "                      title=f'Confusion Matrix: N={len(y_test)}',\n",
        "                      normalize=False); "
      ],
      "metadata": {
        "colab": {
          "base_uri": "https://localhost:8080/",
          "height": 404
        },
        "id": "KYtuTKeS_TjO",
        "outputId": "d6e28646-907a-41e8-edbe-7b4a27327ff7"
      },
      "execution_count": null,
      "outputs": [
        {
          "output_type": "display_data",
          "data": {
            "text/plain": [
              "<Figure size 576x432 with 2 Axes>"
            ],
            "image/png": "[encoded data removed]"
          },
          "metadata": {
            "needs_background": "light"
          }
        }
      ]
    }
  ],
  "metadata": {
    "colab": {
      "name": "pcos.ipynb",
      "provenance": [],
      "collapsed_sections": []
    },
    "kernelspec": {
      "display_name": "Python 3",
      "name": "python3"
    },
    "language_info": {
      "name": "python"
    }
  },
  "nbformat": 4,
  "nbformat_minor": 0
}