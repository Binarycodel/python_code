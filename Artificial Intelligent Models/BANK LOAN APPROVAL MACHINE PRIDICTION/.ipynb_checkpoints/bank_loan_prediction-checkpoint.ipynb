{
 "cells": [
  {
   "cell_type": "markdown",
   "id": "8ee48f1d",
   "metadata": {},
   "source": [
    "# IMPORT BANK LOAN DATASET"
   ]
  },
  {
   "cell_type": "code",
   "execution_count": 1,
   "id": "178d6107",
   "metadata": {},
   "outputs": [],
   "source": [
    "import pandas as pd"
   ]
  },
  {
   "cell_type": "code",
   "execution_count": 2,
   "id": "237a6433",
   "metadata": {},
   "outputs": [
    {
     "data": {
      "text/html": [
       "<div>\n",
       "<style scoped>\n",
       "    .dataframe tbody tr th:only-of-type {\n",
       "        vertical-align: middle;\n",
       "    }\n",
       "\n",
       "    .dataframe tbody tr th {\n",
       "        vertical-align: top;\n",
       "    }\n",
       "\n",
       "    .dataframe thead th {\n",
       "        text-align: right;\n",
       "    }\n",
       "</style>\n",
       "<table border=\"1\" class=\"dataframe\">\n",
       "  <thead>\n",
       "    <tr style=\"text-align: right;\">\n",
       "      <th></th>\n",
       "      <th>Loan_ID</th>\n",
       "      <th>Gender</th>\n",
       "      <th>Married</th>\n",
       "      <th>Dependents</th>\n",
       "      <th>Education</th>\n",
       "      <th>Self_Employed</th>\n",
       "      <th>ApplicantIncome</th>\n",
       "      <th>CoapplicantIncome</th>\n",
       "      <th>LoanAmount</th>\n",
       "      <th>Loan_Amount_Term</th>\n",
       "      <th>Credit_History</th>\n",
       "      <th>Property_Area</th>\n",
       "      <th>Loan_Status</th>\n",
       "    </tr>\n",
       "  </thead>\n",
       "  <tbody>\n",
       "    <tr>\n",
       "      <th>0</th>\n",
       "      <td>LP001002</td>\n",
       "      <td>Male</td>\n",
       "      <td>No</td>\n",
       "      <td>0</td>\n",
       "      <td>Graduate</td>\n",
       "      <td>No</td>\n",
       "      <td>5849</td>\n",
       "      <td>0.0</td>\n",
       "      <td>NaN</td>\n",
       "      <td>360.0</td>\n",
       "      <td>1.0</td>\n",
       "      <td>Urban</td>\n",
       "      <td>Y</td>\n",
       "    </tr>\n",
       "    <tr>\n",
       "      <th>1</th>\n",
       "      <td>LP001003</td>\n",
       "      <td>Male</td>\n",
       "      <td>Yes</td>\n",
       "      <td>1</td>\n",
       "      <td>Graduate</td>\n",
       "      <td>No</td>\n",
       "      <td>4583</td>\n",
       "      <td>1508.0</td>\n",
       "      <td>128.0</td>\n",
       "      <td>360.0</td>\n",
       "      <td>1.0</td>\n",
       "      <td>Rural</td>\n",
       "      <td>N</td>\n",
       "    </tr>\n",
       "    <tr>\n",
       "      <th>2</th>\n",
       "      <td>LP001005</td>\n",
       "      <td>Male</td>\n",
       "      <td>Yes</td>\n",
       "      <td>0</td>\n",
       "      <td>Graduate</td>\n",
       "      <td>Yes</td>\n",
       "      <td>3000</td>\n",
       "      <td>0.0</td>\n",
       "      <td>66.0</td>\n",
       "      <td>360.0</td>\n",
       "      <td>1.0</td>\n",
       "      <td>Urban</td>\n",
       "      <td>Y</td>\n",
       "    </tr>\n",
       "    <tr>\n",
       "      <th>3</th>\n",
       "      <td>LP001006</td>\n",
       "      <td>Male</td>\n",
       "      <td>Yes</td>\n",
       "      <td>0</td>\n",
       "      <td>Not Graduate</td>\n",
       "      <td>No</td>\n",
       "      <td>2583</td>\n",
       "      <td>2358.0</td>\n",
       "      <td>120.0</td>\n",
       "      <td>360.0</td>\n",
       "      <td>1.0</td>\n",
       "      <td>Urban</td>\n",
       "      <td>Y</td>\n",
       "    </tr>\n",
       "    <tr>\n",
       "      <th>4</th>\n",
       "      <td>LP001008</td>\n",
       "      <td>Male</td>\n",
       "      <td>No</td>\n",
       "      <td>0</td>\n",
       "      <td>Graduate</td>\n",
       "      <td>No</td>\n",
       "      <td>6000</td>\n",
       "      <td>0.0</td>\n",
       "      <td>141.0</td>\n",
       "      <td>360.0</td>\n",
       "      <td>1.0</td>\n",
       "      <td>Urban</td>\n",
       "      <td>Y</td>\n",
       "    </tr>\n",
       "    <tr>\n",
       "      <th>5</th>\n",
       "      <td>LP001011</td>\n",
       "      <td>Male</td>\n",
       "      <td>Yes</td>\n",
       "      <td>2</td>\n",
       "      <td>Graduate</td>\n",
       "      <td>Yes</td>\n",
       "      <td>5417</td>\n",
       "      <td>4196.0</td>\n",
       "      <td>267.0</td>\n",
       "      <td>360.0</td>\n",
       "      <td>1.0</td>\n",
       "      <td>Urban</td>\n",
       "      <td>Y</td>\n",
       "    </tr>\n",
       "    <tr>\n",
       "      <th>6</th>\n",
       "      <td>LP001013</td>\n",
       "      <td>Male</td>\n",
       "      <td>Yes</td>\n",
       "      <td>0</td>\n",
       "      <td>Not Graduate</td>\n",
       "      <td>No</td>\n",
       "      <td>2333</td>\n",
       "      <td>1516.0</td>\n",
       "      <td>95.0</td>\n",
       "      <td>360.0</td>\n",
       "      <td>1.0</td>\n",
       "      <td>Urban</td>\n",
       "      <td>Y</td>\n",
       "    </tr>\n",
       "    <tr>\n",
       "      <th>7</th>\n",
       "      <td>LP001014</td>\n",
       "      <td>Male</td>\n",
       "      <td>Yes</td>\n",
       "      <td>3+</td>\n",
       "      <td>Graduate</td>\n",
       "      <td>No</td>\n",
       "      <td>3036</td>\n",
       "      <td>2504.0</td>\n",
       "      <td>158.0</td>\n",
       "      <td>360.0</td>\n",
       "      <td>0.0</td>\n",
       "      <td>Semiurban</td>\n",
       "      <td>N</td>\n",
       "    </tr>\n",
       "    <tr>\n",
       "      <th>8</th>\n",
       "      <td>LP001018</td>\n",
       "      <td>Male</td>\n",
       "      <td>Yes</td>\n",
       "      <td>2</td>\n",
       "      <td>Graduate</td>\n",
       "      <td>No</td>\n",
       "      <td>4006</td>\n",
       "      <td>1526.0</td>\n",
       "      <td>168.0</td>\n",
       "      <td>360.0</td>\n",
       "      <td>1.0</td>\n",
       "      <td>Urban</td>\n",
       "      <td>Y</td>\n",
       "    </tr>\n",
       "    <tr>\n",
       "      <th>9</th>\n",
       "      <td>LP001020</td>\n",
       "      <td>Male</td>\n",
       "      <td>Yes</td>\n",
       "      <td>1</td>\n",
       "      <td>Graduate</td>\n",
       "      <td>No</td>\n",
       "      <td>12841</td>\n",
       "      <td>10968.0</td>\n",
       "      <td>349.0</td>\n",
       "      <td>360.0</td>\n",
       "      <td>1.0</td>\n",
       "      <td>Semiurban</td>\n",
       "      <td>N</td>\n",
       "    </tr>\n",
       "  </tbody>\n",
       "</table>\n",
       "</div>"
      ],
      "text/plain": [
       "    Loan_ID Gender Married Dependents     Education Self_Employed  \\\n",
       "0  LP001002   Male      No          0      Graduate            No   \n",
       "1  LP001003   Male     Yes          1      Graduate            No   \n",
       "2  LP001005   Male     Yes          0      Graduate           Yes   \n",
       "3  LP001006   Male     Yes          0  Not Graduate            No   \n",
       "4  LP001008   Male      No          0      Graduate            No   \n",
       "5  LP001011   Male     Yes          2      Graduate           Yes   \n",
       "6  LP001013   Male     Yes          0  Not Graduate            No   \n",
       "7  LP001014   Male     Yes         3+      Graduate            No   \n",
       "8  LP001018   Male     Yes          2      Graduate            No   \n",
       "9  LP001020   Male     Yes          1      Graduate            No   \n",
       "\n",
       "   ApplicantIncome  CoapplicantIncome  LoanAmount  Loan_Amount_Term  \\\n",
       "0             5849                0.0         NaN             360.0   \n",
       "1             4583             1508.0       128.0             360.0   \n",
       "2             3000                0.0        66.0             360.0   \n",
       "3             2583             2358.0       120.0             360.0   \n",
       "4             6000                0.0       141.0             360.0   \n",
       "5             5417             4196.0       267.0             360.0   \n",
       "6             2333             1516.0        95.0             360.0   \n",
       "7             3036             2504.0       158.0             360.0   \n",
       "8             4006             1526.0       168.0             360.0   \n",
       "9            12841            10968.0       349.0             360.0   \n",
       "\n",
       "   Credit_History Property_Area Loan_Status  \n",
       "0             1.0         Urban           Y  \n",
       "1             1.0         Rural           N  \n",
       "2             1.0         Urban           Y  \n",
       "3             1.0         Urban           Y  \n",
       "4             1.0         Urban           Y  \n",
       "5             1.0         Urban           Y  \n",
       "6             1.0         Urban           Y  \n",
       "7             0.0     Semiurban           N  \n",
       "8             1.0         Urban           Y  \n",
       "9             1.0     Semiurban           N  "
      ]
     },
     "execution_count": 2,
     "metadata": {},
     "output_type": "execute_result"
    }
   ],
   "source": [
    "data = pd.read_csv('loan_data_set.csv')\n",
    "data.head(10)"
   ]
  },
  {
   "cell_type": "code",
   "execution_count": 3,
   "id": "15ff221c",
   "metadata": {},
   "outputs": [
    {
     "data": {
      "text/plain": [
       "array([360., 120., 240.,  nan, 180.,  60., 300., 480.,  36.,  84.,  12.])"
      ]
     },
     "execution_count": 3,
     "metadata": {},
     "output_type": "execute_result"
    }
   ],
   "source": [
    "data.Loan_Amount_Term.unique()"
   ]
  },
  {
   "cell_type": "markdown",
   "id": "f7fa8e7a",
   "metadata": {},
   "source": [
    "# dropping the loan id column not important for our prediction"
   ]
  },
  {
   "cell_type": "code",
   "execution_count": 4,
   "id": "2cbe70a5",
   "metadata": {},
   "outputs": [
    {
     "data": {
      "text/plain": [
       "Index(['Loan_ID', 'Gender', 'Married', 'Dependents', 'Education',\n",
       "       'Self_Employed', 'ApplicantIncome', 'CoapplicantIncome', 'LoanAmount',\n",
       "       'Loan_Amount_Term', 'Credit_History', 'Property_Area', 'Loan_Status'],\n",
       "      dtype='object')"
      ]
     },
     "execution_count": 4,
     "metadata": {},
     "output_type": "execute_result"
    }
   ],
   "source": [
    "data.columns"
   ]
  },
  {
   "cell_type": "code",
   "execution_count": 5,
   "id": "0a220505",
   "metadata": {},
   "outputs": [
    {
     "name": "stdout",
     "output_type": "stream",
     "text": [
      "Yes loan status:  422\n",
      "No loan status:   192\n",
      "Total data sampele :  614\n"
     ]
    },
    {
     "data": {
      "text/plain": [
       "<BarContainer object of 2 artists>"
      ]
     },
     "execution_count": 5,
     "metadata": {},
     "output_type": "execute_result"
    },
    {
     "data": {
      "image/png": "[encoded data removed]",
      "text/plain": [
       "<Figure size 432x288 with 1 Axes>"
      ]
     },
     "metadata": {
      "needs_background": "light"
     },
     "output_type": "display_data"
    }
   ],
   "source": [
    "y = data.Loan_Status\n",
    "print('Yes loan status: ' , len(data[data['Loan_Status']=='Y']))\n",
    "print('No loan status:  ' , len(data[data['Loan_Status']=='N']))\n",
    "\n",
    "yes_status = len(data[data['Loan_Status']=='Y'])\n",
    "no_status = len(data[data['Loan_Status']=='N'])\n",
    "\n",
    "print ('Total data sampele : ' , yes_status+no_status)\n",
    "\n",
    "import matplotlib.pyplot as pt\n",
    "import numpy as np\n",
    "X_plot = ['Yes' , 'No']\n",
    "y_plot = [yes_status, no_status]\n",
    "pt.ylabel('Sample count')\n",
    "pt.xlabel('classes')\n",
    "pt.title('Data Sample Class [Yes, No]')\n",
    "pt.bar(X_plot , y_plot , color=['red', 'green'])"
   ]
  },
  {
   "cell_type": "code",
   "execution_count": null,
   "id": "27483811",
   "metadata": {},
   "outputs": [],
   "source": []
  },
  {
   "cell_type": "code",
   "execution_count": 6,
   "id": "17900adb",
   "metadata": {},
   "outputs": [],
   "source": [
    "# data.head()\n",
    "data.drop(['Loan_ID', 'Loan_Status', 'Dependents', 'Self_Employed', 'CoapplicantIncome', 'Loan_Amount_Term'], inplace=True, axis=1)\n",
    "# data.head()"
   ]
  },
  {
   "cell_type": "code",
   "execution_count": 7,
   "id": "4885a5cd",
   "metadata": {
    "scrolled": true
   },
   "outputs": [
    {
     "data": {
      "text/html": [
       "<div>\n",
       "<style scoped>\n",
       "    .dataframe tbody tr th:only-of-type {\n",
       "        vertical-align: middle;\n",
       "    }\n",
       "\n",
       "    .dataframe tbody tr th {\n",
       "        vertical-align: top;\n",
       "    }\n",
       "\n",
       "    .dataframe thead th {\n",
       "        text-align: right;\n",
       "    }\n",
       "</style>\n",
       "<table border=\"1\" class=\"dataframe\">\n",
       "  <thead>\n",
       "    <tr style=\"text-align: right;\">\n",
       "      <th></th>\n",
       "      <th>Gender</th>\n",
       "      <th>Married</th>\n",
       "      <th>Education</th>\n",
       "      <th>ApplicantIncome</th>\n",
       "      <th>LoanAmount</th>\n",
       "      <th>Credit_History</th>\n",
       "      <th>Property_Area</th>\n",
       "    </tr>\n",
       "  </thead>\n",
       "  <tbody>\n",
       "    <tr>\n",
       "      <th>0</th>\n",
       "      <td>Male</td>\n",
       "      <td>No</td>\n",
       "      <td>Graduate</td>\n",
       "      <td>5849</td>\n",
       "      <td>NaN</td>\n",
       "      <td>1.0</td>\n",
       "      <td>Urban</td>\n",
       "    </tr>\n",
       "    <tr>\n",
       "      <th>1</th>\n",
       "      <td>Male</td>\n",
       "      <td>Yes</td>\n",
       "      <td>Graduate</td>\n",
       "      <td>4583</td>\n",
       "      <td>128.0</td>\n",
       "      <td>1.0</td>\n",
       "      <td>Rural</td>\n",
       "    </tr>\n",
       "    <tr>\n",
       "      <th>2</th>\n",
       "      <td>Male</td>\n",
       "      <td>Yes</td>\n",
       "      <td>Graduate</td>\n",
       "      <td>3000</td>\n",
       "      <td>66.0</td>\n",
       "      <td>1.0</td>\n",
       "      <td>Urban</td>\n",
       "    </tr>\n",
       "    <tr>\n",
       "      <th>3</th>\n",
       "      <td>Male</td>\n",
       "      <td>Yes</td>\n",
       "      <td>Not Graduate</td>\n",
       "      <td>2583</td>\n",
       "      <td>120.0</td>\n",
       "      <td>1.0</td>\n",
       "      <td>Urban</td>\n",
       "    </tr>\n",
       "    <tr>\n",
       "      <th>4</th>\n",
       "      <td>Male</td>\n",
       "      <td>No</td>\n",
       "      <td>Graduate</td>\n",
       "      <td>6000</td>\n",
       "      <td>141.0</td>\n",
       "      <td>1.0</td>\n",
       "      <td>Urban</td>\n",
       "    </tr>\n",
       "  </tbody>\n",
       "</table>\n",
       "</div>"
      ],
      "text/plain": [
       "  Gender Married     Education  ApplicantIncome  LoanAmount  Credit_History  \\\n",
       "0   Male      No      Graduate             5849         NaN             1.0   \n",
       "1   Male     Yes      Graduate             4583       128.0             1.0   \n",
       "2   Male     Yes      Graduate             3000        66.0             1.0   \n",
       "3   Male     Yes  Not Graduate             2583       120.0             1.0   \n",
       "4   Male      No      Graduate             6000       141.0             1.0   \n",
       "\n",
       "  Property_Area  \n",
       "0         Urban  \n",
       "1         Rural  \n",
       "2         Urban  \n",
       "3         Urban  \n",
       "4         Urban  "
      ]
     },
     "execution_count": 7,
     "metadata": {},
     "output_type": "execute_result"
    }
   ],
   "source": [
    "data.head()"
   ]
  },
  {
   "cell_type": "markdown",
   "id": "acda35a5",
   "metadata": {},
   "source": [
    "# DATA EXPLORATION"
   ]
  },
  {
   "cell_type": "code",
   "execution_count": 8,
   "id": "e735b559",
   "metadata": {},
   "outputs": [
    {
     "name": "stdout",
     "output_type": "stream",
     "text": [
      "614 sample data point , 7 independent attributes\n"
     ]
    }
   ],
   "source": [
    "row, columns = data.shape\n",
    "print(f'{row} sample data point , {columns} independent attributes')"
   ]
  },
  {
   "cell_type": "code",
   "execution_count": null,
   "id": "4d1ff831",
   "metadata": {},
   "outputs": [],
   "source": []
  },
  {
   "cell_type": "code",
   "execution_count": 9,
   "id": "1d2a4f62",
   "metadata": {
    "scrolled": true
   },
   "outputs": [
    {
     "name": "stdout",
     "output_type": "stream",
     "text": [
      "<class 'pandas.core.frame.DataFrame'>\n",
      "RangeIndex: 614 entries, 0 to 613\n",
      "Data columns (total 7 columns):\n",
      " #   Column           Non-Null Count  Dtype  \n",
      "---  ------           --------------  -----  \n",
      " 0   Gender           601 non-null    object \n",
      " 1   Married          611 non-null    object \n",
      " 2   Education        614 non-null    object \n",
      " 3   ApplicantIncome  614 non-null    int64  \n",
      " 4   LoanAmount       592 non-null    float64\n",
      " 5   Credit_History   564 non-null    float64\n",
      " 6   Property_Area    614 non-null    object \n",
      "dtypes: float64(2), int64(1), object(4)\n",
      "memory usage: 33.7+ KB\n"
     ]
    }
   ],
   "source": [
    "data.info()"
   ]
  },
  {
   "cell_type": "code",
   "execution_count": 10,
   "id": "dcd9801c",
   "metadata": {},
   "outputs": [
    {
     "data": {
      "text/plain": [
       "array(['Urban', 'Rural', 'Semiurban'], dtype=object)"
      ]
     },
     "execution_count": 10,
     "metadata": {},
     "output_type": "execute_result"
    }
   ],
   "source": [
    "data.Property_Area.unique()"
   ]
  },
  {
   "cell_type": "code",
   "execution_count": 11,
   "id": "8df59ae6",
   "metadata": {
    "scrolled": true
   },
   "outputs": [
    {
     "name": "stdout",
     "output_type": "stream",
     "text": [
      "male 489 , female 112\n"
     ]
    }
   ],
   "source": [
    "male = len(data[data['Gender']==\"Male\"])\n",
    "female = len(data[data['Gender']==\"Female\"])\n",
    "print(f'male {male} , female {female}')"
   ]
  },
  {
   "cell_type": "code",
   "execution_count": 12,
   "id": "6b8cb6e9",
   "metadata": {},
   "outputs": [
    {
     "data": {
      "text/html": [
       "<div>\n",
       "<style scoped>\n",
       "    .dataframe tbody tr th:only-of-type {\n",
       "        vertical-align: middle;\n",
       "    }\n",
       "\n",
       "    .dataframe tbody tr th {\n",
       "        vertical-align: top;\n",
       "    }\n",
       "\n",
       "    .dataframe thead th {\n",
       "        text-align: right;\n",
       "    }\n",
       "</style>\n",
       "<table border=\"1\" class=\"dataframe\">\n",
       "  <thead>\n",
       "    <tr style=\"text-align: right;\">\n",
       "      <th></th>\n",
       "      <th>Gender</th>\n",
       "      <th>Married</th>\n",
       "      <th>Education</th>\n",
       "      <th>ApplicantIncome</th>\n",
       "      <th>LoanAmount</th>\n",
       "      <th>Credit_History</th>\n",
       "      <th>Property_Area</th>\n",
       "    </tr>\n",
       "  </thead>\n",
       "  <tbody>\n",
       "    <tr>\n",
       "      <th>0</th>\n",
       "      <td>Male</td>\n",
       "      <td>No</td>\n",
       "      <td>Graduate</td>\n",
       "      <td>5849</td>\n",
       "      <td>NaN</td>\n",
       "      <td>1.0</td>\n",
       "      <td>Urban</td>\n",
       "    </tr>\n",
       "    <tr>\n",
       "      <th>1</th>\n",
       "      <td>Male</td>\n",
       "      <td>Yes</td>\n",
       "      <td>Graduate</td>\n",
       "      <td>4583</td>\n",
       "      <td>128.0</td>\n",
       "      <td>1.0</td>\n",
       "      <td>Rural</td>\n",
       "    </tr>\n",
       "  </tbody>\n",
       "</table>\n",
       "</div>"
      ],
      "text/plain": [
       "  Gender Married Education  ApplicantIncome  LoanAmount  Credit_History  \\\n",
       "0   Male      No  Graduate             5849         NaN             1.0   \n",
       "1   Male     Yes  Graduate             4583       128.0             1.0   \n",
       "\n",
       "  Property_Area  \n",
       "0         Urban  \n",
       "1         Rural  "
      ]
     },
     "execution_count": 12,
     "metadata": {},
     "output_type": "execute_result"
    }
   ],
   "source": [
    "data.head(2)"
   ]
  },
  {
   "cell_type": "markdown",
   "id": "49fae7ad",
   "metadata": {},
   "source": [
    "# finding correlation between attribute"
   ]
  },
  {
   "cell_type": "code",
   "execution_count": 13,
   "id": "dec8a893",
   "metadata": {},
   "outputs": [],
   "source": [
    "# import matplotlib.pyplot as pt\n",
    "# from sklearn import preprocessing\n",
    "# men_loan_y_status = data.loc[(data['Gender'] == \"Male\") & (data['Loan_Status']=='Y'), ['Gender', 'Loan_Status']]\n",
    "# men_loan_n_status = data.loc[(data['Gender'] == \"Male\") & (data['Loan_Status']=='N'), ['Gender', 'Loan_Status']]\n",
    "\n",
    "# female_loan_y_status = data.loc[(data['Gender'] == \"Female\") & (data['Loan_Status']=='Y'), ['Gender', 'Loan_Status']]\n",
    "# female_loan_n_status = data.loc[(data['Gender'] == \"Female\") & (data['Loan_Status']=='N'), ['Gender', 'Loan_Status']]\n",
    "\n",
    "# print(f' Male ===>>>  Yes = {len(men_loan_y_status)} No = {len(men_loan_n_status)}')\n",
    "\n",
    "# print(f' Female ====>>> Yes = {len(female_loan_y_status)} No = {len(female_loan_n_status)}')\n"
   ]
  },
  {
   "cell_type": "code",
   "execution_count": null,
   "id": "bca12a73",
   "metadata": {},
   "outputs": [],
   "source": []
  },
  {
   "cell_type": "code",
   "execution_count": 14,
   "id": "ada4cb8b",
   "metadata": {},
   "outputs": [
    {
     "data": {
      "text/plain": [
       "<BarContainer object of 2 artists>"
      ]
     },
     "execution_count": 14,
     "metadata": {},
     "output_type": "execute_result"
    },
    {
     "data": {
      "image/png": "[encoded data removed]",
      "text/plain": [
       "<Figure size 432x288 with 1 Axes>"
      ]
     },
     "metadata": {
      "needs_background": "light"
     },
     "output_type": "display_data"
    }
   ],
   "source": [
    "import matplotlib.pyplot as pt\n",
    "import numpy as np\n",
    "X_plot = ['male' , 'female']\n",
    "y_plot = [male, female]\n",
    "pt.title('Loan Request')\n",
    "pt.bar(X_plot , y_plot , color=['red', 'green'])"
   ]
  },
  {
   "cell_type": "code",
   "execution_count": 15,
   "id": "512f47dd",
   "metadata": {
    "scrolled": true
   },
   "outputs": [
    {
     "name": "stdout",
     "output_type": "stream",
     "text": [
      "Male 357\n",
      "Female 31\n"
     ]
    },
    {
     "data": {
      "text/plain": [
       "<matplotlib.legend.Legend at 0x2d31f979460>"
      ]
     },
     "execution_count": 15,
     "metadata": {},
     "output_type": "execute_result"
    },
    {
     "data": {
      "image/png": "[encoded data removed]",
      "text/plain": [
       "<Figure size 432x288 with 1 Axes>"
      ]
     },
     "metadata": {
      "needs_background": "light"
     },
     "output_type": "display_data"
    }
   ],
   "source": [
    "maried_male = data.loc[(data['Gender']=='Male') & (data['Married']=='Yes') , ['Gender', 'Married']]\n",
    "maried_female = data.loc[(data['Gender']=='Female') & (data['Married']=='Yes') , ['Gender', 'Married']]\n",
    "maried_male_not = data.loc[(data['Gender']=='Male') & (data['Married']=='No') , ['Gender', 'Married']]\n",
    "maried_female_not = data.loc[(data['Gender']=='Female') & (data['Married']=='No') , ['Gender', 'Married']]\n",
    "\n",
    "print('Male' , len(maried_male))\n",
    "print('Female' , len(maried_female))\n",
    "maried_male.count()\n",
    "\n",
    "X_plot = ['male' , 'female']\n",
    "xpos = np.arange(len(X_plot))\n",
    "y_plot = [len(maried_male), len(maried_female)]\n",
    "y_plot_not = [len(maried_male_not), len(maried_female_not)]\n",
    "pt.title('Married status' )\n",
    "pt.xticks(xpos, X_plot)\n",
    "pt.ylabel('marital status count')\n",
    "pt.bar(xpos-0.2 , y_plot , width=0.4, label='Married')\n",
    "pt.bar(xpos+0.2 , y_plot_not , width=0.4, label='Not_Married')\n",
    "pt.legend()"
   ]
  },
  {
   "cell_type": "code",
   "execution_count": 16,
   "id": "a97bcfa6",
   "metadata": {},
   "outputs": [],
   "source": [
    "# ms = data.loc[(data['Self_Employed']=='No') & (data['Gender']=='Male'), ['Gender']]\n",
    "# ms"
   ]
  },
  {
   "cell_type": "markdown",
   "id": "918588d3",
   "metadata": {},
   "source": [
    "# Data Preprocessing and cleaning"
   ]
  },
  {
   "cell_type": "code",
   "execution_count": 17,
   "id": "9f2502b0",
   "metadata": {},
   "outputs": [
    {
     "name": "stdout",
     "output_type": "stream",
     "text": [
      "shape (614, 7)\n"
     ]
    },
    {
     "data": {
      "text/html": [
       "<div>\n",
       "<style scoped>\n",
       "    .dataframe tbody tr th:only-of-type {\n",
       "        vertical-align: middle;\n",
       "    }\n",
       "\n",
       "    .dataframe tbody tr th {\n",
       "        vertical-align: top;\n",
       "    }\n",
       "\n",
       "    .dataframe thead th {\n",
       "        text-align: right;\n",
       "    }\n",
       "</style>\n",
       "<table border=\"1\" class=\"dataframe\">\n",
       "  <thead>\n",
       "    <tr style=\"text-align: right;\">\n",
       "      <th></th>\n",
       "      <th>Gender</th>\n",
       "      <th>Married</th>\n",
       "      <th>Education</th>\n",
       "      <th>ApplicantIncome</th>\n",
       "      <th>LoanAmount</th>\n",
       "      <th>Credit_History</th>\n",
       "      <th>Property_Area</th>\n",
       "    </tr>\n",
       "  </thead>\n",
       "  <tbody>\n",
       "    <tr>\n",
       "      <th>0</th>\n",
       "      <td>Male</td>\n",
       "      <td>No</td>\n",
       "      <td>Graduate</td>\n",
       "      <td>5849</td>\n",
       "      <td>NaN</td>\n",
       "      <td>1.0</td>\n",
       "      <td>Urban</td>\n",
       "    </tr>\n",
       "    <tr>\n",
       "      <th>1</th>\n",
       "      <td>Male</td>\n",
       "      <td>Yes</td>\n",
       "      <td>Graduate</td>\n",
       "      <td>4583</td>\n",
       "      <td>128.0</td>\n",
       "      <td>1.0</td>\n",
       "      <td>Rural</td>\n",
       "    </tr>\n",
       "    <tr>\n",
       "      <th>2</th>\n",
       "      <td>Male</td>\n",
       "      <td>Yes</td>\n",
       "      <td>Graduate</td>\n",
       "      <td>3000</td>\n",
       "      <td>66.0</td>\n",
       "      <td>1.0</td>\n",
       "      <td>Urban</td>\n",
       "    </tr>\n",
       "    <tr>\n",
       "      <th>3</th>\n",
       "      <td>Male</td>\n",
       "      <td>Yes</td>\n",
       "      <td>Not Graduate</td>\n",
       "      <td>2583</td>\n",
       "      <td>120.0</td>\n",
       "      <td>1.0</td>\n",
       "      <td>Urban</td>\n",
       "    </tr>\n",
       "    <tr>\n",
       "      <th>4</th>\n",
       "      <td>Male</td>\n",
       "      <td>No</td>\n",
       "      <td>Graduate</td>\n",
       "      <td>6000</td>\n",
       "      <td>141.0</td>\n",
       "      <td>1.0</td>\n",
       "      <td>Urban</td>\n",
       "    </tr>\n",
       "    <tr>\n",
       "      <th>5</th>\n",
       "      <td>Male</td>\n",
       "      <td>Yes</td>\n",
       "      <td>Graduate</td>\n",
       "      <td>5417</td>\n",
       "      <td>267.0</td>\n",
       "      <td>1.0</td>\n",
       "      <td>Urban</td>\n",
       "    </tr>\n",
       "    <tr>\n",
       "      <th>6</th>\n",
       "      <td>Male</td>\n",
       "      <td>Yes</td>\n",
       "      <td>Not Graduate</td>\n",
       "      <td>2333</td>\n",
       "      <td>95.0</td>\n",
       "      <td>1.0</td>\n",
       "      <td>Urban</td>\n",
       "    </tr>\n",
       "    <tr>\n",
       "      <th>7</th>\n",
       "      <td>Male</td>\n",
       "      <td>Yes</td>\n",
       "      <td>Graduate</td>\n",
       "      <td>3036</td>\n",
       "      <td>158.0</td>\n",
       "      <td>0.0</td>\n",
       "      <td>Semiurban</td>\n",
       "    </tr>\n",
       "    <tr>\n",
       "      <th>8</th>\n",
       "      <td>Male</td>\n",
       "      <td>Yes</td>\n",
       "      <td>Graduate</td>\n",
       "      <td>4006</td>\n",
       "      <td>168.0</td>\n",
       "      <td>1.0</td>\n",
       "      <td>Urban</td>\n",
       "    </tr>\n",
       "    <tr>\n",
       "      <th>9</th>\n",
       "      <td>Male</td>\n",
       "      <td>Yes</td>\n",
       "      <td>Graduate</td>\n",
       "      <td>12841</td>\n",
       "      <td>349.0</td>\n",
       "      <td>1.0</td>\n",
       "      <td>Semiurban</td>\n",
       "    </tr>\n",
       "  </tbody>\n",
       "</table>\n",
       "</div>"
      ],
      "text/plain": [
       "  Gender Married     Education  ApplicantIncome  LoanAmount  Credit_History  \\\n",
       "0   Male      No      Graduate             5849         NaN             1.0   \n",
       "1   Male     Yes      Graduate             4583       128.0             1.0   \n",
       "2   Male     Yes      Graduate             3000        66.0             1.0   \n",
       "3   Male     Yes  Not Graduate             2583       120.0             1.0   \n",
       "4   Male      No      Graduate             6000       141.0             1.0   \n",
       "5   Male     Yes      Graduate             5417       267.0             1.0   \n",
       "6   Male     Yes  Not Graduate             2333        95.0             1.0   \n",
       "7   Male     Yes      Graduate             3036       158.0             0.0   \n",
       "8   Male     Yes      Graduate             4006       168.0             1.0   \n",
       "9   Male     Yes      Graduate            12841       349.0             1.0   \n",
       "\n",
       "  Property_Area  \n",
       "0         Urban  \n",
       "1         Rural  \n",
       "2         Urban  \n",
       "3         Urban  \n",
       "4         Urban  \n",
       "5         Urban  \n",
       "6         Urban  \n",
       "7     Semiurban  \n",
       "8         Urban  \n",
       "9     Semiurban  "
      ]
     },
     "execution_count": 17,
     "metadata": {},
     "output_type": "execute_result"
    }
   ],
   "source": [
    "print('shape' , data.shape)\n",
    "data.head(10)"
   ]
  },
  {
   "cell_type": "code",
   "execution_count": 18,
   "id": "52f6ee29",
   "metadata": {},
   "outputs": [
    {
     "name": "stdout",
     "output_type": "stream",
     "text": [
      "loan 146.41216216216216\n",
      "<class 'pandas.core.frame.DataFrame'>\n",
      "RangeIndex: 614 entries, 0 to 613\n",
      "Data columns (total 7 columns):\n",
      " #   Column           Non-Null Count  Dtype  \n",
      "---  ------           --------------  -----  \n",
      " 0   Gender           614 non-null    object \n",
      " 1   Married          614 non-null    object \n",
      " 2   Education        614 non-null    object \n",
      " 3   ApplicantIncome  614 non-null    int64  \n",
      " 4   LoanAmount       614 non-null    float64\n",
      " 5   Credit_History   614 non-null    float64\n",
      " 6   Property_Area    614 non-null    object \n",
      "dtypes: float64(2), int64(1), object(4)\n",
      "memory usage: 33.7+ KB\n"
     ]
    }
   ],
   "source": [
    "data['Gender'] = data[\"Gender\"].fillna(method=\"ffill\")\n",
    "data['Married'] = data[\"Married\"].fillna(method=\"ffill\")\n",
    "# data['Dependents'] = data[\"Dependents\"].fillna(method=\"ffill\")\n",
    "# data['Self_Employed'] = data[\"Self_Employed\"].fillna(method=\"ffill\")\n",
    "\n",
    "loan_mean = data.LoanAmount.mean()\n",
    "# loan_mean_t = data.Loan_Amount_Term.mean() \n",
    "credict_mode = data.Credit_History.max()\n",
    "\n",
    "print('loan', loan_mean)\n",
    "data = data.fillna({\n",
    "    \"LoanAmount\":loan_mean, \n",
    "    'Credit_History': credict_mode\n",
    "})\n",
    "\n",
    "data.info()"
   ]
  },
  {
   "cell_type": "code",
   "execution_count": 19,
   "id": "532e5376",
   "metadata": {},
   "outputs": [],
   "source": [
    "from sklearn.preprocessing import LabelEncoder"
   ]
  },
  {
   "cell_type": "code",
   "execution_count": 20,
   "id": "4cfae64e",
   "metadata": {},
   "outputs": [
    {
     "data": {
      "text/html": [
       "<div>\n",
       "<style scoped>\n",
       "    .dataframe tbody tr th:only-of-type {\n",
       "        vertical-align: middle;\n",
       "    }\n",
       "\n",
       "    .dataframe tbody tr th {\n",
       "        vertical-align: top;\n",
       "    }\n",
       "\n",
       "    .dataframe thead th {\n",
       "        text-align: right;\n",
       "    }\n",
       "</style>\n",
       "<table border=\"1\" class=\"dataframe\">\n",
       "  <thead>\n",
       "    <tr style=\"text-align: right;\">\n",
       "      <th></th>\n",
       "      <th>Gender</th>\n",
       "      <th>Married</th>\n",
       "      <th>Education</th>\n",
       "      <th>ApplicantIncome</th>\n",
       "      <th>LoanAmount</th>\n",
       "      <th>Credit_History</th>\n",
       "      <th>Property_Area</th>\n",
       "    </tr>\n",
       "  </thead>\n",
       "  <tbody>\n",
       "    <tr>\n",
       "      <th>390</th>\n",
       "      <td>1</td>\n",
       "      <td>0</td>\n",
       "      <td>0</td>\n",
       "      <td>9167</td>\n",
       "      <td>185.0</td>\n",
       "      <td>1.0</td>\n",
       "      <td>0</td>\n",
       "    </tr>\n",
       "    <tr>\n",
       "      <th>240</th>\n",
       "      <td>1</td>\n",
       "      <td>1</td>\n",
       "      <td>0</td>\n",
       "      <td>5819</td>\n",
       "      <td>120.0</td>\n",
       "      <td>1.0</td>\n",
       "      <td>0</td>\n",
       "    </tr>\n",
       "    <tr>\n",
       "      <th>570</th>\n",
       "      <td>1</td>\n",
       "      <td>1</td>\n",
       "      <td>0</td>\n",
       "      <td>3417</td>\n",
       "      <td>186.0</td>\n",
       "      <td>1.0</td>\n",
       "      <td>2</td>\n",
       "    </tr>\n",
       "    <tr>\n",
       "      <th>106</th>\n",
       "      <td>1</td>\n",
       "      <td>1</td>\n",
       "      <td>0</td>\n",
       "      <td>11417</td>\n",
       "      <td>225.0</td>\n",
       "      <td>1.0</td>\n",
       "      <td>2</td>\n",
       "    </tr>\n",
       "    <tr>\n",
       "      <th>308</th>\n",
       "      <td>1</td>\n",
       "      <td>0</td>\n",
       "      <td>0</td>\n",
       "      <td>20233</td>\n",
       "      <td>480.0</td>\n",
       "      <td>1.0</td>\n",
       "      <td>0</td>\n",
       "    </tr>\n",
       "  </tbody>\n",
       "</table>\n",
       "</div>"
      ],
      "text/plain": [
       "     Gender  Married  Education  ApplicantIncome  LoanAmount  Credit_History  \\\n",
       "390       1        0          0             9167       185.0             1.0   \n",
       "240       1        1          0             5819       120.0             1.0   \n",
       "570       1        1          0             3417       186.0             1.0   \n",
       "106       1        1          0            11417       225.0             1.0   \n",
       "308       1        0          0            20233       480.0             1.0   \n",
       "\n",
       "     Property_Area  \n",
       "390              0  \n",
       "240              0  \n",
       "570              2  \n",
       "106              2  \n",
       "308              0  "
      ]
     },
     "execution_count": 20,
     "metadata": {},
     "output_type": "execute_result"
    }
   ],
   "source": [
    "le = LabelEncoder()\n",
    "data.Gender = le.fit_transform(data.Gender)\n",
    "data.Married= le.fit_transform(data.Married)\n",
    "# data.Self_Employed= le.fit_transform(data.Self_Employed)\n",
    "data.Property_Area = le.fit_transform(data.Property_Area)\n",
    "data.Education = le.fit_transform(data.Education)\n",
    "data.sample(5)"
   ]
  },
  {
   "cell_type": "raw",
   "id": "8818c59a",
   "metadata": {},
   "source": [
    "\n"
   ]
  },
  {
   "cell_type": "code",
   "execution_count": 21,
   "id": "0596c5b1",
   "metadata": {},
   "outputs": [
    {
     "name": "stdout",
     "output_type": "stream",
     "text": [
      "<class 'pandas.core.frame.DataFrame'>\n",
      "RangeIndex: 614 entries, 0 to 613\n",
      "Data columns (total 7 columns):\n",
      " #   Column           Non-Null Count  Dtype  \n",
      "---  ------           --------------  -----  \n",
      " 0   Gender           614 non-null    int32  \n",
      " 1   Married          614 non-null    int32  \n",
      " 2   Education        614 non-null    float64\n",
      " 3   ApplicantIncome  614 non-null    int64  \n",
      " 4   LoanAmount       614 non-null    float64\n",
      " 5   Credit_History   614 non-null    float64\n",
      " 6   Property_Area    614 non-null    int32  \n",
      "dtypes: float64(3), int32(3), int64(1)\n",
      "memory usage: 26.5 KB\n"
     ]
    }
   ],
   "source": [
    "\n",
    "# data['Dependents'].replace('3+' , 3, inplace=True)\n",
    "# data['Dependents'] = data['Dependents'].astype(str).astype(float)\n",
    "data['Education'] = data['Education'].astype(str).astype(float)\n",
    "data.info()"
   ]
  },
  {
   "cell_type": "code",
   "execution_count": 22,
   "id": "3f685593",
   "metadata": {},
   "outputs": [
    {
     "data": {
      "text/html": [
       "<div>\n",
       "<style scoped>\n",
       "    .dataframe tbody tr th:only-of-type {\n",
       "        vertical-align: middle;\n",
       "    }\n",
       "\n",
       "    .dataframe tbody tr th {\n",
       "        vertical-align: top;\n",
       "    }\n",
       "\n",
       "    .dataframe thead th {\n",
       "        text-align: right;\n",
       "    }\n",
       "</style>\n",
       "<table border=\"1\" class=\"dataframe\">\n",
       "  <thead>\n",
       "    <tr style=\"text-align: right;\">\n",
       "      <th></th>\n",
       "      <th>Gender</th>\n",
       "      <th>Married</th>\n",
       "      <th>Education</th>\n",
       "      <th>ApplicantIncome</th>\n",
       "      <th>LoanAmount</th>\n",
       "      <th>Credit_History</th>\n",
       "      <th>Property_Area</th>\n",
       "    </tr>\n",
       "  </thead>\n",
       "  <tbody>\n",
       "    <tr>\n",
       "      <th>0</th>\n",
       "      <td>1</td>\n",
       "      <td>0</td>\n",
       "      <td>0.0</td>\n",
       "      <td>5849</td>\n",
       "      <td>146.412162</td>\n",
       "      <td>1.0</td>\n",
       "      <td>2</td>\n",
       "    </tr>\n",
       "    <tr>\n",
       "      <th>1</th>\n",
       "      <td>1</td>\n",
       "      <td>1</td>\n",
       "      <td>0.0</td>\n",
       "      <td>4583</td>\n",
       "      <td>128.000000</td>\n",
       "      <td>1.0</td>\n",
       "      <td>0</td>\n",
       "    </tr>\n",
       "    <tr>\n",
       "      <th>2</th>\n",
       "      <td>1</td>\n",
       "      <td>1</td>\n",
       "      <td>0.0</td>\n",
       "      <td>3000</td>\n",
       "      <td>66.000000</td>\n",
       "      <td>1.0</td>\n",
       "      <td>2</td>\n",
       "    </tr>\n",
       "    <tr>\n",
       "      <th>3</th>\n",
       "      <td>1</td>\n",
       "      <td>1</td>\n",
       "      <td>1.0</td>\n",
       "      <td>2583</td>\n",
       "      <td>120.000000</td>\n",
       "      <td>1.0</td>\n",
       "      <td>2</td>\n",
       "    </tr>\n",
       "    <tr>\n",
       "      <th>4</th>\n",
       "      <td>1</td>\n",
       "      <td>0</td>\n",
       "      <td>0.0</td>\n",
       "      <td>6000</td>\n",
       "      <td>141.000000</td>\n",
       "      <td>1.0</td>\n",
       "      <td>2</td>\n",
       "    </tr>\n",
       "    <tr>\n",
       "      <th>...</th>\n",
       "      <td>...</td>\n",
       "      <td>...</td>\n",
       "      <td>...</td>\n",
       "      <td>...</td>\n",
       "      <td>...</td>\n",
       "      <td>...</td>\n",
       "      <td>...</td>\n",
       "    </tr>\n",
       "    <tr>\n",
       "      <th>609</th>\n",
       "      <td>0</td>\n",
       "      <td>0</td>\n",
       "      <td>0.0</td>\n",
       "      <td>2900</td>\n",
       "      <td>71.000000</td>\n",
       "      <td>1.0</td>\n",
       "      <td>0</td>\n",
       "    </tr>\n",
       "    <tr>\n",
       "      <th>610</th>\n",
       "      <td>1</td>\n",
       "      <td>1</td>\n",
       "      <td>0.0</td>\n",
       "      <td>4106</td>\n",
       "      <td>40.000000</td>\n",
       "      <td>1.0</td>\n",
       "      <td>0</td>\n",
       "    </tr>\n",
       "    <tr>\n",
       "      <th>611</th>\n",
       "      <td>1</td>\n",
       "      <td>1</td>\n",
       "      <td>0.0</td>\n",
       "      <td>8072</td>\n",
       "      <td>253.000000</td>\n",
       "      <td>1.0</td>\n",
       "      <td>2</td>\n",
       "    </tr>\n",
       "    <tr>\n",
       "      <th>612</th>\n",
       "      <td>1</td>\n",
       "      <td>1</td>\n",
       "      <td>0.0</td>\n",
       "      <td>7583</td>\n",
       "      <td>187.000000</td>\n",
       "      <td>1.0</td>\n",
       "      <td>2</td>\n",
       "    </tr>\n",
       "    <tr>\n",
       "      <th>613</th>\n",
       "      <td>0</td>\n",
       "      <td>0</td>\n",
       "      <td>0.0</td>\n",
       "      <td>4583</td>\n",
       "      <td>133.000000</td>\n",
       "      <td>0.0</td>\n",
       "      <td>1</td>\n",
       "    </tr>\n",
       "  </tbody>\n",
       "</table>\n",
       "<p>614 rows × 7 columns</p>\n",
       "</div>"
      ],
      "text/plain": [
       "     Gender  Married  Education  ApplicantIncome  LoanAmount  Credit_History  \\\n",
       "0         1        0        0.0             5849  146.412162             1.0   \n",
       "1         1        1        0.0             4583  128.000000             1.0   \n",
       "2         1        1        0.0             3000   66.000000             1.0   \n",
       "3         1        1        1.0             2583  120.000000             1.0   \n",
       "4         1        0        0.0             6000  141.000000             1.0   \n",
       "..      ...      ...        ...              ...         ...             ...   \n",
       "609       0        0        0.0             2900   71.000000             1.0   \n",
       "610       1        1        0.0             4106   40.000000             1.0   \n",
       "611       1        1        0.0             8072  253.000000             1.0   \n",
       "612       1        1        0.0             7583  187.000000             1.0   \n",
       "613       0        0        0.0             4583  133.000000             0.0   \n",
       "\n",
       "     Property_Area  \n",
       "0                2  \n",
       "1                0  \n",
       "2                2  \n",
       "3                2  \n",
       "4                2  \n",
       "..             ...  \n",
       "609              0  \n",
       "610              0  \n",
       "611              2  \n",
       "612              2  \n",
       "613              1  \n",
       "\n",
       "[614 rows x 7 columns]"
      ]
     },
     "execution_count": 22,
     "metadata": {},
     "output_type": "execute_result"
    }
   ],
   "source": [
    "data"
   ]
  },
  {
   "cell_type": "code",
   "execution_count": 23,
   "id": "628fee7c",
   "metadata": {},
   "outputs": [],
   "source": [
    "# data.drop('Loan_ID', inplace=True, axis=1)"
   ]
  },
  {
   "cell_type": "code",
   "execution_count": 24,
   "id": "2acb5179",
   "metadata": {},
   "outputs": [
    {
     "name": "stdout",
     "output_type": "stream",
     "text": [
      "81000\n",
      "700.0\n"
     ]
    }
   ],
   "source": [
    "# data.to_csv('clean_loan_dataset.csv')\n",
    "icome_max = data.ApplicantIncome.max()\n",
    "# coincome_max = data.CoapplicantIncome.max()\n",
    "loan_amount = data.LoanAmount.max()\n",
    "# loanATerm = data.Loan_Amount_Term.max()\n",
    "print(icome_max)\n",
    "# print(coincome_max)\n",
    "print(loan_amount)\n",
    "# print(loanATerm)"
   ]
  },
  {
   "cell_type": "markdown",
   "id": "95fad1d9",
   "metadata": {},
   "source": [
    "# Data standadization to improve machine prediction"
   ]
  },
  {
   "cell_type": "code",
   "execution_count": 25,
   "id": "89596826",
   "metadata": {},
   "outputs": [],
   "source": [
    "from sklearn.preprocessing import MinMaxScaler"
   ]
  },
  {
   "cell_type": "code",
   "execution_count": 26,
   "id": "e13d7d80",
   "metadata": {},
   "outputs": [
    {
     "data": {
      "text/html": [
       "<div>\n",
       "<style scoped>\n",
       "    .dataframe tbody tr th:only-of-type {\n",
       "        vertical-align: middle;\n",
       "    }\n",
       "\n",
       "    .dataframe tbody tr th {\n",
       "        vertical-align: top;\n",
       "    }\n",
       "\n",
       "    .dataframe thead th {\n",
       "        text-align: right;\n",
       "    }\n",
       "</style>\n",
       "<table border=\"1\" class=\"dataframe\">\n",
       "  <thead>\n",
       "    <tr style=\"text-align: right;\">\n",
       "      <th></th>\n",
       "      <th>Gender</th>\n",
       "      <th>Married</th>\n",
       "      <th>Education</th>\n",
       "      <th>ApplicantIncome</th>\n",
       "      <th>LoanAmount</th>\n",
       "      <th>Credit_History</th>\n",
       "      <th>Property_Area</th>\n",
       "    </tr>\n",
       "  </thead>\n",
       "  <tbody>\n",
       "    <tr>\n",
       "      <th>0</th>\n",
       "      <td>1</td>\n",
       "      <td>0</td>\n",
       "      <td>0.0</td>\n",
       "      <td>0.070489</td>\n",
       "      <td>0.198860</td>\n",
       "      <td>1.0</td>\n",
       "      <td>2</td>\n",
       "    </tr>\n",
       "    <tr>\n",
       "      <th>1</th>\n",
       "      <td>1</td>\n",
       "      <td>1</td>\n",
       "      <td>0.0</td>\n",
       "      <td>0.054830</td>\n",
       "      <td>0.172214</td>\n",
       "      <td>1.0</td>\n",
       "      <td>0</td>\n",
       "    </tr>\n",
       "    <tr>\n",
       "      <th>2</th>\n",
       "      <td>1</td>\n",
       "      <td>1</td>\n",
       "      <td>0.0</td>\n",
       "      <td>0.035250</td>\n",
       "      <td>0.082489</td>\n",
       "      <td>1.0</td>\n",
       "      <td>2</td>\n",
       "    </tr>\n",
       "    <tr>\n",
       "      <th>3</th>\n",
       "      <td>1</td>\n",
       "      <td>1</td>\n",
       "      <td>1.0</td>\n",
       "      <td>0.030093</td>\n",
       "      <td>0.160637</td>\n",
       "      <td>1.0</td>\n",
       "      <td>2</td>\n",
       "    </tr>\n",
       "    <tr>\n",
       "      <th>4</th>\n",
       "      <td>1</td>\n",
       "      <td>0</td>\n",
       "      <td>0.0</td>\n",
       "      <td>0.072356</td>\n",
       "      <td>0.191027</td>\n",
       "      <td>1.0</td>\n",
       "      <td>2</td>\n",
       "    </tr>\n",
       "  </tbody>\n",
       "</table>\n",
       "</div>"
      ],
      "text/plain": [
       "   Gender  Married  Education  ApplicantIncome  LoanAmount  Credit_History  \\\n",
       "0       1        0        0.0         0.070489    0.198860             1.0   \n",
       "1       1        1        0.0         0.054830    0.172214             1.0   \n",
       "2       1        1        0.0         0.035250    0.082489             1.0   \n",
       "3       1        1        1.0         0.030093    0.160637             1.0   \n",
       "4       1        0        0.0         0.072356    0.191027             1.0   \n",
       "\n",
       "   Property_Area  \n",
       "0              2  \n",
       "1              0  \n",
       "2              2  \n",
       "3              2  \n",
       "4              2  "
      ]
     },
     "execution_count": 26,
     "metadata": {},
     "output_type": "execute_result"
    }
   ],
   "source": [
    "min_max = MinMaxScaler()\n",
    "data.ApplicantIncome = min_max.fit_transform(data[['ApplicantIncome']])\n",
    "# data.CoapplicantIncome = min_max.fit_transform(data[['CoapplicantIncome']])\n",
    "data.LoanAmount = min_max.fit_transform(data[['LoanAmount']])\n",
    "# data.Loan_Amount_Term = min_max.fit_transform(data[['Loan_Amount_Term']])\n",
    "# data.Dependents = min_max.fit_transform(data[['Dependents']])\n",
    "data.head()"
   ]
  },
  {
   "cell_type": "code",
   "execution_count": 27,
   "id": "1a41fb85",
   "metadata": {},
   "outputs": [],
   "source": [
    "from sklearn import model_selection\n",
    "from sklearn.preprocessing import LabelEncoder"
   ]
  },
  {
   "cell_type": "code",
   "execution_count": 28,
   "id": "49b0f0f5",
   "metadata": {
    "scrolled": true
   },
   "outputs": [
    {
     "data": {
      "text/html": [
       "<div>\n",
       "<style scoped>\n",
       "    .dataframe tbody tr th:only-of-type {\n",
       "        vertical-align: middle;\n",
       "    }\n",
       "\n",
       "    .dataframe tbody tr th {\n",
       "        vertical-align: top;\n",
       "    }\n",
       "\n",
       "    .dataframe thead th {\n",
       "        text-align: right;\n",
       "    }\n",
       "</style>\n",
       "<table border=\"1\" class=\"dataframe\">\n",
       "  <thead>\n",
       "    <tr style=\"text-align: right;\">\n",
       "      <th></th>\n",
       "      <th>Gender</th>\n",
       "      <th>Married</th>\n",
       "      <th>Education</th>\n",
       "      <th>ApplicantIncome</th>\n",
       "      <th>LoanAmount</th>\n",
       "      <th>Credit_History</th>\n",
       "      <th>Property_Area</th>\n",
       "      <th>loan_status</th>\n",
       "    </tr>\n",
       "  </thead>\n",
       "  <tbody>\n",
       "    <tr>\n",
       "      <th>0</th>\n",
       "      <td>1</td>\n",
       "      <td>0</td>\n",
       "      <td>0.0</td>\n",
       "      <td>0.070489</td>\n",
       "      <td>0.198860</td>\n",
       "      <td>1.0</td>\n",
       "      <td>2</td>\n",
       "      <td>1</td>\n",
       "    </tr>\n",
       "    <tr>\n",
       "      <th>1</th>\n",
       "      <td>1</td>\n",
       "      <td>1</td>\n",
       "      <td>0.0</td>\n",
       "      <td>0.054830</td>\n",
       "      <td>0.172214</td>\n",
       "      <td>1.0</td>\n",
       "      <td>0</td>\n",
       "      <td>0</td>\n",
       "    </tr>\n",
       "    <tr>\n",
       "      <th>2</th>\n",
       "      <td>1</td>\n",
       "      <td>1</td>\n",
       "      <td>0.0</td>\n",
       "      <td>0.035250</td>\n",
       "      <td>0.082489</td>\n",
       "      <td>1.0</td>\n",
       "      <td>2</td>\n",
       "      <td>1</td>\n",
       "    </tr>\n",
       "    <tr>\n",
       "      <th>3</th>\n",
       "      <td>1</td>\n",
       "      <td>1</td>\n",
       "      <td>1.0</td>\n",
       "      <td>0.030093</td>\n",
       "      <td>0.160637</td>\n",
       "      <td>1.0</td>\n",
       "      <td>2</td>\n",
       "      <td>1</td>\n",
       "    </tr>\n",
       "    <tr>\n",
       "      <th>4</th>\n",
       "      <td>1</td>\n",
       "      <td>0</td>\n",
       "      <td>0.0</td>\n",
       "      <td>0.072356</td>\n",
       "      <td>0.191027</td>\n",
       "      <td>1.0</td>\n",
       "      <td>2</td>\n",
       "      <td>1</td>\n",
       "    </tr>\n",
       "  </tbody>\n",
       "</table>\n",
       "</div>"
      ],
      "text/plain": [
       "   Gender  Married  Education  ApplicantIncome  LoanAmount  Credit_History  \\\n",
       "0       1        0        0.0         0.070489    0.198860             1.0   \n",
       "1       1        1        0.0         0.054830    0.172214             1.0   \n",
       "2       1        1        0.0         0.035250    0.082489             1.0   \n",
       "3       1        1        1.0         0.030093    0.160637             1.0   \n",
       "4       1        0        0.0         0.072356    0.191027             1.0   \n",
       "\n",
       "   Property_Area  loan_status  \n",
       "0              2            1  \n",
       "1              0            0  \n",
       "2              2            1  \n",
       "3              2            1  \n",
       "4              2            1  "
      ]
     },
     "execution_count": 28,
     "metadata": {},
     "output_type": "execute_result"
    }
   ],
   "source": [
    "# transforming loan status to 0,1\n",
    "le = LabelEncoder()\n",
    "y = le.fit_transform(y) \n",
    "\n",
    "# merging with the main dataset\n",
    "dataset = data\n",
    "dataset['loan_status'] = y\n",
    "# dataset.to_csv('clean_dataset.csv')\n",
    "dataset.head()"
   ]
  },
  {
   "cell_type": "markdown",
   "id": "0fc3e52a",
   "metadata": {},
   "source": [
    "# DATA SPLITING FOR MACHINE MODEL"
   ]
  },
  {
   "cell_type": "code",
   "execution_count": 29,
   "id": "7dfcb499",
   "metadata": {},
   "outputs": [],
   "source": [
    "data.drop('loan_status', inplace=True, axis=1)"
   ]
  },
  {
   "cell_type": "code",
   "execution_count": 31,
   "id": "a38a2790",
   "metadata": {},
   "outputs": [
    {
     "name": "stdout",
     "output_type": "stream",
     "text": [
      "X Train (491, 7)\n",
      "X Test (123, 7)\n",
      "Y train (491, 7)\n",
      "Y test (123,)\n"
     ]
    }
   ],
   "source": [
    "X_train, X_test, y_train, y_test \n",
    "= model_selection.train_test_split(data , y , test_size=0.2)\n",
    "len(X_train)\n",
    "print(\"X Train\", X_train.shape)\n",
    "print(\"X Test\", X_test.shape)\n",
    "print(\"Y train\", X_train.shape)\n",
    "print(\"Y test\", y_test.shape)"
   ]
  },
  {
   "cell_type": "markdown",
   "id": "7bac07ad",
   "metadata": {},
   "source": [
    "# "
   ]
  },
  {
   "cell_type": "markdown",
   "id": "06f51ff8",
   "metadata": {},
   "source": [
    "# MACHINE LEARNING MODEL"
   ]
  },
  {
   "cell_type": "code",
   "execution_count": 43,
   "id": "625834aa",
   "metadata": {},
   "outputs": [],
   "source": [
    "from sklearn import preprocessing, metrics, naive_bayes, svm, linear_model\n",
    "from sklearn import model_selection\n",
    "from sklearn.ensemble import RandomForestClassifier\n",
    "from sklearn import naive_bayes , neighbors"
   ]
  },
  {
   "cell_type": "code",
   "execution_count": 44,
   "id": "47fefebb",
   "metadata": {},
   "outputs": [
    {
     "name": "stdout",
     "output_type": "stream",
     "text": [
      "score 0.8211382113821138 : Accuracy 0.8211382113821138\n"
     ]
    }
   ],
   "source": [
    "lr = linear_model.LogisticRegression()\n",
    "lr.fit(X_train, y_train)\n",
    "score = lr.score(X_test, y_test)\n",
    "prediction = lr.predict(X_test)\n",
    "accuracy = metrics.accuracy_score(prediction, y_test)\n",
    "print(f\"score {score} : Accuracy {accuracy}\")"
   ]
  },
  {
   "cell_type": "code",
   "execution_count": 45,
   "id": "bdea438f",
   "metadata": {},
   "outputs": [],
   "source": [
    "# X_train, X_test, y_train, y_test = model_selection.train_test_split(data , y , test_size=0.2)\n",
    "# len(X_train)\n",
    "# X_train.shape"
   ]
  },
  {
   "cell_type": "code",
   "execution_count": 46,
   "id": "8a7cb4f4",
   "metadata": {},
   "outputs": [],
   "source": [
    "# X_train, X_test, y_train, y_test = model_selection.train_test_split(data , y , test_size=0.2)\n",
    "\n",
    "def predict_model(model, xtrain, xtest, ytrain, ytest):\n",
    "    model.fit(xtrain, ytrain)\n",
    "    prediction = model.predict(X_test)\n",
    "    accuracy = metrics.accuracy_score(prediction,ytest)\n",
    "    return model, accuracy\n",
    "\n",
    "# lr_score = predict_model(linear_model.LogisticRegression() , X_train, y_train, X_test, y_test)\n",
    "# print(lr_score)"
   ]
  },
  {
   "cell_type": "markdown",
   "id": "a4c7af6f",
   "metadata": {},
   "source": [
    "# CROSS FOLD VALIDATION"
   ]
  },
  {
   "cell_type": "code",
   "execution_count": 47,
   "id": "c9649dcd",
   "metadata": {},
   "outputs": [],
   "source": [
    "  from sklearn import model_selection\n",
    "\n",
    "# fold = model_selection.StratifiedKFold(n_splits=3)\n",
    "# for train_index , test_index in fold.split(data, y):\n",
    "#     X_train, X_test, y_train, y_test = data.loc[train_index] , data.loc[test_index], y[train_index], y[test_index]\n",
    "    \n",
    "    "
   ]
  },
  {
   "cell_type": "markdown",
   "id": "1c24bcb1",
   "metadata": {},
   "source": [
    "# logistic regression"
   ]
  },
  {
   "cell_type": "code",
   "execution_count": 49,
   "id": "9e6eaf5b",
   "metadata": {},
   "outputs": [
    {
     "name": "stdout",
     "output_type": "stream",
     "text": [
      "logistic Reg scores = [0.8        0.79512195 0.83333333]\n",
      "mean score = 0.8094850948509485\n"
     ]
    }
   ],
   "source": [
    "# lg_scores = model_selection.cross_val_score(linear_model.LogisticRegression(), data , y)\n",
    "lg_scores = []\n",
    "fold = model_selection.StratifiedKFold(n_splits=3)\n",
    "for train_index , test_index in fold.split(data, y):\n",
    "    X_train, X_test, y_train, y_test = data.loc[train_index] , data.loc[test_index], y[train_index], y[test_index]\n",
    "#     print(f'{len(X_train)}, {len(X_test)}, {len(y_train)}, {len(y_test)}')\n",
    "    lg_model,lg_score = predict_model(linear_model.LogisticRegression(),  X_train, X_test, y_train, y_test)\n",
    "    lg_scores.append(lg_score)\n",
    "    \n",
    "lg_scores = np.array(lg_scores)\n",
    "print(f'logistic Reg scores = {lg_scores}')\n",
    "print(f'mean score = {lg_scores.mean()}')\n"
   ]
  },
  {
   "cell_type": "markdown",
   "id": "46129114",
   "metadata": {},
   "source": [
    "# Support Vector Machine"
   ]
  },
  {
   "cell_type": "code",
   "execution_count": 50,
   "id": "b1e493e7",
   "metadata": {},
   "outputs": [
    {
     "name": "stdout",
     "output_type": "stream",
     "text": [
      "svm scores = [0.8        0.79512195 0.83333333]\n",
      "mean score = 0.8094850948509485\n"
     ]
    }
   ],
   "source": [
    "svm_scores = []\n",
    "fold = model_selection.StratifiedKFold(n_splits=3)\n",
    "for train_index , test_index in fold.split(data, y):\n",
    "    X_train, X_test, y_train, y_test = data.loc[train_index] , data.loc[test_index], y[train_index], y[test_index]\n",
    "#     print(f'{len(X_train)}, {len(X_test)}, {len(y_train)}, {len(y_test)}')\n",
    "    svm_model,svm_score = predict_model(svm.SVC(),  X_train, X_test, y_train, y_test)\n",
    "    svm_scores.append(svm_score)\n",
    "    \n",
    "svm_scores = np.array(svm_scores)\n",
    "print(f'svm scores = {svm_scores}')\n",
    "print(f'mean score = {svm_scores.mean()}')\n"
   ]
  },
  {
   "cell_type": "markdown",
   "id": "e8fc5425",
   "metadata": {},
   "source": [
    "# Random Forest Classifier"
   ]
  },
  {
   "cell_type": "code",
   "execution_count": 60,
   "id": "6d9fcea1",
   "metadata": {},
   "outputs": [
    {
     "name": "stdout",
     "output_type": "stream",
     "text": [
      "random forest scores = [0.77073171 0.75609756 0.78431373]\n",
      "mean score = 0.7703809979276263\n"
     ]
    }
   ],
   "source": [
    "rf_scores = []\n",
    "fold = model_selection.StratifiedKFold(n_splits=3)\n",
    "for train_index , test_index in fold.split(data, y):\n",
    "    X_train, X_test, y_train, y_test = data.loc[train_index] , data.loc[test_index], y[train_index], y[test_index]\n",
    "#     print(f'{len(X_train)}, {len(X_test)}, {len(y_train)}, {len(y_test)}')\n",
    "    rf_model,rf_score = predict_model(RandomForestClassifier(n_estimators=60),  X_train, X_test, y_train, y_test)\n",
    "    rf_scores.append(rf_score)\n",
    "    \n",
    "rf_scores = np.array(rf_scores)\n",
    "print(f'random forest scores = {rf_scores}')\n",
    "print(f'mean score = {rf_scores.mean()}')"
   ]
  },
  {
   "cell_type": "markdown",
   "id": "e0d2c86d",
   "metadata": {},
   "source": [
    "# Naive Bayes Classifier"
   ]
  },
  {
   "cell_type": "code",
   "execution_count": 52,
   "id": "87b7a647",
   "metadata": {},
   "outputs": [
    {
     "name": "stdout",
     "output_type": "stream",
     "text": [
      "naive_bayes scores = [0.78536585 0.7902439  0.82352941]\n",
      "mean score = 0.799713055954089\n"
     ]
    }
   ],
   "source": [
    "nb_scores = []\n",
    "fold = model_selection.StratifiedKFold(n_splits=3)\n",
    "for train_index , test_index in fold.split(data, y):\n",
    "    X_train, X_test, y_train, y_test = data.loc[train_index] , data.loc[test_index], y[train_index], y[test_index]\n",
    "#     print(f'{len(X_train)}, {len(X_test)}, {len(y_train)}, {len(y_test)}')\n",
    "    nb_model,nb_score = predict_model(naive_bayes.GaussianNB(),  X_train, X_test, y_train, y_test)\n",
    "    nb_scores.append(nb_score)\n",
    "    \n",
    "nb_scores = np.array(nb_scores)\n",
    "print(f'naive_bayes scores = {nb_scores}')\n",
    "print(f'mean score = {nb_scores.mean()}')"
   ]
  },
  {
   "cell_type": "code",
   "execution_count": 53,
   "id": "0f4828d4",
   "metadata": {},
   "outputs": [],
   "source": [
    "X_test\n",
    "p = np.array([[0,1,0,1,0,0.24,0.77,0.24,0.74,0,1]])"
   ]
  },
  {
   "cell_type": "markdown",
   "id": "55275606",
   "metadata": {},
   "source": [
    "# KNN CLASIFFIER"
   ]
  },
  {
   "cell_type": "code",
   "execution_count": 54,
   "id": "d3242685",
   "metadata": {},
   "outputs": [
    {
     "name": "stdout",
     "output_type": "stream",
     "text": [
      "k nearest neighbor scores = [0.68780488 0.68780488 0.68627451]\n",
      "mean score = 0.6872947553004941\n"
     ]
    }
   ],
   "source": [
    "\n",
    "knn_scores = []\n",
    "fold = model_selection.StratifiedKFold(n_splits=3)\n",
    "for train_index , test_index in fold.split(data, y):\n",
    "    X_train, X_test, y_train, y_test = data.loc[train_index] , data.loc[test_index], y[train_index], y[test_index]\n",
    "#     print(f'{len(X_train)}, {len(X_test)}, {len(y_train)}, {len(y_test)}')\n",
    "    knn_model,knn_score = predict_model(neighbors.KNeighborsClassifier(n_neighbors=200),  X_train, X_test, y_train, y_test)\n",
    "#     knn_model.predict()\n",
    "    knn_scores.append(knn_score)\n",
    "    \n",
    "knn_scores = np.array(knn_scores)\n",
    "print(f'k nearest neighbor scores = {knn_scores}')\n",
    "print(f'mean score = {knn_scores.mean()}')"
   ]
  },
  {
   "cell_type": "code",
   "execution_count": null,
   "id": "696b08fb",
   "metadata": {},
   "outputs": [],
   "source": []
  },
  {
   "cell_type": "markdown",
   "id": "ec1b783f",
   "metadata": {},
   "source": [
    "# Saving the Model"
   ]
  },
  {
   "cell_type": "code",
   "execution_count": 55,
   "id": "c92a608e",
   "metadata": {},
   "outputs": [],
   "source": [
    "import joblib"
   ]
  },
  {
   "cell_type": "code",
   "execution_count": 56,
   "id": "3a88556f",
   "metadata": {},
   "outputs": [
    {
     "data": {
      "text/plain": [
       "['lg_model']"
      ]
     },
     "execution_count": 56,
     "metadata": {},
     "output_type": "execute_result"
    }
   ],
   "source": [
    "# saving up the models................\n",
    "joblib.dump(rf_model , 'rf_model')\n",
    "joblib.dump(knn_model , 'knn_model')\n",
    "joblib.dump(svm_model , 'svm_model')\n",
    "joblib.dump(nb_model , 'nb_model')\n",
    "joblib.dump(lg_model , 'lg_model')"
   ]
  },
  {
   "cell_type": "code",
   "execution_count": null,
   "id": "9ad290dd",
   "metadata": {},
   "outputs": [],
   "source": []
  },
  {
   "cell_type": "code",
   "execution_count": 64,
   "id": "35ce3748",
   "metadata": {},
   "outputs": [
    {
     "data": {
      "text/plain": [
       "Gender             1.000000\n",
       "Married            1.000000\n",
       "Education          0.000000\n",
       "ApplicantIncome    0.075523\n",
       "LoanAmount         0.218524\n",
       "Credit_History     1.000000\n",
       "Property_Area      2.000000\n",
       "Name: 411, dtype: float64"
      ]
     },
     "execution_count": 64,
     "metadata": {},
     "output_type": "execute_result"
    }
   ],
   "source": [
    "X_test.loc[411]"
   ]
  },
  {
   "cell_type": "code",
   "execution_count": 66,
   "id": "98513f04",
   "metadata": {},
   "outputs": [
    {
     "name": "stdout",
     "output_type": "stream",
     "text": [
      "['rf_model', 'knn_model', 'svm_model', 'nb_model', 'lg_model']\n",
      "[array([0], dtype=int64), array([1], dtype=int64), array([0], dtype=int64), array([0], dtype=int64), array([0], dtype=int64)]\n"
     ]
    },
    {
     "name": "stderr",
     "output_type": "stream",
     "text": [
      "c:\\users\\binary\\appdata\\local\\programs\\python\\python39\\lib\\site-packages\\sklearn\\base.py:450: UserWarning: X does not have valid feature names, but RandomForestClassifier was fitted with feature names\n",
      "  warnings.warn(\n",
      "c:\\users\\binary\\appdata\\local\\programs\\python\\python39\\lib\\site-packages\\sklearn\\base.py:450: UserWarning: X does not have valid feature names, but KNeighborsClassifier was fitted with feature names\n",
      "  warnings.warn(\n",
      "c:\\users\\binary\\appdata\\local\\programs\\python\\python39\\lib\\site-packages\\sklearn\\base.py:450: UserWarning: X does not have valid feature names, but SVC was fitted with feature names\n",
      "  warnings.warn(\n",
      "c:\\users\\binary\\appdata\\local\\programs\\python\\python39\\lib\\site-packages\\sklearn\\base.py:450: UserWarning: X does not have valid feature names, but GaussianNB was fitted with feature names\n",
      "  warnings.warn(\n",
      "c:\\users\\binary\\appdata\\local\\programs\\python\\python39\\lib\\site-packages\\sklearn\\base.py:450: UserWarning: X does not have valid feature names, but LogisticRegression was fitted with feature names\n",
      "  warnings.warn(\n"
     ]
    }
   ],
   "source": [
    "p = np.array([[0,1,0,1,0,0.24,0.77]])\n",
    "p.ndim\n",
    "\n",
    "# loading models....\n",
    "models = ['rf_model' , 'knn_model' , 'svm_model' , 'nb_model' , 'lg_model']\n",
    "load_model = []\n",
    "for model in models:\n",
    "    m  = joblib.load(model)\n",
    "    load_model.append(m)\n",
    "\n",
    "print([m for m in models])\n",
    "\n",
    "print([m.predict(p) for m in load_model])\n",
    "\n",
    "# load_model[0].predict(p)\n",
    "# load_model[1].predict(p)\n",
    "# load_model[2].predict(p)\n",
    "# load_model[3].predict(p)\n",
    "# load_model[4].predict(p)"
   ]
  },
  {
   "cell_type": "markdown",
   "id": "4a961413",
   "metadata": {},
   "source": [
    "# Aggregated prediction"
   ]
  },
  {
   "cell_type": "code",
   "execution_count": 67,
   "id": "254f1ab1",
   "metadata": {},
   "outputs": [],
   "source": [
    "def aggregated_sample_prediction(models, data_point):\n",
    "    model_list = []\n",
    "    predictions = []\n",
    "    for model in models:\n",
    "        m  = joblib.load(model)\n",
    "        model_list.append(m)\n",
    "        \n",
    "    \n",
    "    predictions.append([m.predict(data_point) for m in model_list])\n",
    "    merge_prediction = np.concatenate(predictions)\n",
    "    merge_prediction = merge_prediction.flatten()\n",
    "    value, count = np.unique(merge_prediction, return_counts=True)\n",
    "#     print(merge_prediction)\n",
    "#     print(value, count)\n",
    "    final_prediction = value[np.argmax(count)]\n",
    "    \n",
    "    #model name and score\n",
    "    model_label_score = []\n",
    "    for index in range(len(models)):\n",
    "        model_label_score.append((models[index], merge_prediction[index]))\n",
    "    \n",
    "    return model_label_score, final_prediction\n",
    "    "
   ]
  },
  {
   "cell_type": "markdown",
   "id": "6e424032",
   "metadata": {},
   "source": [
    "# calling the aggregated method (predicting one datapoint)"
   ]
  },
  {
   "cell_type": "code",
   "execution_count": 68,
   "id": "752d3d67",
   "metadata": {
    "scrolled": true
   },
   "outputs": [],
   "source": [
    "# p = np.array([[0,1,0,1,0,0.24,0.77,0.24,0.74,0,1]])\n",
    "# labels , score = aggregated_sample_prediction(models, p)\n",
    "# print(f'{labels} ============>>>>>> final_decision : {score}')"
   ]
  },
  {
   "cell_type": "markdown",
   "id": "e4a9dab7",
   "metadata": {},
   "source": [
    "# Computing and visualizing accuracy and precision............"
   ]
  },
  {
   "cell_type": "code",
   "execution_count": 69,
   "id": "ad431fba",
   "metadata": {},
   "outputs": [
    {
     "data": {
      "text/html": [
       "<div>\n",
       "<style scoped>\n",
       "    .dataframe tbody tr th:only-of-type {\n",
       "        vertical-align: middle;\n",
       "    }\n",
       "\n",
       "    .dataframe tbody tr th {\n",
       "        vertical-align: top;\n",
       "    }\n",
       "\n",
       "    .dataframe thead th {\n",
       "        text-align: right;\n",
       "    }\n",
       "</style>\n",
       "<table border=\"1\" class=\"dataframe\">\n",
       "  <thead>\n",
       "    <tr style=\"text-align: right;\">\n",
       "      <th></th>\n",
       "      <th>Gender</th>\n",
       "      <th>Married</th>\n",
       "      <th>Education</th>\n",
       "      <th>ApplicantIncome</th>\n",
       "      <th>LoanAmount</th>\n",
       "      <th>Credit_History</th>\n",
       "      <th>Property_Area</th>\n",
       "    </tr>\n",
       "  </thead>\n",
       "  <tbody>\n",
       "    <tr>\n",
       "      <th>407</th>\n",
       "      <td>0</td>\n",
       "      <td>0</td>\n",
       "      <td>1.0</td>\n",
       "      <td>0.025516</td>\n",
       "      <td>0.082489</td>\n",
       "      <td>1.0</td>\n",
       "      <td>0</td>\n",
       "    </tr>\n",
       "    <tr>\n",
       "      <th>411</th>\n",
       "      <td>1</td>\n",
       "      <td>1</td>\n",
       "      <td>0.0</td>\n",
       "      <td>0.075523</td>\n",
       "      <td>0.218524</td>\n",
       "      <td>1.0</td>\n",
       "      <td>2</td>\n",
       "    </tr>\n",
       "    <tr>\n",
       "      <th>412</th>\n",
       "      <td>1</td>\n",
       "      <td>1</td>\n",
       "      <td>1.0</td>\n",
       "      <td>0.073544</td>\n",
       "      <td>0.302460</td>\n",
       "      <td>0.0</td>\n",
       "      <td>0</td>\n",
       "    </tr>\n",
       "    <tr>\n",
       "      <th>413</th>\n",
       "      <td>1</td>\n",
       "      <td>1</td>\n",
       "      <td>1.0</td>\n",
       "      <td>0.026011</td>\n",
       "      <td>0.146165</td>\n",
       "      <td>1.0</td>\n",
       "      <td>0</td>\n",
       "    </tr>\n",
       "    <tr>\n",
       "      <th>414</th>\n",
       "      <td>0</td>\n",
       "      <td>1</td>\n",
       "      <td>1.0</td>\n",
       "      <td>0.024725</td>\n",
       "      <td>0.244573</td>\n",
       "      <td>0.0</td>\n",
       "      <td>1</td>\n",
       "    </tr>\n",
       "    <tr>\n",
       "      <th>...</th>\n",
       "      <td>...</td>\n",
       "      <td>...</td>\n",
       "      <td>...</td>\n",
       "      <td>...</td>\n",
       "      <td>...</td>\n",
       "      <td>...</td>\n",
       "      <td>...</td>\n",
       "    </tr>\n",
       "    <tr>\n",
       "      <th>609</th>\n",
       "      <td>0</td>\n",
       "      <td>0</td>\n",
       "      <td>0.0</td>\n",
       "      <td>0.034014</td>\n",
       "      <td>0.089725</td>\n",
       "      <td>1.0</td>\n",
       "      <td>0</td>\n",
       "    </tr>\n",
       "    <tr>\n",
       "      <th>610</th>\n",
       "      <td>1</td>\n",
       "      <td>1</td>\n",
       "      <td>0.0</td>\n",
       "      <td>0.048930</td>\n",
       "      <td>0.044863</td>\n",
       "      <td>1.0</td>\n",
       "      <td>0</td>\n",
       "    </tr>\n",
       "    <tr>\n",
       "      <th>611</th>\n",
       "      <td>1</td>\n",
       "      <td>1</td>\n",
       "      <td>0.0</td>\n",
       "      <td>0.097984</td>\n",
       "      <td>0.353111</td>\n",
       "      <td>1.0</td>\n",
       "      <td>2</td>\n",
       "    </tr>\n",
       "    <tr>\n",
       "      <th>612</th>\n",
       "      <td>1</td>\n",
       "      <td>1</td>\n",
       "      <td>0.0</td>\n",
       "      <td>0.091936</td>\n",
       "      <td>0.257598</td>\n",
       "      <td>1.0</td>\n",
       "      <td>2</td>\n",
       "    </tr>\n",
       "    <tr>\n",
       "      <th>613</th>\n",
       "      <td>0</td>\n",
       "      <td>0</td>\n",
       "      <td>0.0</td>\n",
       "      <td>0.054830</td>\n",
       "      <td>0.179450</td>\n",
       "      <td>0.0</td>\n",
       "      <td>1</td>\n",
       "    </tr>\n",
       "  </tbody>\n",
       "</table>\n",
       "<p>204 rows × 7 columns</p>\n",
       "</div>"
      ],
      "text/plain": [
       "     Gender  Married  Education  ApplicantIncome  LoanAmount  Credit_History  \\\n",
       "407       0        0        1.0         0.025516    0.082489             1.0   \n",
       "411       1        1        0.0         0.075523    0.218524             1.0   \n",
       "412       1        1        1.0         0.073544    0.302460             0.0   \n",
       "413       1        1        1.0         0.026011    0.146165             1.0   \n",
       "414       0        1        1.0         0.024725    0.244573             0.0   \n",
       "..      ...      ...        ...              ...         ...             ...   \n",
       "609       0        0        0.0         0.034014    0.089725             1.0   \n",
       "610       1        1        0.0         0.048930    0.044863             1.0   \n",
       "611       1        1        0.0         0.097984    0.353111             1.0   \n",
       "612       1        1        0.0         0.091936    0.257598             1.0   \n",
       "613       0        0        0.0         0.054830    0.179450             0.0   \n",
       "\n",
       "     Property_Area  \n",
       "407              0  \n",
       "411              2  \n",
       "412              0  \n",
       "413              0  \n",
       "414              1  \n",
       "..             ...  \n",
       "609              0  \n",
       "610              0  \n",
       "611              2  \n",
       "612              2  \n",
       "613              1  \n",
       "\n",
       "[204 rows x 7 columns]"
      ]
     },
     "execution_count": 69,
     "metadata": {},
     "output_type": "execute_result"
    }
   ],
   "source": [
    "test_sample = X_test\n",
    "test_sample"
   ]
  },
  {
   "cell_type": "code",
   "execution_count": 70,
   "id": "41685d9c",
   "metadata": {},
   "outputs": [
    {
     "data": {
      "text/plain": [
       "204"
      ]
     },
     "execution_count": 70,
     "metadata": {},
     "output_type": "execute_result"
    }
   ],
   "source": [
    "truth = y_test\n",
    "len(truth)"
   ]
  },
  {
   "cell_type": "code",
   "execution_count": 71,
   "id": "1539d870",
   "metadata": {},
   "outputs": [],
   "source": [
    "from sklearn import metrics"
   ]
  },
  {
   "cell_type": "code",
   "execution_count": 72,
   "id": "d60c4e68",
   "metadata": {},
   "outputs": [
    {
     "name": "stdout",
     "output_type": "stream",
     "text": [
      "[array([0, 1, 0, 0, 0, 1, 1, 1, 0, 1, 1, 0, 1, 0, 1, 1, 1, 1, 1, 1, 1, 0,\n",
      "       0, 1, 0, 1, 1, 1, 0, 1, 1, 1, 1, 0, 1, 1, 0, 1, 0, 1, 0, 1, 0, 0,\n",
      "       1, 1, 1, 1, 1, 1, 1, 1, 1, 1, 0, 1, 0, 1, 1, 1, 0, 0, 1, 1, 1, 0,\n",
      "       1, 0, 1, 1, 1, 0, 1, 1, 1, 1, 0, 1, 1, 1, 1, 0, 1, 0, 0, 1, 0, 0,\n",
      "       1, 0, 0, 1, 1, 1, 1, 1, 1, 0, 1, 1, 1, 1, 1, 1, 0, 1, 1, 0, 1, 1,\n",
      "       1, 1, 1, 1, 1, 0, 1, 0, 1, 1, 1, 0, 0, 0, 1, 1, 1, 1, 0, 1, 1, 0,\n",
      "       1, 1, 1, 1, 1, 1, 0, 1, 0, 0, 1, 0, 0, 1, 1, 1, 1, 1, 1, 1, 1, 1,\n",
      "       0, 0, 0, 0, 1, 0, 1, 1, 1, 0, 1, 1, 0, 1, 1, 1, 1, 1, 1, 1, 0, 1,\n",
      "       1, 1, 0, 0, 1, 1, 1, 1, 1, 1, 1, 0, 1, 1, 0, 0, 1, 1, 1, 1, 1, 1,\n",
      "       1, 1, 1, 1, 1, 0], dtype=int64), array([1, 1, 1, 1, 1, 1, 1, 1, 1, 1, 1, 1, 1, 1, 1, 1, 1, 1, 1, 1, 1, 1,\n",
      "       1, 1, 1, 1, 1, 1, 1, 1, 1, 1, 1, 1, 1, 1, 1, 1, 1, 1, 1, 1, 1, 1,\n",
      "       1, 1, 1, 1, 1, 1, 1, 1, 1, 1, 1, 1, 1, 1, 1, 1, 1, 1, 1, 1, 1, 1,\n",
      "       1, 1, 1, 1, 1, 1, 1, 1, 1, 1, 1, 1, 1, 1, 1, 1, 1, 1, 1, 1, 1, 1,\n",
      "       1, 1, 1, 1, 1, 1, 1, 1, 1, 1, 1, 1, 1, 1, 1, 1, 1, 1, 1, 1, 1, 1,\n",
      "       1, 1, 1, 1, 1, 1, 1, 1, 1, 1, 1, 1, 1, 1, 1, 1, 1, 1, 1, 1, 1, 1,\n",
      "       1, 1, 1, 1, 1, 1, 1, 1, 1, 1, 1, 1, 1, 1, 1, 1, 1, 1, 1, 1, 1, 1,\n",
      "       1, 1, 1, 1, 1, 1, 1, 1, 1, 1, 1, 1, 1, 1, 1, 1, 1, 1, 1, 1, 1, 1,\n",
      "       1, 1, 1, 1, 1, 1, 1, 1, 1, 1, 1, 1, 1, 1, 1, 1, 1, 1, 1, 1, 1, 1,\n",
      "       1, 1, 1, 1, 1, 1], dtype=int64), array([1, 1, 0, 1, 0, 1, 1, 1, 1, 1, 1, 0, 1, 0, 1, 1, 1, 1, 1, 1, 1, 0,\n",
      "       1, 1, 1, 1, 1, 1, 0, 1, 1, 1, 1, 1, 1, 1, 1, 1, 0, 1, 0, 1, 0, 0,\n",
      "       1, 1, 1, 1, 1, 1, 1, 1, 1, 1, 0, 1, 0, 1, 1, 1, 1, 0, 1, 1, 1, 1,\n",
      "       1, 0, 1, 1, 1, 1, 1, 1, 1, 1, 0, 1, 1, 1, 1, 1, 1, 1, 0, 1, 1, 1,\n",
      "       1, 0, 1, 1, 1, 1, 1, 1, 1, 1, 1, 1, 1, 1, 1, 1, 1, 1, 1, 0, 1, 1,\n",
      "       1, 1, 1, 1, 1, 1, 1, 0, 1, 1, 1, 1, 0, 1, 1, 1, 1, 1, 1, 1, 1, 0,\n",
      "       1, 1, 1, 1, 1, 1, 0, 1, 0, 1, 1, 0, 0, 1, 1, 1, 1, 1, 1, 1, 1, 1,\n",
      "       0, 1, 1, 0, 1, 0, 1, 0, 1, 1, 1, 1, 0, 1, 1, 1, 1, 1, 1, 1, 0, 1,\n",
      "       1, 1, 1, 0, 1, 1, 1, 1, 1, 1, 1, 0, 1, 1, 1, 1, 1, 1, 1, 1, 1, 1,\n",
      "       1, 1, 1, 1, 1, 0], dtype=int64), array([1, 1, 0, 1, 0, 1, 1, 1, 1, 1, 1, 0, 1, 0, 1, 1, 1, 1, 1, 1, 1, 0,\n",
      "       1, 1, 1, 1, 1, 1, 0, 1, 1, 1, 1, 0, 1, 1, 1, 1, 0, 1, 0, 1, 0, 0,\n",
      "       1, 1, 1, 1, 1, 1, 1, 1, 1, 1, 0, 1, 0, 1, 1, 1, 1, 0, 1, 1, 1, 1,\n",
      "       1, 0, 1, 1, 1, 1, 1, 1, 1, 1, 0, 1, 1, 1, 1, 1, 1, 1, 0, 1, 1, 1,\n",
      "       1, 0, 1, 1, 1, 1, 1, 1, 1, 1, 1, 1, 1, 1, 1, 1, 1, 1, 1, 0, 1, 1,\n",
      "       1, 1, 1, 1, 1, 1, 1, 0, 1, 1, 1, 1, 0, 1, 1, 1, 1, 1, 1, 1, 1, 0,\n",
      "       1, 1, 1, 1, 1, 1, 0, 1, 0, 1, 1, 0, 0, 1, 1, 1, 1, 1, 1, 0, 1, 1,\n",
      "       0, 1, 1, 0, 1, 0, 1, 0, 1, 1, 1, 1, 0, 1, 1, 1, 1, 1, 1, 1, 0, 1,\n",
      "       1, 1, 1, 0, 1, 1, 1, 1, 1, 1, 1, 0, 1, 1, 1, 1, 1, 1, 1, 1, 1, 1,\n",
      "       1, 1, 1, 1, 1, 0], dtype=int64), array([1, 1, 0, 1, 0, 1, 1, 1, 1, 1, 1, 0, 1, 0, 1, 1, 1, 1, 1, 1, 1, 0,\n",
      "       1, 1, 1, 1, 1, 1, 0, 1, 1, 1, 1, 1, 1, 1, 1, 1, 0, 1, 0, 1, 0, 0,\n",
      "       1, 1, 1, 1, 1, 1, 1, 1, 1, 1, 0, 1, 0, 1, 1, 1, 1, 0, 1, 1, 1, 1,\n",
      "       1, 0, 1, 1, 1, 1, 1, 1, 1, 1, 0, 1, 1, 1, 1, 1, 1, 1, 0, 1, 1, 1,\n",
      "       1, 0, 1, 1, 1, 1, 1, 1, 1, 1, 1, 1, 1, 1, 1, 1, 1, 1, 1, 0, 1, 1,\n",
      "       1, 1, 1, 1, 1, 1, 1, 0, 1, 1, 1, 1, 0, 1, 1, 1, 1, 1, 1, 1, 1, 0,\n",
      "       1, 1, 1, 1, 1, 1, 0, 1, 0, 1, 1, 0, 0, 1, 1, 1, 1, 1, 1, 1, 1, 1,\n",
      "       0, 1, 1, 0, 1, 0, 1, 0, 1, 1, 1, 1, 0, 1, 1, 1, 1, 1, 1, 1, 0, 1,\n",
      "       1, 1, 1, 0, 1, 1, 1, 1, 1, 1, 1, 0, 1, 1, 1, 1, 1, 1, 1, 1, 1, 1,\n",
      "       1, 1, 1, 1, 1, 0], dtype=int64)]\n"
     ]
    }
   ],
   "source": [
    "## def aggregated_prediction(models, data_point):\n",
    "def aggregated_prediction(models, data_point):\n",
    "    row, col = data_point.shape\n",
    "    model_list = []\n",
    "    predictions = []\n",
    "    for model in models:\n",
    "        m  = joblib.load(model)\n",
    "        model_list.append(m)\n",
    "        \n",
    "    \n",
    "    predictions.append([m.predict(data_point) for m in load_model])\n",
    "#     print(predictions)\n",
    "    predict_list = []\n",
    "    for m in range(len(models)):\n",
    "        ls = predictions[0][m]\n",
    "        predict_list.append(ls)\n",
    "\n",
    "    print([p for p in predict_list])\n",
    "    prediction_stack = np.stack(tuple(predict_list), axis=1)\n",
    "#     print(prediction_stack[0:10])\n",
    "    \n",
    "#     looping through all prediction\n",
    "# calculating aggregated prediction for each stack... \n",
    "#     for stack_index in range(len(row))\n",
    "    result_list=[]\n",
    "    for stack_index in range(0,row):\n",
    "        stack_value = prediction_stack[stack_index]\n",
    "    \n",
    "        value, count = np.unique(stack_value, return_counts=True)\n",
    "#         print(stack_value)\n",
    "#         print(value, count)\n",
    "        final_prediction = value[np.argmax(count)]\n",
    "#         print('final prediction==>' , final_prediction)\n",
    "#         #model name and score\n",
    "#         model_label_score = []\n",
    "#         for index in range(len(models)):\n",
    "#             model_label_score.append((models[index], merge_prediction[index]))\n",
    "            \n",
    "        result_list.append(final_prediction)\n",
    "        \n",
    "    result_list = np.array(result_list)\n",
    "#     return model_label_score, final_prediction\n",
    "    return result_list\n",
    "    \n",
    "    \n",
    "prediction = aggregated_prediction(models, test_sample)\n",
    "prediction[0:10]\n",
    "score = metrics.accuracy_score(truth, prediction)\n",
    "confusion_matrix = metrics.confusion_matrix(truth, prediction)\n",
    "classification_report = metrics.classification_report(truth, prediction)\n",
    "\n"
   ]
  },
  {
   "cell_type": "code",
   "execution_count": 73,
   "id": "d0377d71",
   "metadata": {},
   "outputs": [
    {
     "name": "stdout",
     "output_type": "stream",
     "text": [
      "Aggregated Accuracy Score 0.8333333333333334\n"
     ]
    }
   ],
   "source": [
    "print('Aggregated Accuracy Score' , score)"
   ]
  },
  {
   "cell_type": "code",
   "execution_count": 74,
   "id": "8cea22dc",
   "metadata": {
    "scrolled": true
   },
   "outputs": [
    {
     "name": "stdout",
     "output_type": "stream",
     "text": [
      "[[ 32  32]\n",
      " [  2 138]]\n"
     ]
    }
   ],
   "source": [
    "print(confusion_matrix)"
   ]
  },
  {
   "cell_type": "code",
   "execution_count": 75,
   "id": "6cf95c6e",
   "metadata": {},
   "outputs": [
    {
     "name": "stdout",
     "output_type": "stream",
     "text": [
      "              precision    recall  f1-score   support\n",
      "\n",
      "           0       0.94      0.50      0.65        64\n",
      "           1       0.81      0.99      0.89       140\n",
      "\n",
      "    accuracy                           0.83       204\n",
      "   macro avg       0.88      0.74      0.77       204\n",
      "weighted avg       0.85      0.83      0.82       204\n",
      "\n"
     ]
    }
   ],
   "source": [
    "print(classification_report)"
   ]
  },
  {
   "cell_type": "code",
   "execution_count": 79,
   "id": "d73c12ea",
   "metadata": {},
   "outputs": [
    {
     "name": "stdout",
     "output_type": "stream",
     "text": [
      "[[ 32  32]\n",
      " [  2 138]]\n"
     ]
    },
    {
     "data": {
      "image/png": "[encoded data removed]",
      "text/plain": [
       "<Figure size 432x288 with 2 Axes>"
      ]
     },
     "metadata": {
      "needs_background": "light"
     },
     "output_type": "display_data"
    }
   ],
   "source": [
    "import seaborn as sb\n",
    "import pandas as pd\n",
    "import matplotlib.pyplot as pt\n",
    "\n",
    "print(confusion_matrix)\n",
    "\n",
    "lbl = ['Yes' , 'No']\n",
    "dataframe = pd.DataFrame(confusion_matrix)\n",
    "sb.heatmap(dataframe, annot=True , fmt='d')\n",
    "pt.xlabel('Predicted Value')\n",
    "pt.ylabel('Actual Value')\n",
    "pt.show()\n"
   ]
  },
  {
   "cell_type": "code",
   "execution_count": null,
   "id": "357900b4",
   "metadata": {},
   "outputs": [],
   "source": []
  }
 ],
 "metadata": {
  "kernelspec": {
   "display_name": "Python 3 (ipykernel)",
   "language": "python",
   "name": "python3"
  },
  "language_info": {
   "codemirror_mode": {
    "name": "ipython",
    "version": 3
   },
   "file_extension": ".py",
   "mimetype": "text/x-python",
   "name": "python",
   "nbconvert_exporter": "python",
   "pygments_lexer": "ipython3",
   "version": "3.9.0"
  }
 },
 "nbformat": 4,
 "nbformat_minor": 5
}
