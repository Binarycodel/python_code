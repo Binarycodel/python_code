{
 "cells": [
  {
   "cell_type": "code",
   "execution_count": 1,
   "metadata": {},
   "outputs": [
    {
     "ename": "NameError",
     "evalue": "name 'nltk' is not defined",
     "output_type": "error",
     "traceback": [
      "\u001b[1;31m---------------------------------------------------------------------------\u001b[0m",
      "\u001b[1;31mNameError\u001b[0m                                 Traceback (most recent call last)",
      "\u001b[1;32m<ipython-input-1-02896e0781f8>\u001b[0m in \u001b[0;36m<module>\u001b[1;34m\u001b[0m\n\u001b[1;32m----> 1\u001b[1;33m \u001b[0mdir\u001b[0m\u001b[1;33m(\u001b[0m\u001b[0mnltk\u001b[0m\u001b[1;33m)\u001b[0m\u001b[1;33m\u001b[0m\u001b[1;33m\u001b[0m\u001b[0m\n\u001b[0m",
      "\u001b[1;31mNameError\u001b[0m: name 'nltk' is not defined"
     ]
    }
   ],
   "source": [
    "  dir(nltk)"
   ]
  },
  {
   "cell_type": "code",
   "execution_count": 6,
   "metadata": {},
   "outputs": [
    {
     "name": "stderr",
     "output_type": "stream",
     "text": [
      "C:\\Users\\orsaater\\Anaconda3\\lib\\site-packages\\sklearn\\feature_extraction\\image.py:167: DeprecationWarning: `np.int` is a deprecated alias for the builtin `int`. To silence this warning, use `int` by itself. Doing this will not modify any behavior and is safe. When replacing `np.int`, you may wish to use e.g. `np.int64` or `np.int32` to specify the precision. If you wish to review your current use, check the release note link for additional information.\n",
      "Deprecated in NumPy 1.20; for more details and guidance: https://numpy.org/devdocs/release/1.20.0-notes.html#deprecations\n",
      "  dtype=np.int):\n",
      "C:\\Users\\orsaater\\Anaconda3\\lib\\site-packages\\sklearn\\linear_model\\least_angle.py:30: DeprecationWarning: `np.float` is a deprecated alias for the builtin `float`. To silence this warning, use `float` by itself. Doing this will not modify any behavior and is safe. If you specifically wanted the numpy scalar type, use `np.float64` here.\n",
      "Deprecated in NumPy 1.20; for more details and guidance: https://numpy.org/devdocs/release/1.20.0-notes.html#deprecations\n",
      "  method='lar', copy_X=True, eps=np.finfo(np.float).eps,\n",
      "C:\\Users\\orsaater\\Anaconda3\\lib\\site-packages\\sklearn\\linear_model\\least_angle.py:167: DeprecationWarning: `np.float` is a deprecated alias for the builtin `float`. To silence this warning, use `float` by itself. Doing this will not modify any behavior and is safe. If you specifically wanted the numpy scalar type, use `np.float64` here.\n",
      "Deprecated in NumPy 1.20; for more details and guidance: https://numpy.org/devdocs/release/1.20.0-notes.html#deprecations\n",
      "  method='lar', copy_X=True, eps=np.finfo(np.float).eps,\n",
      "C:\\Users\\orsaater\\Anaconda3\\lib\\site-packages\\sklearn\\linear_model\\least_angle.py:284: DeprecationWarning: `np.float` is a deprecated alias for the builtin `float`. To silence this warning, use `float` by itself. Doing this will not modify any behavior and is safe. If you specifically wanted the numpy scalar type, use `np.float64` here.\n",
      "Deprecated in NumPy 1.20; for more details and guidance: https://numpy.org/devdocs/release/1.20.0-notes.html#deprecations\n",
      "  eps=np.finfo(np.float).eps, copy_Gram=True, verbose=0,\n",
      "C:\\Users\\orsaater\\Anaconda3\\lib\\site-packages\\sklearn\\linear_model\\least_angle.py:862: DeprecationWarning: `np.float` is a deprecated alias for the builtin `float`. To silence this warning, use `float` by itself. Doing this will not modify any behavior and is safe. If you specifically wanted the numpy scalar type, use `np.float64` here.\n",
      "Deprecated in NumPy 1.20; for more details and guidance: https://numpy.org/devdocs/release/1.20.0-notes.html#deprecations\n",
      "  eps=np.finfo(np.float).eps, copy_X=True, fit_path=True,\n",
      "C:\\Users\\orsaater\\Anaconda3\\lib\\site-packages\\sklearn\\linear_model\\least_angle.py:1101: DeprecationWarning: `np.float` is a deprecated alias for the builtin `float`. To silence this warning, use `float` by itself. Doing this will not modify any behavior and is safe. If you specifically wanted the numpy scalar type, use `np.float64` here.\n",
      "Deprecated in NumPy 1.20; for more details and guidance: https://numpy.org/devdocs/release/1.20.0-notes.html#deprecations\n",
      "  eps=np.finfo(np.float).eps, copy_X=True, fit_path=True,\n",
      "C:\\Users\\orsaater\\Anaconda3\\lib\\site-packages\\sklearn\\linear_model\\least_angle.py:1127: DeprecationWarning: `np.float` is a deprecated alias for the builtin `float`. To silence this warning, use `float` by itself. Doing this will not modify any behavior and is safe. If you specifically wanted the numpy scalar type, use `np.float64` here.\n",
      "Deprecated in NumPy 1.20; for more details and guidance: https://numpy.org/devdocs/release/1.20.0-notes.html#deprecations\n",
      "  eps=np.finfo(np.float).eps, positive=False):\n",
      "C:\\Users\\orsaater\\Anaconda3\\lib\\site-packages\\sklearn\\linear_model\\least_angle.py:1362: DeprecationWarning: `np.float` is a deprecated alias for the builtin `float`. To silence this warning, use `float` by itself. Doing this will not modify any behavior and is safe. If you specifically wanted the numpy scalar type, use `np.float64` here.\n",
      "Deprecated in NumPy 1.20; for more details and guidance: https://numpy.org/devdocs/release/1.20.0-notes.html#deprecations\n",
      "  max_n_alphas=1000, n_jobs=None, eps=np.finfo(np.float).eps,\n",
      "C:\\Users\\orsaater\\Anaconda3\\lib\\site-packages\\sklearn\\linear_model\\least_angle.py:1602: DeprecationWarning: `np.float` is a deprecated alias for the builtin `float`. To silence this warning, use `float` by itself. Doing this will not modify any behavior and is safe. If you specifically wanted the numpy scalar type, use `np.float64` here.\n",
      "Deprecated in NumPy 1.20; for more details and guidance: https://numpy.org/devdocs/release/1.20.0-notes.html#deprecations\n",
      "  max_n_alphas=1000, n_jobs=None, eps=np.finfo(np.float).eps,\n",
      "C:\\Users\\orsaater\\Anaconda3\\lib\\site-packages\\sklearn\\linear_model\\least_angle.py:1738: DeprecationWarning: `np.float` is a deprecated alias for the builtin `float`. To silence this warning, use `float` by itself. Doing this will not modify any behavior and is safe. If you specifically wanted the numpy scalar type, use `np.float64` here.\n",
      "Deprecated in NumPy 1.20; for more details and guidance: https://numpy.org/devdocs/release/1.20.0-notes.html#deprecations\n",
      "  eps=np.finfo(np.float).eps, copy_X=True, positive=False):\n"
     ]
    }
   ],
   "source": [
    "from nltk.corpus import stopwords"
   ]
  },
  {
   "cell_type": "code",
   "execution_count": 7,
   "metadata": {},
   "outputs": [
    {
     "name": "stdout",
     "output_type": "stream",
     "text": [
      "stopword =  ['i', 'me', 'my', 'myself', 'we', 'our', 'ours', 'ourselves', 'you', \"you're\", \"you've\", \"you'll\", \"you'd\", 'your', 'yours', 'yourself', 'yourselves', 'he', 'him', 'his', 'himself', 'she', \"she's\", 'her', 'hers', 'herself', 'it', \"it's\", 'its', 'itself', 'they', 'them', 'their', 'theirs', 'themselves', 'what', 'which', 'who', 'whom', 'this', 'that', \"that'll\", 'these', 'those', 'am', 'is', 'are', 'was', 'were', 'be', 'been', 'being', 'have', 'has', 'had', 'having', 'do', 'does', 'did', 'doing', 'a', 'an', 'the', 'and', 'but', 'if', 'or', 'because', 'as', 'until', 'while', 'of', 'at', 'by', 'for', 'with', 'about', 'against', 'between', 'into', 'through', 'during', 'before', 'after', 'above', 'below', 'to', 'from', 'up', 'down', 'in', 'out', 'on', 'off', 'over', 'under', 'again', 'further', 'then', 'once', 'here', 'there', 'when', 'where', 'why', 'how', 'all', 'any', 'both', 'each', 'few', 'more', 'most', 'other', 'some', 'such', 'no', 'nor', 'not', 'only', 'own', 'same', 'so', 'than', 'too', 'very', 's', 't', 'can', 'will', 'just', 'don', \"don't\", 'should', \"should've\", 'now', 'd', 'll', 'm', 'o', 're', 've', 'y', 'ain', 'aren', \"aren't\", 'couldn', \"couldn't\", 'didn', \"didn't\", 'doesn', \"doesn't\", 'hadn', \"hadn't\", 'hasn', \"hasn't\", 'haven', \"haven't\", 'isn', \"isn't\", 'ma', 'mightn', \"mightn't\", 'mustn', \"mustn't\", 'needn', \"needn't\", 'shan', \"shan't\", 'shouldn', \"shouldn't\", 'wasn', \"wasn't\", 'weren', \"weren't\", 'won', \"won't\", 'wouldn', \"wouldn't\"]\n"
     ]
    }
   ],
   "source": [
    "w = stopwords.words(\"english\")\n",
    "print('stopword = ', w)"
   ]
  },
  {
   "cell_type": "code",
   "execution_count": 8,
   "metadata": {},
   "outputs": [],
   "source": [
    "import nltk"
   ]
  },
  {
   "cell_type": "code",
   "execution_count": 9,
   "metadata": {},
   "outputs": [
    {
     "data": {
      "text/plain": [
       "['AbstractLazySequence',\n",
       " 'AffixTagger',\n",
       " 'AlignedSent',\n",
       " 'Alignment',\n",
       " 'AnnotationTask',\n",
       " 'ApplicationExpression',\n",
       " 'Assignment',\n",
       " 'BigramAssocMeasures',\n",
       " 'BigramCollocationFinder',\n",
       " 'BigramTagger',\n",
       " 'BinaryMaxentFeatureEncoding',\n",
       " 'BlanklineTokenizer',\n",
       " 'BllipParser',\n",
       " 'BottomUpChartParser',\n",
       " 'BottomUpLeftCornerChartParser',\n",
       " 'BottomUpProbabilisticChartParser',\n",
       " 'Boxer',\n",
       " 'BrillTagger',\n",
       " 'BrillTaggerTrainer',\n",
       " 'CFG',\n",
       " 'CRFTagger',\n",
       " 'CfgReadingCommand',\n",
       " 'ChartParser',\n",
       " 'ChunkParserI',\n",
       " 'ChunkScore',\n",
       " 'Cistem',\n",
       " 'ClassifierBasedPOSTagger',\n",
       " 'ClassifierBasedTagger',\n",
       " 'ClassifierI',\n",
       " 'ConcordanceIndex',\n",
       " 'ConditionalExponentialClassifier',\n",
       " 'ConditionalFreqDist',\n",
       " 'ConditionalProbDist',\n",
       " 'ConditionalProbDistI',\n",
       " 'ConfusionMatrix',\n",
       " 'ContextIndex',\n",
       " 'ContextTagger',\n",
       " 'ContingencyMeasures',\n",
       " 'CoreNLPDependencyParser',\n",
       " 'CoreNLPParser',\n",
       " 'Counter',\n",
       " 'CrossValidationProbDist',\n",
       " 'DRS',\n",
       " 'DecisionTreeClassifier',\n",
       " 'DefaultTagger',\n",
       " 'DependencyEvaluator',\n",
       " 'DependencyGrammar',\n",
       " 'DependencyGraph',\n",
       " 'DependencyProduction',\n",
       " 'DictionaryConditionalProbDist',\n",
       " 'DictionaryProbDist',\n",
       " 'DiscourseTester',\n",
       " 'DrtExpression',\n",
       " 'DrtGlueReadingCommand',\n",
       " 'ELEProbDist',\n",
       " 'EarleyChartParser',\n",
       " 'Expression',\n",
       " 'FStructure',\n",
       " 'FeatDict',\n",
       " 'FeatList',\n",
       " 'FeatStruct',\n",
       " 'FeatStructReader',\n",
       " 'Feature',\n",
       " 'FeatureBottomUpChartParser',\n",
       " 'FeatureBottomUpLeftCornerChartParser',\n",
       " 'FeatureChartParser',\n",
       " 'FeatureEarleyChartParser',\n",
       " 'FeatureIncrementalBottomUpChartParser',\n",
       " 'FeatureIncrementalBottomUpLeftCornerChartParser',\n",
       " 'FeatureIncrementalChartParser',\n",
       " 'FeatureIncrementalTopDownChartParser',\n",
       " 'FeatureTopDownChartParser',\n",
       " 'FreqDist',\n",
       " 'HTTPPasswordMgrWithDefaultRealm',\n",
       " 'HeldoutProbDist',\n",
       " 'HiddenMarkovModelTagger',\n",
       " 'HiddenMarkovModelTrainer',\n",
       " 'HunposTagger',\n",
       " 'IBMModel',\n",
       " 'IBMModel1',\n",
       " 'IBMModel2',\n",
       " 'IBMModel3',\n",
       " 'IBMModel4',\n",
       " 'IBMModel5',\n",
       " 'ISRIStemmer',\n",
       " 'ImmutableMultiParentedTree',\n",
       " 'ImmutableParentedTree',\n",
       " 'ImmutableProbabilisticMixIn',\n",
       " 'ImmutableProbabilisticTree',\n",
       " 'ImmutableTree',\n",
       " 'IncrementalBottomUpChartParser',\n",
       " 'IncrementalBottomUpLeftCornerChartParser',\n",
       " 'IncrementalChartParser',\n",
       " 'IncrementalLeftCornerChartParser',\n",
       " 'IncrementalTopDownChartParser',\n",
       " 'Index',\n",
       " 'InsideChartParser',\n",
       " 'JSONTaggedDecoder',\n",
       " 'JSONTaggedEncoder',\n",
       " 'KneserNeyProbDist',\n",
       " 'LancasterStemmer',\n",
       " 'LaplaceProbDist',\n",
       " 'LazyConcatenation',\n",
       " 'LazyEnumerate',\n",
       " 'LazyIteratorList',\n",
       " 'LazyMap',\n",
       " 'LazySubsequence',\n",
       " 'LazyZip',\n",
       " 'LeftCornerChartParser',\n",
       " 'LidstoneProbDist',\n",
       " 'LineTokenizer',\n",
       " 'LogicalExpressionException',\n",
       " 'LongestChartParser',\n",
       " 'MLEProbDist',\n",
       " 'MWETokenizer',\n",
       " 'Mace',\n",
       " 'MaceCommand',\n",
       " 'MaltParser',\n",
       " 'MaxentClassifier',\n",
       " 'Model',\n",
       " 'MultiClassifierI',\n",
       " 'MultiParentedTree',\n",
       " 'MutableProbDist',\n",
       " 'NaiveBayesClassifier',\n",
       " 'NaiveBayesDependencyScorer',\n",
       " 'NgramAssocMeasures',\n",
       " 'NgramTagger',\n",
       " 'NonprojectiveDependencyParser',\n",
       " 'Nonterminal',\n",
       " 'OrderedDict',\n",
       " 'PCFG',\n",
       " 'Paice',\n",
       " 'ParallelProverBuilder',\n",
       " 'ParallelProverBuilderCommand',\n",
       " 'ParentedTree',\n",
       " 'ParserI',\n",
       " 'PerceptronTagger',\n",
       " 'PhraseTable',\n",
       " 'PorterStemmer',\n",
       " 'PositiveNaiveBayesClassifier',\n",
       " 'ProbDistI',\n",
       " 'ProbabilisticDependencyGrammar',\n",
       " 'ProbabilisticMixIn',\n",
       " 'ProbabilisticNonprojectiveParser',\n",
       " 'ProbabilisticProduction',\n",
       " 'ProbabilisticProjectiveDependencyParser',\n",
       " 'ProbabilisticTree',\n",
       " 'Production',\n",
       " 'ProjectiveDependencyParser',\n",
       " 'Prover9',\n",
       " 'Prover9Command',\n",
       " 'ProxyBasicAuthHandler',\n",
       " 'ProxyDigestAuthHandler',\n",
       " 'ProxyHandler',\n",
       " 'PunktSentenceTokenizer',\n",
       " 'QuadgramAssocMeasures',\n",
       " 'QuadgramCollocationFinder',\n",
       " 'RSLPStemmer',\n",
       " 'RTEFeatureExtractor',\n",
       " 'RUS_PICKLE',\n",
       " 'RandomChartParser',\n",
       " 'RangeFeature',\n",
       " 'ReadingCommand',\n",
       " 'RecursiveDescentParser',\n",
       " 'RegexpChunkParser',\n",
       " 'RegexpParser',\n",
       " 'RegexpStemmer',\n",
       " 'RegexpTagger',\n",
       " 'RegexpTokenizer',\n",
       " 'ReppTokenizer',\n",
       " 'ResolutionProver',\n",
       " 'ResolutionProverCommand',\n",
       " 'SExprTokenizer',\n",
       " 'SLASH',\n",
       " 'Senna',\n",
       " 'SennaChunkTagger',\n",
       " 'SennaNERTagger',\n",
       " 'SennaTagger',\n",
       " 'SequentialBackoffTagger',\n",
       " 'ShiftReduceParser',\n",
       " 'SimpleGoodTuringProbDist',\n",
       " 'SklearnClassifier',\n",
       " 'SlashFeature',\n",
       " 'SnowballStemmer',\n",
       " 'SpaceTokenizer',\n",
       " 'StackDecoder',\n",
       " 'StanfordNERTagger',\n",
       " 'StanfordPOSTagger',\n",
       " 'StanfordSegmenter',\n",
       " 'StanfordTagger',\n",
       " 'StemmerI',\n",
       " 'SteppingChartParser',\n",
       " 'SteppingRecursiveDescentParser',\n",
       " 'SteppingShiftReduceParser',\n",
       " 'SyllableTokenizer',\n",
       " 'TYPE',\n",
       " 'TabTokenizer',\n",
       " 'TableauProver',\n",
       " 'TableauProverCommand',\n",
       " 'TaggerI',\n",
       " 'TestGrammar',\n",
       " 'Text',\n",
       " 'TextCat',\n",
       " 'TextCollection',\n",
       " 'TextTilingTokenizer',\n",
       " 'TnT',\n",
       " 'TokenSearcher',\n",
       " 'ToktokTokenizer',\n",
       " 'TopDownChartParser',\n",
       " 'TransitionParser',\n",
       " 'Tree',\n",
       " 'TreebankWordTokenizer',\n",
       " 'Trie',\n",
       " 'TrigramAssocMeasures',\n",
       " 'TrigramCollocationFinder',\n",
       " 'TrigramTagger',\n",
       " 'TweetTokenizer',\n",
       " 'TypedMaxentFeatureEncoding',\n",
       " 'Undefined',\n",
       " 'UniformProbDist',\n",
       " 'UnigramTagger',\n",
       " 'UnsortedChartParser',\n",
       " 'Valuation',\n",
       " 'Variable',\n",
       " 'ViterbiParser',\n",
       " 'WekaClassifier',\n",
       " 'WhitespaceTokenizer',\n",
       " 'WittenBellProbDist',\n",
       " 'WordNetLemmatizer',\n",
       " 'WordPunctTokenizer',\n",
       " '__author__',\n",
       " '__author_email__',\n",
       " '__builtins__',\n",
       " '__cached__',\n",
       " '__classifiers__',\n",
       " '__copyright__',\n",
       " '__doc__',\n",
       " '__file__',\n",
       " '__keywords__',\n",
       " '__license__',\n",
       " '__loader__',\n",
       " '__longdescr__',\n",
       " '__maintainer__',\n",
       " '__maintainer_email__',\n",
       " '__name__',\n",
       " '__package__',\n",
       " '__path__',\n",
       " '__spec__',\n",
       " '__url__',\n",
       " '__version__',\n",
       " 'absolute_import',\n",
       " 'accuracy',\n",
       " 'add_logs',\n",
       " 'agreement',\n",
       " 'align',\n",
       " 'alignment_error_rate',\n",
       " 'aline',\n",
       " 'api',\n",
       " 'app',\n",
       " 'apply_features',\n",
       " 'approxrand',\n",
       " 'arity',\n",
       " 'association',\n",
       " 'bigrams',\n",
       " 'binary_distance',\n",
       " 'binary_search_file',\n",
       " 'binding_ops',\n",
       " 'bisect',\n",
       " 'blankline_tokenize',\n",
       " 'bleu',\n",
       " 'bleu_score',\n",
       " 'bllip',\n",
       " 'boolean_ops',\n",
       " 'boxer',\n",
       " 'bracket_parse',\n",
       " 'breadth_first',\n",
       " 'brill',\n",
       " 'brill_trainer',\n",
       " 'build_opener',\n",
       " 'call_megam',\n",
       " 'casual',\n",
       " 'casual_tokenize',\n",
       " 'ccg',\n",
       " 'chain',\n",
       " 'chart',\n",
       " 'chat',\n",
       " 'choose',\n",
       " 'chunk',\n",
       " 'cistem',\n",
       " 'class_types',\n",
       " 'classify',\n",
       " 'clause',\n",
       " 'clean_html',\n",
       " 'clean_url',\n",
       " 'cluster',\n",
       " 'collections',\n",
       " 'collocations',\n",
       " 'combinations',\n",
       " 'compat',\n",
       " 'config_java',\n",
       " 'config_megam',\n",
       " 'config_weka',\n",
       " 'conflicts',\n",
       " 'confusionmatrix',\n",
       " 'conllstr2tree',\n",
       " 'conlltags2tree',\n",
       " 'corenlp',\n",
       " 'corpus',\n",
       " 'crf',\n",
       " 'custom_distance',\n",
       " 'data',\n",
       " 'decisiontree',\n",
       " 'decorator',\n",
       " 'decorators',\n",
       " 'defaultdict',\n",
       " 'demo',\n",
       " 'dependencygraph',\n",
       " 'deque',\n",
       " 'discourse',\n",
       " 'distance',\n",
       " 'download',\n",
       " 'download_gui',\n",
       " 'download_shell',\n",
       " 'downloader',\n",
       " 'draw',\n",
       " 'drt',\n",
       " 'earleychart',\n",
       " 'edit_distance',\n",
       " 'edit_distance_align',\n",
       " 'elementtree_indent',\n",
       " 'entropy',\n",
       " 'equality_preds',\n",
       " 'evaluate',\n",
       " 'evaluate_sents',\n",
       " 'everygrams',\n",
       " 'extract_rels',\n",
       " 'extract_test_sentences',\n",
       " 'f_measure',\n",
       " 'featstruct',\n",
       " 'featurechart',\n",
       " 'filestring',\n",
       " 'find',\n",
       " 'flatten',\n",
       " 'fractional_presence',\n",
       " 'getproxies',\n",
       " 'ghd',\n",
       " 'glue',\n",
       " 'grammar',\n",
       " 'guess_encoding',\n",
       " 'help',\n",
       " 'hmm',\n",
       " 'hunpos',\n",
       " 'ibm1',\n",
       " 'ibm2',\n",
       " 'ibm3',\n",
       " 'ibm4',\n",
       " 'ibm5',\n",
       " 'ibm_model',\n",
       " 'ieerstr2tree',\n",
       " 'improved_close_quote_regex',\n",
       " 'improved_open_quote_regex',\n",
       " 'improved_open_single_quote_regex',\n",
       " 'improved_punct_regex',\n",
       " 'in_idle',\n",
       " 'induce_pcfg',\n",
       " 'inference',\n",
       " 'infile',\n",
       " 'inspect',\n",
       " 'install_opener',\n",
       " 'internals',\n",
       " 'interpret_sents',\n",
       " 'interval_distance',\n",
       " 'invert_dict',\n",
       " 'invert_graph',\n",
       " 'is_rel',\n",
       " 'islice',\n",
       " 'isri',\n",
       " 'jaccard_distance',\n",
       " 'json_tags',\n",
       " 'jsontags',\n",
       " 'lancaster',\n",
       " 'lazyimport',\n",
       " 'lfg',\n",
       " 'line_tokenize',\n",
       " 'linearlogic',\n",
       " 'lm',\n",
       " 'load',\n",
       " 'load_parser',\n",
       " 'locale',\n",
       " 'log_likelihood',\n",
       " 'logic',\n",
       " 'mace',\n",
       " 'malt',\n",
       " 'map_tag',\n",
       " 'mapping',\n",
       " 'masi_distance',\n",
       " 'maxent',\n",
       " 'megam',\n",
       " 'memoize',\n",
       " 'meteor',\n",
       " 'meteor_score',\n",
       " 'metrics',\n",
       " 'misc',\n",
       " 'mwe',\n",
       " 'naivebayes',\n",
       " 'ne_chunk',\n",
       " 'ne_chunk_sents',\n",
       " 'ngrams',\n",
       " 'nonprojectivedependencyparser',\n",
       " 'nonterminals',\n",
       " 'numpy',\n",
       " 'os',\n",
       " 'pad_sequence',\n",
       " 'paice',\n",
       " 'parse',\n",
       " 'parse_sents',\n",
       " 'pchart',\n",
       " 'perceptron',\n",
       " 'pk',\n",
       " 'porter',\n",
       " 'pos_tag',\n",
       " 'pos_tag_sents',\n",
       " 'positivenaivebayes',\n",
       " 'pprint',\n",
       " 'pr',\n",
       " 'precision',\n",
       " 'presence',\n",
       " 'print_function',\n",
       " 'print_string',\n",
       " 'probability',\n",
       " 'projectivedependencyparser',\n",
       " 'prover9',\n",
       " 'punkt',\n",
       " 'py25',\n",
       " 'py26',\n",
       " 'py27',\n",
       " 'pydoc',\n",
       " 'python_2_unicode_compatible',\n",
       " 'raise_unorderable_types',\n",
       " 'ranks_from_scores',\n",
       " 'ranks_from_sequence',\n",
       " 're',\n",
       " 're_show',\n",
       " 'read_grammar',\n",
       " 'read_logic',\n",
       " 'read_valuation',\n",
       " 'recall',\n",
       " 'recursivedescent',\n",
       " 'regexp',\n",
       " 'regexp_span_tokenize',\n",
       " 'regexp_tokenize',\n",
       " 'register_tag',\n",
       " 'relextract',\n",
       " 'repp',\n",
       " 'resolution',\n",
       " 'ribes',\n",
       " 'ribes_score',\n",
       " 'root_semrep',\n",
       " 'rslp',\n",
       " 'rte_classifier',\n",
       " 'rte_classify',\n",
       " 'rte_features',\n",
       " 'rtuple',\n",
       " 'scikitlearn',\n",
       " 'scores',\n",
       " 'segmentation',\n",
       " 'sem',\n",
       " 'senna',\n",
       " 'sent_tokenize',\n",
       " 'sequential',\n",
       " 'set2rel',\n",
       " 'set_proxy',\n",
       " 'sexpr',\n",
       " 'sexpr_tokenize',\n",
       " 'shiftreduce',\n",
       " 'simple',\n",
       " 'sinica_parse',\n",
       " 'skipgrams',\n",
       " 'skolemize',\n",
       " 'slice_bounds',\n",
       " 'snowball',\n",
       " 'sonority_sequencing',\n",
       " 'spearman',\n",
       " 'spearman_correlation',\n",
       " 'stack_decoder',\n",
       " 'stanford',\n",
       " 'stanford_segmenter',\n",
       " 'stem',\n",
       " 'str2tuple',\n",
       " 'string_span_tokenize',\n",
       " 'string_types',\n",
       " 'subprocess',\n",
       " 'subsumes',\n",
       " 'sum_logs',\n",
       " 'sys',\n",
       " 'tableau',\n",
       " 'tadm',\n",
       " 'tag',\n",
       " 'tagset_mapping',\n",
       " 'tagstr2tree',\n",
       " 'tbl',\n",
       " 'text',\n",
       " 'text_type',\n",
       " 'textcat',\n",
       " 'texttiling',\n",
       " 'textwrap',\n",
       " 'tkinter',\n",
       " 'tnt',\n",
       " 'tokenize',\n",
       " 'tokenwrap',\n",
       " 'toktok',\n",
       " 'toolbox',\n",
       " 'total_ordering',\n",
       " 'transitionparser',\n",
       " 'transitive_closure',\n",
       " 'translate',\n",
       " 'tree',\n",
       " 'tree2conllstr',\n",
       " 'tree2conlltags',\n",
       " 'treebank',\n",
       " 'treetransforms',\n",
       " 'trigrams',\n",
       " 'tuple2str',\n",
       " 'types',\n",
       " 'unify',\n",
       " 'unique_list',\n",
       " 'untag',\n",
       " 'usage',\n",
       " 'util',\n",
       " 'version_file',\n",
       " 'version_info',\n",
       " 'viterbi',\n",
       " 'weka',\n",
       " 'windowdiff',\n",
       " 'word_tokenize',\n",
       " 'wordnet',\n",
       " 'wordpunct_tokenize',\n",
       " 'wsd']"
      ]
     },
     "execution_count": 9,
     "metadata": {},
     "output_type": "execute_result"
    }
   ],
   "source": [
    "dir(nltk)"
   ]
  },
  {
   "cell_type": "code",
   "execution_count": 10,
   "metadata": {},
   "outputs": [
    {
     "name": "stdout",
     "output_type": "stream",
     "text": [
      "['this', 'is', 'the', 'greatest', 'thing', 'ever']\n"
     ]
    }
   ],
   "source": [
    "from nltk.tokenize import word_tokenize\n",
    "text = \"this is the greatest thing ever\"\n",
    "print(word_tokenize(text))"
   ]
  },
  {
   "cell_type": "code",
   "execution_count": 11,
   "metadata": {},
   "outputs": [],
   "source": [
    "# TOKENIZE EXAMPLE"
   ]
  },
  {
   "cell_type": "code",
   "execution_count": 12,
   "metadata": {},
   "outputs": [],
   "source": [
    "# READING TEXT"
   ]
  },
  {
   "cell_type": "code",
   "execution_count": 13,
   "metadata": {},
   "outputs": [
    {
     "name": "stdout",
     "output_type": "stream",
     "text": [
      "ham\tGo until jurong point, crazy.. Available only in bugis n great world la e buffet... Cine there got amore wat...\n",
      "ham\tOk lar... Joking wif u oni...\n",
      "spam\tFree entry in 2 a wkly comp to win FA Cup final tkts 21st May 2005. Text FA to 87121 to receive entry question(std txt rate)T&C's apply 08452810075over18's\n",
      "ham\tU dun say so early hor... U c already then say...\n",
      "ham\tNah I don't think he goes to usf, he lives around here though\n",
      "spam\tFreeMsg Hey there darling it's been 3 week's now and no word bac\n"
     ]
    }
   ],
   "source": [
    "ds = \"\"\n",
    "with open(\"SMSSPamCollection\") as dataset:\n",
    "    ds = dataset.read()\n",
    "    print(ds[0:500])"
   ]
  },
  {
   "cell_type": "code",
   "execution_count": null,
   "metadata": {},
   "outputs": [],
   "source": []
  },
  {
   "cell_type": "code",
   "execution_count": 14,
   "metadata": {},
   "outputs": [
    {
     "name": "stdout",
     "output_type": "stream",
     "text": [
      "['ham', 'Go until jurong point, crazy.. Available only in bugis n great world la e buffet... Cine there got amore wat...', 'ham', 'Ok lar... Joking wif u oni...', 'spam', \"Free entry in 2 a wkly comp to win FA Cup final tkts 21st May 2005. Text FA to 87121 to receive entry question(std txt rate)T&C's apply 08452810075over18's\", 'ham', 'U dun say so early hor... U c already then say...', 'ham', \"Nah I don't think he goes to usf, he lives around here though\", 'spam', \"FreeMsg Hey there darling it's been 3 week's now and no word back! I'd like some fun you up for it still? Tb ok! XxX std chgs to send, Â£1.50 to rcv\", 'ham', 'Even my brother is not like to speak with me. They treat me like aids patent.', 'ham', \"As per your request 'Melle Melle (Oru Minnaminunginte Nurungu Vettam)' has been set as your callertune for all Callers. Press *9 to copy your friends Callertune\", 'spam', 'WINNER!! As a valued network customer you have been selected to receivea Â£900 prize reward! To claim call 09061701461. Claim code KL341. Valid 12 hours only.', 'spam', 'Had your mobile 11 months or more? U R entitled to Update to the latest colour mobiles with camera for Free! Call The Mobile Update Co FREE on 08002986030']\n"
     ]
    }
   ],
   "source": [
    "ds = ds.replace('\\t', \"\\n\").split(\"\\n\")\n",
    "print(ds[0:20])"
   ]
  },
  {
   "cell_type": "code",
   "execution_count": 15,
   "metadata": {},
   "outputs": [
    {
     "name": "stdout",
     "output_type": "stream",
     "text": [
      "['ham', 'ham', 'spam', 'ham', 'ham']\n",
      "['Go until jurong point, crazy.. Available only in bugis n great world la e buffet... Cine there got amore wat...', 'Ok lar... Joking wif u oni...', \"Free entry in 2 a wkly comp to win FA Cup final tkts 21st May 2005. Text FA to 87121 to receive entry question(std txt rate)T&C's apply 08452810075over18's\", 'U dun say so early hor... U c already then say...', \"Nah I don't think he goes to usf, he lives around here though\"]\n",
      "5575\n",
      "5574\n",
      "['ham', 'ham', '']\n"
     ]
    }
   ],
   "source": [
    "label_list = ds[0::2]\n",
    "msg_list = ds[1::2]\n",
    "print(label_list[0:5])\n",
    "print(msg_list[0:5])\n",
    "print(len(label_list))\n",
    "print(len(msg_list))\n",
    "print(label_list[-3:])"
   ]
  },
  {
   "cell_type": "code",
   "execution_count": 16,
   "metadata": {},
   "outputs": [],
   "source": [
    "# ORGANIZING THE DATASET USING PANDAS"
   ]
  },
  {
   "cell_type": "code",
   "execution_count": 17,
   "metadata": {},
   "outputs": [
    {
     "data": {
      "text/html": [
       "<div>\n",
       "<style scoped>\n",
       "    .dataframe tbody tr th:only-of-type {\n",
       "        vertical-align: middle;\n",
       "    }\n",
       "\n",
       "    .dataframe tbody tr th {\n",
       "        vertical-align: top;\n",
       "    }\n",
       "\n",
       "    .dataframe thead th {\n",
       "        text-align: right;\n",
       "    }\n",
       "</style>\n",
       "<table border=\"1\" class=\"dataframe\">\n",
       "  <thead>\n",
       "    <tr style=\"text-align: right;\">\n",
       "      <th></th>\n",
       "      <th>label</th>\n",
       "      <th>message</th>\n",
       "    </tr>\n",
       "  </thead>\n",
       "  <tbody>\n",
       "    <tr>\n",
       "      <td>0</td>\n",
       "      <td>ham</td>\n",
       "      <td>Go until jurong point, crazy.. Available only ...</td>\n",
       "    </tr>\n",
       "    <tr>\n",
       "      <td>1</td>\n",
       "      <td>ham</td>\n",
       "      <td>Ok lar... Joking wif u oni...</td>\n",
       "    </tr>\n",
       "    <tr>\n",
       "      <td>2</td>\n",
       "      <td>spam</td>\n",
       "      <td>Free entry in 2 a wkly comp to win FA Cup fina...</td>\n",
       "    </tr>\n",
       "    <tr>\n",
       "      <td>3</td>\n",
       "      <td>ham</td>\n",
       "      <td>U dun say so early hor... U c already then say...</td>\n",
       "    </tr>\n",
       "    <tr>\n",
       "      <td>4</td>\n",
       "      <td>ham</td>\n",
       "      <td>Nah I don't think he goes to usf, he lives aro...</td>\n",
       "    </tr>\n",
       "  </tbody>\n",
       "</table>\n",
       "</div>"
      ],
      "text/plain": [
       "  label                                            message\n",
       "0   ham  Go until jurong point, crazy.. Available only ...\n",
       "1   ham                      Ok lar... Joking wif u oni...\n",
       "2  spam  Free entry in 2 a wkly comp to win FA Cup fina...\n",
       "3   ham  U dun say so early hor... U c already then say...\n",
       "4   ham  Nah I don't think he goes to usf, he lives aro..."
      ]
     },
     "execution_count": 17,
     "metadata": {},
     "output_type": "execute_result"
    }
   ],
   "source": [
    "import pandas as pd \n",
    "\n",
    "\n",
    "data_frame = pd.DataFrame({\n",
    "    \"label\":label_list[:-1],\n",
    "    \"message\":msg_list\n",
    "})\n",
    "\n",
    "data_frame.head()"
   ]
  },
  {
   "cell_type": "markdown",
   "metadata": {},
   "source": [
    "# Method 2 of reading data using panda"
   ]
  },
  {
   "cell_type": "markdown",
   "metadata": {},
   "source": [
    "# explore the dataset"
   ]
  },
  {
   "cell_type": "code",
   "execution_count": 18,
   "metadata": {},
   "outputs": [
    {
     "data": {
      "text/html": [
       "<div>\n",
       "<style scoped>\n",
       "    .dataframe tbody tr th:only-of-type {\n",
       "        vertical-align: middle;\n",
       "    }\n",
       "\n",
       "    .dataframe tbody tr th {\n",
       "        vertical-align: top;\n",
       "    }\n",
       "\n",
       "    .dataframe thead th {\n",
       "        text-align: right;\n",
       "    }\n",
       "</style>\n",
       "<table border=\"1\" class=\"dataframe\">\n",
       "  <thead>\n",
       "    <tr style=\"text-align: right;\">\n",
       "      <th></th>\n",
       "      <th>label</th>\n",
       "      <th>message</th>\n",
       "    </tr>\n",
       "  </thead>\n",
       "  <tbody>\n",
       "    <tr>\n",
       "      <td>0</td>\n",
       "      <td>ham</td>\n",
       "      <td>Go until jurong point, crazy.. Available only ...</td>\n",
       "    </tr>\n",
       "    <tr>\n",
       "      <td>1</td>\n",
       "      <td>ham</td>\n",
       "      <td>Ok lar... Joking wif u oni...</td>\n",
       "    </tr>\n",
       "    <tr>\n",
       "      <td>2</td>\n",
       "      <td>spam</td>\n",
       "      <td>Free entry in 2 a wkly comp to win FA Cup fina...</td>\n",
       "    </tr>\n",
       "    <tr>\n",
       "      <td>3</td>\n",
       "      <td>ham</td>\n",
       "      <td>U dun say so early hor... U c already then say...</td>\n",
       "    </tr>\n",
       "    <tr>\n",
       "      <td>4</td>\n",
       "      <td>ham</td>\n",
       "      <td>Nah I don't think he goes to usf, he lives aro...</td>\n",
       "    </tr>\n",
       "  </tbody>\n",
       "</table>\n",
       "</div>"
      ],
      "text/plain": [
       "  label                                            message\n",
       "0   ham  Go until jurong point, crazy.. Available only ...\n",
       "1   ham                      Ok lar... Joking wif u oni...\n",
       "2  spam  Free entry in 2 a wkly comp to win FA Cup fina...\n",
       "3   ham  U dun say so early hor... U c already then say...\n",
       "4   ham  Nah I don't think he goes to usf, he lives aro..."
      ]
     },
     "execution_count": 18,
     "metadata": {},
     "output_type": "execute_result"
    }
   ],
   "source": [
    "data = pd.read_csv(\"SMSSPamCollection\" , sep=\"\\t\" , header=None)\n",
    "data.columns = [\"label\" , \"message\"]\n",
    "data.head()"
   ]
  },
  {
   "cell_type": "code",
   "execution_count": 19,
   "metadata": {},
   "outputs": [
    {
     "name": "stdout",
     "output_type": "stream",
     "text": [
      "row 5572 , columes 2\n"
     ]
    }
   ],
   "source": [
    "print(f\"row {len(data)} , columes {len(data.columns)}\")"
   ]
  },
  {
   "cell_type": "code",
   "execution_count": 20,
   "metadata": {},
   "outputs": [],
   "source": [
    " label = data[\"label\"]"
   ]
  },
  {
   "cell_type": "code",
   "execution_count": 22,
   "metadata": {},
   "outputs": [
    {
     "name": "stdout",
     "output_type": "stream",
     "text": [
      "ham count 4825\n",
      "spam count 747\n"
     ]
    }
   ],
   "source": [
    "ham_count = len([h for h in data[\"label\"] if h==\"ham\"])\n",
    "print (\"ham count\" , ham_count)\n",
    "spam_count = len([h for h in data[\"label\"] if h==\"spam\"])\n",
    "print (\"spam count\", spam_count)"
   ]
  },
  {
   "cell_type": "markdown",
   "metadata": {},
   "source": [
    "# visualizaing spam and ham on Kaggle dataset"
   ]
  },
  {
   "cell_type": "code",
   "execution_count": 24,
   "metadata": {},
   "outputs": [
    {
     "data": {
      "image/png": "[encoded data removed]",
      "text/plain": [
       "<Figure size 432x288 with 1 Axes>"
      ]
     },
     "metadata": {
      "needs_background": "light"
     },
     "output_type": "display_data"
    }
   ],
   "source": [
    "import matplotlib.pyplot as pylt\n",
    "import numpy as np \n",
    "X = np.array(['Ham' , 'Spam'])\n",
    "y = np.array([ham_count , spam_count])\n",
    "\n",
    "pylt.bar(X, y)\n",
    "pylt.show()\n",
    "             "
   ]
  },
  {
   "cell_type": "code",
   "execution_count": 28,
   "metadata": {},
   "outputs": [
    {
     "name": "stdout",
     "output_type": "stream",
     "text": [
      "ham or missing data =  {0}\n"
     ]
    }
   ],
   "source": [
    "print(f'ham or missing data = ' , {data['label'].isnull().sum()})"
   ]
  },
  {
   "cell_type": "code",
   "execution_count": 29,
   "metadata": {},
   "outputs": [
    {
     "name": "stdout",
     "output_type": "stream",
     "text": [
      "missing ham value 0\n",
      "missing spam value 0\n"
     ]
    }
   ],
   "source": [
    "print('missing ham value' , data['label'].isnull().sum())\n",
    "print('missing spam value' , data['label'].isnull().sum())"
   ]
  },
  {
   "cell_type": "code",
   "execution_count": 30,
   "metadata": {},
   "outputs": [
    {
     "data": {
      "text/html": [
       "<div>\n",
       "<style scoped>\n",
       "    .dataframe tbody tr th:only-of-type {\n",
       "        vertical-align: middle;\n",
       "    }\n",
       "\n",
       "    .dataframe tbody tr th {\n",
       "        vertical-align: top;\n",
       "    }\n",
       "\n",
       "    .dataframe thead th {\n",
       "        text-align: right;\n",
       "    }\n",
       "</style>\n",
       "<table border=\"1\" class=\"dataframe\">\n",
       "  <thead>\n",
       "    <tr style=\"text-align: right;\">\n",
       "      <th></th>\n",
       "      <th>label</th>\n",
       "      <th>message</th>\n",
       "    </tr>\n",
       "  </thead>\n",
       "  <tbody>\n",
       "    <tr>\n",
       "      <td>0</td>\n",
       "      <td>ham</td>\n",
       "      <td>Go until jurong point, crazy.. Available only in bugis n great world la e buffet... Cine there g...</td>\n",
       "    </tr>\n",
       "    <tr>\n",
       "      <td>1</td>\n",
       "      <td>ham</td>\n",
       "      <td>Ok lar... Joking wif u oni...</td>\n",
       "    </tr>\n",
       "    <tr>\n",
       "      <td>2</td>\n",
       "      <td>spam</td>\n",
       "      <td>Free entry in 2 a wkly comp to win FA Cup final tkts 21st May 2005. Text FA to 87121 to receive ...</td>\n",
       "    </tr>\n",
       "    <tr>\n",
       "      <td>3</td>\n",
       "      <td>ham</td>\n",
       "      <td>U dun say so early hor... U c already then say...</td>\n",
       "    </tr>\n",
       "    <tr>\n",
       "      <td>4</td>\n",
       "      <td>ham</td>\n",
       "      <td>Nah I don't think he goes to usf, he lives around here though</td>\n",
       "    </tr>\n",
       "  </tbody>\n",
       "</table>\n",
       "</div>"
      ],
      "text/plain": [
       "  label  \\\n",
       "0   ham   \n",
       "1   ham   \n",
       "2  spam   \n",
       "3   ham   \n",
       "4   ham   \n",
       "\n",
       "                                                                                               message  \n",
       "0  Go until jurong point, crazy.. Available only in bugis n great world la e buffet... Cine there g...  \n",
       "1                                                                        Ok lar... Joking wif u oni...  \n",
       "2  Free entry in 2 a wkly comp to win FA Cup final tkts 21st May 2005. Text FA to 87121 to receive ...  \n",
       "3                                                    U dun say so early hor... U c already then say...  \n",
       "4                                        Nah I don't think he goes to usf, he lives around here though  "
      ]
     },
     "execution_count": 30,
     "metadata": {},
     "output_type": "execute_result"
    }
   ],
   "source": [
    "import pandas as pd \n",
    "\n",
    "pd.set_option('display.max_colwidth' , 100)\n",
    "dataset = pd.read_csv('SMSSpamCollection', sep='\\t' , header=None)\n",
    "dataset.columns = ['label', 'message']\n",
    "dataset.head()"
   ]
  },
  {
   "cell_type": "code",
   "execution_count": 31,
   "metadata": {},
   "outputs": [
    {
     "data": {
      "text/plain": [
       "'!\"#$%&\\'()*+,-./:;<=>?@[\\\\]^_`{|}~'"
      ]
     },
     "execution_count": 31,
     "metadata": {},
     "output_type": "execute_result"
    }
   ],
   "source": [
    "import string \n",
    "string.punctuation"
   ]
  },
  {
   "cell_type": "code",
   "execution_count": 32,
   "metadata": {},
   "outputs": [],
   "source": [
    "def remove_punctuation(text):\n",
    "    result = ''.join([c for c in text if c not in string.punctuation])\n",
    "    return result"
   ]
  },
  {
   "cell_type": "code",
   "execution_count": 33,
   "metadata": {},
   "outputs": [
    {
     "data": {
      "text/html": [
       "<div>\n",
       "<style scoped>\n",
       "    .dataframe tbody tr th:only-of-type {\n",
       "        vertical-align: middle;\n",
       "    }\n",
       "\n",
       "    .dataframe tbody tr th {\n",
       "        vertical-align: top;\n",
       "    }\n",
       "\n",
       "    .dataframe thead th {\n",
       "        text-align: right;\n",
       "    }\n",
       "</style>\n",
       "<table border=\"1\" class=\"dataframe\">\n",
       "  <thead>\n",
       "    <tr style=\"text-align: right;\">\n",
       "      <th></th>\n",
       "      <th>label</th>\n",
       "      <th>message</th>\n",
       "      <th>cln_msg</th>\n",
       "    </tr>\n",
       "  </thead>\n",
       "  <tbody>\n",
       "    <tr>\n",
       "      <td>0</td>\n",
       "      <td>ham</td>\n",
       "      <td>Go until jurong point, crazy.. Available only in bugis n great world la e buffet... Cine there g...</td>\n",
       "      <td>Go until jurong point crazy Available only in bugis n great world la e buffet Cine there got amo...</td>\n",
       "    </tr>\n",
       "    <tr>\n",
       "      <td>1</td>\n",
       "      <td>ham</td>\n",
       "      <td>Ok lar... Joking wif u oni...</td>\n",
       "      <td>Ok lar Joking wif u oni</td>\n",
       "    </tr>\n",
       "    <tr>\n",
       "      <td>2</td>\n",
       "      <td>spam</td>\n",
       "      <td>Free entry in 2 a wkly comp to win FA Cup final tkts 21st May 2005. Text FA to 87121 to receive ...</td>\n",
       "      <td>Free entry in 2 a wkly comp to win FA Cup final tkts 21st May 2005 Text FA to 87121 to receive e...</td>\n",
       "    </tr>\n",
       "    <tr>\n",
       "      <td>3</td>\n",
       "      <td>ham</td>\n",
       "      <td>U dun say so early hor... U c already then say...</td>\n",
       "      <td>U dun say so early hor U c already then say</td>\n",
       "    </tr>\n",
       "    <tr>\n",
       "      <td>4</td>\n",
       "      <td>ham</td>\n",
       "      <td>Nah I don't think he goes to usf, he lives around here though</td>\n",
       "      <td>Nah I dont think he goes to usf he lives around here though</td>\n",
       "    </tr>\n",
       "  </tbody>\n",
       "</table>\n",
       "</div>"
      ],
      "text/plain": [
       "  label  \\\n",
       "0   ham   \n",
       "1   ham   \n",
       "2  spam   \n",
       "3   ham   \n",
       "4   ham   \n",
       "\n",
       "                                                                                               message  \\\n",
       "0  Go until jurong point, crazy.. Available only in bugis n great world la e buffet... Cine there g...   \n",
       "1                                                                        Ok lar... Joking wif u oni...   \n",
       "2  Free entry in 2 a wkly comp to win FA Cup final tkts 21st May 2005. Text FA to 87121 to receive ...   \n",
       "3                                                    U dun say so early hor... U c already then say...   \n",
       "4                                        Nah I don't think he goes to usf, he lives around here though   \n",
       "\n",
       "                                                                                               cln_msg  \n",
       "0  Go until jurong point crazy Available only in bugis n great world la e buffet Cine there got amo...  \n",
       "1                                                                              Ok lar Joking wif u oni  \n",
       "2  Free entry in 2 a wkly comp to win FA Cup final tkts 21st May 2005 Text FA to 87121 to receive e...  \n",
       "3                                                          U dun say so early hor U c already then say  \n",
       "4                                          Nah I dont think he goes to usf he lives around here though  "
      ]
     },
     "execution_count": 33,
     "metadata": {},
     "output_type": "execute_result"
    }
   ],
   "source": [
    "dataset['cln_msg'] = [remove_punctuation(m) for m in dataset['message']]\n",
    "dataset.head()"
   ]
  },
  {
   "cell_type": "markdown",
   "metadata": {},
   "source": [
    "# tokenization"
   ]
  },
  {
   "cell_type": "code",
   "execution_count": 34,
   "metadata": {},
   "outputs": [],
   "source": [
    "from nltk.tokenize import word_tokenize"
   ]
  },
  {
   "cell_type": "code",
   "execution_count": 35,
   "metadata": {},
   "outputs": [
    {
     "data": {
      "text/html": [
       "<div>\n",
       "<style scoped>\n",
       "    .dataframe tbody tr th:only-of-type {\n",
       "        vertical-align: middle;\n",
       "    }\n",
       "\n",
       "    .dataframe tbody tr th {\n",
       "        vertical-align: top;\n",
       "    }\n",
       "\n",
       "    .dataframe thead th {\n",
       "        text-align: right;\n",
       "    }\n",
       "</style>\n",
       "<table border=\"1\" class=\"dataframe\">\n",
       "  <thead>\n",
       "    <tr style=\"text-align: right;\">\n",
       "      <th></th>\n",
       "      <th>label</th>\n",
       "      <th>message</th>\n",
       "      <th>cln_msg</th>\n",
       "      <th>token_msg</th>\n",
       "    </tr>\n",
       "  </thead>\n",
       "  <tbody>\n",
       "    <tr>\n",
       "      <td>0</td>\n",
       "      <td>ham</td>\n",
       "      <td>Go until jurong point, crazy.. Available only in bugis n great world la e buffet... Cine there g...</td>\n",
       "      <td>Go until jurong point crazy Available only in bugis n great world la e buffet Cine there got amo...</td>\n",
       "      <td>[Go, until, jurong, point, crazy, Available, only, in, bugis, n, great, world, la, e, buffet, Ci...</td>\n",
       "    </tr>\n",
       "    <tr>\n",
       "      <td>1</td>\n",
       "      <td>ham</td>\n",
       "      <td>Ok lar... Joking wif u oni...</td>\n",
       "      <td>Ok lar Joking wif u oni</td>\n",
       "      <td>[Ok, lar, Joking, wif, u, oni]</td>\n",
       "    </tr>\n",
       "    <tr>\n",
       "      <td>2</td>\n",
       "      <td>spam</td>\n",
       "      <td>Free entry in 2 a wkly comp to win FA Cup final tkts 21st May 2005. Text FA to 87121 to receive ...</td>\n",
       "      <td>Free entry in 2 a wkly comp to win FA Cup final tkts 21st May 2005 Text FA to 87121 to receive e...</td>\n",
       "      <td>[Free, entry, in, 2, a, wkly, comp, to, win, FA, Cup, final, tkts, 21st, May, 2005, Text, FA, to...</td>\n",
       "    </tr>\n",
       "    <tr>\n",
       "      <td>3</td>\n",
       "      <td>ham</td>\n",
       "      <td>U dun say so early hor... U c already then say...</td>\n",
       "      <td>U dun say so early hor U c already then say</td>\n",
       "      <td>[U, dun, say, so, early, hor, U, c, already, then, say]</td>\n",
       "    </tr>\n",
       "    <tr>\n",
       "      <td>4</td>\n",
       "      <td>ham</td>\n",
       "      <td>Nah I don't think he goes to usf, he lives around here though</td>\n",
       "      <td>Nah I dont think he goes to usf he lives around here though</td>\n",
       "      <td>[Nah, I, dont, think, he, goes, to, usf, he, lives, around, here, though]</td>\n",
       "    </tr>\n",
       "  </tbody>\n",
       "</table>\n",
       "</div>"
      ],
      "text/plain": [
       "  label  \\\n",
       "0   ham   \n",
       "1   ham   \n",
       "2  spam   \n",
       "3   ham   \n",
       "4   ham   \n",
       "\n",
       "                                                                                               message  \\\n",
       "0  Go until jurong point, crazy.. Available only in bugis n great world la e buffet... Cine there g...   \n",
       "1                                                                        Ok lar... Joking wif u oni...   \n",
       "2  Free entry in 2 a wkly comp to win FA Cup final tkts 21st May 2005. Text FA to 87121 to receive ...   \n",
       "3                                                    U dun say so early hor... U c already then say...   \n",
       "4                                        Nah I don't think he goes to usf, he lives around here though   \n",
       "\n",
       "                                                                                               cln_msg  \\\n",
       "0  Go until jurong point crazy Available only in bugis n great world la e buffet Cine there got amo...   \n",
       "1                                                                              Ok lar Joking wif u oni   \n",
       "2  Free entry in 2 a wkly comp to win FA Cup final tkts 21st May 2005 Text FA to 87121 to receive e...   \n",
       "3                                                          U dun say so early hor U c already then say   \n",
       "4                                          Nah I dont think he goes to usf he lives around here though   \n",
       "\n",
       "                                                                                             token_msg  \n",
       "0  [Go, until, jurong, point, crazy, Available, only, in, bugis, n, great, world, la, e, buffet, Ci...  \n",
       "1                                                                       [Ok, lar, Joking, wif, u, oni]  \n",
       "2  [Free, entry, in, 2, a, wkly, comp, to, win, FA, Cup, final, tkts, 21st, May, 2005, Text, FA, to...  \n",
       "3                                              [U, dun, say, so, early, hor, U, c, already, then, say]  \n",
       "4                            [Nah, I, dont, think, he, goes, to, usf, he, lives, around, here, though]  "
      ]
     },
     "execution_count": 35,
     "metadata": {},
     "output_type": "execute_result"
    }
   ],
   "source": [
    "dataset['token_msg'] = [word_tokenize(dp) for dp in dataset['cln_msg']]\n",
    "dataset.head()"
   ]
  },
  {
   "cell_type": "markdown",
   "metadata": {},
   "source": [
    "# romove stop word "
   ]
  },
  {
   "cell_type": "code",
   "execution_count": 36,
   "metadata": {},
   "outputs": [],
   "source": [
    "from nltk.corpus import stopwords\n",
    "st = stopwords.words('english')"
   ]
  },
  {
   "cell_type": "code",
   "execution_count": 37,
   "metadata": {},
   "outputs": [
    {
     "data": {
      "text/html": [
       "<div>\n",
       "<style scoped>\n",
       "    .dataframe tbody tr th:only-of-type {\n",
       "        vertical-align: middle;\n",
       "    }\n",
       "\n",
       "    .dataframe tbody tr th {\n",
       "        vertical-align: top;\n",
       "    }\n",
       "\n",
       "    .dataframe thead th {\n",
       "        text-align: right;\n",
       "    }\n",
       "</style>\n",
       "<table border=\"1\" class=\"dataframe\">\n",
       "  <thead>\n",
       "    <tr style=\"text-align: right;\">\n",
       "      <th></th>\n",
       "      <th>label</th>\n",
       "      <th>message</th>\n",
       "      <th>cln_msg</th>\n",
       "      <th>token_msg</th>\n",
       "    </tr>\n",
       "  </thead>\n",
       "  <tbody>\n",
       "    <tr>\n",
       "      <td>0</td>\n",
       "      <td>ham</td>\n",
       "      <td>Go until jurong point, crazy.. Available only in bugis n great world la e buffet... Cine there g...</td>\n",
       "      <td>Go until jurong point crazy Available only in bugis n great world la e buffet Cine there got amo...</td>\n",
       "      <td>[Go, jurong, point, crazy, Available, bugis, n, great, world, la, e, buffet, Cine, got, amore, wat]</td>\n",
       "    </tr>\n",
       "    <tr>\n",
       "      <td>1</td>\n",
       "      <td>ham</td>\n",
       "      <td>Ok lar... Joking wif u oni...</td>\n",
       "      <td>Ok lar Joking wif u oni</td>\n",
       "      <td>[Ok, lar, Joking, wif, u, oni]</td>\n",
       "    </tr>\n",
       "    <tr>\n",
       "      <td>2</td>\n",
       "      <td>spam</td>\n",
       "      <td>Free entry in 2 a wkly comp to win FA Cup final tkts 21st May 2005. Text FA to 87121 to receive ...</td>\n",
       "      <td>Free entry in 2 a wkly comp to win FA Cup final tkts 21st May 2005 Text FA to 87121 to receive e...</td>\n",
       "      <td>[Free, entry, 2, wkly, comp, win, FA, Cup, final, tkts, 21st, May, 2005, Text, FA, 87121, receiv...</td>\n",
       "    </tr>\n",
       "    <tr>\n",
       "      <td>3</td>\n",
       "      <td>ham</td>\n",
       "      <td>U dun say so early hor... U c already then say...</td>\n",
       "      <td>U dun say so early hor U c already then say</td>\n",
       "      <td>[U, dun, say, early, hor, U, c, already, say]</td>\n",
       "    </tr>\n",
       "    <tr>\n",
       "      <td>4</td>\n",
       "      <td>ham</td>\n",
       "      <td>Nah I don't think he goes to usf, he lives around here though</td>\n",
       "      <td>Nah I dont think he goes to usf he lives around here though</td>\n",
       "      <td>[Nah, I, dont, think, goes, usf, lives, around, though]</td>\n",
       "    </tr>\n",
       "  </tbody>\n",
       "</table>\n",
       "</div>"
      ],
      "text/plain": [
       "  label  \\\n",
       "0   ham   \n",
       "1   ham   \n",
       "2  spam   \n",
       "3   ham   \n",
       "4   ham   \n",
       "\n",
       "                                                                                               message  \\\n",
       "0  Go until jurong point, crazy.. Available only in bugis n great world la e buffet... Cine there g...   \n",
       "1                                                                        Ok lar... Joking wif u oni...   \n",
       "2  Free entry in 2 a wkly comp to win FA Cup final tkts 21st May 2005. Text FA to 87121 to receive ...   \n",
       "3                                                    U dun say so early hor... U c already then say...   \n",
       "4                                        Nah I don't think he goes to usf, he lives around here though   \n",
       "\n",
       "                                                                                               cln_msg  \\\n",
       "0  Go until jurong point crazy Available only in bugis n great world la e buffet Cine there got amo...   \n",
       "1                                                                              Ok lar Joking wif u oni   \n",
       "2  Free entry in 2 a wkly comp to win FA Cup final tkts 21st May 2005 Text FA to 87121 to receive e...   \n",
       "3                                                          U dun say so early hor U c already then say   \n",
       "4                                          Nah I dont think he goes to usf he lives around here though   \n",
       "\n",
       "                                                                                             token_msg  \n",
       "0  [Go, jurong, point, crazy, Available, bugis, n, great, world, la, e, buffet, Cine, got, amore, wat]  \n",
       "1                                                                       [Ok, lar, Joking, wif, u, oni]  \n",
       "2  [Free, entry, 2, wkly, comp, win, FA, Cup, final, tkts, 21st, May, 2005, Text, FA, 87121, receiv...  \n",
       "3                                                        [U, dun, say, early, hor, U, c, already, say]  \n",
       "4                                              [Nah, I, dont, think, goes, usf, lives, around, though]  "
      ]
     },
     "execution_count": 37,
     "metadata": {},
     "output_type": "execute_result"
    }
   ],
   "source": [
    "def remove_stopword(word):\n",
    "    clean_word = [w for w in word if w not in st]\n",
    "    return clean_word\n",
    "\n",
    "dataset['token_msg'] = dataset['token_msg'].apply(lambda w: remove_stopword(w))\n",
    "dataset.head()\n",
    "        "
   ]
  },
  {
   "cell_type": "markdown",
   "metadata": {},
   "source": [
    "# stemming the dataset"
   ]
  },
  {
   "cell_type": "code",
   "execution_count": 38,
   "metadata": {},
   "outputs": [],
   "source": [
    "from nltk.stem import WordNetLemmatizer"
   ]
  },
  {
   "cell_type": "code",
   "execution_count": 39,
   "metadata": {},
   "outputs": [
    {
     "data": {
      "text/html": [
       "<div>\n",
       "<style scoped>\n",
       "    .dataframe tbody tr th:only-of-type {\n",
       "        vertical-align: middle;\n",
       "    }\n",
       "\n",
       "    .dataframe tbody tr th {\n",
       "        vertical-align: top;\n",
       "    }\n",
       "\n",
       "    .dataframe thead th {\n",
       "        text-align: right;\n",
       "    }\n",
       "</style>\n",
       "<table border=\"1\" class=\"dataframe\">\n",
       "  <thead>\n",
       "    <tr style=\"text-align: right;\">\n",
       "      <th></th>\n",
       "      <th>label</th>\n",
       "      <th>message</th>\n",
       "      <th>cln_msg</th>\n",
       "      <th>token_msg</th>\n",
       "      <th>stem_msg</th>\n",
       "    </tr>\n",
       "  </thead>\n",
       "  <tbody>\n",
       "    <tr>\n",
       "      <td>0</td>\n",
       "      <td>ham</td>\n",
       "      <td>Go until jurong point, crazy.. Available only in bugis n great world la e buffet... Cine there g...</td>\n",
       "      <td>Go until jurong point crazy Available only in bugis n great world la e buffet Cine there got amo...</td>\n",
       "      <td>[Go, jurong, point, crazy, Available, bugis, n, great, world, la, e, buffet, Cine, got, amore, wat]</td>\n",
       "      <td>[Go, jurong, point, crazy, Available, bugis, n, great, world, la, e, buffet, Cine, got, amore, wat]</td>\n",
       "    </tr>\n",
       "    <tr>\n",
       "      <td>1</td>\n",
       "      <td>ham</td>\n",
       "      <td>Ok lar... Joking wif u oni...</td>\n",
       "      <td>Ok lar Joking wif u oni</td>\n",
       "      <td>[Ok, lar, Joking, wif, u, oni]</td>\n",
       "      <td>[Ok, lar, Joking, wif, u, oni]</td>\n",
       "    </tr>\n",
       "    <tr>\n",
       "      <td>2</td>\n",
       "      <td>spam</td>\n",
       "      <td>Free entry in 2 a wkly comp to win FA Cup final tkts 21st May 2005. Text FA to 87121 to receive ...</td>\n",
       "      <td>Free entry in 2 a wkly comp to win FA Cup final tkts 21st May 2005 Text FA to 87121 to receive e...</td>\n",
       "      <td>[Free, entry, 2, wkly, comp, win, FA, Cup, final, tkts, 21st, May, 2005, Text, FA, 87121, receiv...</td>\n",
       "      <td>[Free, entry, 2, wkly, comp, win, FA, Cup, final, tkts, 21st, May, 2005, Text, FA, 87121, receiv...</td>\n",
       "    </tr>\n",
       "    <tr>\n",
       "      <td>3</td>\n",
       "      <td>ham</td>\n",
       "      <td>U dun say so early hor... U c already then say...</td>\n",
       "      <td>U dun say so early hor U c already then say</td>\n",
       "      <td>[U, dun, say, early, hor, U, c, already, say]</td>\n",
       "      <td>[U, dun, say, early, hor, U, c, already, say]</td>\n",
       "    </tr>\n",
       "    <tr>\n",
       "      <td>4</td>\n",
       "      <td>ham</td>\n",
       "      <td>Nah I don't think he goes to usf, he lives around here though</td>\n",
       "      <td>Nah I dont think he goes to usf he lives around here though</td>\n",
       "      <td>[Nah, I, dont, think, goes, usf, lives, around, though]</td>\n",
       "      <td>[Nah, I, dont, think, go, usf, life, around, though]</td>\n",
       "    </tr>\n",
       "  </tbody>\n",
       "</table>\n",
       "</div>"
      ],
      "text/plain": [
       "  label  \\\n",
       "0   ham   \n",
       "1   ham   \n",
       "2  spam   \n",
       "3   ham   \n",
       "4   ham   \n",
       "\n",
       "                                                                                               message  \\\n",
       "0  Go until jurong point, crazy.. Available only in bugis n great world la e buffet... Cine there g...   \n",
       "1                                                                        Ok lar... Joking wif u oni...   \n",
       "2  Free entry in 2 a wkly comp to win FA Cup final tkts 21st May 2005. Text FA to 87121 to receive ...   \n",
       "3                                                    U dun say so early hor... U c already then say...   \n",
       "4                                        Nah I don't think he goes to usf, he lives around here though   \n",
       "\n",
       "                                                                                               cln_msg  \\\n",
       "0  Go until jurong point crazy Available only in bugis n great world la e buffet Cine there got amo...   \n",
       "1                                                                              Ok lar Joking wif u oni   \n",
       "2  Free entry in 2 a wkly comp to win FA Cup final tkts 21st May 2005 Text FA to 87121 to receive e...   \n",
       "3                                                          U dun say so early hor U c already then say   \n",
       "4                                          Nah I dont think he goes to usf he lives around here though   \n",
       "\n",
       "                                                                                             token_msg  \\\n",
       "0  [Go, jurong, point, crazy, Available, bugis, n, great, world, la, e, buffet, Cine, got, amore, wat]   \n",
       "1                                                                       [Ok, lar, Joking, wif, u, oni]   \n",
       "2  [Free, entry, 2, wkly, comp, win, FA, Cup, final, tkts, 21st, May, 2005, Text, FA, 87121, receiv...   \n",
       "3                                                        [U, dun, say, early, hor, U, c, already, say]   \n",
       "4                                              [Nah, I, dont, think, goes, usf, lives, around, though]   \n",
       "\n",
       "                                                                                              stem_msg  \n",
       "0  [Go, jurong, point, crazy, Available, bugis, n, great, world, la, e, buffet, Cine, got, amore, wat]  \n",
       "1                                                                       [Ok, lar, Joking, wif, u, oni]  \n",
       "2  [Free, entry, 2, wkly, comp, win, FA, Cup, final, tkts, 21st, May, 2005, Text, FA, 87121, receiv...  \n",
       "3                                                        [U, dun, say, early, hor, U, c, already, say]  \n",
       "4                                                 [Nah, I, dont, think, go, usf, life, around, though]  "
      ]
     },
     "execution_count": 39,
     "metadata": {},
     "output_type": "execute_result"
    }
   ],
   "source": [
    "wn_stem = WordNetLemmatizer()\n",
    "\n",
    "def stem_word(word):\n",
    "    return [wn_stem.lemmatize(w) for w in word]\n",
    "\n",
    "dataset['stem_msg'] = dataset['token_msg'].apply(lambda x: stem_word(x))\n",
    "dataset.head()"
   ]
  },
  {
   "cell_type": "markdown",
   "metadata": {},
   "source": [
    "# vectorizing the corpus (count vectorization)"
   ]
  },
  {
   "cell_type": "code",
   "execution_count": 40,
   "metadata": {},
   "outputs": [],
   "source": [
    "from sklearn.feature_extraction.text import CountVectorizer\n",
    "cv = CountVectorizer()"
   ]
  },
  {
   "cell_type": "code",
   "execution_count": 41,
   "metadata": {},
   "outputs": [
    {
     "name": "stdout",
     "output_type": "stream",
     "text": [
      "{'this': 6, 'is': 3, 'sentence': 4, 'another': 0, 'third': 5, 'document': 1, 'here': 2}\n",
      "['another', 'document', 'here', 'is', 'sentence', 'third', 'this']\n",
      "(3, 7)\n",
      "[[0 0 0 2 1 0 1]\n",
      " [1 0 0 1 1 0 1]\n",
      " [0 1 1 1 0 1 0]]\n"
     ]
    }
   ],
   "source": [
    "corpus = [\n",
    "    'this is a sentence is',\n",
    "    'this is another sentence',\n",
    "    'third document is here'\n",
    "]\n",
    "\n",
    "\n",
    "X = cv.fit(corpus)\n",
    "print(X.vocabulary_)\n",
    "print(cv.get_feature_names())\n",
    "\n",
    "X = cv.fit_transform(corpus)\n",
    "print(X.shape)\n",
    "print(X.toarray())"
   ]
  },
  {
   "cell_type": "code",
   "execution_count": 42,
   "metadata": {},
   "outputs": [
    {
     "data": {
      "text/html": [
       "<div>\n",
       "<style scoped>\n",
       "    .dataframe tbody tr th:only-of-type {\n",
       "        vertical-align: middle;\n",
       "    }\n",
       "\n",
       "    .dataframe tbody tr th {\n",
       "        vertical-align: top;\n",
       "    }\n",
       "\n",
       "    .dataframe thead th {\n",
       "        text-align: right;\n",
       "    }\n",
       "</style>\n",
       "<table border=\"1\" class=\"dataframe\">\n",
       "  <thead>\n",
       "    <tr style=\"text-align: right;\">\n",
       "      <th></th>\n",
       "      <th>another</th>\n",
       "      <th>document</th>\n",
       "      <th>here</th>\n",
       "      <th>is</th>\n",
       "      <th>sentence</th>\n",
       "      <th>third</th>\n",
       "      <th>this</th>\n",
       "    </tr>\n",
       "  </thead>\n",
       "  <tbody>\n",
       "    <tr>\n",
       "      <td>0</td>\n",
       "      <td>0</td>\n",
       "      <td>0</td>\n",
       "      <td>0</td>\n",
       "      <td>2</td>\n",
       "      <td>1</td>\n",
       "      <td>0</td>\n",
       "      <td>1</td>\n",
       "    </tr>\n",
       "    <tr>\n",
       "      <td>1</td>\n",
       "      <td>1</td>\n",
       "      <td>0</td>\n",
       "      <td>0</td>\n",
       "      <td>1</td>\n",
       "      <td>1</td>\n",
       "      <td>0</td>\n",
       "      <td>1</td>\n",
       "    </tr>\n",
       "    <tr>\n",
       "      <td>2</td>\n",
       "      <td>0</td>\n",
       "      <td>1</td>\n",
       "      <td>1</td>\n",
       "      <td>1</td>\n",
       "      <td>0</td>\n",
       "      <td>1</td>\n",
       "      <td>0</td>\n",
       "    </tr>\n",
       "  </tbody>\n",
       "</table>\n",
       "</div>"
      ],
      "text/plain": [
       "   another  document  here  is  sentence  third  this\n",
       "0        0         0     0   2         1      0     1\n",
       "1        1         0     0   1         1      0     1\n",
       "2        0         1     1   1         0      1     0"
      ]
     },
     "execution_count": 42,
     "metadata": {},
     "output_type": "execute_result"
    }
   ],
   "source": [
    "p = pd.DataFrame(X.toarray() , columns= cv.get_feature_names())\n",
    "p.head()"
   ]
  },
  {
   "cell_type": "markdown",
   "metadata": {},
   "source": [
    "# load datase using pandas "
   ]
  },
  {
   "cell_type": "code",
   "execution_count": 45,
   "metadata": {},
   "outputs": [],
   "source": [
    "from nltk.corpus import stopwords as st\n",
    "import nltk\n",
    "import pandas as pd\n",
    "import string\n",
    "import re\n",
    "from nltk.stem import WordNetLemmatizer\n",
    "from nltk.stem import PorterStemmer\n"
   ]
  },
  {
   "cell_type": "code",
   "execution_count": 46,
   "metadata": {},
   "outputs": [
    {
     "data": {
      "text/html": [
       "<div>\n",
       "<style scoped>\n",
       "    .dataframe tbody tr th:only-of-type {\n",
       "        vertical-align: middle;\n",
       "    }\n",
       "\n",
       "    .dataframe tbody tr th {\n",
       "        vertical-align: top;\n",
       "    }\n",
       "\n",
       "    .dataframe thead th {\n",
       "        text-align: right;\n",
       "    }\n",
       "</style>\n",
       "<table border=\"1\" class=\"dataframe\">\n",
       "  <thead>\n",
       "    <tr style=\"text-align: right;\">\n",
       "      <th></th>\n",
       "      <th>label</th>\n",
       "      <th>message</th>\n",
       "    </tr>\n",
       "  </thead>\n",
       "  <tbody>\n",
       "    <tr>\n",
       "      <td>0</td>\n",
       "      <td>ham</td>\n",
       "      <td>Go until jurong point, crazy.. Available only in bugis n great world la e buffet... Cine there g...</td>\n",
       "    </tr>\n",
       "    <tr>\n",
       "      <td>1</td>\n",
       "      <td>ham</td>\n",
       "      <td>Ok lar... Joking wif u oni...</td>\n",
       "    </tr>\n",
       "    <tr>\n",
       "      <td>2</td>\n",
       "      <td>spam</td>\n",
       "      <td>Free entry in 2 a wkly comp to win FA Cup final tkts 21st May 2005. Text FA to 87121 to receive ...</td>\n",
       "    </tr>\n",
       "    <tr>\n",
       "      <td>3</td>\n",
       "      <td>ham</td>\n",
       "      <td>U dun say so early hor... U c already then say...</td>\n",
       "    </tr>\n",
       "    <tr>\n",
       "      <td>4</td>\n",
       "      <td>ham</td>\n",
       "      <td>Nah I don't think he goes to usf, he lives around here though</td>\n",
       "    </tr>\n",
       "  </tbody>\n",
       "</table>\n",
       "</div>"
      ],
      "text/plain": [
       "  label  \\\n",
       "0   ham   \n",
       "1   ham   \n",
       "2  spam   \n",
       "3   ham   \n",
       "4   ham   \n",
       "\n",
       "                                                                                               message  \n",
       "0  Go until jurong point, crazy.. Available only in bugis n great world la e buffet... Cine there g...  \n",
       "1                                                                        Ok lar... Joking wif u oni...  \n",
       "2  Free entry in 2 a wkly comp to win FA Cup final tkts 21st May 2005. Text FA to 87121 to receive ...  \n",
       "3                                                    U dun say so early hor... U c already then say...  \n",
       "4                                        Nah I don't think he goes to usf, he lives around here though  "
      ]
     },
     "execution_count": 46,
     "metadata": {},
     "output_type": "execute_result"
    }
   ],
   "source": [
    "pd.set_option('display.max_colwidth' , 100)\n",
    "dataset = pd.read_csv('SMSSpamCollection' , sep='\\t' , header=None)\n",
    "dataset.columns = ['label', 'message']\n",
    "dataset.head()"
   ]
  },
  {
   "cell_type": "markdown",
   "metadata": {},
   "source": [
    "# data preprocessing using custom method"
   ]
  },
  {
   "cell_type": "code",
   "execution_count": 47,
   "metadata": {},
   "outputs": [
    {
     "data": {
      "text/html": [
       "<div>\n",
       "<style scoped>\n",
       "    .dataframe tbody tr th:only-of-type {\n",
       "        vertical-align: middle;\n",
       "    }\n",
       "\n",
       "    .dataframe tbody tr th {\n",
       "        vertical-align: top;\n",
       "    }\n",
       "\n",
       "    .dataframe thead th {\n",
       "        text-align: right;\n",
       "    }\n",
       "</style>\n",
       "<table border=\"1\" class=\"dataframe\">\n",
       "  <thead>\n",
       "    <tr style=\"text-align: right;\">\n",
       "      <th></th>\n",
       "      <th>label</th>\n",
       "      <th>message</th>\n",
       "      <th>cln_message</th>\n",
       "    </tr>\n",
       "  </thead>\n",
       "  <tbody>\n",
       "    <tr>\n",
       "      <td>0</td>\n",
       "      <td>ham</td>\n",
       "      <td>Go until jurong point, crazy.. Available only in bugis n great world la e buffet... Cine there g...</td>\n",
       "      <td>[Go, jurong, point, crazi, avail, bugi, n, great, world, la, e, buffet, cine, got, amor, wat]</td>\n",
       "    </tr>\n",
       "    <tr>\n",
       "      <td>1</td>\n",
       "      <td>ham</td>\n",
       "      <td>Ok lar... Joking wif u oni...</td>\n",
       "      <td>[Ok, lar, joke, wif, u, oni]</td>\n",
       "    </tr>\n",
       "    <tr>\n",
       "      <td>2</td>\n",
       "      <td>spam</td>\n",
       "      <td>Free entry in 2 a wkly comp to win FA Cup final tkts 21st May 2005. Text FA to 87121 to receive ...</td>\n",
       "      <td>[free, entri, 2, wkli, comp, win, FA, cup, final, tkt, 21st, may, 2005, text, FA, 87121, receiv,...</td>\n",
       "    </tr>\n",
       "    <tr>\n",
       "      <td>3</td>\n",
       "      <td>ham</td>\n",
       "      <td>U dun say so early hor... U c already then say...</td>\n",
       "      <td>[U, dun, say, earli, hor, U, c, alreadi, say]</td>\n",
       "    </tr>\n",
       "    <tr>\n",
       "      <td>4</td>\n",
       "      <td>ham</td>\n",
       "      <td>Nah I don't think he goes to usf, he lives around here though</td>\n",
       "      <td>[nah, I, dont, think, goe, usf, live, around, though]</td>\n",
       "    </tr>\n",
       "  </tbody>\n",
       "</table>\n",
       "</div>"
      ],
      "text/plain": [
       "  label  \\\n",
       "0   ham   \n",
       "1   ham   \n",
       "2  spam   \n",
       "3   ham   \n",
       "4   ham   \n",
       "\n",
       "                                                                                               message  \\\n",
       "0  Go until jurong point, crazy.. Available only in bugis n great world la e buffet... Cine there g...   \n",
       "1                                                                        Ok lar... Joking wif u oni...   \n",
       "2  Free entry in 2 a wkly comp to win FA Cup final tkts 21st May 2005. Text FA to 87121 to receive ...   \n",
       "3                                                    U dun say so early hor... U c already then say...   \n",
       "4                                        Nah I don't think he goes to usf, he lives around here though   \n",
       "\n",
       "                                                                                           cln_message  \n",
       "0        [Go, jurong, point, crazi, avail, bugi, n, great, world, la, e, buffet, cine, got, amor, wat]  \n",
       "1                                                                         [Ok, lar, joke, wif, u, oni]  \n",
       "2  [free, entri, 2, wkli, comp, win, FA, cup, final, tkt, 21st, may, 2005, text, FA, 87121, receiv,...  \n",
       "3                                                        [U, dun, say, earli, hor, U, c, alreadi, say]  \n",
       "4                                                [nah, I, dont, think, goe, usf, live, around, though]  "
      ]
     },
     "execution_count": 47,
     "metadata": {},
     "output_type": "execute_result"
    }
   ],
   "source": [
    "#print(string.punctuation)\n",
    "stop_word = st.words('english')\n",
    "lemma = WordNetLemmatizer()\n",
    "stemma = PorterStemmer()\n",
    "#print(lemma.lemmatize('cacti'))\n",
    "\n",
    "def clean_dataset(text):\n",
    "    data = ''.join([t for t in text if t not in string.punctuation])\n",
    "    token = re.split('\\W+', data)\n",
    "    data = [stemma.stem(t) for t in token if t not in stop_word]\n",
    "    return data\n",
    "\n",
    "dataset['cln_message'] = dataset['message'].apply(lambda x: clean_dataset(x))\n",
    "dataset.head()\n",
    "#print(dataset['cln_message'][0:5])"
   ]
  },
  {
   "cell_type": "markdown",
   "metadata": {},
   "source": [
    "# Splitting dataset into training and testing set."
   ]
  },
  {
   "cell_type": "code",
   "execution_count": 48,
   "metadata": {},
   "outputs": [],
   "source": [
    "from sklearn import model_selection"
   ]
  },
  {
   "cell_type": "code",
   "execution_count": 49,
   "metadata": {},
   "outputs": [
    {
     "name": "stdout",
     "output_type": "stream",
     "text": [
      "X lenght 4179\n",
      "x text len  1393\n",
      "y train lenght 4179\n",
      "y test len 1393\n",
      "hello\n"
     ]
    }
   ],
   "source": [
    "X_train, X_test, y_train, y_test = model_selection.train_test_split(dataset['message'], dataset['label'], test_size=0.25)\n",
    "print('X lenght' , len(X_train))\n",
    "print('x text len ', len(X_test))\n",
    "print('y train lenght', len(y_train))\n",
    "print('y test len', len(y_test))\n",
    "print('hello')"
   ]
  },
  {
   "cell_type": "markdown",
   "metadata": {},
   "source": [
    "# extracting feature from text using CountVectorizer"
   ]
  },
  {
   "cell_type": "code",
   "execution_count": 50,
   "metadata": {},
   "outputs": [
    {
     "name": "stdout",
     "output_type": "stream",
     "text": [
      "{'actual': 687, 'I': 571, 'decid': 1408, 'hungri': 2019, 'havent': 1932, 'left': 2222, 'yet': 4942, 'V': 646, 'dont': 1570, 'know': 2187, 'oh': 2574, 'hope': 1992, 'month': 2444, 'call': 1031, '08702490080': 71, 'tell': 4047, 'u': 4368, '2': 321, '09066358152': 210, 'claim': 1160, '5000': 428, 'prize': 2955, 'U': 637, 'enter': 1646, 'ur': 4445, 'mobil': 2428, 'person': 2738, 'detail': 1462, 'prompt': 2982, 'care': 1058, 'moon': 2447, 'come': 1220, 'color': 1216, 'dream': 1579, 'star': 3785, 'make': 2340, 'music': 2480, 'sm': 3615, 'give': 1852, 'warm': 4610, 'peac': 2711, 'sleep': 3595, 'good': 1866, 'night': 2525, 'mila': 2405, 'age23': 712, 'blond': 931, 'new': 2515, 'UK': 639, 'look': 2279, 'sex': 3446, 'guy': 1901, 'like': 2245, 'fun': 1807, 'text': 4071, 'mtalk': 2470, '6986618': 459, '30pptxt': 367, '1st': 317, '5free': 438, '150': 291, 'increment': 2062, 'help08718728876': 1952, 'what': 4688, 'todaysundaysunday': 4216, 'holidayso': 1983, 'work': 4792, 'talk': 3999, 'pa': 2645, 'abl': 666, 'Im': 582, 'back': 849, 'thursday': 4162, 'yay': 4916, 'Is': 584, 'gonna': 1865, 'ok': 2577, 'get': 1839, 'money': 2441, 'cheer': 1098, 'Oh': 610, 'yeah': 4920, 'everyth': 1669, 'alright': 744, 'how': 2003, 'school': 3370, 'Or': 614, 'pleas': 2811, 'custom': 1328, 'servic': 3440, 'repres': 3191, 'freephon': 1788, '0808': 52, '145': 289, '4742': 399, '9am11pm': 524, 'won': 4778, 'guarante': 1897, '1000': 239, 'cash': 1066, 'meet': 2381, 'lunch': 2314, 'la': 2193, 'wa': 4577, 'away': 840, 'system': 3979, 'side': 3536, 'staff': 3776, 'name': 2490, 'take': 3993, 'class': 1164, 'us': 4459, 'dear': 1393, 'dave': 1378, 'final': 1741, 'notic': 2547, 'collect': 1213, '4': 388, 'tenerif': 4058, 'holiday': 1982, 'award': 839, '09061743806': 187, 'landlin': 2200, 'tc': 4025, 'sae': 3309, 'box326': 966, 'cw25wx': 1336, '150ppm': 303, 'ye': 4919, 'watch': 4619, 'footi': 1767, 'worri': 4799, 'go': 1856, 'blow': 938, 'phil': 2756, 'easi': 1607, 'anyth': 775, 'lor': 2283, 'juz': 2153, 'hey': 1961, 'sathya': 3345, 'till': 4175, 'dint': 1509, 'even': 1664, 'singl': 3559, 'time': 4177, 'saw': 3356, 'situat': 3571, 'S': 624, 'place': 2794, 'point': 2845, 'e': 1600, 'cultur': 1316, 'modul': 2435, 'alreadi': 743, 'not': 2543, 'plan': 2798, 'join': 2137, 'compani': 1228, 'jan': 2117, '5': 425, 'happen': 1921, 'My': 598, 'sister': 3566, 'law': 2212, 'great': 1886, 'just': 2152, 'say': 3357, 'abiola': 664, 'ive': 2110, 'tri': 4306, 'reach': 3100, 'without': 4754, 'success': 3889, 'awesom': 841, 'ltgt': 2308, 'ill': 2043, 'wee': 4650, 'bit': 916, 'hook': 1990, 'tot': 4269, 'group': 1894, 'mate': 2359, 'lucki': 2313, 'repli': 3187, 'wat': 4618, 'ü': 4999, 'need': 2509, 'leav': 2219, '': 0, 'love': 2295, 'isnt': 2100, 'decis': 1410, 'feel': 1727, 'If': 581, 'could': 1276, 'life': 2239, 'would': 4810, 'much': 2473, 'simpler': 3551, 'less': 2230, 'magic': 2333, 'mean': 2374, 'lot': 2287, 'but': 1013, 'peopl': 2724, 'the': 4096, 'world': 4796, 'friend': 1794, 'Ge': 562, 'can': 1047, 'send': 3420, 'aunti': 830, 'number': 2556, 'No': 601, 'messageno': 2398, 'responcewhat': 3205, 'happend': 1922, 'don': 1566, 'stand': 3782, 'close': 1178, 'tho': 4139, 'catch': 1072, 'someth': 3668, 'cool': 1260, 'want': 4607, 'kappa': 2159, 'outsid': 2620, 'mu': 2472, 'think': 4130, 'tantrum': 4007, 'finish': 1745, 'cuti': 1334, 'goe': 1861, 'here': 1956, 'wale': 4592, 'kinda': 2177, 'there': 4111, 'hill': 1967, 'shit': 3493, 'still': 3815, 'avent': 835, 'kill': 2175, 'home': 1985, 'lei': 2226, 'shuhui': 3527, 'chang': 1086, 'suntec': 3920, 'steamboat': 3802, 'noe': 2532, 'where': 4698, 'r': 3053, 'men': 2391, 'shorter': 3511, 'ladi': 2197, 'eye': 1695, 'aiyar': 728, 'sorri': 3690, 'forgot': 1776, 'wonder': 4780, 'co': 1195, 'dun': 1597, 'rem': 3170, 'see': 3405, 'silver': 3547, 'car': 1055, 'thk': 4135, 'black': 919, 'one': 2588, 'We': 650, 'contact': 1252, 'offer': 2569, 'video': 4521, 'handset': 1919, '750': 470, 'anytim': 777, 'network': 2512, 'min': 2408, 'unlimit': 4416, 'camcord': 1043, '08000930705': 45, 'now': 2550, 'rose': 3269, 'water': 4623, 'season': 3394, 'poet': 2844, 'phone': 2761, 'frndship': 1799, 'forev': 1772, 'limit': 2248, 'minut': 2412, 'tbspersolvo': 4024, 'chase': 1091, 'sinc': 3554, 'sept': 3432, 'definit': 1423, 'pay': 2702, 'thank': 4085, 'inform': 2071, 'ignor': 2040, 'Ok': 612, 'lar': 2204, 'ju': 2147, 'test': 4068, 'card': 1056, 'dunno': 1598, 'gd': 1830, 'Me': 595, 'wait': 4586, 'si': 3530, 'bath': 863, 'disturb': 1533, 'liao': 2234, 'clean': 1169, 'room': 3266, 'ha': 1905, 'boy': 971, 'probabl': 2960, 'swing': 3966, 'im': 2044, 'dnt': 1543, 'wnt': 4770, 'tlk': 4197, 'wid': 4718, 'Do': 553, 'ever': 1665, 'your': 4968, 'drive': 1586, 'anyon': 774, 'slower': 3612, 'idiot': 2038, 'everyon': 1668, 'faster': 1713, 'then': 4106, 'later': 2208, 'urgent': 4448, '2000': 324, 'bonu': 948, 'caller': 1036, '10803': 249, 'thi': 4125, '2nd': 351, 'attempt': 824, 'you': 4955, '08714719523': 113, 'box95qu': 970, 'BT': 540, 'nation': 2500, 'rate': 3086, 'babi': 847, 'hous': 2001, 'pictur': 2773, 'facebook': 1699, 'babe': 846, 'who': 4711, 'are': 797, 'miss': 2416, 'forward': 1779, '08712404000': 98, 'immedi': 2048, 'messag': 2396, 'fuck': 1802, 'key': 2171, 'anyway': 778, 'therer': 4114, 'tabl': 3981, 'took': 4250, 'tablet': 3982, 'reaction': 3102, 'morn': 2451, 'late': 2207, 'today': 4212, 'birthday': 914, 'log': 2270, 'face': 1698, 'book': 950, 'it': 2102, 'delici': 1432, 'treat': 4301, 'well': 4665, 'meant': 2375, 'Mm': 596, 'ask': 814, 'radio': 3059, 'rounderso': 3271, 'requir': 3194, 'marri': 2354, 'local': 2266, 'women': 4777, 'discreet': 1524, 'action': 684, 'real': 3107, 'match': 2358, 'instantli': 2079, 'msg': 2464, 'cost': 1271, '150p': 294, 'stop': 3825, 'txt': 4356, 'marriag': 2355, 'function': 1808, 'nah': 2487, 'straight': 3839, 'bring': 984, 'bud': 1001, 'drink': 1584, 'that': 4092, 'littl': 2259, 'use': 4463, 'speak': 3717, 'all': 737, 'day': 1380, 'dayexcept': 1382, 'saturday': 3351, 'sunday': 3913, 'In': 583, 'da': 1340, 'stupid': 3873, 'auto': 831, 'correct': 1267, 'tonight': 4246, 'hear': 1936, 'Ki': 589, 'Yo': 660, 'otherwis': 2613, 'buy': 1015, 'our': 2615, 'flake': 1752, 'right': 3235, 'hold': 1980, 'somebodi': 3663, 'wanna': 4605, 'laid': 2198, '2nite': 352, 'dog': 1554, 'locat': 2267, 'sent': 3428, 'direct': 1512, 'uk': 4378, 'largest': 2205, 'park': 2678, '69696': 457, 'nyt': 2563, 'ec2a': 1615, '3lp': 379, '150msg': 293, 'christmassi': 1149, 'sad': 3308, 'stori': 3835, 'man': 2344, 'last': 2206, 'week': 4652, 'bday': 870, 'wife': 4721, 'didnt': 1487, 'wish': 4747, 'parent': 2675, 'n': 2484, 'kid': 2173, 'went': 4674, 'colleagu': 1212, 'As': 535, 'cabin': 1023, 'PA': 616, 'said': 3314, 'happi': 1923, 'boss': 956, 'felt': 1730, 'special': 3719, 'she': 3474, 'askd': 815, 'after': 707, 'invit': 2090, 'apart': 781, 'mind': 2409, 'bedroom': 877, 'OK': 606, 'sed': 3404, 'sexi': 3447, 'mood': 2446, 'came': 1044, 'latr': 2210, 'caken': 1026, 'kidz': 2174, 'scream': 3383, 'surpris': 3941, 'sofa': 3653, 'nake': 2489, 'aathiwher': 662, 'tomo': 4233, 'shall': 3461, 'vldo': 4551, 'got': 1875, 'approv': 790, 'howz': 2006, 'Hi': 568, 'way': 4629, '2day': 342, 'normal': 2541, 'waythi': 4631, 'UR': 641, 'uniquei': 4410, 'rest': 3208, 'find': 1742, 'wot': 4807, 'lost': 2286, 'yunni': 4981, 'walk': 4594, 'citylink': 1158, 'C': 544, 'movi': 2459, 'mah': 2334, 'interest': 2085, 'sir': 3563, 'nice': 2522, 'rent': 3181, 'past': 2694, 'charg': 1089, 'inconsider': 2061, 'nag': 2486, 'howev': 2005, 'recess': 3128, 'wont': 4781, 'henc': 1954, 'askin': 816, 'ahead': 718, 'end': 1637, 'help': 1951, 'oic': 2575, 'better': 899, 'quickli': 3045, 'settl': 3442, 'haha': 1908, 'iouri': 2093, 'gave': 1828, 'wyli': 4878, 'ryan': 3300, 'and': 758, 'whenev': 4694, 'cum': 1317, 'wet': 4684, 'readi': 3105, 'porn': 2869, 'IS': 578, 'free': 1785, 'recd': 3121, 'inc': 2056, 'vat': 4497, 'cancel': 1048, 'mornin': 2452, 'thanku': 4088, 'germani': 1838, '1': 236, 'penc': 2719, 'per': 2725, 'fix': 1750, 'line': 2249, 'via': 4516, 'access': 674, '0844': 54, '85': 495, 'prepay': 2921, 'around': 806, 'pick': 2770, 'entri': 1648, 'wkli': 4763, 'comp': 1227, 'win': 4732, 'FA': 558, 'cup': 1318, 'tkt': 4196, '21st': 333, 'may': 2368, '2005': 327, '87121': 504, 'receiv': 3124, 'questionstd': 3043, 'ratetc': 3087, 'appli': 786, '08452810075over18': 61, 'guess': 1899, 'must': 2481, 'bodi': 945, 'repair': 3184, 'quit': 3047, 'sure': 3936, 'shouldnt': 3515, 'slow': 3611, 'first': 1747, 'guid': 1900, 'ovul': 2633, 'relax': 3163, 'noth': 2545, 'youv': 4972, 'reason': 3115, 'keep': 2165, 'brother': 990, 'geniu': 1835, 'railway': 3064, 'somewhr': 3674, 'someon': 3665, 'made': 2331, 'god': 1859, 'perfect': 2727, 'dat': 1371, 'den': 1439, 'enjoy': 1644, 'crush': 1308, 'delay': 1429, 'master': 2357, 'year': 4922, 'yetund': 4944, 'return': 3218, 'mid': 2401, 'januari': 2119, 'period': 2732, 'K': 587, 'theori': 4109, 'argument': 801, 'lose': 2284, 'So': 629, 'argu': 800, 'kick': 2172, 'amp': 754, 'alway': 748, 'exhaust': 1683, 'tee': 4039, 'hee': 1943, 'off': 2568, 'lectur': 2221, 'cheeri': 1099, 'bye': 1020, 'siva': 3572, 'hostel': 1997, 'aha': 717, 'cant': 1052, 'major': 2339, 'role': 3262, 'commun': 1226, 'outreach': 2619, 'rock': 3257, 'mel': 2386, '8th': 518, 'campu': 1046, 'atm': 823, 'hour': 2000, 'two': 4355, 'he': 1934, 'particular': 2682, 'part': 2680, 'girl': 1847, 'safe': 3311, 'selfish': 3414, 'yep': 4929, 'fine': 1743, '730': 469, 'ice': 2033, 'age': 710, 'hav': 1930, 'almost': 740, 'unabl': 4386, 'connect': 1248, 'import': 2051, 'O2': 603, 'user': 4465, 'onto': 2592, 'httpwwwurawinnercom': 2011, 'fantast': 1709, 'await': 837, '09066362231': 213, '07xxxxxxxxx': 40, '020603': 9, 'asap': 813, 'bu': 999, 'other': 2612, 'earli': 1603, 'tomorrow': 4236, 'awak': 838, 'congrat': 1246, 'cinema': 1155, 'pass': 2688, '09061209465': 178, 'suprman': 3934, 'matrix3': 2362, 'starwars3': 3791, 'etc': 1658, 'bx420ip45w': 1019, '150pm': 296, 'search': 3393, 'let': 2232, 'fall': 1705, 'bcoz': 868, 'forc': 1770, 'smeon': 3625, 'bslvyl': 994, 'abj': 665, 'togeth': 4218, 'thinkin': 4131, 'yiju': 4945, 'regard': 3154, 'textbook': 4074, 'intro': 2088, 'second': 3397, 'sell': 3415, '50': 426, 'ikea': 2041, 'live': 2260, 'mess': 2395, 'anoth': 769, 'problem': 2961, 'thing': 4128, 'ear': 1602, 'whatev': 4689, 'upsetit': 4441, 'listen': 2257, 'upset': 4439, 'mad': 2330, 'abt': 668, 'leona': 2229, 'oop': 2594, 'ben': 893, 'have': 1931, '3': 362, '6': 446, '7': 467, '8': 477, '9': 519, 'select': 3411, 'quick': 3044, 'menu': 2393, 'noon': 2538, 'best': 896, 'tmr': 4202, 'sake': 3315, 'tallahasse': 4002, 'aiyo': 729, 'neva': 2513, 'lab': 2194, 'within': 4753, 'nokia': 2534, '3510i': 372, 'colour': 1217, 'deliveredtomorrow': 1434, 'with': 4751, '300': 364, '100': 238, 'rel': 3160, 'de': 1389, 'pl': 2793, '09061790126': 191, 'land': 2199, '3030': 366, 'valid': 4487, '12hr': 279, 'yar': 4911, 'scold': 3372, 'yest': 4940, 'zhong': 4991, 'se': 3391, 'qing': 3036, 'b4': 843, 'w': 4569, 'N': 599, 'act': 683, 'uncl': 4388, 'atlanta': 821, 'semest': 3417, 'never': 2514, 'xam': 4881, 'start': 3788, 'term': 4061, 'di': 1476, 'answer': 771, 'manag': 2345, 'hesit': 1959, 'lookin': 2281, 'silent': 3545, 'ponnungal': 2860, 'suganya': 3898, 'eastend': 1610, 'TV': 634, 'quiz': 3049, 'flower': 1758, 'dot': 1572, 'compar': 1229, 'D': 549, 'violet': 4537, 'E': 554, 'tulip': 4338, 'F': 557, 'lili': 2247, '84025': 492, 'chanc': 1085, 'wkent150p16': 4761, 'chennai': 1104, 'velacheri': 4506, 'rtking': 3285, 'pro': 2958, 'club': 1186, '08701237397': 65, '16': 307, 'credit': 1295, 'redeem': 3138, 'wwwringtonekingcouk': 4861, 'prof': 2971, 'paper': 2667, 'sem': 3416, 'student': 3863, 'gud': 1898, 'mrng': 2462, 'symptom': 3977, 'song': 3678, 'belov': 891, 'angri': 761, 'roommat': 3268, 'done': 1568, 'annoy': 767, 'fact': 1700, 'ago': 714, 'when': 4693, 'monday': 2440, 'dizzamn': 1538, 'aight': 721, 'suitem': 3902, 'goin': 1862, 'wrk': 4819, 'j': 2113, 'bout': 963, '08712402578': 95, 'Am': 533, 'ringtonek': 3244, 'privat': 2953, '2003': 325, 'account': 679, 'statement': 3793, '078': 31, 'bill': 906, 'letter': 2233, 'expect': 1685, 'orang': 2602, 'panason': 2660, 'motorola': 2456, 'contract': 1255, 'mobileupd8': 2431, '08000839402': 44, '2optout': 353, 'gotten': 1878, 'job': 2134, 'registr': 3156, 'perman': 2734, 'resid': 3200, 'pic': 2769, 'jordan': 2141, '88600': 511, 'everi': 1666, 'wk': 4759, 'pocketbabecouk': 2841, '3wk': 387, '087016248': 68, 'date': 1373, 'To': 635, '09064017305': 199, 'pobox75ldns7': 2836, 'alon': 741, 'chinatown': 1133, 'porridg': 2870, 'claypot': 1167, 'rice': 3230, 'yam': 4909, 'cake': 1025, 'either': 1628, 'eat': 1612, 'cheap': 1093, 'cafe': 1024, 'tok': 4220, 'nydc': 2562, 'somethin': 3669, 'lone': 2276, 'chat': 1092, 'xxsp': 4890, 'visionsmscom': 4542, 'stopcost': 3830, '08712400603': 93, 'hasnt': 1928, 'bother': 959, 'involv': 2092, 'apologis': 783, 'welcom': 4664, 'begin': 882, 'eg': 1622, 'temal': 4052, 'nyc': 2561, 'reloc': 3168, 'grand': 1883, 'parti': 2681, 'doesnt': 1553, 'mention': 2392, 'cover': 1285, 'serv': 3438, 'packag': 2648, 'program': 2975, 'print': 2948, 'upstair': 4442, 'urself': 4458, 'shola': 3502, 'colleg': 1214, 'medicin': 2380, 'visit': 4543, 'academ': 671, 'depart': 1444, 'secretari': 3400, 'current': 1323, 'transfer': 4292, 'check': 1097, 'sagamu': 3313, 'vital': 4546, 'complet': 1233, 'medic': 2379, 'educ': 1617, 'nigeria': 2524, 'expens': 1686, 'unless': 4415, 'citizen': 1157, 'zealand': 4988, 'rite': 3249, 'comin': 1223, 'greet': 1890, 'consid': 1249, 'excus': 1680, 'alex': 735, 'south': 3704, 'tampa': 4005, 'set': 3441, 'subscrib': 3882, 'textcomp': 4076, '250': 337, 'question': 3042, 'follow': 1761, 'subsequ': 3887, 'unsubscrib': 4426, '08712405020': 99, 'fish': 1748, 'wana': 4604, 'pei': 2717, 'bf': 902, 'oso': 2611, '18': 311, 'euro2004': 1661, 'kept': 2167, 'latest': 2209, 'news': 2517, 'result': 3215, 'daili': 1349, 'euro': 1660, 'pshewmiss': 3001, 'paid': 2652, 'outstand': 2622, 'commerci': 1224, 'august': 828, 'they': 4121, 'mani': 2348, 'snow': 3645, 'usual': 4474, 'melt': 2388, 'hit': 1972, 'ground': 1893, 'eek': 1619, 'born': 955, 'record': 3132, 'indic': 2066, 'mayb': 2369, 'entitl': 1647, 'pound': 2889, 'accid': 675, 'toward': 4276, 'net': 2510, 'crave': 1291, 'IM': 575, 'SO': 626, 'muchi': 2474, 'IL': 574, 'A': 526, 'postcard': 2882, 'OF': 604, 'hi': 1964, 'luv': 2316, 'yaxx': 4914, 'wiproy': 4743, 'birla': 911, 'soft': 3654, 'ard': 796, 'enough': 1645, 'trip': 4308, 'panic': 2661, 'surrend': 3942, 'roger': 3261, 'thanx': 4089, 'darlinim': 1367, 'nite': 2527, '2morrow': 349, 'c': 1021, 'soonxxx': 3684, 'weird': 4660, 'bein': 885, 'woah': 4772, 'realis': 3110, 'bought': 962, 'yesterday': 4941, 'exact': 1674, 'ovulatewhen': 2634, '2u': 358, 'fret': 1791, 'also': 746, 'histori': 1971, 'fool': 1764, 'big': 904, 'longer': 2278, 'though': 4143, '0800': 41, 'forget': 1774, 'own': 2638, 'properti': 2990, 'passion': 2690, 'kiss': 2180, 'Id': 580, 'librari': 2235, 'applic': 787, 'airtel': 725, 'process': 2967, 'instal': 2078, 'weekend': 4654, 'open': 2595, 'mca': 2371, 'wan': 4602, 'stay': 3796, 'sch': 3368, 'train': 4287, 'caus': 1074, 'energi': 1639, 'will': 4730, 'blake': 922, 'might': 2404, 'half': 1912, 'price': 2941, 'rental': 3182, 'deliveri': 1435, 'cancer': 1049, 'throat': 4152, 'hurt': 2023, 'babysit': 848, 'carlo': 1062, 'anybodi': 772, 'els': 1630, 'chip': 1137, 'beauti': 872, 'truth': 4323, 'express': 1693, 'Be': 541, 'seen': 3409, 'depress': 1447, 'heart': 1938, 'understood': 4396, 'By': 543, 'ni8': 2519, 'food': 1763, 'meal': 2373, 'realli': 3113, 'afternoon': 708, 'lead': 2216, 'boytoy': 973, 'across': 682, 'sea': 3392, 'fanci': 1707, 'meetin': 2382, 'cha': 1083, 'lil': 2246, 'ring': 3239, 'l8r': 2192, 'tire': 4186, 'vpist': 4564, 'pete': 2744, 'x': 4879, '800': 478, '09058099801': 175, 'b4190604': 844, 'pobox': 2828, '7876150ppm': 473, 'templ': 4054, 'na': 2485, 'respons': 3207, 'fone': 1762, 'aft': 706, 'str': 3837, 'smth': 3636, 'confirm': 1242, 'sfine': 3452, 'rememb': 3173, 'gotta': 1877, 'At': 536, 'O': 602, 'play': 2805, 'smash': 3622, 'bro': 986, 'religi': 3167, 'rain': 3065, 'caught': 1073, 'mrt': 2463, 'station': 3794, 'nope': 2539, 'drivin': 1587, 'develop': 1466, 'photo': 2765, 'cours': 1284, 'infront': 2073, 'were': 4676, 'fyi': 1813, 'attend': 825, 'lesson': 2231, 'child': 1126, 'afraid': 705, 'dark': 1362, 'becom': 874, 'teenag': 4040, 'princess': 2947, 'wow': 4814, 'gay': 1829, 'updat': 4432, 'dearli': 1397, 'shi': 3483, 'zogtoriu': 4994, 'stare': 3786, 'whether': 4703, 'king': 2179, 'onc': 2587, 'cri': 1297, 'build': 1006, 'map': 2349, 'wil': 4727, 'tomorw': 4238, 'An': 534, 'excel': 1677, 'thought': 4144, 'frnd': 1798, 'knw': 2188, 'hate': 1929, 'bt': 996, 'wen': 4671, 'ull': 4380, 'massiv': 2356, 'pain': 2653, 'ass': 818, 'id': 2034, 'rather': 3088, 'possibl': 2879, 'redr': 3140, 'bloodblood': 933, 'heartheart': 1940, 'ti': 4164, 'includ': 2059, '1u': 318, 'poor': 2864, 'relat': 3161, 'support': 3929, '3u': 384, '4some1': 414, 'some1': 3662, 'pray': 2909, 'med': 2378, 'die': 1489, 'reckon': 3130, 'town': 4277, 'pretti': 2936, 'piss': 2788, 'mmmm': 2422, 'fair': 1703, 'weak': 4635, 'grin': 1891, 'push': 3027, 'knee': 2185, 'expos': 1692, 'belli': 889, 'pull': 3014, 'head': 1935, 'wick': 4716, 'smile': 3627, 'hang': 1920, 'unfortun': 4403, 'found': 1780, 'airport': 724, 'th': 4081, 'switch': 3968, 'ON': 607, 'dammit': 1351, 'seventeen': 3444, 'seven': 3443, 'hundr': 2018, 'whatsup': 4690, 'lou': 2289, 'goodnit': 1871, 'shame': 3462, 'YA': 656, 'kkwhen': 2183, '09058095201': 172, 'told': 4223, 'dad': 1343, 'spoken': 3750, 'tomarrow': 4230, 'laptop': 2203, 'case': 1065, 'eaten': 1613, 'sit': 3567, 'juici': 2149, 'pizza': 2792, 'these': 4116, 'ruin': 3292, '530': 432, 'spend': 3726, 'ideal': 2036, 'path': 2697, 'goodnight': 1870, 'treadmil': 4300, 'youll': 4965, 'ad': 688, 'yourself': 4970, 'shakespear': 3460, 'shesil': 3480, 'congratul': 1247, '500': 427, 'CD': 546, 'gift': 1844, 'voucher': 4562, 'weekli': 4655, 'draw': 1578, '87066': 502, 'tnc': 4205, 'wwwldewcom': 4852, 'win150ppmx3age16': 4733, 'england': 1642, 'offici': 2572, 'poli': 2849, 'rington': 3241, 'flag': 1751, 'yer': 4930, 'tone': 4240, '84199': 494, 'optout': 2600, 'eng': 1640, 'box39822': 969, 'w111wx': 4570, 'dinner': 1506, 'tv': 4344, 'pump': 3015, 'petrol': 2749, 'soon': 3682, 'ltdecimalgt': 2307, 'common': 1225, 'china': 1132, 'holla': 1984, 'diff': 1491, 'farm': 1711, 'shop': 3504, 'chees': 1100, 'On': 613, 'explicit': 1690, '30': 363, 'sec': 3396, '02073162414': 12, '20pmin': 330, 'pthi': 3008, 'senrddnot': 3424, 'dancc': 1355, 'ro': 3251, 'xxxxxxx': 4898, 'ton': 4239, 'subscript': 3884, 'doubl': 1573, 'tariff': 4009, 'camera': 1045, '2stoptxt': 357, 'rumour': 3296, 'MY': 594, 'NO': 600, 'IN': 576, '0125698789': 7, 'ME': 592, 'IF': 573, 'theatr': 4099, 'wherev': 4700, 'freemsg': 1787, 'web2mobil': 4640, 'txt250com': 4357, '150pwk': 305, 'TC': 632, 'remov': 3178, 'txtx': 4364, 'soc': 3650, 'Ü': 4997, 'type': 4366, 'word': 4787, 'ar': 794, 'famili': 1706, 'respond': 3206, 'diwali': 1537, 'It': 585, 'vava': 4499, 'umma': 4383, 'ya': 4903, 'favour': 1721, 'boat': 944, 'mom': 2437, 'yo': 4949, 'mum': 2475, 'shun': 3528, 'sorryin': 3694, 'order': 2604, 'ref': 3142, 'r836': 3054, '450': 397, 'should': 3514, 'arriv': 809, '09065069154': 202, 'busi': 1012, 'skye': 3588, 'post': 2880, 'coupl': 1281, 'fb': 1723, 'wake': 4591, 'lol': 2274, 'omw': 2586, 'west': 4680, 'palm': 2657, 'onlin': 2591, 'msn': 2468, 'address': 693, 'usualiam': 4475, 'intellig': 2083, 'cooper': 1261, 'allow': 739, 'email': 1633, 'valuabl': 4490, 'affection': 704, 'natur': 2502, 'valentin': 4486, 'advanc': 698, 'april': 792, 'lemm': 2227, 'basic': 861, 'technic': 4038, 'voic': 4555, 'processnetwork': 2969, 'field': 1734, 'cud': 1312, '8pm': 517, 'project': 2976, '26th': 340, 'juli': 2150, 'kind': 2176, 'cherish': 1107, 'goodmorn': 1869, 'unbeliev': 4387, 'datoday': 1376, 'scroung': 3386, 'okay': 2578, 'friday': 1793, 'ten': 4055, 'rs': 3281, 'shelf': 3477, 'egg': 1623, 'mob': 2426, 'txting': 4361, 'moan': 2425, 'AM': 528, 'AT': 531, 'nichol': 2523, 'Ur': 644, 'soul': 3699, 'loos': 2282, 'worldgnun': 4797, 'way2smscom': 4630, '08718726970': 133, 'onli': 2590, '10p': 253, 'btnationalr': 997, '21': 331, 'coz': 1286, 'jiayin': 2131, 'hospit': 1996, 'huh': 2015, 'rude': 3291, 'wine': 4737, 'next': 2518, 'seem': 3408, 'g': 1814, 'smoke': 3629, 'shitstorm': 3496, 'winner': 4738, 'flight': 1755, 'oper': 2596, '0871277810810': 104, 'hard': 1925, 'itlet': 2105, 'yr': 4976, '08714712412': 111, '10am7pm': 251, 'gr8': 1880, 'reboot': 3118, 'snuggl': 3648, 'deep': 1415, 'content': 1253, 'sigh': 3538, 'whisper': 4708, 'bare': 859, 'yup': 4983, 'derek': 1449, 'taylor': 4022, 'assum': 819, 'worst': 4804, 'whi': 4704, 'uni': 4406, 'concentr': 1237, 'tightli': 4170, 'drop': 1588, 'old': 2584, 'chloe': 1140, 'SP': 627, '0776xxxxxxx': 29, 'uve': 4480, 'xchat': 4883, '86688': 499, '150pmsgrcvdhgsuite3422landsroww1j6hl': 299, 'ldn': 2214, '18yr': 313, 'heard': 1937, 'tat': 4013, 'regist': 3155, 'sound': 3700, 'sayi': 3359, 'avail': 832, 'soire': 3656, 'june': 2151, '3rd': 382, 'list': 2256, 'buyer': 1016, 'booti': 952, 'bruv': 993, 'break': 979, 'reward': 3224, 'kthen': 2189, 'wenev': 4673, 'lik': 2244, 'tel': 4044, 'vikki': 4530, 'sooooo': 3686, 'lion': 2252, 'devour': 1468, 'login': 2271, 'show': 3518, '09066358361': 211, 'y87': 4902, 'uniqu': 4409, 'wwwareyouuniquecouk': 4840, 'chequ': 1106, 'gym': 1903, 'Oi': 611, 'ami': 752, 'parchi': 2673, 'ta': 3980, 'tul': 4337, 'plz': 2823, 'Hm': 569, 'voda': 4552, '350': 371, '08712300220': 89, 'quot': 3052, 'code': 1204, '1131': 260, 'standard': 3783, 'app': 784, 'Y': 655, 'R': 622, 'exam': 1676, 'march': 2350, 'revis': 3223, 'fran': 1783, 'worriedx': 4800, 'ride': 3234, 'batteri': 864, 'dead': 1390, 'malaria': 2341, 'children': 1128, 'handl': 1918, 'wors': 4803, 'replac': 3186, 'loss': 2285, 'temp': 4053, 'reduc': 3141, 'vomit': 4559, 'self': 3412, 'pendingi': 2722, 'mail': 2335, 'dayswil': 1386, 'thrurespect': 4157, 'mother': 2454, 'He': 567, 'v': 4482, 'shock': 3500, 'leh': 2225, 'sicomo': 3535, 'plaid': 2797, 'sn': 3637, 'xxxx': 4895, 'kadeem': 2156, 'did': 1486, 'stitch': 3817, 'trouser': 4314, 'chines': 1134, 'fat': 1714, 'monkey': 2442, 'certainli': 1082, 'ani': 762, 'wiv': 4758, 'wud': 4832, 'urgh': 4451, 'coach': 1196, 'hot': 1998, 'smell': 3624, 'especi': 1654, 'predict': 2914, 'discount': 1523, 'rp176781': 3277, 'wwwregalportfoliocouk': 4860, '08717205546': 124, 'edison': 1616, 'rightli': 3237, 'wise': 4746, 'speechless': 3723, 'viva': 4548, 'gmgngegnt': 1855, 'b': 842, 'mon': 2439, '09050000878': 154, 'pobox45w2tg150p': 2835, 'dirti': 1515, 'holder': 1981, 'loung': 2291, '08704439680': 74, 'out': 2616, 'slice': 3603, 'suck': 3891, 'mark': 2352, 'sick': 3534, 'turn': 4342, 'hello': 1949, 'IT': 579, 'ach': 680, 'soni': 3679, 'ericsson': 1651, 'salesman': 3319, 'fire': 1746, 'spark': 3715, 'flame': 1753, 'rawr': 3091, 'xoxo': 4887, 'dude': 1594, 'hw': 2026, 'reali': 3109, 'wah': 4580, 'oki': 2580, 'muz': 2482, 'statu': 3795, 'yun': 4980, 'plu': 2818, 'vip': 4538, 'row': 3273, 'ticket': 4166, 'blu': 939, 'concert': 1239, '09061104276': 176, 'tsc': 4326, 'wwwsmsconet': 4870, 'fever': 1733, 'fri': 1792, 'tea': 4032, 'meh': 2384, '2004': 326, '786': 472, 'unredeem': 4420, '08719181259': 145, 'identifi': 2037, 'xxxxx': 4896, 'expir': 1688, 'day2find': 1381, 'prone': 2984, 'fetch': 1732, 'score': 3375, 'sopha': 3687, 'secondari': 3398, 'research': 3196, 'joke': 2138, 'secret': 3399, 'admir': 695, 'reveal': 3220, '09065174042': 205, 'opt': 2599, 'cust': 1325, '07821230901': 36, 'thnk': 4137, 'wrong': 4823, 'buck': 1000, 'jay': 2122, 'st': 3772, 'five': 1749, 'light': 2243, 'green': 1889, 'worth': 4805, 'touch': 4272, 'pm': 2824, 'costum': 1273, 'futur': 1812, 'yowif': 4974, 'hint': 1969, 'eatin': 1614, 'mountain': 2457, 'deer': 1418, 'drug': 1590, 'dealer': 1392, 'impati': 2050, 'glad': 1853, 'loverboy': 2297, 'queen': 3040, 'hmmm': 1976, 'despar': 1457, 'scratch': 3382, 'which': 4705, 'brand': 975, 'gener': 1834, 'oz': 2643, 'Go': 563, 'write': 4818, 'put': 3030, 'dictionari': 1485, 'mode': 2433, 'screen': 3384, 'hand': 1917, '4press': 413, 'flow': 1757, 'same': 3328, 'ah': 716, 'din': 1502, 'bad': 850, 'gal': 1818, 'omg': 2585, 'ate': 820, 'ho': 1978, 'wif': 4720, 'darren': 1368, 'present': 2926, 'perform': 2728, 'midnight': 2403, 'horni': 1993, '69698': 458, 'clear': 1170, 'sarcast': 3337, 'lodg': 2269, 'fast': 1712, 'asleep': 817, 'deartak': 1403, 'brought': 991, 'sun': 3911, 'shini': 3490, 'constant': 1251, 'loan': 2265, 'aiya': 726, 'decemb': 1407, 'had': 1906, '11mth': 267, 'Co': 547, '08002986906': 49, 'themobyo': 4105, 'yoher': 4952, 'download': 1576, 'member': 2389, 'click': 1174, 'link': 2251, '89555': 515, 'textoper': 4078, 'g696ga': 1815, 'xxx': 4892, 'signific': 3541, 'an': 757, 'loud': 2290, 'shove': 3517, 'belong': 890, 'accident': 676, 'em': 1632, 'box': 965, 'practic': 2901, 'placement': 2795, '09061213237': 179, 'luxuri': 2317, 'island': 2099, 'PO': 618, '177': 310, 'm227xi': 2322, 'wun': 4835, 'sign': 3540, 'doc': 1547, 'woot': 4785, 'celebr': 1078, 'stuf': 3867, 'bore': 953, '08717507711': 125, '10pmin': 254, 'Ha': 566, 'honey': 1988, 'sweet': 3959, 'acc': 672, 'housemaid': 2002, 'murder': 2479, 'public': 3011, 'govtinstituit': 1879, 'closedinclud': 1180, 'Da': 552, 'birthdat': 913, 'publish': 3012, 'skateboard': 3579, 'despit': 1458, 'thrown': 4155, 'wind': 4734, 'arm': 803, '09058094507': 166, 'centr': 1081, 'sunni': 3916, 'california': 1030, 'weather': 4638, 'thuglyf': 4160, 'model': 2434, 'youi': 4962, 'hell': 1947, 'long': 2277, 'defer': 1422, 'til': 4174, 'buzz': 1018, 'moment': 2438, 'excit': 1679, 'both': 958, 'shoot': 3503, 'load': 2264, 'funni': 1810, 'shd': 3473, 'haf': 1907, 'run': 3297, 'distanc': 1531, 'teethif': 4042, 'fight': 1735, 'dialogu': 1479, 'cute': 1331, 'reltnship': 3169, 'near': 2504, 'wipe': 4741, 'tear': 4036, 'timegud': 4179, 'adult': 697, '150pmsg': 298, 'cuz': 1335, 'studi': 3865, 'aah': 661, 'bless': 926, 'stupidit': 3874, 'format': 1777, 'seek': 3407, 'street': 3845, 'freak': 1784, 'sheet': 3475, 'bar': 858, 'B': 537, 'Q': 621, 'store': 3833, 'twat': 4346, 'deck': 1411, 'punch': 3016, 'yavnt': 4913, 'origin': 2608, 'scare': 3364, '85023': 496, 'savamob': 3354, 'T': 631, 'Cs': 548, '08717898035': 127, 'sub': 3878, 'unsub': 4425, 'X': 652, '02': 8, 'plate': 2803, 'ufind': 4372, 'rreveal': 3280, 'specialcal': 3720, '09065171142stopsms08718727870150ppm': 204, 'sculptur': 3388, 'share': 3469, 'rip': 3246, 'uteru': 4476, 'hr': 2008, 'boo': 949, 'mistak': 2417, 'goto': 1876, 'doctor': 1549, 'tht': 4158, 'bird': 910, 'human': 2016, 'frm': 1797, 'tog': 4217, 'bitch': 917, 'continu': 1254, 'in2': 2055, 'US': 642, 'presid': 2927, '80082': 481, 'HI': 564, 'kate': 2161, 'site': 3568, 'christian': 1147, 'full': 1805, 'ga': 1816, 'gang': 1822, 'adventur': 699, '515': 431, 'yck': 4917, 'merri': 2394, 'christma': 1148, 'vote': 4561, 'sing': 3557, 'along': 742, 'karaok': 2160, 'for': 1769, 'combin': 1219, 'dri': 1583, 'trade': 4284, 'doin': 1560, 'ure': 4446, 'true': 4317, 'Ah': 532, 'earth': 1606, 'sim': 3548, '08718738001': 141, 'TO': 633, 'BE': 539, 'realiti': 3111, 'fantasi': 1708, '08707509020': 78, '20p': 329, 'ntt': 2553, 'ltd': 2306, '1327': 285, 'croydon': 1304, 'cr9': 1287, '5wb': 442, '0870': 62, 'least': 2218, 'armand': 804, 'pobox84': 2837, 'm263uz': 2324, 'postpon': 2884, 'stock': 3818, 'troubl': 4313, '4d': 403, '1405': 288, 'small': 3617, 'sat': 3342, 'sentenc': 3430, 'becaus': 873, 'career': 1059, '087187272008': 134, 'pock': 2839, 'yan': 4910, 'jiu': 2132, 'skip': 3587, 'cine': 1154, 'blah': 921, 'learn': 2217, 'experi': 1687, 'danger': 1359, 'peep': 2715, 'agent': 713, 'info': 2070, '87021': 501, '08718723815': 130, 'spell': 3725, 'step': 3804, 'outta': 2623, '0906346330': 194, 'abta': 669, 'complimentari': 1234, 'spanish': 3713, '10000': 240, 'po19': 2827, 'clearli': 1172, 'fault': 1717, 'natalja': 2499, '25f': 338, 'yes440': 4933, 'no440': 2530, 'wwwsmsacunat27081980': 4868, '62468': 454, 'report': 3189, 'superior': 3924, 'except': 1678, 'youani': 4956, 'wahe': 4583, 'fathima': 1716, 'conform': 1244, 'drinkin': 1585, 'dancin': 1356, 'os': 2610, 'ubandu': 4370, 'diskyou': 1527, 'copi': 1263, 'file': 1738, 'oredi': 2605, 'eve': 1662, 'puppi': 3019, 'pickl': 2771, 'transact': 4290, 'refer': 3145, 'Rs': 623, 'lttimegt': 2309, 'satan': 3343, 'priceso': 2942, 'destini': 1461, 'dinnermsg': 1507, 'ugh': 4374, 'bed': 876, 'bagi': 852, 'mei': 2385, 'romant': 3263, 'Wn': 651, 'prsn': 2999, 'wit': 4750, 'dem': 1437, 'somtim': 3676, 'save': 3355, 'quiet': 3046, 'nothin': 2546, 'eveb': 1663, 'tension': 4059, 'wast': 4617, 'innoc': 2075, 'specifi': 3722, 'prabhaim': 2899, 'sorydarealyfrm': 3698, 'sori': 3689, 'sparkl': 3716, '0121': 4, 'wwwshortbreaksorguk': 4864, 'delet': 1430, 'websitenow': 4644, 'blog': 929, 'cross': 1303, 'workout': 4795, 'impress': 2053, 'walik': 4593, 'xma': 4885, 'sale': 3318, '10am': 250, 'thur': 4161, 'theyr': 4123, '10': 237, 'helplin': 1953, '08706091795': 76, 'offic': 2571, 'thesi': 4119, 'darlin': 1366, 'yupz': 4984, 'slot': 3610, 'journey': 2142, 'receipt': 3123, 'pendent': 2721, '09050003091': 158, 'c52': 1022, 'valid12hr': 4488, 'ahmad': 719, 'saeed': 3310, 'al': 731, 'hallaq': 1914, 'tomorro': 4235, 'starv': 3790, 'shant': 3467, 'anymor': 773, 'jia': 2130, '4ui': 420, 'knew': 2186, 'urmomi': 4456, 'wwwfullonsmscom': 4848, 'fullonsmscom': 1806, 'oil': 2576, 'advis': 701, 'voucherstext': 4563, 'woke': 4773, 'UP': 640, 'befor': 880, 'wouldnt': 4812, 'k': 2154, 'natuit': 2501, 'ned': 2508, 'convinc': 1258, 'witot': 4756, 'main': 2337, 'read': 3103, 'alrit': 745, 'down': 1575, 'DA': 550, 'pub': 3009, 'instead': 2080, 'chillin': 1131, 'MO': 593, 'jen': 2126, 'milk': 2407, 'goal': 1858, 'arsen': 810, 'henri': 1955, 'liverpool': 2261, 'simpl': 3550, 'shot': 3513, 'yard': 4912, 'tuesday': 4334, 'window': 4736, 'bright': 982, 'twitter': 4354, 'believ': 886, 'lie': 2238, 'twice': 4349, 'cut': 1330, 'short': 3509, 'fail': 1702, 'juan': 2148, 'Of': 609, 'AN': 529, 'del': 1428, 'bak': 854, 'again': 709, 'sum': 3904, 'from': 1800, 'four': 1781, 'G': 559, '7th': 476, '6th': 465, 'style': 3875, '5th': 441, '4th': 416, 'friendship': 1795, 'addi': 692, 'throw': 4153, 'yovil': 4973, 'perpetu': 2736, 'understand': 4395, 'skint': 3586, 'gona': 1863, 'spoon': 3753, 'jst': 2145, 'bin': 908, 'watchng': 4621, 'planet': 2800, 'weed': 4651, 'andr': 759, 'stuff': 3868, 'infern': 2069, 'affair': 702, 'tote': 4271, 'destin': 1460, 'renew': 3180, 'upgrad': 4434, 'tmobil': 4200, '0845': 57, '021': 15, 'subject': 3879, 'Ts': 636, 'gimm': 1845, 'lip': 2255, 'mnth': 2423, 'dislik': 1528, '20': 322, 'Ya': 659, 'india': 2064, 'mega': 2383, 'giv': 1851, 'due': 1595, 'prefer': 2915, 'useless': 4464, 'flirt': 1756, 'bloke': 930, 'zoe': 4993, '8007': 480, '69669': 456, 'polyphon': 2857, 'vagu': 4484, 'discuss': 1525, 'usc': 4461, 'didt': 1488, 'team': 4035, 'ac': 670, 'sun0819': 3912, 'ron': 3265, 'swatch': 3954, 'toa': 4206, 'payoh': 2707, 'hiya': 1973, 'teach': 4033, 'ship': 3491, 'lovabl': 2294, 'bcum': 869, 'serious': 3437, 'childish': 1127, 'affect': 703, 'kettoda': 2170, 'manda': 2346, 'beyond': 901, 'him': 1968, '08714712394': 110, 'weight': 4658, 'imma': 2047, 'chikku': 1118, 'tke': 4195, 'hardli': 1926, 'weasel': 4637, 'area': 798, 'restaur': 3209, 'fring': 1796, 'clair': 1162, 'borin': 954, '09099725823': 232, 'xx': 4889, '1minmoremobsemspobox45po139wa': 316, '2007': 328, 'tour': 4275, 'prebook': 2913, '81303': 486, 'trackmarqu': 4283, '24hr': 335, '50p': 430, 'stopbcm': 3828, 'wc1n3xx': 4634, 'nasti': 2497, 'slo': 3608, 'slo4msg': 3609, 'variou': 4495, 'yeovil': 4928, '12': 268, 'max': 2365, 'veri': 4511, 'ish': 2098, 'rule': 3293, 'earlier': 1604, 'thia': 4126, 'preview': 2937, 'calm': 1041, 'theacus': 4098, 'wotu': 4808, 'thewend': 4120, 'up4': 4430, 'satlov': 3348, 'J': 586, 'M': 590, '08719899230': 150, '41685': 393, '071104': 22, 'sexychat': 3451, 'hair': 1911, 'paragon': 2670, 'sens': 3425, 'poortiyagi': 2866, '4pavanaputra': 412, 'dodda': 1551, 'problum': 2965, 'siguviri': 3543, 'luck': 2312, 'miracl': 2413, '0870k': 85, 'hex': 1960, 'explain': 1689, 'beliv': 887, 'too': 4249, 'websit': 4643, 'slipper': 3606, 'cal': 1027, 'game': 1820, 'que': 3039, 'suit': 3901, 'prob': 2959, 'hon': 1987, 'doinat': 1561, 'mo': 2424, 'foot': 1765, 'daddi': 1344, 'shu': 3525, 'singapor': 3558, 'naughti': 2503, 'pix': 2790, 'steak': 3800, 'low': 2299, 'dsnt': 1591, 'wordsevri': 4790, 'prayr': 2911, 'uothrwis': 4428, 'uso': 4472, 'nowi': 2551, 'comput': 1236, 'essenti': 1656, 'spare': 3714, 'helloooo': 1950, 'joy': 2143, 'abi': 663, '11': 257, 'hai': 1910, 'sathi': 3344, 'rto': 3287, 'male': 2342, 'cheaper': 1094, '08709222922': 83, 'peak': 2713, '08712460324': 101, 'orchard': 2603, 'nxt': 2560, 'size': 3575, 'um': 4382, 'bmw': 943, 'urgentlyit': 4450, 'vri': 4566, 'urgentbut': 4449, 'hv': 2025, 'shortag': 3510, 'lacsther': 2196, 'sourc': 3703, 'arng': 805, 'amt': 755, 'lacsthat': 2195, 'rpli': 3278, 'titl': 4190, 'sleepingwith': 3599, 'ymca': 4948, 'pobox365o4w45wq': 2834, '300p': 365, 'no1': 2529, 'empti': 1636, 'varaya': 4492, 'goodenviron': 1867, 'terrif': 4065, 'ph': 2751, 'salon': 3322, 'bun': 1008, 'ador': 696, 'remain': 3171, 'unconvinc': 4391, 'elabor': 1629, 'willpow': 4731, 'bloomberg': 936, 'center': 1080, '447797706009': 395, 'httpcareer': 2009, 'bloombergcom': 937, 'wendi': 4672, 'sorryi': 3693, 'recognis': 3131, 'confus': 1245, 'sever': 3445, 'three': 4150, 'slide': 3604, 'safeti': 3312, 'issu': 2101, 'roast': 3254, 'moji': 2436, 'rich': 3231, 'sapna': 3334, 'yday': 4918, 'swalpa': 3951, 'bloodi': 934, 'surnam': 3940, 'Mr': 597, 'clue': 1189, 'plural': 2821, 'noun': 2549, 'urgnt': 4452, 'wate': 4622, 'spent': 3727, 'devic': 1467, 'xuhui': 4888, 'tank': 4006, 'pongal': 2858, 'beg': 881, 'divorc': 1536, 'everybodi': 1667, 'tap': 4008, 'spile': 3733, '08715203652': 116, 'japanes': 2120, 'proverb': 2996, 'none': 2537, 'itu': 2107, 'indian': 2065, 'version': 4513, 'DO': 551, 'itleav': 2104, 'kerala': 2168, 'strike': 3849, 'differ': 1492, 'evng': 1671, 'slave': 3594, 'cell': 1079, 'wwwcashbincouk': 4844, 'biggest': 905, 'eta': 1657, 'taunton': 4018, '1230': 274, 'wereth': 4678, 'WE': 647, 'gorgeou': 1873, 'sausagelov': 3353, 'dvd': 1599, 'funk': 1809, 'tones2u': 4241, 'wwwringtonescouk': 4862, '3gbp': 377, 'resent': 3198, 'previou': 2938, 'error': 1653, 'queri': 3041, 'customersqueriesnetvisionukcom': 1329, '6month': 463, 'bluetooth': 941, 'thangamit': 4084, 'wifehow': 4723, 'exactli': 1675, 'obvious': 2565, 'potato': 2885, 'foreign': 1771, 'stamp': 3781, 'rcvd': 3098, 'hgsuite3422landsroww1j6hl': 1963, 'wudnt': 4833, 'dine': 1503, 'mcat': 2372, 'payasam': 2703, 'rinu': 3245, 'wahala': 4581, 'tree': 4304, 'stone': 3822, 'tonit': 4247, 'compromis': 1235, 'stash': 3792, 'ran': 3077, '07801543489': 32, '40gb': 392, 'ipod': 2096, 'mp3': 2460, 'player': 2806, 'wordcollect': 4788, 'tcllc': 4026, '123': 273, 'competit': 1230, '1450': 290, '09050002311': 157, 'b4280703': 845, 'tcsstop': 4030, '08718727868': 135, 'over': 2625, 'splendid': 3743, 'wesley': 4679, 'bet': 898, 'hella': 1948, 'forum': 1778, 'miser': 2415, 'effect': 1621, 'birth': 912, 'control': 1256, 'wrench': 4817, 'cramp': 1290, 'tmrw': 4203, 'idea': 2035, 'suppos': 3932, 'nobodi': 2531, 'figur': 1737, 'coat': 1197, 'hurri': 2022, 'wear': 4636, 'horribl': 1995, 'serena': 3434, 'swt': 3971, 'occupi': 2566, 'smsservic': 3634, 'yourinclus': 4969, 'wwwcomuknet': 4846, '3qxj9': 381, 'extra': 1694, '08702840625comuk': 73, '220cm2': 334, '9ae': 523, 'ID': 572, '1172': 265, '87239': 506, '08708034412': 81, 'sight': 3539, 'maintain': 2338, 'shja': 3498, 'bb': 866, 'aint': 722, 'elsewher': 1631, '8077': 484, 'wwwgetzedcouk': 4850, '36504': 373, 'w45wq': 4575, 'norm150pton': 2540, 'mile': 2406, 'market': 2353, '08450542832': 58, 'thout': 4147, 'agre': 715, 'ipad': 2095, 'macho': 2329, 'death': 1404, 'more': 2450, 'wwwwin82050couk': 4877, 'ppl': 2893, 'grow': 1895, 'dollar': 1565, 'soooo': 3685, 'provid': 2997, 'tming': 4199, 'buff': 1004, 'laugh': 2211, 'chitchat': 1138, 'london': 2275, 'w1a': 4572, '118pmsg': 266, 'track': 4282, 'wallet': 4597, 'pop': 2867, 'Eh': 555, 'toke': 4221, 'syd': 3973, 'yesh': 4937, 'greatbhaji': 1887, 'kalli': 2157, 'cricket': 1299, 'sachin': 3304, 'worldveri': 4798, 'tough': 4273, 'darker': 1363, 'ding': 1505, 'tai': 3989, 'reserv': 3199, 'shower': 3519, 'cuddl': 1313, 'nap': 2495, '0871277810910pmin': 105, 'wikipediacom': 4726, 'pride': 2943, 'takin': 3997, 'deal': 1391, 'stuffwhi': 3871, 'monthli': 2445, 'terribl': 4064, 'ge': 1831, 'sh': 3454, 'readyal': 3106, 'couldnt': 1278, 'blame': 923, '1030': 248, 'yoga': 4950, 'bugi': 1005, 'pilat': 2780, 'cope': 1262, '0721072': 24, 'starshin': 3787, 'doe': 1552, 'sip': 3561, 'cappuccino': 1053, 'teas': 4037, 'deliv': 1433, 'suffici': 3897, 'top': 4257, 'door': 1571, 'lick': 2236, 'tootsi': 4256, 'loyalti': 2303, 'red': 3137, 'theplac': 4110, 'ma': 2327, 'steer': 3803, 'mine': 2410, 'ultim': 4381, 'spiderman': 3731, 'spider': 3730, 'wallpap': 4598, 'broke': 987, 'choos': 1143, 'smsshsexnetun': 3635, 'burger': 1009, 'stadium': 3775, 'super': 3922, 'cocacola': 1199, 'prizeto': 2957, 'summer': 3907, 'such': 3890, 'dress': 1581, 'white': 4709, 'cutest': 1333, 'engin': 1641, 'slack': 3592, 'channel': 1087, 'valu': 4489, 'receivea': 3125, '900': 520, '09061701461': 183, 'kl341': 2184, 'lazi': 2213, 'jog': 2135, 'accordingli': 678, 'repeat': 3185, 'dedic': 1413, '169': 308, '6031': 448, '10am9pm': 252, 'splashmobil': 3741, 'subscrit': 3886, 'OH': 605, 'yeahand': 4921, 'while': 4706, 'talkin': 4001, 'welp': 4670, '87077': 503, 'trywal': 4324, 'scotland': 3377, '4txtú120': 418, 'poboxox36504w45wq': 2838, 'oni': 2589, '09058094454': 164, 'yummi': 4978, 'citi': 1156, '200': 323, 'spree': 3759, 'WK': 648, '150perwksub': 295, 'activ': 685, 'partner': 2684, 'horo': 1994, 'easili': 1609, 'length': 2228, 'stun': 3872, 'anni': 764, 'realiz': 3112, '40': 389, 'thousand': 4146, 'tattoo': 4015, 'rajini': 3069, 'mmm': 2421, 'jolt': 2140, 'suzi': 3947, 'hide': 1965, 'mth': 2471, 'ntwk': 2554, '08001950382': 47, 'call2optout674': 1033, 'appreci': 789, 'cbe': 1075, 'race': 3057, 'chicken': 1115, 'santha': 3332, 'num': 2555, 'corrct': 1266, 'dane': 1357, 'note': 2544, 'disconnect': 1522, 'callcoz': 1035, 'iz': 2111, 'terrorist': 4066, 'itz': 2109, 'confirmd': 1243, 'verifi': 4512, 'cnn': 1194, 'ibn': 2031, 'purpos': 3025, '75000': 471, 'homeown': 1986, 'tenant': 4056, 'previous': 2939, 'refus': 3153, '1956669': 314, '87131': 505, '0870737910216yr': 77, 'geeee': 1833, 'februari': 1726, '09096102316': 231, '2moro': 346, 'jane': 2118, 'parkin': 2679, 'kent': 2166, 'vale': 4485, 'refil': 3147, 'inr': 2076, 'keralacircl': 2169, 'prepaid': 2919, 'balanc': 855, 'KR': 588, '08714712379': 108, 'lect': 2220, 'pouch': 2888, '83355': 489, 'ibhltd': 2029, 'ldnw15h': 2215, '150pmtmsgrcvd18': 301, 'revers': 3221, 'cheat': 1095, 'mathemat': 2361, 'xavier': 4882, 'scous': 3379, 'stevelik': 3808, 'travel': 4298, 'recreat': 3135, 'secretli': 3401, '09065394514': 206, 'datebox1282essexcm61xn': 1374, '150pmin': 297, 'spif': 3732, 'workag': 4793, 'avoid': 836, 'possess': 2878, 'tactless': 3985, 'faggi': 1701, 'demand': 1438, 'blood': 932, 'fo': 1760, 'deu': 1465, 'ex': 1673, 'hmm': 1975, 'tm': 4198, 'shortli': 3512, 'eeri': 1620, '4u': 419, 'dracula': 1577, 'ghost': 1842, 'addamsfa': 691, 'munster': 2478, 'exorcist': 1684, 'twilight': 4351, 'pobox36504w45wq': 2833, 'rightio': 3236, '1148': 263, 'arent': 799, 'str8': 3838, 'classic': 1165, 'poly200p': 2853, 'puriti': 3023, 'messageit': 2397, 'hmv': 1977, 'genuin': 1837, 'infowww100percentrealcom': 2072, 'promptli': 2983, 'finger': 1744, 'air': 723, 'stabl': 3774, '400': 390, 'randomli': 3080, 'loyal': 2302, '09066380611': 219, 'rubber': 3290, 'tmorrowpl': 4201, 'accomod': 677, 'spirit': 3736, 'wondar': 4779, 'youd': 4958, 'YM': 657, 'ratio': 3089, 'tortilla': 4265, 'dileepthank': 1499, 'supportveri': 3931, 'venugop': 4510, 'theregoodnight': 4112, 'tripl': 4309, 'amaz': 750, 'sometim': 3670, 'difficult': 1493, 'surf': 3937, 'hunni': 2020, 'tonsolitusaswel': 4248, 'damn': 1352, 'iam': 2028, 'shadow': 3457, 'spring': 3760, 'person2di': 2739, 'gist': 1850, 'chosen': 1146, '09066364311': 214, 'feb': 1725, 'talent': 3998, 'cashbal': 1067, 'maxim': 2367, 'cashin': 1068, '83600': 491, 'CC': 545, '08718720201': 129, '11414': 261, 'tcrw1': 4027, 'coher': 1207, 'twenti': 4348, 'womdarful': 4776, 'actor': 686, 'inch': 2057, 'imagin': 2046, 'sink': 3560, 'pace': 2646, 'cock': 1201, 'surround': 3943, 'remind': 3177, 'cuck': 1311, 'kay': 2162, 'esplanad': 1655, 'accept': 673, 'ic': 2032, 'swoop': 3970, 'slowli': 3613, 'godi': 1860, 'youclean': 4957, 'bloodsend': 935, 'itplspl': 2106, 'daurgent': 1377, 'measur': 2377, 'power': 2892, 'pussi': 3029, 'depend': 1445, 'inclus': 2060, 'ip4': 2094, '5we': 443, 'ray': 3092, 'blue': 940, 'bay': 865, 'appt': 791, 'upto': 4443, '12mth': 280, '12price': 281, 'linerent': 2250, 'xnet': 4886, 'display': 1530, 'calcul': 1028, 'bold': 946, 'film': 1740, 'perspect': 2741, 'sri': 3768, 'dajst': 1350, 'nw': 2559, 'wuld': 4834, 'mite': 2418, 'crazi': 1292, 'xxxxxxxx': 4899, '08714712388': 109, 'okok': 2581, 'okthenwhat': 2582, 'shitload': 3495, 'diamond': 1480, 'weirdo': 4662, 'pig': 2778, '3G': 375, 'videophon': 4524, '09063458130': 193, 'videochat': 4522, 'java': 2121, 'dload': 1542, 'polyph': 2856, 'nolin': 2536, 'rentl': 3183, 'Pa': 620, 'tshirt': 4329, 'piec': 2776, 'priscilla': 2951, 'bowl': 964, 'pool': 2862, 'therel': 4113, 'shindig': 3488, 'schedul': 3369, '09058094565': 167, 'storm': 3836, 'lift': 2242, 'phne': 2759, 'wt': 4827, 'margaret': 2351, 'girlfrnd': 1849, 'f': 1696, 'grahmbel': 1881, 'invnt': 2091, 'telphon': 4050, 'moralon': 2449, '4get': 405, 'h': 1904, 'youmoney': 4966, 'thinghow': 4129, 'sha': 3455, 'webpag': 4642, 'watchin': 4620, 'lido': 2237, 'taken': 3995, 'move': 2458, 'instruct': 2081, 'gautham': 1827, 'vewi': 4515, 'rofl': 3260, 'fren': 1790, '447801259231': 396, '09058094597': 169, 'recent': 3126, 'sbut': 3361, 'sort': 3695, 'promot': 2981, 'teacher': 4034, '600': 447, 'PS': 619, 'bang': 856, 'splwat': 3746, 'whr': 4715, 'ru': 3288, '08709501522': 84, '139': 286, 'shirt': 3492, 'theme': 4103, 'sooner': 3683, 'gari': 1826, 'far': 1710, 'ptbo': 3007, 'legal': 2224, 'advic': 700, 'split': 3744, 'wishin': 4748, 'tooo': 4253, 'vikkyim': 4531, 'otsid': 2614, 'il': 2042, 'pt2': 3006, '87575': 507, 'txtin': 4360, '150ptone': 304, 'HL': 565, '4info': 408, 'dick': 1483, 'sup': 3921, 'lookatm': 2280, 'purchas': 3021, 'clip': 1175, 'dogg': 1556, '6hr': 462, 'lst': 2304, 'chuck': 1150, 'toshiba': 4267, 'kb': 2163, 'tahan': 3988, 'anot': 768, 'lo': 2263, '80062': 479, 'wednesday': 4649, 'cheeto': 1102, 'bag': 851, 'thandiyachu': 4082, 'insur': 2082, 'shell': 3478, 'scrape': 3380, 'social': 3652, 'donno': 1569, 'lionm': 2253, 'mono': 2443, 'lionp': 2254, 'scorabl': 3374, 'diet': 1490, 'woould': 4786, 'matter': 2363, 'dumb': 1596, 'pimpl': 2782, 'sweetheart': 3961, 'darl': 1365, 'sugar': 3899, 'plum': 2819, 'smack': 3616, '08708800282': 82, 'hgsuite3422land': 1962, 'roww1j6hl': 3274, 'debat': 1405, 'footbal': 1766, 'countri': 1280, 'swiss': 3967, 'bank': 857, 'director': 1514, 'crore': 1302, 'deposit': 1446, 'taxless': 4020, 'budget': 1003, 'villag': 4534, 'delhi': 1431, 'lane': 2201, 'road': 3252, 'supli': 3926, 'block': 928, 'politician': 2851, 'corrupt': 1269, 'pura': 3020, 'padhegm': 2650, 'kano': 2158, 'trishul': 4310, 'sarasota': 3336, 'yessura': 4939, 'tvlol': 4345, 'password': 2692, 'blank': 924, 'varma': 4496, 'allah': 738, 'server': 3439, 'garbag': 1824, 'bread': 978, 'wheat': 4691, 'chex': 1110, 'truli': 4320, 'biola': 909, 'sq825': 3764, '09061702893': 185, 'acl03530150pm': 681, 'whenr': 4696, 'é': 4998, '140': 287, 'wamma': 4601, 'doggin': 1558, 'vehicl': 4505, 'sariyag': 3340, 'skalli': 3578, 'fightng': 1736, 'dificult': 1495, 'sno': 3643, 'wap': 4608, 'sheffield': 3476, 'tom': 4229, 'opinion': 2597, 'transcrib': 4291, 'coffe': 1206, 'tomoc': 4234, 'porteg': 2873, 'bruce': 992, 'chik': 1117, 'saristar': 3339, '08701752560': 69, 'stop2': 3826, 'aiyah': 727, 'pant': 2664, 'thin': 4127, '2go': 343, 'thanxxx': 4090, 'shrek': 3523, 'promis': 2979, 'ttyl': 4332, 'transport': 4295, 'problemat': 2962, 'no': 2528, '84128': 493, 'wwwtextcompcom': 4872, 'pleasur': 2813, 'pour': 2890, 'sum1': 3905, 'becoz': 875, 'mr': 2461, 'treatin': 4302, 'treacl': 4299, 'ibiza': 2030, '09066364349': 215, 'reffer': 3146, 'uif': 4376, 'vl': 4550, 'rsi': 3283, 'playin': 2809, 'space': 3708, 'poker': 2846, '09050001808': 156, 'm95': 2326, 'simpli': 3552, 'wed': 4645, 'toplay': 4260, 'selfindepend': 3413, 'panalambut': 2659, 'pure': 3022, 'enemi': 1638, 'smiley': 3628, 'plenti': 2814, '121': 272, '09050280520': 160, '25p': 339, 'anywher': 779, 'hunt': 2021, 'inning': 2074, 'der': 1448, 'sipix': 3562, 'digit': 1497, '09061221066': 181, 'fromm': 1801, '28': 341, 'wrc': 4816, 'ralli': 3074, '61200': 452, 'pack': 2647, 'nt': 2552, 'phoni': 2764, 'thoughtsi': 4145, 'breath': 980, 'heri': 1957, 'sorrowsi': 3692, 'herlov': 1958, 'proov': 2986, 'whole': 4712, 'planeti': 2801, 'prais': 2902, 'curri': 1324, 'sambarlif': 3327, 'thenwil': 4107, 'lousi': 2292, 'presnt': 2928, 'mi': 2400, 'prakasamanu': 2904, 'sneham': 3641, 'prakasam': 2903, 'prabha': 2898, 'tirupur': 4188, 'corpor': 1265, 'gap': 1823, 'insid': 2077, 'spageddi': 3710, 'nan': 2493, 'yalrigu': 4907, 'utter': 4477, 'trust': 4322, 'chikkub': 1120, 'kit': 2181, 'strip': 3851, 'netcollex': 2511, '1013': 246, '88066': 509, 'priest': 2944, 'father': 1715, '06': 18, 'pierr': 2777, 'deni': 1442, 'peach': 2712, 'tast': 4012, 'lush': 2315, 'promin': 2978, 'bite': 918, 'wwwtcbiz': 4871, 'polo': 2852, '373': 374, 'w1j': 4573, '6hl': 460, '4U': 400, 'patti': 2700, 'proof': 2985, '0207': 10, '153': 306, 'surya': 3945, 'vijay': 4529, 'pokkiri': 2847, 'sundayish': 3914, 'misbehav': 2414, 'slap': 3593, 'yesmum': 4938, 'strong': 3853, 'violat': 4535, 'privaci': 2952, 'steal': 3801, 'paperwork': 2668, 'supervisor': 3925, 'passabl': 2689, 'high': 1966, 'phd': 2755, '5year': 445, 'salari': 3317, 'easier': 1608, 'prakesh': 2905, 'xxxxxxxxxxxxxx': 4900, 'dhoni': 1474, 'titleso': 4191, 'correctli': 1268, 'propsd': 2992, 'gv': 1902, 'lv': 2318, 'lttr': 2310, 'Bt': 542, 'threw': 4151, 'thm': 4136, 'aproach': 793, 'dt': 1592, 'truck': 4316, 'speed': 3724, 'girld': 1848, 'cn': 1193, 'boost': 951, 'shout': 3516, 'happili': 1924, '2gthr': 344, 'evrydi': 1672, 'moral': 2448, 'msgsd': 2467, 'stalk': 3780, 'profil': 2973, 'tyler': 4365, 'pple700': 2895, 'cook': 1259, 'wwwmusictrivianet': 4857, 'custcar': 1326, '08715705022': 121, '1x150pwk': 320, 'trav': 4297, 'shracomorsglsuplt10': 3522, '09058091854': 162, 'box385': 968, 'M6': 591, '6wu': 466, 'shatter': 3470, 'avatar': 833, '3d': 376, 'imp': 2049, 'reflex': 3149, 'stuff42moro': 3869, 'veggi': 4504, 'audit': 827, 'captain': 1054, 'costa': 1272, 'sol': 3657, '09050090044': 159, 'toclaim': 4211, 'pobox334': 2832, 'stockport': 3819, 'sk38xh': 3577, 'max10min': 2366, 'convey': 1257, 'sura': 3935, 'trend': 4305, 'brief': 981, 'descript': 1452, 'page': 2651, 'nok': 2533, 'werent': 4677, 'wedlunch': 4648, 'GO': 560, 'outsomewher': 2621, 'towncud': 4278, 'petexxx': 2746, 'offerth': 2570, 'nokia6650': 2535, 'txtauction': 4358, '81151': 485, '4tctxt': 415, '150pmtmsg': 300, 'wasnt': 4616, 'met': 2399, '21870000hi': 332, 'mailbox': 2336, 'alert': 734, '09056242159': 161, 'retriev': 3217, 'furnitur': 1811, 'lock': 2268, 'somewher': 3672, 'beneath': 894, 'pale': 2656, 'btw': 998, 'random': 3079, 'stereophon': 3806, 'dizze': 1539, 'racal': 3056, 'stroke': 3852, 'themob': 4104, 'uxxxx': 4481, 'ranjith': 3083, 'drpd': 1589, 'deeraj': 1419, 'deepak': 1416, '5min': 440, 'torch': 4263, 'prospect': 2993, 'fill': 1739, 'each': 1601, 'buzi': 1017, 'some': 3661, 'jess': 2128, 'restrict': 3211, 'buddi': 1002, 'zaher': 4987, 'ym': 4947, 'spoilt': 3748, 'dare': 1361, 'sen': 3419, 'std': 3798, 'chg': 1112, 'rcv': 3097, 'transferacc': 4293, 'fave': 1718, 'thanks2': 4086, 'strt': 3856, '02085076972': 13, 'meanwhil': 2376, 'twin': 4352, 'robinson': 3256, 'wheellock': 4692, '08717111821': 122, 'lifetim': 2240, 'custcare08718720201': 1327, 'gettin': 1841, '09066612661': 221, 'wa14': 4578, 'sender': 3421, 'hol': 1979, 'chick': 1114, 'huge': 2014, 'supos': 3927, 'therexx': 4115, 'ski': 3580, 'waiti': 4587, 'rhythm': 3229, 'lmao': 2262, 'dresser': 1582, 'fr': 1782, 'threat': 4149, 'execut': 1682, 'shifad': 3484, 'rais': 3066, 'complaint': 1232, 'tamilnaduthen': 4004, 'request': 3193, 'mell': 2387, 'oru': 2609, 'minnaminungint': 2411, 'nurungu': 2557, 'vettam': 4514, 'callertun': 1037, 'press': 2929, 'santa': 3331, '09077818151': 225, '3min': 380, 'wwwsantacallingcom': 4863, 'softwar': 3655, 'do': 1544, '09050000332': 152, 'rstm': 3284, 'sw7': 3949, '3ss': 383, 'wwwapplausestorecom': 4839, 'tcsc': 4029, 'web': 4639, 'age16': 711, 'callin': 1039, 'culdnt': 1315, 'talkbut': 4000, 'wannatel': 4606, 'wenwecan': 4675, 'properli': 2989, 'textbuddi': 4075, 'postcod': 2883, 'thasa': 4091, 'upyeh': 4444, 'shudvetold': 3526, 'urgran': 4454, 'u2moro': 4369, 'condit': 1240, 'www07781482378com': 4836, 'hug': 2013, 'snog': 3644, 'prepar': 2920, 'slipperi': 3607, 'ramen': 3076, 'usf': 4466, 'royal': 3276, 'dessert': 1459, 'graviti': 1885, 'heavi': 1942, 'nvm': 2558, 'OR': 608, 'ukmobiled': 4379, '08719839835': 148, 'owo': 2640, '88888': 512, '16onli': 309, 'taxt': 4021, 'stress': 3846, 'paragraph': 2671, 'witin': 4755, 'bid': 903, 'paus': 2701, 'auction': 826, '08718726270': 131, 'sore': 3688, 'eh': 1624, '5wq': 444, 'videop': 4523, 'wild': 4728, 'stop2stop': 3827, 'brotha': 989, '09058094455': 165, 'storelik': 3834, 'yes434': 4932, 'wwwsmsacubootydeli': 4865, 'yeh': 4924, 'def': 1420, 'satjust': 3347, 'payed2day': 2705, 'rise': 3247, '4mi': 410, 'preschoolcoordin': 2922, 'woul': 4809, 'curfew': 1321, 'studdi': 3862, 'describ': 1451, 'daysh': 1384, 'potenti': 2886, 'announc': 766, '07099833605': 21, 'reschedul': 3195, 'ref9280114': 3143, 'tonght': 4244, '09058095107': 171, 's3xi': 3302, 'wire3net': 4744, 'm26': 2323, '3uz': 385, 'spam': 3712, '087143423992stop': 106, 'behav': 883, 'vodafon': 4553, '09061743386': 186, 'mt': 2469, 'directli': 1513, 'calicut': 1029, 'liter': 2258, 'seriou': 3436, 'base': 860, 'theyll': 4122, 'slurp': 3614, 'sux': 3946, 'snake': 3638, 'raiden': 3063, 'srt': 3769, 'ps3': 3000, 'usb': 4460, '7250i': 468, '86021': 498, 'roww1jhl': 3275, 'sleepi': 3596, 'stayin': 3797, 'strangersaw': 3843, 'derp': 1450, 'rct': 3096, 'thnq': 4138, 'rgd': 3226, 'vatian': 4498, 'XX': 653, 'shade': 3456, 'stubborn': 3860, 'sucker': 3892, 'incid': 2058, 'spoke': 3749, 'maneesha': 2347, 'satisfi': 3346, 'toll': 4228, 'hotel': 1999, 'english': 1643, 'weddin': 4646, 'xin': 4884, 'favourit': 1722, 'cruisin': 1307, 'jenni': 2127, 'rub': 3289, 'feet': 1728, 'shb': 3472, 'skype': 3589, 'unnecessarili': 4418, 'deduct': 1414, 'newest': 2516, 'harri': 1927, 'potter': 2887, 'phoenix': 2760, 'among': 753, 'reader': 3104, 'height': 1944, 'recycl': 3136, 'earn': 1605, 'yesfrom': 4936, 'dai': 1348, 'administr': 694, 'SN': 625, 'pobox202': 2831, 'chic': 1113, 'declar': 1412, 'unit': 4411, '4year': 424, 'dental': 1443, 'dice': 1482, 'art': 811, 'thru': 4156, 'gone': 1864, 'yeesh': 4923, 'reunion': 3219, 'updatenow': 4433, 'sonyericsson': 3680, '60pmin': 451, '09094646899': 229, 'dang': 1358, 'internet': 2086, 'propos': 2991, 'sayask': 3358, 'pretend': 2933, 'walkin': 4596, 'unfortuntli': 4404, 'danc': 1354, 'sayin': 3360, 'walsal': 4600, 'tue': 4333, 'terri': 4063, 'blind': 927, 'rodds1': 3258, '83383': 490, 'pobox11414tcrw1': 2830, 'lov': 2293, 'unrecogn': 4419, 'somon': 3675, 'often': 2573, 'definitli': 1424, 'undrstnd': 4398, 'plm': 2815, '4mth': 411, 'mobilesdirect': 2429, '08000938767': 46, 'or2stoptxt': 2601, 'collaps': 1211, 'univers': 4413, 'kindli': 2178, 'document': 1550, 'submit': 3880, 'stapati': 3784, '09065069120': 201, 'premier': 2917, '542': 434, '0578': 17, 'prolli': 2977, 'rgent': 3227, 'UU': 643, '1250': 275, '09071512433': 224, '050703': 16, 'tcsbcm4235wc1n3xx': 4028, 'callcost': 1034, 'mobilesvari': 2430, 'sall': 3320, 'shexi': 3481, 'taxi': 4019, 'sfirst': 3453, 'timedhoni': 4178, 'xy': 4901, 'Si': 628, 'shopth': 3506, 'sunshin': 3919, 'ansr': 770, '82277': 488, 'sptyron': 3762, 'hahahaus': 1909, 'brain': 974, 'randi': 3078, 'femal': 1731, '08700621170150p': 63, 'tick': 4165, 'pout': 2891, 'stomp': 3821, '08715203656': 117, 'simonwatson5120': 3549, 'shinco': 3487, 'plyr': 2822, 'sd': 3389, 'butt': 1014, '09058098002': 174, 'pobox1': 2829, 'w14rg': 4571, 'sterm': 3807, 'resolv': 3203, 'fab': 1697, '09065171142stopsms08': 203, 'tau': 4016, 'sar': 3335, 'piah': 2768, 'PC': 617, 'tuition': 4336, 'gee': 1832, 'wildest': 4729, '80488': 483, 'dapleas': 1360, 'prasanth': 2907, 'anythin': 776, 'wtf': 4829, '087018728737': 70, 'toppoli': 4261, 'tune': 4340, 'subpoli': 3881, 'pole': 2848, '08718727870': 136, 'purs': 3026, 'waaaat': 4579, 'shanilrakhesh': 3466, 'uncut': 4393, 'stuffleav': 3870, 'dino': 1508, 'prem': 2916, 'vday': 4501, 'parachut': 2669, 'coin': 1208, 'yes165': 4931, 'wwwsmsacunatalie2k9': 4869, 'bluff': 942, 'izzit': 2112, 'imposs': 2052, 'leg': 2223, 'neck': 2507, 'burn': 1010, 'forgiven': 1775, 'uhhhhrmm': 4375, 'tb': 4023, 'workin': 4794, 'thgt': 4124, 'vco': 4500, 'ujhhhhhhh': 4377, 'sandiago': 3329, 'parantella': 2672, 'poop': 2863, 'total': 4270, 'quarter': 3038, 'lt': 2305, 'toaday': 4207, 'fell': 1729, 'splat': 3742, 'half8th': 1913, 'aunt': 829, 'helen': 1946, 'yahoo': 4906, 'disc': 1520, 'prey': 2940, 'smart': 3618, 'cough': 1275, 'kkhow': 2182, 'secur': 3403, 'chill': 1129, 'chiong': 1136, 'arrest': 808, 'slept': 3602, 'thinkthi': 4132, '09094100151': 227, 'cast': 1070, 'vari': 4494, 'aom': 780, 'pleasant': 2812, 'telli': 4048, 'payment': 2706, 'portal': 2872, 'gentl': 1836, 'dearm': 1399, 'cherthalain': 1108, 'cochin': 1200, 'starti': 3789, 'gt': 1896, 'owl': 2637, 'sef': 3410, 'dey': 1469, 'cartoon': 1064, 'church': 1152, 'profession': 2972, 'sport': 3755, 'tiger': 4168, 'wood': 4783, 'posh': 2875, 'trial': 4307, 'prod': 2970, 'dob': 1545, 'chikkuwat': 1125, 'cannot': 1050, 'invad': 2089, 'orig': 2607, 'arcad': 795, 'consol': 1250, '0': 1, 'o2coukgam': 2564, 'shut': 3529, 'diaper': 1481, 'owe': 2636, 'arun': 812, 'dha': 1472, 'pen': 2718, 'lturlgt': 2311, 'whenwher': 4697, 'loxahatche': 2301, 'smoothli': 3631, 'printer': 2949, 'groovi': 1892, 'gain': 1817, 'overa': 2626, 'round': 3270, '54': 433, '120': 269, 'xxxmobilemovieclub': 4893, 'xxxmobilemovieclubcomnqjkgighjjgcbl': 4894, 'honeybe': 1989, 'sweetest': 3960, 'waitu': 4590, 'havnt': 1933, 'crack': 1289, 'gmgngegn': 1854, 'chillaxin': 1130, 'hun': 2017, 'reassur': 3116, 'spunout': 3763, 'spk': 3738, 'wrld': 4821, 'been': 878, 'woman': 4775, 'vidnot': 4527, 'sari': 3338, 'tim': 4176, 'tol': 4222, 'blackberri': 920, 'tonex': 4243, 'wwwclubzedcouk': 4845, 'poly3': 2854, 'toxic': 4280, 'wknd': 4764, 'spoil': 3747, '4goten': 407, 'scammer': 3363, 'smartthough': 3621, 'regular': 3158, 'bewar': 900, 'toopray': 4254, 'teeth': 4041, 'recpt': 3134, '13': 282, 'stagwood': 3779, 'winterston': 4740, 'victor': 4518, 'withdraw': 4752, 'anim': 763, 'ringsreturn': 3240, 'lotr': 2288, 'soundtrack': 3701, 'cd': 1076, 'stdtxtrate': 3799, 'IQ': 577, 'toldsh': 4224, '930': 521, 'U4': 638, '01223585334': 6, 'shag': 3458, '8552': 497, 'sam': 3324, 'toyota': 4281, 'dough': 1574, 'wifi': 4724, 'shave': 3471, 'broken': 988, '9t': 525, 'overh': 2630, 'reslov': 3201, 'pend': 2720, 'clock': 1176, 'roomat': 3267, 'castor': 1071, 'sleepwellamptak': 3601, 'dahow': 1347, 'wrongli': 4824, 'boston': 957, 'wwworangecoukow': 4858, 'slightli': 3605, 'princ': 2945, 'wordnot': 4789, 'relationshipit': 3162, 'wherevr': 4701, 'whenevr': 4695, 'forevr': 1773, 'qualiti': 3037, 'complain': 1231, '087147123779am7pm': 107, 'mysteri': 2483, 'solv': 3660, 'batch': 862, 'sweeti': 3962, 'rajitha': 3071, 'raj': 3067, 'ranju': 3084, 'chechi': 1096, 'appoint': 788, 'until': 4427, '545': 435, 'unmit': 4417, 'univ': 4412, 'ywhere': 4985, 'dogbreath': 1555, 'granit': 1884, 'strongbuy': 3854, 'explos': 1691, 'nasdaq': 2496, 'symbol': 3975, 'cdgt': 1077, 'gibb': 1843, 'unsoldmik': 4422, 'phase': 2754, 'dimens': 1501, 'virgin': 4540, '4fil': 404, 'sexual': 3450, '62220cncl': 453, 'stopc': 3829, '08717890890': 126, 'taco': 3983, 'pc': 2709, 'enuff': 1649, 'mb': 2370, 'improv': 2054, 'B4': 538, '10th': 256, '09050000555': 153, 'truro': 4321, 'wellda': 4666, 'peril': 2731, 'studentfinanci': 3864, 'crisisspk': 1301, 'urin': 4455, 'shoranur': 3507, 'concern': 1238, 'prior': 2950, 'chain': 1084, 'violenc': 4536, 'jesu': 2129, 'shoe': 3501, 'flash': 1754, 'jealou': 2124, 'seat': 3395, 'lower': 2300, '101mega': 247, 'pixel': 2791, '5digit': 437, 'tadaaaaa': 3986, '08712400200': 92, 'wwwidewcom': 4851, 'skillgam': 3583, '1winaweek': 319, '150ppermesssubscript': 302, '125gift': 276, 'overdid': 2627, 'surgic': 3938, 'emerg': 1635, 'unfold': 4402, 'raglan': 3061, 'rd': 3099, 'edward': 1618, 'behind': 884, 'closebi': 1179, 'sleepingand': 3598, '2marrow': 345, 'british': 985, '02072069400': 11, 'sw73ss': 3950, 'waheeda': 4584, 'towndontmatt': 4279, 'urgoin': 4453, 'outl8rjust': 2618, 'reallyne': 3114, 'thecd': 4100, 'tome': 4231, 'dhort': 1475, 'paypal': 2708, 'voila': 4557, 'pocket': 2840, 'x49your': 4880, '09065989182': 208, 'torrent': 4264, 'particularli': 2683, 'oooh': 2593, 'middl': 2402, 'tix': 4193, 'reflect': 3148, 'desir': 1456, 'tradit': 4285, 'rush': 3299, 'disagre': 1517, 'husband': 2024, 'swollen': 3969, 'occur': 2567, 'uniform': 4408, 'chez': 1111, 'eight': 1625, 'seri': 3435, 'someonon': 3666, '09064015307': 197, 'box334sk38ch': 967, 'unsold': 4421, 'snowboard': 3646, 'syllabu': 3974, 'rakhesh': 3073, 'rtm': 3286, 'silenc': 3544, 'envelop': 1650, 'Us': 645, '113': 259, 'bray': 977, 'wicklow': 4717, 'eir': 1627, 'cam': 1042, 'mobi': 2427, 'w8in': 4576, '4utxt': 421, '82242': 487, 'hlp': 1974, '08712317606': 91, 'msg150p': 2465, '2rcv': 356, 'cheesi': 1101, 'snowman': 3647, 'jolli': 2139, '88039': 508, 'skilgm': 3581, 'tscs087147403231winawkage16': 4328, 'resum': 3216, 'wipro': 4742, 'interview': 2087, 'smsing': 3633, 'tohar': 4219, 'fear': 1724, 'cuppa': 1320, 'perf': 2726, 'john': 2136, 'strongli': 3855, 'sacrific': 3307, 'creativ': 1294, 'stifl': 3813, 'postal': 2881, 'sue': 3895, 'com': 1218, 'shhhhh': 3482, 'upseti': 4440, 'uslet': 4469, '86888': 500, 'subscribe6gbpmnth': 3883, '3hr': 378, 'stoptxtstop': 3832, 'wwwgambtv': 4849, 'galileo': 1819, 'dobbi': 1546, 'dayu': 1387, 'lover': 2296, 'dear1': 1394, 'best1': 897, 'clos1': 1177, 'lvblefrnd': 2319, 'jstfrnd': 2146, 'cutefrnd': 1332, 'lifpartnr': 2241, 'belovd': 892, 'swtheart': 3972, 'bstfrnd': 995, 'favorit': 1720, 'oyster': 2642, 'sashimi': 3341, 'stomach': 3820, 'rumbl': 3295, 'thot': 4142, 'indyarockscom': 2067, 'phonebook': 2763, 'dock': 1548, '25': 336, 'spinout': 3734, 'gossip': 1874, 'sendernam': 3422, 'sentdat': 3429, 'chop': 1144, 'creat': 1293, 'fuckin': 1803, 'pre': 2912, 'sack': 3306, 'smidgin': 3626, 'collegexx': 1215, 'about': 667, 'wwwbridalpetticoatdreamscouk': 4843, 'superb': 3923, 'weddingfriend': 4647, 'youkwher': 4963, 'call09050000327': 1032, 'riley': 3238, 'reliev': 3166, 'westonzoyland': 4682, '89545': 514, 'todayfrom': 4214, 'www4tcbiz': 4837, '08718726270150gbpmtmsg18': 132, 'prescript': 2924, 'pharmaci': 2753, 'coco': 1203, 'piggi': 2779, 'rebel': 3117, 'bahama': 853, 'callfreefon': 1038, '08081560665': 53, 'cruis': 1306, '18onli': 312, '07786200117': 30, 'soo': 3681, 'remembr': 3175, '09064017295': 198, 'k52': 2155, 'detroit': 1464, 'thatnow': 4095, 'nanni': 2494, 'strict': 3848, 'conduct': 1241, 'warn': 4611, 'samantha': 3326, 'tirunelvai': 4187, 'dointerest': 1563, 'sextextukcom': 3449, 'xxuk': 4891, 'spi': 3728, 'real1': 3108, 'pushbutton': 3028, 'webeburnin': 4641, '1hi': 315, 'polic': 2850, '2polic': 355, '3wife': 386, 'siri': 3564, '4cook': 402, '5garden': 439, 'veget': 4503, '6housemaid': 461, '7children': 474, '8neighbour': 516, 'brilliant': 983, 'rang': 3082, 'add': 690, 'persev': 2737, 'weekday': 4653, '1000call': 242, '09071512432': 223, '08002888812': 48, 'peni': 2723, '087104711148': 86, 'volcano': 4558, 'tsunami': 4330, 'aris': 802, 'sway': 3955, 'disast': 1518, 'most': 2453, 'tiim': 4173, 'dearregret': 1401, 'cudnt': 1314, 'ctla': 1310, 'ave': 834, '7ish': 475, 'tigress': 4171, 'signin': 3542, 'restock': 3210, 'thanksgiv': 4087, 'rahul': 3062, 'dengra': 1441, 'comfort': 1222, 'sold': 3659, 'petrolr': 2750, 'oreo': 2606, 'truffl': 4319, 'problemi': 2963, '08707808226': 80, 'imag': 2045, 'anniversari': 765, 'tarpon': 4011, 'shitin': 3494, 'defo': 1425, '2morow': 347, 'snicker': 3642, 'chord': 1145, 'pari': 2676, '08704439680tsc': 75, 'dismissi': 1529, '09050000928': 155, 'sivatat': 3573, 'wkend': 4760, 'andro': 760, '08000776320': 43, '07808726822': 34, '020903': 14, '08718729758': 138, 'rec': 3120, 'redim': 3139, 'purpleu': 3024, 'pinku': 2786, 'yelowi': 4926, 'bck': 867, 'pie': 2775, 'thx': 4163, 'tund': 4339, 'tunji': 4341, 'slaaaaav': 3591, 'summon': 3908, 'review': 3222, '1500': 292, '09066364589': 216, 'youhow': 4961, 'irrit': 2097, 'wifedont': 4722, 'toolet': 4252, 'waqt': 4609, 'pehl': 2716, 'zyada': 4996, 'nahi': 2488, 'wo': 4771, 'jo': 2133, 'socht': 3651, 'zindgi': 4992, 'ham': 1916, 'chk': 1139, 'dict': 1484, 'telugu': 4051, 'datingi': 1375, 'coincid': 1209, 'appar': 785, 'rr': 3279, 'weirdest': 4661, 'plumbingremix': 2820, '09066361921': 212, 'crucial': 1305, 'po': 2826, 'cloth': 1183, 'textpod': 4079, 'vpod': 4565, 'wwwtextpodnet': 4873, 'pongaldo': 2859, 'sinco': 3555, 'paye': 2704, 'urn': 4457, 'disclos': 1521, 'uncount': 4392, 'zed': 4989, '0784987': 37, '08719180219': 143, '45239': 398, '060505': 19, 'premium': 2918, '08718711108': 128, 'logo': 2272, 'name1': 2491, 'name2': 2492, 'mobno': 2432, 'adam': 689, '07123456789': 23, 'txtno': 4363, 'bone': 947, 'problm': 2964, 'watrdayno': 4627, 'diseas': 1526, 'snd': 3640, 'whom': 4713, 'yes762': 4934, 'wwwsmsacugoldvik': 4866, 'easter': 1611, 'rebtel': 3119, 'pin': 2784, 'greatest': 1888, 'courag': 1283, 'bear': 871, 'defeat': 1421, 'heartgn': 1939, 'waht': 4585, 'rael': 3060, 'yuo': 4982, 'tih': 4172, 'splle': 3745, 'wrnog': 4822, 'sitll': 3569, 'ra': 3055, 'wihtuot': 4725, 'sleepsweet': 3600, 'scrumptiou': 3387, 'wwwtxttowincouk': 4876, 'pictxt': 2774, 'physic': 2767, 'thread': 4148, 'callsmessagesmiss': 1040, 'zac': 4986, 'wnevr': 4769, 'fal': 1704, 'vth': 4568, 'yen': 4927, 'pretsorginta': 2934, 'pretsovru': 2935, 'languag': 2202, 'crickit': 1300, 'tddnewsletteremc1couk': 4031, 'thedailydraw': 4101, 'prizeswith': 2956, 'plane': 2799, 'rout': 3272, 'tgxxrz': 4080, 'swimsuit': 3965, 'regret': 3157, 'tonesrepli': 4242, 'unev': 4401, 'peski': 2742, 'cyclist': 1338, 'cold': 1210, 'vitamin': 4547, 'googl': 1872, 'sherawat': 3479, 'yetti': 4943, '6pm': 464, 'suppli': 3928, 'choic': 1142, 'wwwldewcomsubs161win150ppmx3': 4855, 'velli': 4507, 'wc': 4632, 'wwwb4utelecom': 4842, '08717168528': 123, 'boyfriend': 972, 'rencontr': 3179, 'texd': 4070, 'AS': 530, '4ward': 422, 'cin': 1153, '2mrw': 350, 'Ho': 570, 'pase': 2687, 'un': 4385, 'tiempo': 4167, 'rajnik': 3072, 'swim': 3964, 'wc1n': 4633, 'tiz': 4194, 'sexiest': 3448, 'dirtiest': 1516, '89070': 513, 'tarot': 4010, 'releas': 3164, 'bottom': 961, 'underwear': 4397, '2morro': 348, '09099726481': 233, 'dena': 1440, 'pod': 2842, 'billion': 907, 'sync': 3978, 'shangela': 3464, 'phone750': 2762, '07090298926': 20, 'ref9307622': 3144, '09066350750': 209, 'sk3': 3576, 'ppm': 2896, 'walkabout': 4595, 'reciev': 3129, 'teletext': 4046, 'cme': 1191, 'randomlli': 3081, 'mummi': 2476, 'posit': 2877, 'painit': 2654, 'todaydo': 4213, 'ystrdayic': 4977, 'scienc': 3371, 'yoyyooo': 4975, 'permiss': 2735, '09058094583': 168, 'suggest': 3900, 'stool': 3824, 'dippeditinadew': 1511, 'lovingli': 2298, 'itwhichturnedinto': 2108, 'tomeandsaidthi': 4232, 'risk': 3248, 'benefit': 895, '09058094599': 170, 'romcapspam': 3264, 'presenc': 2925, 'chief': 1116, 'bell': 888, 'dan': 1353, 'scari': 3365, 'mall': 2343, 'sumthinxx': 3910, 'philosophi': 2758, 'victoria': 4519, 'traffic': 4286, 'album': 733, 'wwwldewcom1win150ppmx3age16': 4853, 'daywith': 1388, 'somewheresomeon': 3673, 'tosend': 4266, 'strang': 3841, 'maangalyam': 2328, 'alaipayuth': 732, 'cardiff': 1057, 'radiat': 3058, 'trauma': 4296, 'swear': 3956, 'dled': 1541, 'uscedu': 4462, '1010': 245, 'woken': 4774, 'cribb': 1298, 'sac': 3303, 'carri': 1063, 'evn': 1670, 'alwi': 749, 'prestig': 2932, 'rayan': 3093, 'resub': 3214, 'polyc': 2855, 'stream': 3844, '0871212025016': 88, 'snappi': 3639, 'upload': 4437, '08718730666': 140, 'okey': 2579, 'dokey': 1564, 'matur': 2364, 'recdthirtyeight': 3122, '09058091870': 163, 'salad': 3316, 'desert': 1453, 'beer': 879, 'spose': 3756, 'hppnss': 2007, 'sorrow': 3691, 'goodfriend': 1868, 'vivek': 4549, 'vill': 4532, 'hop': 1991, 'parco': 2674, 'hip': 1970, 'idk': 2039, '09061221061': 180, '2yr': 361, 'warranti': 4613, 'p': 2644, 'stressful': 3847, 'ni8swt': 2520, 'taj': 3991, 'mumtaz': 2477, 'shahjahan': 3459, 'upon': 4438, 'YO': 658, 'whassup': 4687, 'twink': 4353, 'scalli': 3362, 'skin': 3584, '08712466669': 103, '08712460324nat': 102, 'processexcel': 2968, 'telephon': 4045, 'timin': 4184, 'uv': 4479, 'sunscreen': 3918, 'theseday': 4117, 'clover': 1185, 'plsi': 2817, 'struggl': 3858, 'placeno': 2796, 'reppurcuss': 3190, 'ola': 2583, 'arrang': 807, 'partnership': 2685, 'restuwud': 3212, 'reliant': 3165, '09066660100': 222, '08712101358': 87, '09061790121': 190, 'maga': 2332, 'salmon': 3321, 'chocol': 1141, 'sunlight': 3915, 'clever': 1173, 'ringtoneget': 3243, 'weekstop': 4656, 'sms08718727870': 3632, 'pressi': 2930, 'soup': 3702, 'difficulti': 1494, 'rhode': 3228, 'sankranti': 3330, 'republ': 3192, 'shivratri': 3497, 'ugadi': 4373, 'independ': 2063, 'ganesh': 1821, 'dasara': 1370, 'rememberi': 3174, 'theseyour': 4118, 'dogwood': 1559, 'tini': 4185, 'topicsorri': 4259, 'wwwmovietriviatv': 4856, '08712405022': 100, 'chef': 1103, 'sympathet': 3976, 'determin': 1463, 'psychologist': 3005, 'pest': 2743, 'psychiatrist': 3003, 'stylist': 3877, 'pudunga': 3013, 'venaam': 4509, 'spontan': 3751, 'nic': 2521, 'sittin': 3570, 'waitin': 4588, 'deserv': 1454, 'tight': 4169, 'rayman': 3094, 'termsappli': 4062, 'freez': 1789, 'chikkusimpl': 1124, 'clash': 1163, 'senthil': 3431, '08718730555': 139, 'salt': 3323, 'wound': 4813, 'stuck': 3861, 'taka': 3992, 'closer': 1181, 'spook': 3752, 'halloween': 1915, '08701417012150p': 67, 'logop': 2273, 'outhav': 2617, 'walmart': 4599, 'embarass': 1634, 'thatd': 4093, 'scenario': 3366, 'chikkuk': 1123, '09095350301': 230, 'nat': 2498, 'stu': 3859, 'trubl': 4315, 'wtc': 4828, 'weiyi': 4663, 'picsfree1': 2772, 'vid': 4520, 'tiwari': 4192, 'rcbbattl': 3095, 'sprint': 3761, 'wwwphb1com': 4859, 'ph08700435505150p': 2752, '80182': 482, '08452810073': 60, 'velusami': 4508, 'upd8': 4431, 'freefon': 1786, 'toss': 4268, 'St': 630, 'virgil': 4539, 'subtoitl': 3888, 'aid': 720, 'patent': 2696, 'exe': 1681, 'garden': 1825, 'bulb': 1007, 'seed': 3406, '3350': 370, 'scotsman': 3378, 'go2': 1857, 'notxtcouk': 2548, 'rape': 3085, 'vodka': 4554, 'port': 2871, '09061701851': 184, '12hour': 278, 'ppt150x3normal': 2897, 'w1t1ji': 4574, 'doggi': 1557, 'uup': 4478, 'raja': 3068, 'erm': 1652, 'woodland': 4784, 'parish': 2677, 'bishan': 915, '07815296484': 35, 'hyde': 2027, 'tt': 4331, 'ovarian': 2624, 'cyst': 1339, 'shrink': 3524, 'weve': 4685, 'nearli': 2505, '430': 394, '08006344447': 51, 'motiv': 2455, 'wisdom': 4745, '116': 264, 'watevr': 4625, 'whileamp': 4707, 'italian': 2103, 'stage': 3778, 'wwwldewcom1win150ppmx3age16subscript': 4854, 'vomitin': 4560, 'puzzel': 3032, 'alfi': 736, 'm8': 2325, 'chariti': 1090, '08701417012': 66, 'profit': 2974, '4the': 417, 'spain': 3711, 'dinero': 1504, '12000pe': 270, 'jame': 2115, 'spiral': 3735, 'riddanc': 3232, 'dehydr': 1427, 'underdtand': 4394, 'tool': 4251, 'refund': 3152, 'sudden': 3893, 'ow': 2635, 'deyi': 1471, '60400thousadi': 449, 'wherr': 4702, 'twelv': 4347, '08452810071': 59, 'club4mobilescom': 1188, 'club4': 1187, 'mk45': 2420, '2wt': 360, 'tessypl': 4067, 'favor': 1719, 'nimyapl': 2526, 'shija': 3485, 'topic': 4258, 'tobacco': 4208, 'suprem': 3933, 'cupboard': 1319, 'degre': 1426, 'pple': 2894, 'undrstndng': 4399, 'suffer': 3896, 'whn': 4710, 'mix': 2419, '1146': 262, 'P': 615, 'pisc': 2787, 'somerset': 3667, 'protect': 2994, 'ethreat': 1659, 'sib': 3532, 'sensit': 3427, 'passwordsatmsm': 2693, 'voicemail': 4556, '08719181513': 147, '4a': 401, '07973788240': 39, '08715203649': 115, '40533': 391, '311004': 368, 'typic': 4367, '07753741225': 28, '08715203677': 118, 'sao': 3333, 'playi': 2808, 'cla': 1159, 'plaza': 2810, 'studio': 3866, 'takenonli': 3996, 'pressur': 2931, 'swhrt': 3963, 'deyhop': 1470, 'northampton': 2542, 'skyve': 3590, 'comedi': 1221, 'warner': 4612, 'wwwasjesuscom': 4841, 'wrote': 4826, 'wrongtak': 4825, 'worryc': 4801, 'yaxxx': 4915, 'math': 2360, 'tait': 3990, 'unconsci': 4390, 'unhappi': 4405, '2wk': 359, 'villa': 4533, '08714714011': 112, 'yijuehotmailcom': 4946, '0089mi': 3, '09063442151': 192, '0789xxxxxxx': 38, '09090900040': 226, 'sic': 3533, '60p': 450, '0870753331018': 79, 'tscs08714740323': 4327, 'apolog': 782, 'count': 1279, 'design': 1455, 'stil': 3814, 'tobe': 4209, '630': 455, 'jean': 2125, 'soz': 3707, 'held': 1945, 'bottl': 960, 'amus': 756, 'dahe': 1346, 'daalway': 1341, 'thisdon': 4134, '07742676969': 27, '08719180248': 144, 'septemb': 3433, 'necessari': 2506, 'dearer': 1395, 'the4th': 4097, 'virtual': 4541, 'waitshould': 4589, 'jamster': 2116, 'videosound': 4525, 'videosounds2': 4526, '09701213186': 235, 'yah': 4905, 'eighth': 1626, 'wiskey': 4749, 'brandi': 976, 'rum': 3294, 'gin': 1846, 'scotch': 3376, 'shampain': 3463, 'kudiyarasu': 2190, 'dhina': 1473, 'vaazhthukk': 4483, 'weigh': 4657, '09065394973': 207, 'data': 1372, '07734396839': 26, 'txtauctiontxt': 4359, 'wordstart': 4791, 'sporad': 3754, 'chikkugo': 1122, 'curiou': 1322, 'gram': 1882, 'smarter': 3620, 'sif': 3537, 'jada': 2114, 'kusruthi': 2191, 'spl': 3739, 'charact': 1088, 'stylish': 3876, 'uphad': 4436, 'thoso': 4141, '09061104283': 177, 'resolut': 3202, 'replyb': 3188, '08718729755': 137, 'msgs150p': 2466, 'buse': 1011, 'triumph': 4311, 'toot': 4255, 'fml': 1759, 'prix': 2954, 'raviyog': 3090, 'peripher': 2733, 'disastr': 1519, 'wld': 4766, 'southern': 3705, 'survey': 3944, 'wwwtxt43com': 4874, 'chikkudb': 1121, 'Er': 556, 'pubcaf': 3010, 'stick': 3811, 'prove': 2995, 'satü': 3352, 'wkg': 4762, 'decim': 1409, 'divis': 1535, 'stereo': 3805, 'unknown': 4414, 'teresa': 4060, 'dec': 1406, 'yould': 4964, 'usml': 4470, 'jsco': 2144, 'skill': 3582, 'psychic': 3004, 'wquestion': 4815, 'showr': 3520, 'hubbi': 2012, 'cannt': 1051, '2p': 354, '08448350055': 55, 'planettalkinstantcom': 2802, 'pimpleseven': 2783, 'sweatter': 3958, 'yago': 4904, 'toleratbc': 4227, '08718738002': 142, 'tor': 4262, 'tui': 4335, '08715203694': 120, '08715203028': 114, 'wahay': 4582, 'thu': 4159, 'rajipl': 3070, 'ful': 1804, '09066382422': 220, 'dearslp': 1402, 'welltak': 4668, 'careswt': 1060, 'dreamsmuah': 1580, 'qatar': 3034, 'stranger': 3842, 'splash': 3740, 'squeez': 3766, 'pdatenow': 2710, 'ke': 2164, 'qi': 3035, 'suddenli': 3894, 'youso': 4971, 'pear': 2714, 'yummmm': 4979, 'view': 4528, 'tallent': 4003, 'tron': 4312, 'dl': 1540, 'teju': 4043, 'tact': 3984, 'river': 3250, 'wlcome': 4765, 'squat': 3765, 'tendenc': 4057, 'Xy': 654, '08702840625': 72, 'wan2': 4603, 'westlif': 4681, 'resend': 3197, 'sirjii': 3565, 'personmeet': 2740, 'tata': 4014, 'tisscotays': 4189, 'heater': 1941, 'prop': 2987, 'cashto': 1069, '08000407165': 42, 'getstop': 1840, '88222': 510, 'php': 2766, 'rg21': 3225, '4jx': 409, 'aka': 730, 'stink': 3816, 'cld': 1168, 'staffsciencenusedusgphyhcmkteachingpc1323': 3777, 'unclaim': 4389, '09066368327': 217, 'closingdate040902': 1182, 'claimcod': 1161, 'sleepin': 3597, '09061743811': 189, '326': 369, 'shine': 3489, '5903': 436, '09064019788': 200, 'pan': 2658, 'perhap': 2730, 'silli': 3546, 'smartcal': 3619, 'subscriptn3gbpwk': 3885, '08448714184': 56, 'stoptxt': 3831, 'remb': 3172, 'jazz': 2123, 'yogasana': 4951, 'opportun': 2598, 'shanghai': 3465, 'cya': 1337, 'remet': 3176, 'ssnervou': 3771, 'yorg': 4954, 'pataistha': 2695, 'yor': 4953, 'ownyouv': 2639, 'pattern': 2699, 'dial': 1477, 'paint': 2655, 'stewarts': 3809, 'prescripiton': 2923, 'spice': 3729, 'satsgettin': 3349, 'roadsrvx': 3253, 'punish': 3017, 'coulda': 1277, 'recoveri': 3133, 'washob': 4615, 'platt': 2804, 'dado': 1345, 'coax': 1198, 'souveni': 3706, 'cougarpen': 1274, 'ridden': 3233, '08712402050': 94, '10ppm': 255, 'AG': 527, 'promo': 2980, 'playerwhi': 2807, '09058097189': 173, 'section': 3402, 'clearer': 1171, 'piti': 2789, 'soani': 3649, 'crab': 1288, 'shoreth': 3508, 'wave': 4628, 'footprint': 1768, 'diall': 1478, 'punto': 3018, 'woulda': 4811, 'corvett': 1270, 'string': 3850, 'textand': 4073, '08002988890': 50, 'doinghow': 1562, 'Gd': 561, 'supportprovid': 3930, 'specif': 3721, 'spous': 3757, 'pmt': 2825, 'sumthin': 3909, '4give': 406, 'shldxxxx': 3499, 'Wa': 649, 'ryder': 3301, 'unsoldnow': 4423, 'although': 747, 'txtjourney': 4362, 'youdo': 4960, 'squishi': 3767, 'cloud': 1184, 'senor': 3423, 'showroomsc': 3521, 'shape': 3468, 'tag': 3987, 'blanket': 925, 'reject': 3159, 'passthey': 2691, 'youdearwith': 4959, 'puttin': 3031, 'weighthaha': 4659, 'six': 3574, 'csh11': 1309, 'tsandc': 4325, 'recept': 3127, 'dubsack': 1593, 'distract': 1532, 'texa': 4069, 'quizz': 3051, 'popcorn': 2868, 'timeslil': 4181, 'surli': 3939, 'woo': 4782, 'worryus': 4802, 'packalso': 2649, 'sullivan': 3903, '500000': 429, '09041940223': 151, 'text82228': 4072, 'wwwtxt82228com': 4875, '087123002209am7pm': 90, 'urfeel': 4447, 'probthat': 2966, 'overdos': 2628, 'unemploy': 4400, 'toler': 4226, 'zero': 4990, 'sweater': 3957, 'spiritu': 3737, 'up': 4429, 'usp': 4473, 'shijutta': 3486, '09099726553': 234, 'carli': 1061, 'twigg': 4350, 'samachara': 3325, 'digniti': 1498, 'respect': 3204, 'westshor': 4683, 'pap': 2665, 'smear': 3623, 'panick': 2662, 'deltomorrow': 1436, 'those': 4140, 'intent': 2084, 'yell': 4925, 'overtim': 2631, 'yalru': 4908, 'lyfu': 2321, 'lyf': 2320, 'ovr': 2632, 'chikkuali': 1119, 'vargu': 4493, 'proper': 2988, 'tongu': 4245, 'daysso': 1385, 'visitne': 4544, '100psm': 244, '08712402902': 97, '09064012103': 195, 'petei': 2745, 'young': 4967, 'vs': 4567, 'welli': 4667, '07732584351': 25, 'rodger': 3259, 'visitor': 4545, 'sth': 3810, 'spec': 3718, 'membership': 2390, 'px3748': 3033, 'timey': 4182, 'yes910': 4935, 'wwwsmsacuhmmross': 4867, 'tellmiss': 4049, 'reformat': 3150, 'peteynoi': 2748, 'timehop': 4180, 'sian': 3531, 'witout': 4757, 'watll': 4626, 'wth': 4830, '4wrd': 423, 'dearlov': 1398, 'wthout': 4831, 'takecar': 3994, '100000': 241, 'wwwdbuknet': 4847, 'strtd': 3857, 'throwin': 4154, 'atlast': 822, 'skinni': 3585, 'toughest': 4274, 'unspoken': 4424, 'smokin': 3630, '08719181503': 146, 'chest': 1109, 'infect': 2068, '08712402779': 96, 'sppok': 3758, 'ralph': 3075, '01223585236': 5, '09061701444': 182, 'tomorrowtoday': 4237, 'poem': 2843, '07808': 33, 'xxxxxx': 4897, '08719899217': 149, 'creep': 1296, 'strain': 3840, 'dime': 1500, 'react': 3101, 'wewa': 4686, '130': 283, '128': 277, 'stoner': 3823, 'taught': 4017, 'prabu': 2900, 'poorli': 2865, '08715203685': 119, 'code4xx26': 1205, '131004': 284, 'windi': 4735, 'papa': 2666, 'winnersclub': 4739, 'prayer': 2910, 'dearrakhesh': 1400, 'dawn': 1379, 'refresh': 3151, 'pathaya': 2698, 'simpson': 3553, 'zoom': 4995, 'ssi': 3770, 'thinl': 4133, 'sachinjust': 3305, 'textin': 4077, 'american': 751, 'sumf': 3906, 'pink': 2785, 'classmat': 1166, 'posibl': 2876, 'cm': 1190, 'toledo': 4225, 'dip': 1510, 'rs5': 3282, 'perfum': 2729, 'svc': 3948, 'quizwin': 3050, 'cornwal': 1264, '008704050406': 2, 'watev': 4624, 'panren': 2663, 'paru': 2686, 'theoret': 4108, 'rupaul': 3298, 'sceneri': 3367, 'tocallshal': 4210, 'petey': 2747, 'wherear': 4699, 'thekingshead': 4102, 'swashbuckl': 3953, 'spacebuck': 3709, '100603': 243, '09066368753': 218, '97n7qp': 522, 'ditto': 1534, 'princegn': 2946, 'someday': 3664, 'plough': 2816, 'pile': 2781, 'chinki': 1135, 'httptm': 2010, 'widelivecomindex': 4719, 'wmlid820554ad0a1705572711firsttru': 4768, 'semi': 3418, 'shoppin': 3505, 'rob': 3255, 'sortedbut': 3697, 'digi': 1496, 'coupla': 1282, 'chennaii': 1105, 'usno': 4471, 'quiteamuz': 3048, 'scool': 3373, 'satthen': 3350, 'psxtra': 3002, 'portion': 2874, 'warwick': 4614, 'tmw': 4204, 'oyea': 2641, 'sorta': 3696, 'sonathaya': 3677, 'soladha': 3658, 'stabil': 3773, 'tranquil': 4289, 'vibrant': 4517, 'ucal': 4371, 'wrki': 4820, 'dabook': 1342, 'philosoph': 2757, 'prashanthettan': 2908, 'wellyou': 4669, 'thati': 4094, 'usget': 4467, 'timeyour': 4183, 'sensesrespect': 3426, 'overemphasiseor': 2629, '08701213186': 64, 'sunoco': 3917, 'howard': 2004, 'transfr': 4294, 'chuckin': 1151, 'trainner': 4288, 'swann': 3952, 'truekdo': 4318, 'cmon': 1192, 'sticki': 3812, 'dayha': 1383, 'valuemorn': 4491, 'restwish': 3213, 'todaygood': 4215, 'deari': 1396, 'upgrdcentr': 4435, 'screwd': 3385, 'ringtonefrom': 3242, 'wmlid1b6a5ecef91ff937819firsttrue180430jul05': 4767, 'tuth': 4343, 'scrappi': 3381, 'whore': 4714, 'poo': 2861, 'sdryb8i': 3390, 'sometm': 3671, 'sindu': 3556, 'ummmmmaah': 4384, 'dartboard': 1369, 'trebl': 4303, 'usher': 4468, 'proze': 2998, 'deepest': 1417, 'darkest': 1364, '09094646631': 228, 'thangam': 4083, 'prasad': 2906, '09064012160': 196, '09061743810': 188, 'www80488biz': 4838, '1120': 258, '1205': 271, 'donat': 1567, 'unicef': 4407, 'cocksuck': 1202, 'worthless': 4806, 'vega': 4502}\n"
     ]
    },
    {
     "data": {
      "text/plain": [
       "<1393x5000 sparse matrix of type '<class 'numpy.int64'>'\n",
       "\twith 12224 stored elements in Compressed Sparse Row format>"
      ]
     },
     "execution_count": 50,
     "metadata": {},
     "output_type": "execute_result"
    }
   ],
   "source": [
    "from sklearn.feature_extraction.text import CountVectorizer\n",
    "from sklearn import preprocessing\n",
    "cv = CountVectorizer(analyzer=clean_dataset, max_features=5000)\n",
    "\n",
    "X = cv.fit(X_train)\n",
    "print(X.vocabulary_)\n",
    "X_train_cv = cv.transform(X_train)\n",
    "\n",
    "\n",
    "X_test_cv  = cv.transform(X_test)\n",
    "\n",
    "X_train_cv\n",
    "X_test_cv\n",
    "\n",
    "#print(X.vocabulary_)\n",
    "#print(cv.get_feature_names())\n",
    "\n",
    "# encoding label ham =0 , spam = 1 thus binary encoding\n",
    "# label_encoder = preprocessing.LabelEncoder()\n",
    "# y = label_encoder.fit_transform(dataset['label'])\n",
    "# print(y[:10])\n",
    "\n",
    "# print(X.shape)"
   ]
  },
  {
   "cell_type": "code",
   "execution_count": null,
   "metadata": {},
   "outputs": [],
   "source": [
    "# usign just 10 row of our dataset"
   ]
  },
  {
   "cell_type": "code",
   "execution_count": null,
   "metadata": {},
   "outputs": [],
   "source": [
    "# mini_dataset = dataset[:10]"
   ]
  },
  {
   "cell_type": "code",
   "execution_count": null,
   "metadata": {},
   "outputs": [],
   "source": [
    "# cv2 = CountVectorizer(analyzer=clean_dataset)\n",
    "# X = cv2.fit_transform(mini_dataset['message'])\n",
    "# print(X.shape)"
   ]
  },
  {
   "cell_type": "code",
   "execution_count": null,
   "metadata": {},
   "outputs": [],
   "source": [
    "# dataframe = pd.DataFrame(X.toarray() , columns = cv2.get_feature_names())\n",
    "# dataframe.head()"
   ]
  },
  {
   "cell_type": "markdown",
   "metadata": {},
   "source": [
    "# Naive bayes Classification"
   ]
  },
  {
   "cell_type": "code",
   "execution_count": 52,
   "metadata": {},
   "outputs": [],
   "source": [
    "from sklearn import naive_bayes, metrics, svm"
   ]
  },
  {
   "cell_type": "code",
   "execution_count": 53,
   "metadata": {},
   "outputs": [],
   "source": [
    "mnb = naive_bayes.MultinomialNB(alpha=0.2)\n",
    "mnb.fit(X_train_cv , y_train)\n",
    "\n",
    "y_mnb = mnb.predict(X_test_cv)"
   ]
  },
  {
   "cell_type": "code",
   "execution_count": 54,
   "metadata": {},
   "outputs": [
    {
     "name": "stdout",
     "output_type": "stream",
     "text": [
      "Naive Bayes Accuracy 0.9813352476669059\n",
      "confustion matric  [[1193   13]\n",
      " [  13  174]]\n"
     ]
    }
   ],
   "source": [
    "print('Naive Bayes Accuracy', metrics.accuracy_score(y_mnb, y_test))\n",
    "print('confustion matric ', metrics.confusion_matrix(y_mnb, y_test))\n",
    "# print(metrics.classification_report(dataset['label'], dataset[]))"
   ]
  },
  {
   "cell_type": "markdown",
   "metadata": {},
   "source": [
    "# support vector machine"
   ]
  },
  {
   "cell_type": "code",
   "execution_count": 55,
   "metadata": {},
   "outputs": [
    {
     "name": "stdout",
     "output_type": "stream",
     "text": [
      "SVM accuracy 0.9167264895908112\n",
      "confusion matric [[1151   61]\n",
      " [  55  126]]\n",
      "              precision    recall  f1-score   support\n",
      "\n",
      "         ham       0.95      0.95      0.95      1206\n",
      "        spam       0.70      0.67      0.68       187\n",
      "\n",
      "    accuracy                           0.92      1393\n",
      "   macro avg       0.82      0.81      0.82      1393\n",
      "weighted avg       0.92      0.92      0.92      1393\n",
      "\n",
      "              precision    recall  f1-score   support\n",
      "\n",
      "         ham       0.95      0.95      0.95      1212\n",
      "        spam       0.67      0.70      0.68       181\n",
      "\n",
      "    accuracy                           0.92      1393\n",
      "   macro avg       0.81      0.82      0.82      1393\n",
      "weighted avg       0.92      0.92      0.92      1393\n",
      "\n"
     ]
    }
   ],
   "source": [
    "svc = svm.SVC(kernel='sigmoid', gamma=1.0)\n",
    "svc.fit(X_train_cv, y_train)\n",
    "\n",
    "y_svc_predict = svc.predict(X_test_cv)\n",
    "accuracy = metrics.accuracy_score(y_svc_predict, y_test)\n",
    "c_matrix = metrics.confusion_matrix(y_svc_predict, y_test, labels=['ham', 'spam'])\n",
    "print('SVM accuracy' , accuracy)\n",
    "print('confusion matric', c_matrix)\n",
    "print(metrics.classification_report(y_test, y_svc_predict, labels=['ham', 'spam']))\n",
    "print(metrics.classification_report(y_svc_predict, y_test, labels=['ham', 'spam']))"
   ]
  },
  {
   "cell_type": "markdown",
   "metadata": {},
   "source": [
    "# K nearest neighbors classification"
   ]
  },
  {
   "cell_type": "code",
   "execution_count": 57,
   "metadata": {},
   "outputs": [
    {
     "name": "stderr",
     "output_type": "stream",
     "text": [
      "C:\\Users\\orsaater\\Anaconda3\\lib\\site-packages\\sklearn\\neighbors\\base.py:908: DeprecationWarning: `np.int` is a deprecated alias for the builtin `int`. To silence this warning, use `int` by itself. Doing this will not modify any behavior and is safe. When replacing `np.int`, you may wish to use e.g. `np.int64` or `np.int32` to specify the precision. If you wish to review your current use, check the release note link for additional information.\n",
      "Deprecated in NumPy 1.20; for more details and guidance: https://numpy.org/devdocs/release/1.20.0-notes.html#deprecations\n",
      "  self._y = np.empty(y.shape, dtype=np.int)\n",
      "C:\\Users\\orsaater\\Anaconda3\\lib\\site-packages\\sklearn\\metrics\\pairwise.py:56: DeprecationWarning: `np.float` is a deprecated alias for the builtin `float`. To silence this warning, use `float` by itself. Doing this will not modify any behavior and is safe. If you specifically wanted the numpy scalar type, use `np.float64` here.\n",
      "Deprecated in NumPy 1.20; for more details and guidance: https://numpy.org/devdocs/release/1.20.0-notes.html#deprecations\n",
      "  dtype = np.float\n",
      "C:\\Users\\orsaater\\Anaconda3\\lib\\site-packages\\sklearn\\metrics\\pairwise.py:56: DeprecationWarning: `np.float` is a deprecated alias for the builtin `float`. To silence this warning, use `float` by itself. Doing this will not modify any behavior and is safe. If you specifically wanted the numpy scalar type, use `np.float64` here.\n",
      "Deprecated in NumPy 1.20; for more details and guidance: https://numpy.org/devdocs/release/1.20.0-notes.html#deprecations\n",
      "  dtype = np.float\n"
     ]
    },
    {
     "name": "stdout",
     "output_type": "stream",
     "text": [
      "k Nearest accuracy  0.8657573582196698\n",
      "confusion matrix  [[1206  187]\n",
      " [   0    0]]\n"
     ]
    }
   ],
   "source": [
    "from sklearn import tree\n",
    "from sklearn import neighbors\n",
    "from sklearn import linear_model\n",
    "\n",
    "knc = neighbors.KNeighborsClassifier(n_neighbors=200)\n",
    "knc.fit(X_train_cv, y_train)\n",
    "\n",
    "y_knc_predict = knc.predict(X_test_cv)\n",
    "accuracy = metrics.accuracy_score(y_knc_predict, y_test)\n",
    "matrix = metrics.confusion_matrix(y_knc_predict, y_test)\n",
    "print('k Nearest accuracy ', accuracy)\n",
    "print('confusion matrix ', matrix)"
   ]
  },
  {
   "cell_type": "markdown",
   "metadata": {},
   "source": [
    "# linear regression classifier"
   ]
  },
  {
   "cell_type": "code",
   "execution_count": 58,
   "metadata": {},
   "outputs": [
    {
     "name": "stderr",
     "output_type": "stream",
     "text": [
      "C:\\Users\\orsaater\\Anaconda3\\lib\\site-packages\\sklearn\\linear_model\\logistic.py:432: FutureWarning: Default solver will be changed to 'lbfgs' in 0.22. Specify a solver to silence this warning.\n",
      "  FutureWarning)\n",
      "C:\\Users\\orsaater\\Anaconda3\\lib\\site-packages\\sklearn\\metrics\\pairwise.py:56: DeprecationWarning: `np.float` is a deprecated alias for the builtin `float`. To silence this warning, use `float` by itself. Doing this will not modify any behavior and is safe. If you specifically wanted the numpy scalar type, use `np.float64` here.\n",
      "Deprecated in NumPy 1.20; for more details and guidance: https://numpy.org/devdocs/release/1.20.0-notes.html#deprecations\n",
      "  dtype = np.float\n",
      "C:\\Users\\orsaater\\Anaconda3\\lib\\site-packages\\sklearn\\metrics\\pairwise.py:56: DeprecationWarning: `np.float` is a deprecated alias for the builtin `float`. To silence this warning, use `float` by itself. Doing this will not modify any behavior and is safe. If you specifically wanted the numpy scalar type, use `np.float64` here.\n",
      "Deprecated in NumPy 1.20; for more details and guidance: https://numpy.org/devdocs/release/1.20.0-notes.html#deprecations\n",
      "  dtype = np.float\n"
     ]
    },
    {
     "name": "stdout",
     "output_type": "stream",
     "text": [
      "Logistic accuracy  0.8657573582196698\n",
      "Logistic confusion matrix  [[1206  187]\n",
      " [   0    0]]\n"
     ]
    }
   ],
   "source": [
    "from sklearn import tree\n",
    "from sklearn import neighbors\n",
    "from sklearn import linear_model\n",
    "\n",
    "lgc = linear_model.LogisticRegression()\n",
    "lgc.fit(X_train_cv, y_train)\n",
    "\n",
    "y_lgc_predict = knc.predict(X_test_cv)\n",
    "accuracy = metrics.accuracy_score(y_lgc_predict, y_test)\n",
    "matrix = metrics.confusion_matrix(y_lgc_predict, y_test)\n",
    "print('Logistic accuracy ', accuracy)\n",
    "print('Logistic confusion matrix ', matrix)"
   ]
  },
  {
   "cell_type": "code",
   "execution_count": null,
   "metadata": {},
   "outputs": [],
   "source": []
  }
 ],
 "metadata": {
  "kernelspec": {
   "display_name": "Python 3",
   "language": "python",
   "name": "python3"
  },
  "language_info": {
   "codemirror_mode": {
    "name": "ipython",
    "version": 3
   },
   "file_extension": ".py",
   "mimetype": "text/x-python",
   "name": "python",
   "nbconvert_exporter": "python",
   "pygments_lexer": "ipython3",
   "version": "3.7.4"
  }
 },
 "nbformat": 4,
 "nbformat_minor": 2
}
