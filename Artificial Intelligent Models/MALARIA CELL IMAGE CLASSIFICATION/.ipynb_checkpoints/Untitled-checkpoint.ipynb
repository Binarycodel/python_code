{
 "cells": [
  {
   "cell_type": "code",
   "execution_count": 1,
   "id": "ab6d9aaf",
   "metadata": {},
   "outputs": [],
   "source": [
    "# IMPORTING IMAGES......"
   ]
  },
  {
   "cell_type": "code",
   "execution_count": 4,
   "id": "afd31a7e",
   "metadata": {},
   "outputs": [],
   "source": [
    "import numpy as np\n",
    "import tensorflow as tf\n",
    "from tensorflow import keras\n",
    "import PIL\n",
    "import os\n",
    "import cv2\n",
    "import matplotlib.pyplot as plt\n",
    "import pathlib"
   ]
  },
  {
   "cell_type": "code",
   "execution_count": 8,
   "id": "4593b5ab",
   "metadata": {},
   "outputs": [
    {
     "data": {
      "text/plain": [
       "WindowsPath('cell_images')"
      ]
     },
     "execution_count": 8,
     "metadata": {},
     "output_type": "execute_result"
    }
   ],
   "source": [
    "cell_image_path = './/cell_images'\n",
    "\n",
    "window_path = pathlib.Path(cell_image_path)\n",
    "window_path"
   ]
  },
  {
   "cell_type": "code",
   "execution_count": 20,
   "id": "db29a37d",
   "metadata": {},
   "outputs": [
    {
     "name": "stdout",
     "output_type": "stream",
     "text": [
      "Lenght of image dataset ======>  27558\n",
      "Parasitized Cells ======>  13779\n",
      "Uninfected Ceslls =====> 13779\n"
     ]
    }
   ],
   "source": [
    "dataset_path = list(window_path.glob('*/*.png'))\n",
    "print ('Lenght of image dataset ======> ', len(dataset_path))\n",
    "\n",
    "# accesssing individual folders \n",
    "parasitize_folder = list(window_path.glob('Parasitized/*.png'))\n",
    "uninfected_folder = list(window_path.glob('Uninfected/*.png'))\n",
    "\n",
    "para_size = len(parasitize_folder)\n",
    "uninfec_size = len(uninfected_folder)\n",
    "\n",
    "print('Parasitized Cells ======> ', para_size)\n",
    "print ('Uninfected Ceslls =====>' , uninfec_size)"
   ]
  },
  {
   "cell_type": "code",
   "execution_count": null,
   "id": "52a0a634",
   "metadata": {},
   "outputs": [],
   "source": [
    "# VISUALIZING DATASET \n",
    "\n",
    "x_label = ['PARASITIZE CELL' , 'UN-AFFECTED CELL']\n",
    "y_count = [para_size , uninfec_size]\n",
    "\n",
    "plt.bar(x_label, y_count, color=['red', 'green'])"
   ]
  }
 ],
 "metadata": {
  "kernelspec": {
   "display_name": "Python 3 (ipykernel)",
   "language": "python",
   "name": "python3"
  },
  "language_info": {
   "codemirror_mode": {
    "name": "ipython",
    "version": 3
   },
   "file_extension": ".py",
   "mimetype": "text/x-python",
   "name": "python",
   "nbconvert_exporter": "python",
   "pygments_lexer": "ipython3",
   "version": "3.9.0"
  }
 },
 "nbformat": 4,
 "nbformat_minor": 5
}
