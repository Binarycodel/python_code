{
 "cells": [
  {
   "cell_type": "markdown",
   "metadata": {
    "id": "omkLCV8RPtka"
   },
   "source": [
    "# IMPORTING HVR DATASET"
   ]
  },
  {
   "cell_type": "code",
   "execution_count": null,
   "metadata": {
    "id": "xjyR3g8ovzaU"
   },
   "outputs": [],
   "source": [
    "import pandas as pd \n",
    "dataset = pd.read_csv('/content/drive/MyDrive/Colab Notebooks/DATASET/test.csv')"
   ]
  },
  {
   "cell_type": "markdown",
   "metadata": {
    "id": "duVFahftQDjt"
   },
   "source": [
    "# EXPLORATORY DATA ANALYSIS (EDA)"
   ]
  },
  {
   "cell_type": "code",
   "execution_count": null,
   "metadata": {
    "colab": {
     "base_uri": "https://localhost:8080/",
     "height": 540
    },
    "id": "ueOIeJzbwsSo",
    "outputId": "8e830459-7a45-4f91-c772-9291e7ff28be"
   },
   "outputs": [
    {
     "data": {
      "text/html": [
       "\n",
       "  <div id=\"df-ef93a22b-ddaa-462a-a9ed-a14748410707\">\n",
       "    <div class=\"colab-df-container\">\n",
       "      <div>\n",
       "<style scoped>\n",
       "    .dataframe tbody tr th:only-of-type {\n",
       "        vertical-align: middle;\n",
       "    }\n",
       "\n",
       "    .dataframe tbody tr th {\n",
       "        vertical-align: top;\n",
       "    }\n",
       "\n",
       "    .dataframe thead th {\n",
       "        text-align: right;\n",
       "    }\n",
       "</style>\n",
       "<table border=\"1\" class=\"dataframe\">\n",
       "  <thead>\n",
       "    <tr style=\"text-align: right;\">\n",
       "      <th></th>\n",
       "      <th>MEAN_RR</th>\n",
       "      <th>MEDIAN_RR</th>\n",
       "      <th>SDRR</th>\n",
       "      <th>RMSSD</th>\n",
       "      <th>SDSD</th>\n",
       "      <th>SDRR_RMSSD</th>\n",
       "      <th>HR</th>\n",
       "      <th>pNN25</th>\n",
       "      <th>pNN50</th>\n",
       "      <th>SD1</th>\n",
       "      <th>...</th>\n",
       "      <th>HF</th>\n",
       "      <th>HF_PCT</th>\n",
       "      <th>HF_NU</th>\n",
       "      <th>TP</th>\n",
       "      <th>LF_HF</th>\n",
       "      <th>HF_LF</th>\n",
       "      <th>sampen</th>\n",
       "      <th>higuci</th>\n",
       "      <th>datasetId</th>\n",
       "      <th>condition</th>\n",
       "    </tr>\n",
       "  </thead>\n",
       "  <tbody>\n",
       "    <tr>\n",
       "      <th>0</th>\n",
       "      <td>721.901897</td>\n",
       "      <td>727.267280</td>\n",
       "      <td>74.722315</td>\n",
       "      <td>12.361264</td>\n",
       "      <td>12.361069</td>\n",
       "      <td>6.044877</td>\n",
       "      <td>84.121868</td>\n",
       "      <td>4.933333</td>\n",
       "      <td>0.000000</td>\n",
       "      <td>8.743513</td>\n",
       "      <td>...</td>\n",
       "      <td>66.617057</td>\n",
       "      <td>3.921868</td>\n",
       "      <td>9.760289</td>\n",
       "      <td>1698.605390</td>\n",
       "      <td>9.245599</td>\n",
       "      <td>0.108160</td>\n",
       "      <td>2.097342</td>\n",
       "      <td>1.243696</td>\n",
       "      <td>2</td>\n",
       "      <td>no stress</td>\n",
       "    </tr>\n",
       "    <tr>\n",
       "      <th>1</th>\n",
       "      <td>843.538633</td>\n",
       "      <td>844.407930</td>\n",
       "      <td>58.499429</td>\n",
       "      <td>19.298880</td>\n",
       "      <td>19.298795</td>\n",
       "      <td>3.031234</td>\n",
       "      <td>71.478642</td>\n",
       "      <td>21.000000</td>\n",
       "      <td>0.200000</td>\n",
       "      <td>13.650863</td>\n",
       "      <td>...</td>\n",
       "      <td>26.500086</td>\n",
       "      <td>1.123416</td>\n",
       "      <td>1.663151</td>\n",
       "      <td>2358.884694</td>\n",
       "      <td>59.126832</td>\n",
       "      <td>0.016913</td>\n",
       "      <td>2.217275</td>\n",
       "      <td>1.250056</td>\n",
       "      <td>2</td>\n",
       "      <td>time pressure</td>\n",
       "    </tr>\n",
       "    <tr>\n",
       "      <th>2</th>\n",
       "      <td>958.523868</td>\n",
       "      <td>966.671125</td>\n",
       "      <td>132.849110</td>\n",
       "      <td>21.342715</td>\n",
       "      <td>21.342653</td>\n",
       "      <td>6.224565</td>\n",
       "      <td>63.874293</td>\n",
       "      <td>24.133333</td>\n",
       "      <td>1.800000</td>\n",
       "      <td>15.096571</td>\n",
       "      <td>...</td>\n",
       "      <td>16.024935</td>\n",
       "      <td>0.370208</td>\n",
       "      <td>0.766416</td>\n",
       "      <td>4328.633724</td>\n",
       "      <td>129.477524</td>\n",
       "      <td>0.007723</td>\n",
       "      <td>2.217136</td>\n",
       "      <td>1.144943</td>\n",
       "      <td>2</td>\n",
       "      <td>no stress</td>\n",
       "    </tr>\n",
       "    <tr>\n",
       "      <th>3</th>\n",
       "      <td>824.838669</td>\n",
       "      <td>842.485905</td>\n",
       "      <td>117.822094</td>\n",
       "      <td>11.771814</td>\n",
       "      <td>11.771248</td>\n",
       "      <td>10.008830</td>\n",
       "      <td>74.330531</td>\n",
       "      <td>4.733333</td>\n",
       "      <td>0.533333</td>\n",
       "      <td>8.326307</td>\n",
       "      <td>...</td>\n",
       "      <td>17.581470</td>\n",
       "      <td>0.615932</td>\n",
       "      <td>3.358652</td>\n",
       "      <td>2854.449091</td>\n",
       "      <td>28.773854</td>\n",
       "      <td>0.034754</td>\n",
       "      <td>2.106863</td>\n",
       "      <td>1.142355</td>\n",
       "      <td>2</td>\n",
       "      <td>no stress</td>\n",
       "    </tr>\n",
       "    <tr>\n",
       "      <th>4</th>\n",
       "      <td>756.707933</td>\n",
       "      <td>747.941620</td>\n",
       "      <td>143.968457</td>\n",
       "      <td>13.357748</td>\n",
       "      <td>13.356388</td>\n",
       "      <td>10.777899</td>\n",
       "      <td>82.092049</td>\n",
       "      <td>5.933333</td>\n",
       "      <td>0.666667</td>\n",
       "      <td>9.447545</td>\n",
       "      <td>...</td>\n",
       "      <td>35.199054</td>\n",
       "      <td>0.662879</td>\n",
       "      <td>6.292253</td>\n",
       "      <td>5310.027472</td>\n",
       "      <td>14.892559</td>\n",
       "      <td>0.067148</td>\n",
       "      <td>1.912191</td>\n",
       "      <td>1.128098</td>\n",
       "      <td>2</td>\n",
       "      <td>interruption</td>\n",
       "    </tr>\n",
       "    <tr>\n",
       "      <th>...</th>\n",
       "      <td>...</td>\n",
       "      <td>...</td>\n",
       "      <td>...</td>\n",
       "      <td>...</td>\n",
       "      <td>...</td>\n",
       "      <td>...</td>\n",
       "      <td>...</td>\n",
       "      <td>...</td>\n",
       "      <td>...</td>\n",
       "      <td>...</td>\n",
       "      <td>...</td>\n",
       "      <td>...</td>\n",
       "      <td>...</td>\n",
       "      <td>...</td>\n",
       "      <td>...</td>\n",
       "      <td>...</td>\n",
       "      <td>...</td>\n",
       "      <td>...</td>\n",
       "      <td>...</td>\n",
       "      <td>...</td>\n",
       "      <td>...</td>\n",
       "    </tr>\n",
       "    <tr>\n",
       "      <th>41028</th>\n",
       "      <td>1118.406543</td>\n",
       "      <td>1117.857050</td>\n",
       "      <td>113.955632</td>\n",
       "      <td>18.592177</td>\n",
       "      <td>18.592071</td>\n",
       "      <td>6.129225</td>\n",
       "      <td>54.234182</td>\n",
       "      <td>18.800000</td>\n",
       "      <td>0.266667</td>\n",
       "      <td>13.150967</td>\n",
       "      <td>...</td>\n",
       "      <td>0.347514</td>\n",
       "      <td>0.006813</td>\n",
       "      <td>0.035830</td>\n",
       "      <td>5100.718213</td>\n",
       "      <td>2789.962965</td>\n",
       "      <td>0.000358</td>\n",
       "      <td>2.183460</td>\n",
       "      <td>1.082927</td>\n",
       "      <td>2</td>\n",
       "      <td>time pressure</td>\n",
       "    </tr>\n",
       "    <tr>\n",
       "      <th>41029</th>\n",
       "      <td>855.991173</td>\n",
       "      <td>765.221410</td>\n",
       "      <td>296.763366</td>\n",
       "      <td>20.623727</td>\n",
       "      <td>20.610745</td>\n",
       "      <td>14.389415</td>\n",
       "      <td>76.416971</td>\n",
       "      <td>15.733333</td>\n",
       "      <td>3.533333</td>\n",
       "      <td>14.578861</td>\n",
       "      <td>...</td>\n",
       "      <td>118.014128</td>\n",
       "      <td>1.383097</td>\n",
       "      <td>8.622919</td>\n",
       "      <td>8532.599635</td>\n",
       "      <td>10.597001</td>\n",
       "      <td>0.094366</td>\n",
       "      <td>1.695327</td>\n",
       "      <td>1.154370</td>\n",
       "      <td>2</td>\n",
       "      <td>interruption</td>\n",
       "    </tr>\n",
       "    <tr>\n",
       "      <th>41030</th>\n",
       "      <td>689.388662</td>\n",
       "      <td>663.192770</td>\n",
       "      <td>133.815714</td>\n",
       "      <td>21.699038</td>\n",
       "      <td>21.696138</td>\n",
       "      <td>6.166896</td>\n",
       "      <td>90.254005</td>\n",
       "      <td>13.933333</td>\n",
       "      <td>4.000000</td>\n",
       "      <td>15.346606</td>\n",
       "      <td>...</td>\n",
       "      <td>216.200973</td>\n",
       "      <td>3.559302</td>\n",
       "      <td>10.160405</td>\n",
       "      <td>6074.251632</td>\n",
       "      <td>8.842128</td>\n",
       "      <td>0.113095</td>\n",
       "      <td>2.078000</td>\n",
       "      <td>1.214869</td>\n",
       "      <td>2</td>\n",
       "      <td>no stress</td>\n",
       "    </tr>\n",
       "    <tr>\n",
       "      <th>41031</th>\n",
       "      <td>761.421571</td>\n",
       "      <td>761.064590</td>\n",
       "      <td>60.792671</td>\n",
       "      <td>11.280586</td>\n",
       "      <td>11.280573</td>\n",
       "      <td>5.389141</td>\n",
       "      <td>79.313782</td>\n",
       "      <td>2.733333</td>\n",
       "      <td>0.266667</td>\n",
       "      <td>7.979232</td>\n",
       "      <td>...</td>\n",
       "      <td>41.797177</td>\n",
       "      <td>3.124367</td>\n",
       "      <td>6.905613</td>\n",
       "      <td>1337.780773</td>\n",
       "      <td>13.480973</td>\n",
       "      <td>0.074179</td>\n",
       "      <td>2.191379</td>\n",
       "      <td>1.234546</td>\n",
       "      <td>2</td>\n",
       "      <td>no stress</td>\n",
       "    </tr>\n",
       "    <tr>\n",
       "      <th>41032</th>\n",
       "      <td>868.040461</td>\n",
       "      <td>873.048735</td>\n",
       "      <td>61.301652</td>\n",
       "      <td>11.781442</td>\n",
       "      <td>11.781440</td>\n",
       "      <td>5.203239</td>\n",
       "      <td>69.484061</td>\n",
       "      <td>3.733333</td>\n",
       "      <td>0.000000</td>\n",
       "      <td>8.333516</td>\n",
       "      <td>...</td>\n",
       "      <td>9.748285</td>\n",
       "      <td>0.580832</td>\n",
       "      <td>1.408066</td>\n",
       "      <td>1678.332700</td>\n",
       "      <td>70.019404</td>\n",
       "      <td>0.014282</td>\n",
       "      <td>2.143131</td>\n",
       "      <td>1.142660</td>\n",
       "      <td>2</td>\n",
       "      <td>time pressure</td>\n",
       "    </tr>\n",
       "  </tbody>\n",
       "</table>\n",
       "<p>41033 rows × 36 columns</p>\n",
       "</div>\n",
       "      <button class=\"colab-df-convert\" onclick=\"convertToInteractive('df-ef93a22b-ddaa-462a-a9ed-a14748410707')\"\n",
       "              title=\"Convert this dataframe to an interactive table.\"\n",
       "              style=\"display:none;\">\n",
       "        \n",
       "  <svg xmlns=\"http://www.w3.org/2000/svg\" height=\"24px\"viewBox=\"0 0 24 24\"\n",
       "       width=\"24px\">\n",
       "    <path d=\"M0 0h24v24H0V0z\" fill=\"none\"/>\n",
       "    <path d=\"M18.56 5.44l.94 2.06.94-2.06 2.06-.94-2.06-.94-.94-2.06-.94 2.06-2.06.94zm-11 1L8.5 8.5l.94-2.06 2.06-.94-2.06-.94L8.5 2.5l-.94 2.06-2.06.94zm10 10l.94 2.06.94-2.06 2.06-.94-2.06-.94-.94-2.06-.94 2.06-2.06.94z\"/><path d=\"M17.41 7.96l-1.37-1.37c-.4-.4-.92-.59-1.43-.59-.52 0-1.04.2-1.43.59L10.3 9.45l-7.72 7.72c-.78.78-.78 2.05 0 2.83L4 21.41c.39.39.9.59 1.41.59.51 0 1.02-.2 1.41-.59l7.78-7.78 2.81-2.81c.8-.78.8-2.07 0-2.86zM5.41 20L4 18.59l7.72-7.72 1.47 1.35L5.41 20z\"/>\n",
       "  </svg>\n",
       "      </button>\n",
       "      \n",
       "  <style>\n",
       "    .colab-df-container {\n",
       "      display:flex;\n",
       "      flex-wrap:wrap;\n",
       "      gap: 12px;\n",
       "    }\n",
       "\n",
       "    .colab-df-convert {\n",
       "      background-color: #E8F0FE;\n",
       "      border: none;\n",
       "      border-radius: 50%;\n",
       "      cursor: pointer;\n",
       "      display: none;\n",
       "      fill: #1967D2;\n",
       "      height: 32px;\n",
       "      padding: 0 0 0 0;\n",
       "      width: 32px;\n",
       "    }\n",
       "\n",
       "    .colab-df-convert:hover {\n",
       "      background-color: #E2EBFA;\n",
       "      box-shadow: 0px 1px 2px rgba(60, 64, 67, 0.3), 0px 1px 3px 1px rgba(60, 64, 67, 0.15);\n",
       "      fill: #174EA6;\n",
       "    }\n",
       "\n",
       "    [theme=dark] .colab-df-convert {\n",
       "      background-color: #3B4455;\n",
       "      fill: #D2E3FC;\n",
       "    }\n",
       "\n",
       "    [theme=dark] .colab-df-convert:hover {\n",
       "      background-color: #434B5C;\n",
       "      box-shadow: 0px 1px 3px 1px rgba(0, 0, 0, 0.15);\n",
       "      filter: drop-shadow(0px 1px 2px rgba(0, 0, 0, 0.3));\n",
       "      fill: #FFFFFF;\n",
       "    }\n",
       "  </style>\n",
       "\n",
       "      <script>\n",
       "        const buttonEl =\n",
       "          document.querySelector('#df-ef93a22b-ddaa-462a-a9ed-a14748410707 button.colab-df-convert');\n",
       "        buttonEl.style.display =\n",
       "          google.colab.kernel.accessAllowed ? 'block' : 'none';\n",
       "\n",
       "        async function convertToInteractive(key) {\n",
       "          const element = document.querySelector('#df-ef93a22b-ddaa-462a-a9ed-a14748410707');\n",
       "          const dataTable =\n",
       "            await google.colab.kernel.invokeFunction('convertToInteractive',\n",
       "                                                     [key], {});\n",
       "          if (!dataTable) return;\n",
       "\n",
       "          const docLinkHtml = 'Like what you see? Visit the ' +\n",
       "            '<a target=\"_blank\" href=https://colab.research.google.com/notebooks/data_table.ipynb>data table notebook</a>'\n",
       "            + ' to learn more about interactive tables.';\n",
       "          element.innerHTML = '';\n",
       "          dataTable['output_type'] = 'display_data';\n",
       "          await google.colab.output.renderOutput(dataTable, element);\n",
       "          const docLink = document.createElement('div');\n",
       "          docLink.innerHTML = docLinkHtml;\n",
       "          element.appendChild(docLink);\n",
       "        }\n",
       "      </script>\n",
       "    </div>\n",
       "  </div>\n",
       "  "
      ],
      "text/plain": [
       "           MEAN_RR    MEDIAN_RR        SDRR      RMSSD       SDSD  SDRR_RMSSD  \\\n",
       "0       721.901897   727.267280   74.722315  12.361264  12.361069    6.044877   \n",
       "1       843.538633   844.407930   58.499429  19.298880  19.298795    3.031234   \n",
       "2       958.523868   966.671125  132.849110  21.342715  21.342653    6.224565   \n",
       "3       824.838669   842.485905  117.822094  11.771814  11.771248   10.008830   \n",
       "4       756.707933   747.941620  143.968457  13.357748  13.356388   10.777899   \n",
       "...            ...          ...         ...        ...        ...         ...   \n",
       "41028  1118.406543  1117.857050  113.955632  18.592177  18.592071    6.129225   \n",
       "41029   855.991173   765.221410  296.763366  20.623727  20.610745   14.389415   \n",
       "41030   689.388662   663.192770  133.815714  21.699038  21.696138    6.166896   \n",
       "41031   761.421571   761.064590   60.792671  11.280586  11.280573    5.389141   \n",
       "41032   868.040461   873.048735   61.301652  11.781442  11.781440    5.203239   \n",
       "\n",
       "              HR      pNN25     pNN50        SD1  ...          HF    HF_PCT  \\\n",
       "0      84.121868   4.933333  0.000000   8.743513  ...   66.617057  3.921868   \n",
       "1      71.478642  21.000000  0.200000  13.650863  ...   26.500086  1.123416   \n",
       "2      63.874293  24.133333  1.800000  15.096571  ...   16.024935  0.370208   \n",
       "3      74.330531   4.733333  0.533333   8.326307  ...   17.581470  0.615932   \n",
       "4      82.092049   5.933333  0.666667   9.447545  ...   35.199054  0.662879   \n",
       "...          ...        ...       ...        ...  ...         ...       ...   \n",
       "41028  54.234182  18.800000  0.266667  13.150967  ...    0.347514  0.006813   \n",
       "41029  76.416971  15.733333  3.533333  14.578861  ...  118.014128  1.383097   \n",
       "41030  90.254005  13.933333  4.000000  15.346606  ...  216.200973  3.559302   \n",
       "41031  79.313782   2.733333  0.266667   7.979232  ...   41.797177  3.124367   \n",
       "41032  69.484061   3.733333  0.000000   8.333516  ...    9.748285  0.580832   \n",
       "\n",
       "           HF_NU           TP        LF_HF     HF_LF    sampen    higuci  \\\n",
       "0       9.760289  1698.605390     9.245599  0.108160  2.097342  1.243696   \n",
       "1       1.663151  2358.884694    59.126832  0.016913  2.217275  1.250056   \n",
       "2       0.766416  4328.633724   129.477524  0.007723  2.217136  1.144943   \n",
       "3       3.358652  2854.449091    28.773854  0.034754  2.106863  1.142355   \n",
       "4       6.292253  5310.027472    14.892559  0.067148  1.912191  1.128098   \n",
       "...          ...          ...          ...       ...       ...       ...   \n",
       "41028   0.035830  5100.718213  2789.962965  0.000358  2.183460  1.082927   \n",
       "41029   8.622919  8532.599635    10.597001  0.094366  1.695327  1.154370   \n",
       "41030  10.160405  6074.251632     8.842128  0.113095  2.078000  1.214869   \n",
       "41031   6.905613  1337.780773    13.480973  0.074179  2.191379  1.234546   \n",
       "41032   1.408066  1678.332700    70.019404  0.014282  2.143131  1.142660   \n",
       "\n",
       "       datasetId      condition  \n",
       "0              2      no stress  \n",
       "1              2  time pressure  \n",
       "2              2      no stress  \n",
       "3              2      no stress  \n",
       "4              2   interruption  \n",
       "...          ...            ...  \n",
       "41028          2  time pressure  \n",
       "41029          2   interruption  \n",
       "41030          2      no stress  \n",
       "41031          2      no stress  \n",
       "41032          2  time pressure  \n",
       "\n",
       "[41033 rows x 36 columns]"
      ]
     },
     "execution_count": 3,
     "metadata": {},
     "output_type": "execute_result"
    }
   ],
   "source": [
    "dataset"
   ]
  },
  {
   "cell_type": "code",
   "execution_count": null,
   "metadata": {
    "colab": {
     "base_uri": "https://localhost:8080/"
    },
    "id": "S-tCSLITWS5Y",
    "outputId": "1a58ace1-c2b1-48e0-bbf8-bb2768d49775"
   },
   "outputs": [
    {
     "name": "stdout",
     "output_type": "stream",
     "text": [
      "Number of Datapoints :  41033\n",
      "Number of Features :  36\n"
     ]
    }
   ],
   "source": [
    "row , column = dataset.shape\n",
    "print('Number of Datapoints : ', row)\n",
    "print('Number of Features : ', column)"
   ]
  },
  {
   "cell_type": "code",
   "execution_count": null,
   "metadata": {
    "colab": {
     "base_uri": "https://localhost:8080/"
    },
    "id": "j0KU_YvZWp4P",
    "outputId": "cb34e8a3-2a88-4dca-dc9e-a29dd14860e1"
   },
   "outputs": [
    {
     "data": {
      "text/plain": [
       "Index(['MEAN_RR', 'MEDIAN_RR', 'SDRR', 'RMSSD', 'SDSD', 'SDRR_RMSSD', 'HR',\n",
       "       'pNN25', 'pNN50', 'SD1', 'SD2', 'KURT', 'SKEW', 'MEAN_REL_RR',\n",
       "       'MEDIAN_REL_RR', 'SDRR_REL_RR', 'RMSSD_REL_RR', 'SDSD_REL_RR',\n",
       "       'SDRR_RMSSD_REL_RR', 'KURT_REL_RR', 'SKEW_REL_RR', 'VLF', 'VLF_PCT',\n",
       "       'LF', 'LF_PCT', 'LF_NU', 'HF', 'HF_PCT', 'HF_NU', 'TP', 'LF_HF',\n",
       "       'HF_LF', 'sampen', 'higuci', 'datasetId', 'condition'],\n",
       "      dtype='object')"
      ]
     },
     "execution_count": 10,
     "metadata": {},
     "output_type": "execute_result"
    }
   ],
   "source": [
    "dataset.columns"
   ]
  },
  {
   "cell_type": "code",
   "execution_count": null,
   "metadata": {
    "colab": {
     "base_uri": "https://localhost:8080/"
    },
    "id": "do4q8EqQW9Cl",
    "outputId": "1a780f02-8c3d-41b6-faea-ec022e1eef1a"
   },
   "outputs": [
    {
     "name": "stdout",
     "output_type": "stream",
     "text": [
      "<class 'pandas.core.frame.DataFrame'>\n",
      "RangeIndex: 41033 entries, 0 to 41032\n",
      "Data columns (total 36 columns):\n",
      " #   Column             Non-Null Count  Dtype  \n",
      "---  ------             --------------  -----  \n",
      " 0   MEAN_RR            41033 non-null  float64\n",
      " 1   MEDIAN_RR          41033 non-null  float64\n",
      " 2   SDRR               41033 non-null  float64\n",
      " 3   RMSSD              41033 non-null  float64\n",
      " 4   SDSD               41033 non-null  float64\n",
      " 5   SDRR_RMSSD         41033 non-null  float64\n",
      " 6   HR                 41033 non-null  float64\n",
      " 7   pNN25              41033 non-null  float64\n",
      " 8   pNN50              41033 non-null  float64\n",
      " 9   SD1                41033 non-null  float64\n",
      " 10  SD2                41033 non-null  float64\n",
      " 11  KURT               41033 non-null  float64\n",
      " 12  SKEW               41033 non-null  float64\n",
      " 13  MEAN_REL_RR        41033 non-null  float64\n",
      " 14  MEDIAN_REL_RR      41033 non-null  float64\n",
      " 15  SDRR_REL_RR        41033 non-null  float64\n",
      " 16  RMSSD_REL_RR       41033 non-null  float64\n",
      " 17  SDSD_REL_RR        41033 non-null  float64\n",
      " 18  SDRR_RMSSD_REL_RR  41033 non-null  float64\n",
      " 19  KURT_REL_RR        41033 non-null  float64\n",
      " 20  SKEW_REL_RR        41033 non-null  float64\n",
      " 21  VLF                41033 non-null  float64\n",
      " 22  VLF_PCT            41033 non-null  float64\n",
      " 23  LF                 41033 non-null  float64\n",
      " 24  LF_PCT             41033 non-null  float64\n",
      " 25  LF_NU              41033 non-null  float64\n",
      " 26  HF                 41033 non-null  float64\n",
      " 27  HF_PCT             41033 non-null  float64\n",
      " 28  HF_NU              41033 non-null  float64\n",
      " 29  TP                 41033 non-null  float64\n",
      " 30  LF_HF              41033 non-null  float64\n",
      " 31  HF_LF              41033 non-null  float64\n",
      " 32  sampen             41033 non-null  float64\n",
      " 33  higuci             41033 non-null  float64\n",
      " 34  datasetId          41033 non-null  int64  \n",
      " 35  condition          41033 non-null  object \n",
      "dtypes: float64(34), int64(1), object(1)\n",
      "memory usage: 11.3+ MB\n"
     ]
    }
   ],
   "source": [
    "dataset.info()"
   ]
  },
  {
   "cell_type": "code",
   "execution_count": null,
   "metadata": {
    "colab": {
     "base_uri": "https://localhost:8080/"
    },
    "id": "HbowajXRW8wN",
    "outputId": "6bd4f979-1dca-474b-b214-d3dfc3e81a06"
   },
   "outputs": [
    {
     "data": {
      "text/plain": [
       "array(['no stress', 'time pressure', 'interruption'], dtype=object)"
      ]
     },
     "execution_count": 25,
     "metadata": {},
     "output_type": "execute_result"
    }
   ],
   "source": [
    "x_bar_data = dataset.condition.unique()\n",
    "x_bar_data"
   ]
  },
  {
   "cell_type": "code",
   "execution_count": null,
   "metadata": {
    "id": "32VuqL4CQW3z"
   },
   "outputs": [],
   "source": [
    "no_stress = len(dataset[dataset['condition'] =='no stress'])\n",
    "time_pressure = len(dataset[dataset['condition'] =='time pressure'])\n",
    "interruption = len(dataset[dataset['condition'] =='interruption'])\n",
    "y_bar_data = [no_stress, time_pressure, interruption]"
   ]
  },
  {
   "cell_type": "markdown",
   "metadata": {
    "id": "GcplpHmdZH51"
   },
   "source": [
    "# Data Visualization"
   ]
  },
  {
   "cell_type": "code",
   "execution_count": null,
   "metadata": {
    "colab": {
     "base_uri": "https://localhost:8080/",
     "height": 295
    },
    "id": "X0tGWxxVQWyZ",
    "outputId": "b1b8f797-d817-452d-d6e4-34bdc5e2f103"
   },
   "outputs": [
    {
     "data": {
      "image/png": "[encoded data removed]",
      "text/plain": [
       "<Figure size 432x288 with 1 Axes>"
      ]
     },
     "metadata": {
      "needs_background": "light"
     },
     "output_type": "display_data"
    }
   ],
   "source": [
    "import matplotlib.pyplot as plt\n",
    "\n",
    "plt.xlabel('Prediction Class')\n",
    "plt.ylabel('Class Data Point')\n",
    "plt.title('Stress Class')\n",
    "plt.bar(x_bar_data, y_bar_data, color=['red', 'green', 'brown'])\n",
    "plt.show()"
   ]
  },
  {
   "cell_type": "code",
   "execution_count": null,
   "metadata": {
    "id": "0goUSYOHQWsT"
   },
   "outputs": [],
   "source": []
  },
  {
   "cell_type": "markdown",
   "metadata": {
    "id": "Q99m2vU6cXpt"
   },
   "source": [
    "# DATA PREPROCESSING"
   ]
  },
  {
   "cell_type": "code",
   "execution_count": null,
   "metadata": {
    "id": "IiNgX3KsxeHv"
   },
   "outputs": [],
   "source": [
    "from sklearn.preprocessing import MinMaxScaler\n",
    "from sklearn.preprocessing import LabelEncoder"
   ]
  },
  {
   "cell_type": "code",
   "execution_count": null,
   "metadata": {
    "colab": {
     "base_uri": "https://localhost:8080/"
    },
    "id": "WxqojPGPxePz",
    "outputId": "8f53f2ff-20b3-4546-ec59-9c52b224dfb9"
   },
   "outputs": [
    {
     "data": {
      "text/plain": [
       "0        1\n",
       "1        2\n",
       "2        1\n",
       "3        1\n",
       "4        0\n",
       "        ..\n",
       "41028    2\n",
       "41029    0\n",
       "41030    1\n",
       "41031    1\n",
       "41032    2\n",
       "Name: condition, Length: 41033, dtype: int64"
      ]
     },
     "execution_count": 29,
     "metadata": {},
     "output_type": "execute_result"
    }
   ],
   "source": [
    "lb = LabelEncoder()\n",
    "dataset['condition'] = lb.fit_transform(dataset['condition'])\n",
    "dataset.condition"
   ]
  },
  {
   "cell_type": "code",
   "execution_count": null,
   "metadata": {
    "id": "Ql6Y4_wdxoEJ"
   },
   "outputs": [],
   "source": [
    "y = dataset['condition']\n",
    "dataset = dataset.drop(['condition', 'datasetId'], axis=1)"
   ]
  },
  {
   "cell_type": "code",
   "execution_count": null,
   "metadata": {
    "colab": {
     "base_uri": "https://localhost:8080/",
     "height": 237
    },
    "id": "6KhamIh_xoOn",
    "outputId": "34cf1545-1e88-4d4a-d106-6bdab4971049"
   },
   "outputs": [
    {
     "data": {
      "text/html": [
       "\n",
       "  <div id=\"df-80c90898-f460-4a98-a392-43470d7b2c1e\">\n",
       "    <div class=\"colab-df-container\">\n",
       "      <div>\n",
       "<style scoped>\n",
       "    .dataframe tbody tr th:only-of-type {\n",
       "        vertical-align: middle;\n",
       "    }\n",
       "\n",
       "    .dataframe tbody tr th {\n",
       "        vertical-align: top;\n",
       "    }\n",
       "\n",
       "    .dataframe thead th {\n",
       "        text-align: right;\n",
       "    }\n",
       "</style>\n",
       "<table border=\"1\" class=\"dataframe\">\n",
       "  <thead>\n",
       "    <tr style=\"text-align: right;\">\n",
       "      <th></th>\n",
       "      <th>MEAN_RR</th>\n",
       "      <th>MEDIAN_RR</th>\n",
       "      <th>SDRR</th>\n",
       "      <th>RMSSD</th>\n",
       "      <th>SDSD</th>\n",
       "      <th>SDRR_RMSSD</th>\n",
       "      <th>HR</th>\n",
       "      <th>pNN25</th>\n",
       "      <th>pNN50</th>\n",
       "      <th>SD1</th>\n",
       "      <th>...</th>\n",
       "      <th>LF_PCT</th>\n",
       "      <th>LF_NU</th>\n",
       "      <th>HF</th>\n",
       "      <th>HF_PCT</th>\n",
       "      <th>HF_NU</th>\n",
       "      <th>TP</th>\n",
       "      <th>LF_HF</th>\n",
       "      <th>HF_LF</th>\n",
       "      <th>sampen</th>\n",
       "      <th>higuci</th>\n",
       "    </tr>\n",
       "  </thead>\n",
       "  <tbody>\n",
       "    <tr>\n",
       "      <th>0</th>\n",
       "      <td>721.901897</td>\n",
       "      <td>727.267280</td>\n",
       "      <td>74.722315</td>\n",
       "      <td>12.361264</td>\n",
       "      <td>12.361069</td>\n",
       "      <td>6.044877</td>\n",
       "      <td>84.121868</td>\n",
       "      <td>4.933333</td>\n",
       "      <td>0.0</td>\n",
       "      <td>8.743513</td>\n",
       "      <td>...</td>\n",
       "      <td>36.260015</td>\n",
       "      <td>90.239711</td>\n",
       "      <td>66.617057</td>\n",
       "      <td>3.921868</td>\n",
       "      <td>9.760289</td>\n",
       "      <td>1698.605390</td>\n",
       "      <td>9.245599</td>\n",
       "      <td>0.108160</td>\n",
       "      <td>2.097342</td>\n",
       "      <td>1.243696</td>\n",
       "    </tr>\n",
       "    <tr>\n",
       "      <th>1</th>\n",
       "      <td>843.538633</td>\n",
       "      <td>844.407930</td>\n",
       "      <td>58.499429</td>\n",
       "      <td>19.298880</td>\n",
       "      <td>19.298795</td>\n",
       "      <td>3.031234</td>\n",
       "      <td>71.478642</td>\n",
       "      <td>21.000000</td>\n",
       "      <td>0.2</td>\n",
       "      <td>13.650863</td>\n",
       "      <td>...</td>\n",
       "      <td>66.424024</td>\n",
       "      <td>98.336849</td>\n",
       "      <td>26.500086</td>\n",
       "      <td>1.123416</td>\n",
       "      <td>1.663151</td>\n",
       "      <td>2358.884694</td>\n",
       "      <td>59.126832</td>\n",
       "      <td>0.016913</td>\n",
       "      <td>2.217275</td>\n",
       "      <td>1.250056</td>\n",
       "    </tr>\n",
       "    <tr>\n",
       "      <th>2</th>\n",
       "      <td>958.523868</td>\n",
       "      <td>966.671125</td>\n",
       "      <td>132.849110</td>\n",
       "      <td>21.342715</td>\n",
       "      <td>21.342653</td>\n",
       "      <td>6.224565</td>\n",
       "      <td>63.874293</td>\n",
       "      <td>24.133333</td>\n",
       "      <td>1.8</td>\n",
       "      <td>15.096571</td>\n",
       "      <td>...</td>\n",
       "      <td>47.933575</td>\n",
       "      <td>99.233584</td>\n",
       "      <td>16.024935</td>\n",
       "      <td>0.370208</td>\n",
       "      <td>0.766416</td>\n",
       "      <td>4328.633724</td>\n",
       "      <td>129.477524</td>\n",
       "      <td>0.007723</td>\n",
       "      <td>2.217136</td>\n",
       "      <td>1.144943</td>\n",
       "    </tr>\n",
       "  </tbody>\n",
       "</table>\n",
       "<p>3 rows × 34 columns</p>\n",
       "</div>\n",
       "      <button class=\"colab-df-convert\" onclick=\"convertToInteractive('df-80c90898-f460-4a98-a392-43470d7b2c1e')\"\n",
       "              title=\"Convert this dataframe to an interactive table.\"\n",
       "              style=\"display:none;\">\n",
       "        \n",
       "  <svg xmlns=\"http://www.w3.org/2000/svg\" height=\"24px\"viewBox=\"0 0 24 24\"\n",
       "       width=\"24px\">\n",
       "    <path d=\"M0 0h24v24H0V0z\" fill=\"none\"/>\n",
       "    <path d=\"M18.56 5.44l.94 2.06.94-2.06 2.06-.94-2.06-.94-.94-2.06-.94 2.06-2.06.94zm-11 1L8.5 8.5l.94-2.06 2.06-.94-2.06-.94L8.5 2.5l-.94 2.06-2.06.94zm10 10l.94 2.06.94-2.06 2.06-.94-2.06-.94-.94-2.06-.94 2.06-2.06.94z\"/><path d=\"M17.41 7.96l-1.37-1.37c-.4-.4-.92-.59-1.43-.59-.52 0-1.04.2-1.43.59L10.3 9.45l-7.72 7.72c-.78.78-.78 2.05 0 2.83L4 21.41c.39.39.9.59 1.41.59.51 0 1.02-.2 1.41-.59l7.78-7.78 2.81-2.81c.8-.78.8-2.07 0-2.86zM5.41 20L4 18.59l7.72-7.72 1.47 1.35L5.41 20z\"/>\n",
       "  </svg>\n",
       "      </button>\n",
       "      \n",
       "  <style>\n",
       "    .colab-df-container {\n",
       "      display:flex;\n",
       "      flex-wrap:wrap;\n",
       "      gap: 12px;\n",
       "    }\n",
       "\n",
       "    .colab-df-convert {\n",
       "      background-color: #E8F0FE;\n",
       "      border: none;\n",
       "      border-radius: 50%;\n",
       "      cursor: pointer;\n",
       "      display: none;\n",
       "      fill: #1967D2;\n",
       "      height: 32px;\n",
       "      padding: 0 0 0 0;\n",
       "      width: 32px;\n",
       "    }\n",
       "\n",
       "    .colab-df-convert:hover {\n",
       "      background-color: #E2EBFA;\n",
       "      box-shadow: 0px 1px 2px rgba(60, 64, 67, 0.3), 0px 1px 3px 1px rgba(60, 64, 67, 0.15);\n",
       "      fill: #174EA6;\n",
       "    }\n",
       "\n",
       "    [theme=dark] .colab-df-convert {\n",
       "      background-color: #3B4455;\n",
       "      fill: #D2E3FC;\n",
       "    }\n",
       "\n",
       "    [theme=dark] .colab-df-convert:hover {\n",
       "      background-color: #434B5C;\n",
       "      box-shadow: 0px 1px 3px 1px rgba(0, 0, 0, 0.15);\n",
       "      filter: drop-shadow(0px 1px 2px rgba(0, 0, 0, 0.3));\n",
       "      fill: #FFFFFF;\n",
       "    }\n",
       "  </style>\n",
       "\n",
       "      <script>\n",
       "        const buttonEl =\n",
       "          document.querySelector('#df-80c90898-f460-4a98-a392-43470d7b2c1e button.colab-df-convert');\n",
       "        buttonEl.style.display =\n",
       "          google.colab.kernel.accessAllowed ? 'block' : 'none';\n",
       "\n",
       "        async function convertToInteractive(key) {\n",
       "          const element = document.querySelector('#df-80c90898-f460-4a98-a392-43470d7b2c1e');\n",
       "          const dataTable =\n",
       "            await google.colab.kernel.invokeFunction('convertToInteractive',\n",
       "                                                     [key], {});\n",
       "          if (!dataTable) return;\n",
       "\n",
       "          const docLinkHtml = 'Like what you see? Visit the ' +\n",
       "            '<a target=\"_blank\" href=https://colab.research.google.com/notebooks/data_table.ipynb>data table notebook</a>'\n",
       "            + ' to learn more about interactive tables.';\n",
       "          element.innerHTML = '';\n",
       "          dataTable['output_type'] = 'display_data';\n",
       "          await google.colab.output.renderOutput(dataTable, element);\n",
       "          const docLink = document.createElement('div');\n",
       "          docLink.innerHTML = docLinkHtml;\n",
       "          element.appendChild(docLink);\n",
       "        }\n",
       "      </script>\n",
       "    </div>\n",
       "  </div>\n",
       "  "
      ],
      "text/plain": [
       "      MEAN_RR   MEDIAN_RR        SDRR      RMSSD       SDSD  SDRR_RMSSD  \\\n",
       "0  721.901897  727.267280   74.722315  12.361264  12.361069    6.044877   \n",
       "1  843.538633  844.407930   58.499429  19.298880  19.298795    3.031234   \n",
       "2  958.523868  966.671125  132.849110  21.342715  21.342653    6.224565   \n",
       "\n",
       "          HR      pNN25  pNN50        SD1  ...     LF_PCT      LF_NU  \\\n",
       "0  84.121868   4.933333    0.0   8.743513  ...  36.260015  90.239711   \n",
       "1  71.478642  21.000000    0.2  13.650863  ...  66.424024  98.336849   \n",
       "2  63.874293  24.133333    1.8  15.096571  ...  47.933575  99.233584   \n",
       "\n",
       "          HF    HF_PCT     HF_NU           TP       LF_HF     HF_LF    sampen  \\\n",
       "0  66.617057  3.921868  9.760289  1698.605390    9.245599  0.108160  2.097342   \n",
       "1  26.500086  1.123416  1.663151  2358.884694   59.126832  0.016913  2.217275   \n",
       "2  16.024935  0.370208  0.766416  4328.633724  129.477524  0.007723  2.217136   \n",
       "\n",
       "     higuci  \n",
       "0  1.243696  \n",
       "1  1.250056  \n",
       "2  1.144943  \n",
       "\n",
       "[3 rows x 34 columns]"
      ]
     },
     "execution_count": 31,
     "metadata": {},
     "output_type": "execute_result"
    }
   ],
   "source": [
    "dataset.head(3)"
   ]
  },
  {
   "cell_type": "code",
   "execution_count": null,
   "metadata": {
    "id": "ebvLd5J-y5yJ"
   },
   "outputs": [],
   "source": [
    "# dataset.info()"
   ]
  },
  {
   "cell_type": "code",
   "execution_count": null,
   "metadata": {
    "id": "XknYXBTQzBzW"
   },
   "outputs": [],
   "source": [
    "# dataset.fillna(method=\"ffill\", inplace=True)"
   ]
  },
  {
   "cell_type": "markdown",
   "metadata": {
    "id": "Jyg8bCmPdVhz"
   },
   "source": [
    "Data Standadization"
   ]
  },
  {
   "cell_type": "code",
   "execution_count": null,
   "metadata": {
    "colab": {
     "base_uri": "https://localhost:8080/",
     "height": 299
    },
    "id": "c_nJj7bcxoRb",
    "outputId": "97346067-d590-450e-f6e9-3e32e191fc4e"
   },
   "outputs": [
    {
     "data": {
      "text/html": [
       "\n",
       "  <div id=\"df-95a36248-7ee0-416a-b2cd-b0034efed4be\">\n",
       "    <div class=\"colab-df-container\">\n",
       "      <div>\n",
       "<style scoped>\n",
       "    .dataframe tbody tr th:only-of-type {\n",
       "        vertical-align: middle;\n",
       "    }\n",
       "\n",
       "    .dataframe tbody tr th {\n",
       "        vertical-align: top;\n",
       "    }\n",
       "\n",
       "    .dataframe thead th {\n",
       "        text-align: right;\n",
       "    }\n",
       "</style>\n",
       "<table border=\"1\" class=\"dataframe\">\n",
       "  <thead>\n",
       "    <tr style=\"text-align: right;\">\n",
       "      <th></th>\n",
       "      <th>MEAN_RR</th>\n",
       "      <th>MEDIAN_RR</th>\n",
       "      <th>SDRR</th>\n",
       "      <th>RMSSD</th>\n",
       "      <th>SDSD</th>\n",
       "      <th>SDRR_RMSSD</th>\n",
       "      <th>HR</th>\n",
       "      <th>pNN25</th>\n",
       "      <th>pNN50</th>\n",
       "      <th>SD1</th>\n",
       "      <th>...</th>\n",
       "      <th>LF_PCT</th>\n",
       "      <th>LF_NU</th>\n",
       "      <th>HF</th>\n",
       "      <th>HF_PCT</th>\n",
       "      <th>HF_NU</th>\n",
       "      <th>TP</th>\n",
       "      <th>LF_HF</th>\n",
       "      <th>HF_LF</th>\n",
       "      <th>sampen</th>\n",
       "      <th>higuci</th>\n",
       "    </tr>\n",
       "  </thead>\n",
       "  <tbody>\n",
       "    <tr>\n",
       "      <th>0</th>\n",
       "      <td>0.225313</td>\n",
       "      <td>0.184864</td>\n",
       "      <td>0.088443</td>\n",
       "      <td>0.324583</td>\n",
       "      <td>0.324578</td>\n",
       "      <td>0.065286</td>\n",
       "      <td>0.544238</td>\n",
       "      <td>0.125212</td>\n",
       "      <td>0.000000</td>\n",
       "      <td>0.324578</td>\n",
       "      <td>...</td>\n",
       "      <td>0.452452</td>\n",
       "      <td>0.667378</td>\n",
       "      <td>0.184455</td>\n",
       "      <td>0.299541</td>\n",
       "      <td>0.332622</td>\n",
       "      <td>0.102595</td>\n",
       "      <td>0.000887</td>\n",
       "      <td>0.260535</td>\n",
       "      <td>0.923679</td>\n",
       "      <td>0.641622</td>\n",
       "    </tr>\n",
       "    <tr>\n",
       "      <th>1</th>\n",
       "      <td>0.382444</td>\n",
       "      <td>0.287996</td>\n",
       "      <td>0.058163</td>\n",
       "      <td>0.654295</td>\n",
       "      <td>0.654295</td>\n",
       "      <td>0.007079</td>\n",
       "      <td>0.349779</td>\n",
       "      <td>0.532995</td>\n",
       "      <td>0.037037</td>\n",
       "      <td>0.654295</td>\n",
       "      <td>...</td>\n",
       "      <td>0.852726</td>\n",
       "      <td>0.943688</td>\n",
       "      <td>0.073271</td>\n",
       "      <td>0.085683</td>\n",
       "      <td>0.056312</td>\n",
       "      <td>0.153893</td>\n",
       "      <td>0.007360</td>\n",
       "      <td>0.040476</td>\n",
       "      <td>0.990346</td>\n",
       "      <td>0.661122</td>\n",
       "    </tr>\n",
       "    <tr>\n",
       "      <th>2</th>\n",
       "      <td>0.530982</td>\n",
       "      <td>0.395639</td>\n",
       "      <td>0.196938</td>\n",
       "      <td>0.751429</td>\n",
       "      <td>0.751430</td>\n",
       "      <td>0.068757</td>\n",
       "      <td>0.232820</td>\n",
       "      <td>0.612521</td>\n",
       "      <td>0.333333</td>\n",
       "      <td>0.751430</td>\n",
       "      <td>...</td>\n",
       "      <td>0.607359</td>\n",
       "      <td>0.974289</td>\n",
       "      <td>0.044239</td>\n",
       "      <td>0.028122</td>\n",
       "      <td>0.025711</td>\n",
       "      <td>0.306926</td>\n",
       "      <td>0.016489</td>\n",
       "      <td>0.018314</td>\n",
       "      <td>0.990269</td>\n",
       "      <td>0.338852</td>\n",
       "    </tr>\n",
       "    <tr>\n",
       "      <th>3</th>\n",
       "      <td>0.358287</td>\n",
       "      <td>0.286304</td>\n",
       "      <td>0.168890</td>\n",
       "      <td>0.296569</td>\n",
       "      <td>0.296546</td>\n",
       "      <td>0.141849</td>\n",
       "      <td>0.393642</td>\n",
       "      <td>0.120135</td>\n",
       "      <td>0.098765</td>\n",
       "      <td>0.296546</td>\n",
       "      <td>...</td>\n",
       "      <td>0.206464</td>\n",
       "      <td>0.885830</td>\n",
       "      <td>0.048553</td>\n",
       "      <td>0.046901</td>\n",
       "      <td>0.114170</td>\n",
       "      <td>0.192394</td>\n",
       "      <td>0.003421</td>\n",
       "      <td>0.083503</td>\n",
       "      <td>0.928972</td>\n",
       "      <td>0.330919</td>\n",
       "    </tr>\n",
       "    <tr>\n",
       "      <th>4</th>\n",
       "      <td>0.270276</td>\n",
       "      <td>0.203066</td>\n",
       "      <td>0.217693</td>\n",
       "      <td>0.371941</td>\n",
       "      <td>0.371880</td>\n",
       "      <td>0.156703</td>\n",
       "      <td>0.513019</td>\n",
       "      <td>0.150592</td>\n",
       "      <td>0.123457</td>\n",
       "      <td>0.371880</td>\n",
       "      <td>...</td>\n",
       "      <td>0.102285</td>\n",
       "      <td>0.785723</td>\n",
       "      <td>0.097380</td>\n",
       "      <td>0.050488</td>\n",
       "      <td>0.214277</td>\n",
       "      <td>0.383171</td>\n",
       "      <td>0.001620</td>\n",
       "      <td>0.161627</td>\n",
       "      <td>0.820759</td>\n",
       "      <td>0.287209</td>\n",
       "    </tr>\n",
       "  </tbody>\n",
       "</table>\n",
       "<p>5 rows × 34 columns</p>\n",
       "</div>\n",
       "      <button class=\"colab-df-convert\" onclick=\"convertToInteractive('df-95a36248-7ee0-416a-b2cd-b0034efed4be')\"\n",
       "              title=\"Convert this dataframe to an interactive table.\"\n",
       "              style=\"display:none;\">\n",
       "        \n",
       "  <svg xmlns=\"http://www.w3.org/2000/svg\" height=\"24px\"viewBox=\"0 0 24 24\"\n",
       "       width=\"24px\">\n",
       "    <path d=\"M0 0h24v24H0V0z\" fill=\"none\"/>\n",
       "    <path d=\"M18.56 5.44l.94 2.06.94-2.06 2.06-.94-2.06-.94-.94-2.06-.94 2.06-2.06.94zm-11 1L8.5 8.5l.94-2.06 2.06-.94-2.06-.94L8.5 2.5l-.94 2.06-2.06.94zm10 10l.94 2.06.94-2.06 2.06-.94-2.06-.94-.94-2.06-.94 2.06-2.06.94z\"/><path d=\"M17.41 7.96l-1.37-1.37c-.4-.4-.92-.59-1.43-.59-.52 0-1.04.2-1.43.59L10.3 9.45l-7.72 7.72c-.78.78-.78 2.05 0 2.83L4 21.41c.39.39.9.59 1.41.59.51 0 1.02-.2 1.41-.59l7.78-7.78 2.81-2.81c.8-.78.8-2.07 0-2.86zM5.41 20L4 18.59l7.72-7.72 1.47 1.35L5.41 20z\"/>\n",
       "  </svg>\n",
       "      </button>\n",
       "      \n",
       "  <style>\n",
       "    .colab-df-container {\n",
       "      display:flex;\n",
       "      flex-wrap:wrap;\n",
       "      gap: 12px;\n",
       "    }\n",
       "\n",
       "    .colab-df-convert {\n",
       "      background-color: #E8F0FE;\n",
       "      border: none;\n",
       "      border-radius: 50%;\n",
       "      cursor: pointer;\n",
       "      display: none;\n",
       "      fill: #1967D2;\n",
       "      height: 32px;\n",
       "      padding: 0 0 0 0;\n",
       "      width: 32px;\n",
       "    }\n",
       "\n",
       "    .colab-df-convert:hover {\n",
       "      background-color: #E2EBFA;\n",
       "      box-shadow: 0px 1px 2px rgba(60, 64, 67, 0.3), 0px 1px 3px 1px rgba(60, 64, 67, 0.15);\n",
       "      fill: #174EA6;\n",
       "    }\n",
       "\n",
       "    [theme=dark] .colab-df-convert {\n",
       "      background-color: #3B4455;\n",
       "      fill: #D2E3FC;\n",
       "    }\n",
       "\n",
       "    [theme=dark] .colab-df-convert:hover {\n",
       "      background-color: #434B5C;\n",
       "      box-shadow: 0px 1px 3px 1px rgba(0, 0, 0, 0.15);\n",
       "      filter: drop-shadow(0px 1px 2px rgba(0, 0, 0, 0.3));\n",
       "      fill: #FFFFFF;\n",
       "    }\n",
       "  </style>\n",
       "\n",
       "      <script>\n",
       "        const buttonEl =\n",
       "          document.querySelector('#df-95a36248-7ee0-416a-b2cd-b0034efed4be button.colab-df-convert');\n",
       "        buttonEl.style.display =\n",
       "          google.colab.kernel.accessAllowed ? 'block' : 'none';\n",
       "\n",
       "        async function convertToInteractive(key) {\n",
       "          const element = document.querySelector('#df-95a36248-7ee0-416a-b2cd-b0034efed4be');\n",
       "          const dataTable =\n",
       "            await google.colab.kernel.invokeFunction('convertToInteractive',\n",
       "                                                     [key], {});\n",
       "          if (!dataTable) return;\n",
       "\n",
       "          const docLinkHtml = 'Like what you see? Visit the ' +\n",
       "            '<a target=\"_blank\" href=https://colab.research.google.com/notebooks/data_table.ipynb>data table notebook</a>'\n",
       "            + ' to learn more about interactive tables.';\n",
       "          element.innerHTML = '';\n",
       "          dataTable['output_type'] = 'display_data';\n",
       "          await google.colab.output.renderOutput(dataTable, element);\n",
       "          const docLink = document.createElement('div');\n",
       "          docLink.innerHTML = docLinkHtml;\n",
       "          element.appendChild(docLink);\n",
       "        }\n",
       "      </script>\n",
       "    </div>\n",
       "  </div>\n",
       "  "
      ],
      "text/plain": [
       "    MEAN_RR  MEDIAN_RR      SDRR     RMSSD      SDSD  SDRR_RMSSD        HR  \\\n",
       "0  0.225313   0.184864  0.088443  0.324583  0.324578    0.065286  0.544238   \n",
       "1  0.382444   0.287996  0.058163  0.654295  0.654295    0.007079  0.349779   \n",
       "2  0.530982   0.395639  0.196938  0.751429  0.751430    0.068757  0.232820   \n",
       "3  0.358287   0.286304  0.168890  0.296569  0.296546    0.141849  0.393642   \n",
       "4  0.270276   0.203066  0.217693  0.371941  0.371880    0.156703  0.513019   \n",
       "\n",
       "      pNN25     pNN50       SD1  ...    LF_PCT     LF_NU        HF    HF_PCT  \\\n",
       "0  0.125212  0.000000  0.324578  ...  0.452452  0.667378  0.184455  0.299541   \n",
       "1  0.532995  0.037037  0.654295  ...  0.852726  0.943688  0.073271  0.085683   \n",
       "2  0.612521  0.333333  0.751430  ...  0.607359  0.974289  0.044239  0.028122   \n",
       "3  0.120135  0.098765  0.296546  ...  0.206464  0.885830  0.048553  0.046901   \n",
       "4  0.150592  0.123457  0.371880  ...  0.102285  0.785723  0.097380  0.050488   \n",
       "\n",
       "      HF_NU        TP     LF_HF     HF_LF    sampen    higuci  \n",
       "0  0.332622  0.102595  0.000887  0.260535  0.923679  0.641622  \n",
       "1  0.056312  0.153893  0.007360  0.040476  0.990346  0.661122  \n",
       "2  0.025711  0.306926  0.016489  0.018314  0.990269  0.338852  \n",
       "3  0.114170  0.192394  0.003421  0.083503  0.928972  0.330919  \n",
       "4  0.214277  0.383171  0.001620  0.161627  0.820759  0.287209  \n",
       "\n",
       "[5 rows x 34 columns]"
      ]
     },
     "execution_count": 35,
     "metadata": {},
     "output_type": "execute_result"
    }
   ],
   "source": [
    "min_max = MinMaxScaler()\n",
    "# train_x = min_max.fit_transform(train_x)\n",
    "# test_x = min_max.fit_transform(test_x)\n",
    "\n",
    "for c in dataset.columns: \n",
    "   dataset[c] = min_max.fit_transform(dataset[[c]])\n",
    "\n",
    "dataset.head()"
   ]
  },
  {
   "cell_type": "markdown",
   "metadata": {
    "id": "36mpn7ECddRj"
   },
   "source": [
    "# DATA SPLITTING (TESTING AND TRAINING SET)\n",
    "---\n",
    "\n"
   ]
  },
  {
   "cell_type": "code",
   "execution_count": null,
   "metadata": {
    "id": "QnJ_Nsv8x80E"
   },
   "outputs": [],
   "source": [
    "from sklearn import model_selection\n",
    "X_train, X_test, y_train, y_test = model_selection.train_test_split(dataset,y, test_size=.2)"
   ]
  },
  {
   "cell_type": "code",
   "execution_count": null,
   "metadata": {
    "colab": {
     "base_uri": "https://localhost:8080/"
    },
    "id": "D4BgZhAodvkO",
    "outputId": "b751912f-5311-41d5-c2ea-73d37d65cb87"
   },
   "outputs": [
    {
     "name": "stdout",
     "output_type": "stream",
     "text": [
      "Train x :  (32826, 34)\n",
      "Train y :  (32826,)\n",
      "test x :  (8207, 34)\n",
      "test y :  (8207,)\n"
     ]
    }
   ],
   "source": [
    "print(\"Train x : \", X_train.shape)\n",
    "print(\"Train y : \" , y_train.shape)\n",
    "print(\"test x : \", X_test.shape)\n",
    "print(\"test y : \" , y_test.shape)"
   ]
  },
  {
   "cell_type": "markdown",
   "metadata": {
    "id": "lMU6aQVldyTU"
   },
   "source": [
    "# STRESS PREDICTION MODEL USING SVM"
   ]
  },
  {
   "cell_type": "code",
   "execution_count": null,
   "metadata": {
    "id": "x4X12twMyNdc"
   },
   "outputs": [],
   "source": [
    "from sklearn.svm import SVC, LinearSVC"
   ]
  },
  {
   "cell_type": "code",
   "execution_count": null,
   "metadata": {
    "colab": {
     "base_uri": "https://localhost:8080/"
    },
    "id": "3MlTRMCXgLeR",
    "outputId": "12dc7ca3-dc56-4e41-e74c-3ee9536db848"
   },
   "outputs": [
    {
     "name": "stdout",
     "output_type": "stream",
     "text": [
      "training complete\n"
     ]
    }
   ],
   "source": [
    "svc = SVC(gamma=1)\n",
    "svc.fit(X_train, y_train)\n",
    "print('training complete')"
   ]
  },
  {
   "cell_type": "code",
   "execution_count": null,
   "metadata": {
    "id": "VrGETZV0gRiB"
   },
   "outputs": [],
   "source": [
    "svc.score(X_test, y_test)"
   ]
  },
  {
   "cell_type": "code",
   "execution_count": null,
   "metadata": {
    "colab": {
     "base_uri": "https://localhost:8080/"
    },
    "id": "tF1DC9yiyNll",
    "outputId": "3b61df9e-64b5-4daf-d73a-630df13d115d"
   },
   "outputs": [
    {
     "name": "stdout",
     "output_type": "stream",
     "text": [
      "training complete\n"
     ]
    }
   ],
   "source": [
    "svc = SVC(gamma=2)\n",
    "svc.fit(X_train, y_train)\n",
    "print('training complete')"
   ]
  },
  {
   "cell_type": "code",
   "execution_count": null,
   "metadata": {
    "colab": {
     "base_uri": "https://localhost:8080/"
    },
    "id": "ngxkkFVJydkS",
    "outputId": "60d093ca-f816-4b52-b4e4-bf76e16ce90b"
   },
   "outputs": [
    {
     "data": {
      "text/plain": [
       "0.995857195077373"
      ]
     },
     "execution_count": 51,
     "metadata": {},
     "output_type": "execute_result"
    }
   ],
   "source": [
    "svc.score(X_test, y_test)"
   ]
  },
  {
   "cell_type": "markdown",
   "metadata": {
    "id": "ZidQ2tAKOkhu"
   },
   "source": [
    "PARAMETER TUNNING"
   ]
  },
  {
   "cell_type": "code",
   "execution_count": null,
   "metadata": {
    "colab": {
     "base_uri": "https://localhost:8080/"
    },
    "id": "Obr2nndcOjke",
    "outputId": "7500c576-2ea2-4da7-c0bb-559796e77973"
   },
   "outputs": [
    {
     "data": {
      "text/plain": [
       "SVC(gamma=20)"
      ]
     },
     "execution_count": 41,
     "metadata": {},
     "output_type": "execute_result"
    }
   ],
   "source": [
    "svc = SVC(gamma=20)\n",
    "svc.fit(X_train, y_train)"
   ]
  },
  {
   "cell_type": "code",
   "execution_count": null,
   "metadata": {
    "colab": {
     "base_uri": "https://localhost:8080/"
    },
    "id": "kmTj59JrPTON",
    "outputId": "685d1e6e-ad82-4627-a27c-a282be06f6ba"
   },
   "outputs": [
    {
     "data": {
      "text/plain": [
       "0.9997563055927866"
      ]
     },
     "execution_count": 42,
     "metadata": {},
     "output_type": "execute_result"
    }
   ],
   "source": [
    "svc.score(X_test, y_test)"
   ]
  },
  {
   "cell_type": "code",
   "execution_count": null,
   "metadata": {
    "id": "OW3yKWFWR6jd"
   },
   "outputs": [],
   "source": [
    "prediction = svc.predict(X_test)"
   ]
  },
  {
   "cell_type": "code",
   "execution_count": null,
   "metadata": {
    "colab": {
     "base_uri": "https://localhost:8080/"
    },
    "id": "K7yqFx3kPpIX",
    "outputId": "b2c6cd7f-25f1-4044-e5ac-91d789e6a12b"
   },
   "outputs": [
    {
     "data": {
      "text/plain": [
       "0.9997563055927866"
      ]
     },
     "execution_count": 44,
     "metadata": {},
     "output_type": "execute_result"
    }
   ],
   "source": [
    "from sklearn import metrics\n",
    "accuracy = metrics.accuracy_score(y_test, prediction)\n",
    "accuracy"
   ]
  },
  {
   "cell_type": "code",
   "execution_count": null,
   "metadata": {
    "colab": {
     "base_uri": "https://localhost:8080/",
     "height": 70
    },
    "id": "XxwQWih9SOZu",
    "outputId": "fb391b84-9cf4-4e80-bc09-3e285be07ec6"
   },
   "outputs": [
    {
     "data": {
      "application/vnd.google.colaboratory.intrinsic+json": {
       "type": "string"
      },
      "text/plain": [
       "'              precision    recall  f1-score   support\\n\\n           0       1.00      1.00      1.00      2368\\n           1       1.00      1.00      1.00      4489\\n           2       1.00      1.00      1.00      1350\\n\\n    accuracy                           1.00      8207\\n   macro avg       1.00      1.00      1.00      8207\\nweighted avg       1.00      1.00      1.00      8207\\n'"
      ]
     },
     "execution_count": 45,
     "metadata": {},
     "output_type": "execute_result"
    }
   ],
   "source": [
    "model_report = metrics.classification_report(y_test, prediction)\n",
    "model_report"
   ]
  },
  {
   "cell_type": "code",
   "execution_count": null,
   "metadata": {
    "id": "mSSDpRPxRPtu"
   },
   "outputs": [],
   "source": [
    "cm = metrics.confusion_matrix(y_test, prediction)"
   ]
  },
  {
   "cell_type": "code",
   "execution_count": null,
   "metadata": {
    "colab": {
     "base_uri": "https://localhost:8080/"
    },
    "id": "G6rnBm62TWka",
    "outputId": "91c8e3f6-18fb-4b9e-b9fe-7b6ab016f16f"
   },
   "outputs": [
    {
     "name": "stdout",
     "output_type": "stream",
     "text": [
      "Looking in indexes: https://pypi.org/simple, https://us-python.pkg.dev/colab-wheels/public/simple/\n",
      "Collecting scikit-plot\n",
      "  Downloading scikit_plot-0.3.7-py3-none-any.whl (33 kB)\n",
      "Requirement already satisfied: joblib>=0.10 in /usr/local/lib/python3.7/dist-packages (from scikit-plot) (1.1.0)\n",
      "Requirement already satisfied: scipy>=0.9 in /usr/local/lib/python3.7/dist-packages (from scikit-plot) (1.4.1)\n",
      "Requirement already satisfied: scikit-learn>=0.18 in /usr/local/lib/python3.7/dist-packages (from scikit-plot) (1.0.2)\n",
      "Requirement already satisfied: matplotlib>=1.4.0 in /usr/local/lib/python3.7/dist-packages (from scikit-plot) (3.2.2)\n",
      "Requirement already satisfied: numpy>=1.11 in /usr/local/lib/python3.7/dist-packages (from matplotlib>=1.4.0->scikit-plot) (1.21.6)\n",
      "Requirement already satisfied: python-dateutil>=2.1 in /usr/local/lib/python3.7/dist-packages (from matplotlib>=1.4.0->scikit-plot) (2.8.2)\n",
      "Requirement already satisfied: kiwisolver>=1.0.1 in /usr/local/lib/python3.7/dist-packages (from matplotlib>=1.4.0->scikit-plot) (1.4.2)\n",
      "Requirement already satisfied: pyparsing!=2.0.4,!=2.1.2,!=2.1.6,>=2.0.1 in /usr/local/lib/python3.7/dist-packages (from matplotlib>=1.4.0->scikit-plot) (3.0.9)\n",
      "Requirement already satisfied: cycler>=0.10 in /usr/local/lib/python3.7/dist-packages (from matplotlib>=1.4.0->scikit-plot) (0.11.0)\n",
      "Requirement already satisfied: typing-extensions in /usr/local/lib/python3.7/dist-packages (from kiwisolver>=1.0.1->matplotlib>=1.4.0->scikit-plot) (4.2.0)\n",
      "Requirement already satisfied: six>=1.5 in /usr/local/lib/python3.7/dist-packages (from python-dateutil>=2.1->matplotlib>=1.4.0->scikit-plot) (1.15.0)\n",
      "Requirement already satisfied: threadpoolctl>=2.0.0 in /usr/local/lib/python3.7/dist-packages (from scikit-learn>=0.18->scikit-plot) (3.1.0)\n",
      "Installing collected packages: scikit-plot\n",
      "Successfully installed scikit-plot-0.3.7\n"
     ]
    }
   ],
   "source": [
    "!pip install scikit-plot"
   ]
  },
  {
   "cell_type": "markdown",
   "metadata": {
    "id": "ao3r0YhbfZ7k"
   },
   "source": [
    "**Confusion** **Matrix**"
   ]
  },
  {
   "cell_type": "code",
   "execution_count": null,
   "metadata": {
    "colab": {
     "base_uri": "https://localhost:8080/",
     "height": 404
    },
    "id": "gezFsOoQTCCQ",
    "outputId": "a9ad0085-9904-47f6-9032-b35606cb0ce3"
   },
   "outputs": [
    {
     "data": {
      "image/png": "[encoded data removed]",
      "text/plain": [
       "<Figure size 576x432 with 2 Axes>"
      ]
     },
     "metadata": {
      "needs_background": "light"
     },
     "output_type": "display_data"
    }
   ],
   "source": [
    "# confusion matrix\n",
    "from scikitplot.metrics import plot_confusion_matrix\n",
    "\n",
    "plot_confusion_matrix(y_test, prediction,\n",
    "                      figsize=(8,6),\n",
    "                      title=f'Confusion Matrix: N={len(y_test)}',\n",
    "                      normalize=False);   "
   ]
  }
 ],
 "metadata": {
  "colab": {
   "collapsed_sections": [],
   "name": "stress_prediction_model.ipynb",
   "provenance": []
  },
  "kernelspec": {
   "display_name": "Python 3 (ipykernel)",
   "language": "python",
   "name": "python3"
  },
  "language_info": {
   "codemirror_mode": {
    "name": "ipython",
    "version": 3
   },
   "file_extension": ".py",
   "mimetype": "text/x-python",
   "name": "python",
   "nbconvert_exporter": "python",
   "pygments_lexer": "ipython3",
   "version": "3.9.0"
  }
 },
 "nbformat": 4,
 "nbformat_minor": 1
}
