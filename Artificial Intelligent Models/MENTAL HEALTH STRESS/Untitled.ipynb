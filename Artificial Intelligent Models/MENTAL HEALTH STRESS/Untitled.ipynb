{
 "cells": [
  {
   "cell_type": "markdown",
   "id": "907d8e18",
   "metadata": {},
   "source": [
    "# DATA IMPORT "
   ]
  },
  {
   "cell_type": "code",
   "execution_count": 3,
   "id": "34529348",
   "metadata": {},
   "outputs": [],
   "source": [
    "import pandas as pd"
   ]
  },
  {
   "cell_type": "code",
   "execution_count": 4,
   "id": "2d60e9ed",
   "metadata": {},
   "outputs": [],
   "source": [
    "test = pd.read_csv('test.csv')\n",
    "train = pd.read_csv('train.csv')"
   ]
  },
  {
   "cell_type": "code",
   "execution_count": 5,
   "id": "431241b2",
   "metadata": {},
   "outputs": [],
   "source": [
    "# dataset = pd.concat([train,test], axis=1, ignore_index=False)\n",
    "dataset = train"
   ]
  },
  {
   "cell_type": "code",
   "execution_count": 6,
   "id": "4e029c41",
   "metadata": {},
   "outputs": [
    {
     "data": {
      "text/html": [
       "<div>\n",
       "<style scoped>\n",
       "    .dataframe tbody tr th:only-of-type {\n",
       "        vertical-align: middle;\n",
       "    }\n",
       "\n",
       "    .dataframe tbody tr th {\n",
       "        vertical-align: top;\n",
       "    }\n",
       "\n",
       "    .dataframe thead th {\n",
       "        text-align: right;\n",
       "    }\n",
       "</style>\n",
       "<table border=\"1\" class=\"dataframe\">\n",
       "  <thead>\n",
       "    <tr style=\"text-align: right;\">\n",
       "      <th></th>\n",
       "      <th>MEAN_RR</th>\n",
       "      <th>MEDIAN_RR</th>\n",
       "      <th>SDRR</th>\n",
       "      <th>RMSSD</th>\n",
       "      <th>SDSD</th>\n",
       "      <th>SDRR_RMSSD</th>\n",
       "      <th>HR</th>\n",
       "      <th>pNN25</th>\n",
       "      <th>pNN50</th>\n",
       "      <th>SD1</th>\n",
       "      <th>...</th>\n",
       "      <th>HF</th>\n",
       "      <th>HF_PCT</th>\n",
       "      <th>HF_NU</th>\n",
       "      <th>TP</th>\n",
       "      <th>LF_HF</th>\n",
       "      <th>HF_LF</th>\n",
       "      <th>sampen</th>\n",
       "      <th>higuci</th>\n",
       "      <th>datasetId</th>\n",
       "      <th>condition</th>\n",
       "    </tr>\n",
       "  </thead>\n",
       "  <tbody>\n",
       "    <tr>\n",
       "      <th>0</th>\n",
       "      <td>885.157845</td>\n",
       "      <td>853.763730</td>\n",
       "      <td>140.972741</td>\n",
       "      <td>15.554505</td>\n",
       "      <td>15.553371</td>\n",
       "      <td>9.063146</td>\n",
       "      <td>69.499952</td>\n",
       "      <td>11.133333</td>\n",
       "      <td>0.533333</td>\n",
       "      <td>11.001565</td>\n",
       "      <td>...</td>\n",
       "      <td>15.522603</td>\n",
       "      <td>0.421047</td>\n",
       "      <td>1.514737</td>\n",
       "      <td>3686.666157</td>\n",
       "      <td>65.018055</td>\n",
       "      <td>0.015380</td>\n",
       "      <td>2.139754</td>\n",
       "      <td>1.163485</td>\n",
       "      <td>2</td>\n",
       "      <td>no stress</td>\n",
       "    </tr>\n",
       "    <tr>\n",
       "      <th>1</th>\n",
       "      <td>939.425371</td>\n",
       "      <td>948.357865</td>\n",
       "      <td>81.317742</td>\n",
       "      <td>12.964439</td>\n",
       "      <td>12.964195</td>\n",
       "      <td>6.272369</td>\n",
       "      <td>64.363150</td>\n",
       "      <td>5.600000</td>\n",
       "      <td>0.000000</td>\n",
       "      <td>9.170129</td>\n",
       "      <td>...</td>\n",
       "      <td>2.108525</td>\n",
       "      <td>0.070133</td>\n",
       "      <td>0.304603</td>\n",
       "      <td>3006.487251</td>\n",
       "      <td>327.296635</td>\n",
       "      <td>0.003055</td>\n",
       "      <td>2.174499</td>\n",
       "      <td>1.084711</td>\n",
       "      <td>2</td>\n",
       "      <td>interruption</td>\n",
       "    </tr>\n",
       "    <tr>\n",
       "      <th>2</th>\n",
       "      <td>898.186047</td>\n",
       "      <td>907.006860</td>\n",
       "      <td>84.497236</td>\n",
       "      <td>16.305279</td>\n",
       "      <td>16.305274</td>\n",
       "      <td>5.182201</td>\n",
       "      <td>67.450066</td>\n",
       "      <td>13.066667</td>\n",
       "      <td>0.200000</td>\n",
       "      <td>11.533417</td>\n",
       "      <td>...</td>\n",
       "      <td>13.769729</td>\n",
       "      <td>0.512671</td>\n",
       "      <td>1.049528</td>\n",
       "      <td>2685.879461</td>\n",
       "      <td>94.280910</td>\n",
       "      <td>0.010607</td>\n",
       "      <td>2.135350</td>\n",
       "      <td>1.176315</td>\n",
       "      <td>2</td>\n",
       "      <td>interruption</td>\n",
       "    </tr>\n",
       "    <tr>\n",
       "      <th>3</th>\n",
       "      <td>881.757865</td>\n",
       "      <td>893.460030</td>\n",
       "      <td>90.370537</td>\n",
       "      <td>15.720468</td>\n",
       "      <td>15.720068</td>\n",
       "      <td>5.748591</td>\n",
       "      <td>68.809562</td>\n",
       "      <td>11.800000</td>\n",
       "      <td>0.133333</td>\n",
       "      <td>11.119476</td>\n",
       "      <td>...</td>\n",
       "      <td>18.181913</td>\n",
       "      <td>0.529387</td>\n",
       "      <td>1.775294</td>\n",
       "      <td>3434.520980</td>\n",
       "      <td>55.328701</td>\n",
       "      <td>0.018074</td>\n",
       "      <td>2.178341</td>\n",
       "      <td>1.179688</td>\n",
       "      <td>2</td>\n",
       "      <td>no stress</td>\n",
       "    </tr>\n",
       "    <tr>\n",
       "      <th>4</th>\n",
       "      <td>809.625331</td>\n",
       "      <td>811.184865</td>\n",
       "      <td>62.766242</td>\n",
       "      <td>19.213819</td>\n",
       "      <td>19.213657</td>\n",
       "      <td>3.266724</td>\n",
       "      <td>74.565728</td>\n",
       "      <td>20.200000</td>\n",
       "      <td>0.200000</td>\n",
       "      <td>13.590641</td>\n",
       "      <td>...</td>\n",
       "      <td>48.215822</td>\n",
       "      <td>1.839473</td>\n",
       "      <td>3.279993</td>\n",
       "      <td>2621.175204</td>\n",
       "      <td>29.487873</td>\n",
       "      <td>0.033912</td>\n",
       "      <td>2.221121</td>\n",
       "      <td>1.249612</td>\n",
       "      <td>2</td>\n",
       "      <td>no stress</td>\n",
       "    </tr>\n",
       "    <tr>\n",
       "      <th>...</th>\n",
       "      <td>...</td>\n",
       "      <td>...</td>\n",
       "      <td>...</td>\n",
       "      <td>...</td>\n",
       "      <td>...</td>\n",
       "      <td>...</td>\n",
       "      <td>...</td>\n",
       "      <td>...</td>\n",
       "      <td>...</td>\n",
       "      <td>...</td>\n",
       "      <td>...</td>\n",
       "      <td>...</td>\n",
       "      <td>...</td>\n",
       "      <td>...</td>\n",
       "      <td>...</td>\n",
       "      <td>...</td>\n",
       "      <td>...</td>\n",
       "      <td>...</td>\n",
       "      <td>...</td>\n",
       "      <td>...</td>\n",
       "      <td>...</td>\n",
       "    </tr>\n",
       "    <tr>\n",
       "      <th>369284</th>\n",
       "      <td>721.396910</td>\n",
       "      <td>721.533965</td>\n",
       "      <td>36.377559</td>\n",
       "      <td>9.609941</td>\n",
       "      <td>9.609936</td>\n",
       "      <td>3.785409</td>\n",
       "      <td>83.384647</td>\n",
       "      <td>0.933333</td>\n",
       "      <td>0.000000</td>\n",
       "      <td>6.797519</td>\n",
       "      <td>...</td>\n",
       "      <td>38.227175</td>\n",
       "      <td>5.886975</td>\n",
       "      <td>10.880317</td>\n",
       "      <td>649.351702</td>\n",
       "      <td>8.190908</td>\n",
       "      <td>0.122087</td>\n",
       "      <td>2.096850</td>\n",
       "      <td>1.314910</td>\n",
       "      <td>2</td>\n",
       "      <td>no stress</td>\n",
       "    </tr>\n",
       "    <tr>\n",
       "      <th>369285</th>\n",
       "      <td>984.266492</td>\n",
       "      <td>978.622945</td>\n",
       "      <td>74.918433</td>\n",
       "      <td>13.762274</td>\n",
       "      <td>13.761705</td>\n",
       "      <td>5.443754</td>\n",
       "      <td>61.314243</td>\n",
       "      <td>6.333333</td>\n",
       "      <td>0.200000</td>\n",
       "      <td>9.734243</td>\n",
       "      <td>...</td>\n",
       "      <td>2.573834</td>\n",
       "      <td>0.112964</td>\n",
       "      <td>0.357547</td>\n",
       "      <td>2278.456746</td>\n",
       "      <td>278.683532</td>\n",
       "      <td>0.003588</td>\n",
       "      <td>2.131264</td>\n",
       "      <td>1.175975</td>\n",
       "      <td>2</td>\n",
       "      <td>no stress</td>\n",
       "    </tr>\n",
       "    <tr>\n",
       "      <th>369286</th>\n",
       "      <td>1025.499743</td>\n",
       "      <td>1024.968400</td>\n",
       "      <td>95.309200</td>\n",
       "      <td>23.051254</td>\n",
       "      <td>23.050395</td>\n",
       "      <td>4.134664</td>\n",
       "      <td>59.028594</td>\n",
       "      <td>30.400000</td>\n",
       "      <td>2.066667</td>\n",
       "      <td>16.304530</td>\n",
       "      <td>...</td>\n",
       "      <td>4.287216</td>\n",
       "      <td>0.098983</td>\n",
       "      <td>0.180070</td>\n",
       "      <td>4331.259564</td>\n",
       "      <td>554.340761</td>\n",
       "      <td>0.001804</td>\n",
       "      <td>2.215643</td>\n",
       "      <td>1.140232</td>\n",
       "      <td>2</td>\n",
       "      <td>no stress</td>\n",
       "    </tr>\n",
       "    <tr>\n",
       "      <th>369287</th>\n",
       "      <td>798.123167</td>\n",
       "      <td>803.559610</td>\n",
       "      <td>78.449897</td>\n",
       "      <td>16.736686</td>\n",
       "      <td>16.736657</td>\n",
       "      <td>4.687302</td>\n",
       "      <td>75.978628</td>\n",
       "      <td>10.000000</td>\n",
       "      <td>1.466667</td>\n",
       "      <td>11.838553</td>\n",
       "      <td>...</td>\n",
       "      <td>46.636158</td>\n",
       "      <td>1.591647</td>\n",
       "      <td>3.522995</td>\n",
       "      <td>2930.056129</td>\n",
       "      <td>27.384942</td>\n",
       "      <td>0.036516</td>\n",
       "      <td>2.091628</td>\n",
       "      <td>1.181937</td>\n",
       "      <td>2</td>\n",
       "      <td>no stress</td>\n",
       "    </tr>\n",
       "    <tr>\n",
       "      <th>369288</th>\n",
       "      <td>814.428911</td>\n",
       "      <td>815.178790</td>\n",
       "      <td>67.697387</td>\n",
       "      <td>20.649551</td>\n",
       "      <td>20.649546</td>\n",
       "      <td>3.278395</td>\n",
       "      <td>74.197905</td>\n",
       "      <td>23.400000</td>\n",
       "      <td>0.533333</td>\n",
       "      <td>14.606307</td>\n",
       "      <td>...</td>\n",
       "      <td>60.596026</td>\n",
       "      <td>1.907159</td>\n",
       "      <td>3.438658</td>\n",
       "      <td>3177.292709</td>\n",
       "      <td>28.081116</td>\n",
       "      <td>0.035611</td>\n",
       "      <td>2.208193</td>\n",
       "      <td>1.234087</td>\n",
       "      <td>2</td>\n",
       "      <td>no stress</td>\n",
       "    </tr>\n",
       "  </tbody>\n",
       "</table>\n",
       "<p>369289 rows × 36 columns</p>\n",
       "</div>"
      ],
      "text/plain": [
       "            MEAN_RR    MEDIAN_RR        SDRR      RMSSD       SDSD  \\\n",
       "0        885.157845   853.763730  140.972741  15.554505  15.553371   \n",
       "1        939.425371   948.357865   81.317742  12.964439  12.964195   \n",
       "2        898.186047   907.006860   84.497236  16.305279  16.305274   \n",
       "3        881.757865   893.460030   90.370537  15.720468  15.720068   \n",
       "4        809.625331   811.184865   62.766242  19.213819  19.213657   \n",
       "...             ...          ...         ...        ...        ...   \n",
       "369284   721.396910   721.533965   36.377559   9.609941   9.609936   \n",
       "369285   984.266492   978.622945   74.918433  13.762274  13.761705   \n",
       "369286  1025.499743  1024.968400   95.309200  23.051254  23.050395   \n",
       "369287   798.123167   803.559610   78.449897  16.736686  16.736657   \n",
       "369288   814.428911   815.178790   67.697387  20.649551  20.649546   \n",
       "\n",
       "        SDRR_RMSSD         HR      pNN25     pNN50        SD1  ...         HF  \\\n",
       "0         9.063146  69.499952  11.133333  0.533333  11.001565  ...  15.522603   \n",
       "1         6.272369  64.363150   5.600000  0.000000   9.170129  ...   2.108525   \n",
       "2         5.182201  67.450066  13.066667  0.200000  11.533417  ...  13.769729   \n",
       "3         5.748591  68.809562  11.800000  0.133333  11.119476  ...  18.181913   \n",
       "4         3.266724  74.565728  20.200000  0.200000  13.590641  ...  48.215822   \n",
       "...            ...        ...        ...       ...        ...  ...        ...   \n",
       "369284    3.785409  83.384647   0.933333  0.000000   6.797519  ...  38.227175   \n",
       "369285    5.443754  61.314243   6.333333  0.200000   9.734243  ...   2.573834   \n",
       "369286    4.134664  59.028594  30.400000  2.066667  16.304530  ...   4.287216   \n",
       "369287    4.687302  75.978628  10.000000  1.466667  11.838553  ...  46.636158   \n",
       "369288    3.278395  74.197905  23.400000  0.533333  14.606307  ...  60.596026   \n",
       "\n",
       "          HF_PCT      HF_NU           TP       LF_HF     HF_LF    sampen  \\\n",
       "0       0.421047   1.514737  3686.666157   65.018055  0.015380  2.139754   \n",
       "1       0.070133   0.304603  3006.487251  327.296635  0.003055  2.174499   \n",
       "2       0.512671   1.049528  2685.879461   94.280910  0.010607  2.135350   \n",
       "3       0.529387   1.775294  3434.520980   55.328701  0.018074  2.178341   \n",
       "4       1.839473   3.279993  2621.175204   29.487873  0.033912  2.221121   \n",
       "...          ...        ...          ...         ...       ...       ...   \n",
       "369284  5.886975  10.880317   649.351702    8.190908  0.122087  2.096850   \n",
       "369285  0.112964   0.357547  2278.456746  278.683532  0.003588  2.131264   \n",
       "369286  0.098983   0.180070  4331.259564  554.340761  0.001804  2.215643   \n",
       "369287  1.591647   3.522995  2930.056129   27.384942  0.036516  2.091628   \n",
       "369288  1.907159   3.438658  3177.292709   28.081116  0.035611  2.208193   \n",
       "\n",
       "          higuci  datasetId     condition  \n",
       "0       1.163485          2     no stress  \n",
       "1       1.084711          2  interruption  \n",
       "2       1.176315          2  interruption  \n",
       "3       1.179688          2     no stress  \n",
       "4       1.249612          2     no stress  \n",
       "...          ...        ...           ...  \n",
       "369284  1.314910          2     no stress  \n",
       "369285  1.175975          2     no stress  \n",
       "369286  1.140232          2     no stress  \n",
       "369287  1.181937          2     no stress  \n",
       "369288  1.234087          2     no stress  \n",
       "\n",
       "[369289 rows x 36 columns]"
      ]
     },
     "execution_count": 6,
     "metadata": {},
     "output_type": "execute_result"
    }
   ],
   "source": [
    "# train\n",
    "dataset"
   ]
  },
  {
   "cell_type": "code",
   "execution_count": 7,
   "id": "a61cfeff",
   "metadata": {},
   "outputs": [],
   "source": [
    "# test"
   ]
  },
  {
   "cell_type": "markdown",
   "id": "923d46d7",
   "metadata": {},
   "source": [
    "# Data Exploration"
   ]
  },
  {
   "cell_type": "code",
   "execution_count": 8,
   "id": "1d98fe1b",
   "metadata": {},
   "outputs": [
    {
     "name": "stdout",
     "output_type": "stream",
     "text": [
      "DATASET SIZE :  369289\n"
     ]
    }
   ],
   "source": [
    "# print(\"Training Dataset size : \", len(train))\n",
    "# print(\"Testing Dataset size : \", len(test))\n",
    "data_size = len(dataset)\n",
    "print(\"DATASET SIZE : \", data_size)\n",
    "# test_size = len(test)"
   ]
  },
  {
   "cell_type": "code",
   "execution_count": 9,
   "id": "d092c240",
   "metadata": {},
   "outputs": [
    {
     "data": {
      "text/plain": [
       "Index(['MEAN_RR', 'MEDIAN_RR', 'SDRR', 'RMSSD', 'SDSD', 'SDRR_RMSSD', 'HR',\n",
       "       'pNN25', 'pNN50', 'SD1', 'SD2', 'KURT', 'SKEW', 'MEAN_REL_RR',\n",
       "       'MEDIAN_REL_RR', 'SDRR_REL_RR', 'RMSSD_REL_RR', 'SDSD_REL_RR',\n",
       "       'SDRR_RMSSD_REL_RR', 'KURT_REL_RR', 'SKEW_REL_RR', 'VLF', 'VLF_PCT',\n",
       "       'LF', 'LF_PCT', 'LF_NU', 'HF', 'HF_PCT', 'HF_NU', 'TP', 'LF_HF',\n",
       "       'HF_LF', 'sampen', 'higuci', 'datasetId', 'condition'],\n",
       "      dtype='object')"
      ]
     },
     "execution_count": 9,
     "metadata": {},
     "output_type": "execute_result"
    }
   ],
   "source": [
    "dataset.columns"
   ]
  },
  {
   "cell_type": "code",
   "execution_count": 10,
   "id": "5db9d197",
   "metadata": {},
   "outputs": [
    {
     "name": "stdout",
     "output_type": "stream",
     "text": [
      "Number of Features :  36\n"
     ]
    }
   ],
   "source": [
    "row, col = dataset.shape\n",
    "print(\"Number of Features : \", col)"
   ]
  },
  {
   "cell_type": "code",
   "execution_count": 11,
   "id": "68cd3b51",
   "metadata": {},
   "outputs": [],
   "source": [
    "# train_size = len(train)\n",
    "# test_size = len(test)\n"
   ]
  },
  {
   "cell_type": "code",
   "execution_count": 12,
   "id": "3a66f8ee",
   "metadata": {},
   "outputs": [
    {
     "data": {
      "text/plain": [
       "array(['no stress', 'interruption', 'time pressure'], dtype=object)"
      ]
     },
     "execution_count": 12,
     "metadata": {},
     "output_type": "execute_result"
    }
   ],
   "source": [
    "dataset.condition.unique()"
   ]
  },
  {
   "cell_type": "code",
   "execution_count": 13,
   "id": "51002fca",
   "metadata": {},
   "outputs": [
    {
     "name": "stdout",
     "output_type": "stream",
     "text": [
      "<class 'pandas.core.frame.DataFrame'>\n",
      "RangeIndex: 369289 entries, 0 to 369288\n",
      "Data columns (total 36 columns):\n",
      " #   Column             Non-Null Count   Dtype  \n",
      "---  ------             --------------   -----  \n",
      " 0   MEAN_RR            369289 non-null  float64\n",
      " 1   MEDIAN_RR          369289 non-null  float64\n",
      " 2   SDRR               369289 non-null  float64\n",
      " 3   RMSSD              369289 non-null  float64\n",
      " 4   SDSD               369289 non-null  float64\n",
      " 5   SDRR_RMSSD         369289 non-null  float64\n",
      " 6   HR                 369289 non-null  float64\n",
      " 7   pNN25              369289 non-null  float64\n",
      " 8   pNN50              369289 non-null  float64\n",
      " 9   SD1                369289 non-null  float64\n",
      " 10  SD2                369289 non-null  float64\n",
      " 11  KURT               369289 non-null  float64\n",
      " 12  SKEW               369289 non-null  float64\n",
      " 13  MEAN_REL_RR        369289 non-null  float64\n",
      " 14  MEDIAN_REL_RR      369289 non-null  float64\n",
      " 15  SDRR_REL_RR        369289 non-null  float64\n",
      " 16  RMSSD_REL_RR       369289 non-null  float64\n",
      " 17  SDSD_REL_RR        369289 non-null  float64\n",
      " 18  SDRR_RMSSD_REL_RR  369289 non-null  float64\n",
      " 19  KURT_REL_RR        369289 non-null  float64\n",
      " 20  SKEW_REL_RR        369289 non-null  float64\n",
      " 21  VLF                369289 non-null  float64\n",
      " 22  VLF_PCT            369289 non-null  float64\n",
      " 23  LF                 369289 non-null  float64\n",
      " 24  LF_PCT             369289 non-null  float64\n",
      " 25  LF_NU              369289 non-null  float64\n",
      " 26  HF                 369289 non-null  float64\n",
      " 27  HF_PCT             369289 non-null  float64\n",
      " 28  HF_NU              369289 non-null  float64\n",
      " 29  TP                 369289 non-null  float64\n",
      " 30  LF_HF              369289 non-null  float64\n",
      " 31  HF_LF              369289 non-null  float64\n",
      " 32  sampen             369289 non-null  float64\n",
      " 33  higuci             369289 non-null  float64\n",
      " 34  datasetId          369289 non-null  int64  \n",
      " 35  condition          369289 non-null  object \n",
      "dtypes: float64(34), int64(1), object(1)\n",
      "memory usage: 101.4+ MB\n"
     ]
    }
   ],
   "source": [
    "dataset.info()"
   ]
  },
  {
   "cell_type": "code",
   "execution_count": 14,
   "id": "ef016d29",
   "metadata": {
    "scrolled": true
   },
   "outputs": [
    {
     "data": {
      "image/png": "[encoded data removed]",
      "text/plain": [
       "<Figure size 432x288 with 1 Axes>"
      ]
     },
     "metadata": {
      "needs_background": "light"
     },
     "output_type": "display_data"
    }
   ],
   "source": [
    "import matplotlib.pyplot as plt \n",
    "\n",
    "interruption = len(dataset[train['condition'] == 'interruption'])\n",
    "stress = len(dataset[train['condition'] == 'time pressure'])\n",
    "no_stress = len(dataset[train['condition'] == 'no stress'])\n",
    "\n",
    "\n",
    "plt.bar(['interruption', 'stress', 'no stress'], [interruption, stress, no_stress], color=['green', 'blue', 'brown'])\n",
    "plt.show()"
   ]
  },
  {
   "cell_type": "markdown",
   "id": "4b7d200a",
   "metadata": {},
   "source": [
    "# Data Preprocessing"
   ]
  },
  {
   "cell_type": "code",
   "execution_count": 15,
   "id": "52e9cb0a",
   "metadata": {},
   "outputs": [],
   "source": [
    "from sklearn.preprocessing import MinMaxScaler\n",
    "from sklearn.preprocessing import LabelEncoder"
   ]
  },
  {
   "cell_type": "code",
   "execution_count": 16,
   "id": "0b2accbd",
   "metadata": {},
   "outputs": [],
   "source": [
    "lb = LabelEncoder()\n",
    "dataset['condition'] = lb.fit_transform(dataset['condition'])\n",
    "# test['condition'] = lb.fit_transform(test['condition'])"
   ]
  },
  {
   "cell_type": "code",
   "execution_count": 17,
   "id": "0c6d017f",
   "metadata": {},
   "outputs": [
    {
     "data": {
      "text/plain": [
       "72949     0\n",
       "18592     0\n",
       "263077    0\n",
       "131284    1\n",
       "Name: condition, dtype: int32"
      ]
     },
     "execution_count": 17,
     "metadata": {},
     "output_type": "execute_result"
    }
   ],
   "source": [
    "dataset['condition'].sample(4)"
   ]
  },
  {
   "cell_type": "code",
   "execution_count": 18,
   "id": "02d1b465",
   "metadata": {},
   "outputs": [],
   "source": [
    "\n",
    "y = dataset['condition']\n",
    "dataset = dataset.drop(['condition', 'datasetId'], axis=1)\n",
    "# min_max = MinMaxScaler()\n",
    "# train = min_max.fit_transform(train)"
   ]
  },
  {
   "cell_type": "code",
   "execution_count": 19,
   "id": "c0ed4b87",
   "metadata": {},
   "outputs": [
    {
     "data": {
      "text/html": [
       "<div>\n",
       "<style scoped>\n",
       "    .dataframe tbody tr th:only-of-type {\n",
       "        vertical-align: middle;\n",
       "    }\n",
       "\n",
       "    .dataframe tbody tr th {\n",
       "        vertical-align: top;\n",
       "    }\n",
       "\n",
       "    .dataframe thead th {\n",
       "        text-align: right;\n",
       "    }\n",
       "</style>\n",
       "<table border=\"1\" class=\"dataframe\">\n",
       "  <thead>\n",
       "    <tr style=\"text-align: right;\">\n",
       "      <th></th>\n",
       "      <th>MEAN_RR</th>\n",
       "      <th>MEDIAN_RR</th>\n",
       "      <th>SDRR</th>\n",
       "      <th>RMSSD</th>\n",
       "      <th>SDSD</th>\n",
       "      <th>SDRR_RMSSD</th>\n",
       "      <th>HR</th>\n",
       "      <th>pNN25</th>\n",
       "      <th>pNN50</th>\n",
       "      <th>SD1</th>\n",
       "      <th>...</th>\n",
       "      <th>LF_PCT</th>\n",
       "      <th>LF_NU</th>\n",
       "      <th>HF</th>\n",
       "      <th>HF_PCT</th>\n",
       "      <th>HF_NU</th>\n",
       "      <th>TP</th>\n",
       "      <th>LF_HF</th>\n",
       "      <th>HF_LF</th>\n",
       "      <th>sampen</th>\n",
       "      <th>higuci</th>\n",
       "    </tr>\n",
       "  </thead>\n",
       "  <tbody>\n",
       "    <tr>\n",
       "      <th>0</th>\n",
       "      <td>885.157845</td>\n",
       "      <td>853.763730</td>\n",
       "      <td>140.972741</td>\n",
       "      <td>15.554505</td>\n",
       "      <td>15.553371</td>\n",
       "      <td>9.063146</td>\n",
       "      <td>69.499952</td>\n",
       "      <td>11.133333</td>\n",
       "      <td>0.533333</td>\n",
       "      <td>11.001565</td>\n",
       "      <td>...</td>\n",
       "      <td>27.375666</td>\n",
       "      <td>98.485263</td>\n",
       "      <td>15.522603</td>\n",
       "      <td>0.421047</td>\n",
       "      <td>1.514737</td>\n",
       "      <td>3686.666157</td>\n",
       "      <td>65.018055</td>\n",
       "      <td>0.015380</td>\n",
       "      <td>2.139754</td>\n",
       "      <td>1.163485</td>\n",
       "    </tr>\n",
       "    <tr>\n",
       "      <th>1</th>\n",
       "      <td>939.425371</td>\n",
       "      <td>948.357865</td>\n",
       "      <td>81.317742</td>\n",
       "      <td>12.964439</td>\n",
       "      <td>12.964195</td>\n",
       "      <td>6.272369</td>\n",
       "      <td>64.363150</td>\n",
       "      <td>5.600000</td>\n",
       "      <td>0.000000</td>\n",
       "      <td>9.170129</td>\n",
       "      <td>...</td>\n",
       "      <td>22.954139</td>\n",
       "      <td>99.695397</td>\n",
       "      <td>2.108525</td>\n",
       "      <td>0.070133</td>\n",
       "      <td>0.304603</td>\n",
       "      <td>3006.487251</td>\n",
       "      <td>327.296635</td>\n",
       "      <td>0.003055</td>\n",
       "      <td>2.174499</td>\n",
       "      <td>1.084711</td>\n",
       "    </tr>\n",
       "    <tr>\n",
       "      <th>2</th>\n",
       "      <td>898.186047</td>\n",
       "      <td>907.006860</td>\n",
       "      <td>84.497236</td>\n",
       "      <td>16.305279</td>\n",
       "      <td>16.305274</td>\n",
       "      <td>5.182201</td>\n",
       "      <td>67.450066</td>\n",
       "      <td>13.066667</td>\n",
       "      <td>0.200000</td>\n",
       "      <td>11.533417</td>\n",
       "      <td>...</td>\n",
       "      <td>48.335104</td>\n",
       "      <td>98.950472</td>\n",
       "      <td>13.769729</td>\n",
       "      <td>0.512671</td>\n",
       "      <td>1.049528</td>\n",
       "      <td>2685.879461</td>\n",
       "      <td>94.280910</td>\n",
       "      <td>0.010607</td>\n",
       "      <td>2.135350</td>\n",
       "      <td>1.176315</td>\n",
       "    </tr>\n",
       "    <tr>\n",
       "      <th>3</th>\n",
       "      <td>881.757865</td>\n",
       "      <td>893.460030</td>\n",
       "      <td>90.370537</td>\n",
       "      <td>15.720468</td>\n",
       "      <td>15.720068</td>\n",
       "      <td>5.748591</td>\n",
       "      <td>68.809562</td>\n",
       "      <td>11.800000</td>\n",
       "      <td>0.133333</td>\n",
       "      <td>11.119476</td>\n",
       "      <td>...</td>\n",
       "      <td>29.290305</td>\n",
       "      <td>98.224706</td>\n",
       "      <td>18.181913</td>\n",
       "      <td>0.529387</td>\n",
       "      <td>1.775294</td>\n",
       "      <td>3434.520980</td>\n",
       "      <td>55.328701</td>\n",
       "      <td>0.018074</td>\n",
       "      <td>2.178341</td>\n",
       "      <td>1.179688</td>\n",
       "    </tr>\n",
       "    <tr>\n",
       "      <th>4</th>\n",
       "      <td>809.625331</td>\n",
       "      <td>811.184865</td>\n",
       "      <td>62.766242</td>\n",
       "      <td>19.213819</td>\n",
       "      <td>19.213657</td>\n",
       "      <td>3.266724</td>\n",
       "      <td>74.565728</td>\n",
       "      <td>20.200000</td>\n",
       "      <td>0.200000</td>\n",
       "      <td>13.590641</td>\n",
       "      <td>...</td>\n",
       "      <td>54.242160</td>\n",
       "      <td>96.720007</td>\n",
       "      <td>48.215822</td>\n",
       "      <td>1.839473</td>\n",
       "      <td>3.279993</td>\n",
       "      <td>2621.175204</td>\n",
       "      <td>29.487873</td>\n",
       "      <td>0.033912</td>\n",
       "      <td>2.221121</td>\n",
       "      <td>1.249612</td>\n",
       "    </tr>\n",
       "  </tbody>\n",
       "</table>\n",
       "<p>5 rows × 34 columns</p>\n",
       "</div>"
      ],
      "text/plain": [
       "      MEAN_RR   MEDIAN_RR        SDRR      RMSSD       SDSD  SDRR_RMSSD  \\\n",
       "0  885.157845  853.763730  140.972741  15.554505  15.553371    9.063146   \n",
       "1  939.425371  948.357865   81.317742  12.964439  12.964195    6.272369   \n",
       "2  898.186047  907.006860   84.497236  16.305279  16.305274    5.182201   \n",
       "3  881.757865  893.460030   90.370537  15.720468  15.720068    5.748591   \n",
       "4  809.625331  811.184865   62.766242  19.213819  19.213657    3.266724   \n",
       "\n",
       "          HR      pNN25     pNN50        SD1  ...     LF_PCT      LF_NU  \\\n",
       "0  69.499952  11.133333  0.533333  11.001565  ...  27.375666  98.485263   \n",
       "1  64.363150   5.600000  0.000000   9.170129  ...  22.954139  99.695397   \n",
       "2  67.450066  13.066667  0.200000  11.533417  ...  48.335104  98.950472   \n",
       "3  68.809562  11.800000  0.133333  11.119476  ...  29.290305  98.224706   \n",
       "4  74.565728  20.200000  0.200000  13.590641  ...  54.242160  96.720007   \n",
       "\n",
       "          HF    HF_PCT     HF_NU           TP       LF_HF     HF_LF    sampen  \\\n",
       "0  15.522603  0.421047  1.514737  3686.666157   65.018055  0.015380  2.139754   \n",
       "1   2.108525  0.070133  0.304603  3006.487251  327.296635  0.003055  2.174499   \n",
       "2  13.769729  0.512671  1.049528  2685.879461   94.280910  0.010607  2.135350   \n",
       "3  18.181913  0.529387  1.775294  3434.520980   55.328701  0.018074  2.178341   \n",
       "4  48.215822  1.839473  3.279993  2621.175204   29.487873  0.033912  2.221121   \n",
       "\n",
       "     higuci  \n",
       "0  1.163485  \n",
       "1  1.084711  \n",
       "2  1.176315  \n",
       "3  1.179688  \n",
       "4  1.249612  \n",
       "\n",
       "[5 rows x 34 columns]"
      ]
     },
     "execution_count": 19,
     "metadata": {},
     "output_type": "execute_result"
    }
   ],
   "source": [
    "dataset.head()"
   ]
  },
  {
   "cell_type": "markdown",
   "id": "ff149f78",
   "metadata": {},
   "source": [
    "# FURTHER PREPROCESSING"
   ]
  },
  {
   "cell_type": "code",
   "execution_count": 20,
   "id": "875c9c9d",
   "metadata": {},
   "outputs": [],
   "source": [
    "# droping dataset id colum"
   ]
  },
  {
   "cell_type": "code",
   "execution_count": 21,
   "id": "46fd1a40",
   "metadata": {},
   "outputs": [],
   "source": [
    "# test_x.drop('datasetId', inplace=True , axis='columns')\n",
    "# dataset.drop('datasetId', inplace=True , axis='columns')"
   ]
  },
  {
   "cell_type": "code",
   "execution_count": null,
   "id": "f1e4c453",
   "metadata": {},
   "outputs": [],
   "source": []
  },
  {
   "cell_type": "code",
   "execution_count": 22,
   "id": "cb2d661e",
   "metadata": {},
   "outputs": [
    {
     "data": {
      "text/html": [
       "<div>\n",
       "<style scoped>\n",
       "    .dataframe tbody tr th:only-of-type {\n",
       "        vertical-align: middle;\n",
       "    }\n",
       "\n",
       "    .dataframe tbody tr th {\n",
       "        vertical-align: top;\n",
       "    }\n",
       "\n",
       "    .dataframe thead th {\n",
       "        text-align: right;\n",
       "    }\n",
       "</style>\n",
       "<table border=\"1\" class=\"dataframe\">\n",
       "  <thead>\n",
       "    <tr style=\"text-align: right;\">\n",
       "      <th></th>\n",
       "      <th>MEAN_RR</th>\n",
       "      <th>MEDIAN_RR</th>\n",
       "      <th>SDRR</th>\n",
       "      <th>RMSSD</th>\n",
       "      <th>SDSD</th>\n",
       "      <th>SDRR_RMSSD</th>\n",
       "      <th>HR</th>\n",
       "      <th>pNN25</th>\n",
       "      <th>pNN50</th>\n",
       "      <th>SD1</th>\n",
       "      <th>...</th>\n",
       "      <th>LF_PCT</th>\n",
       "      <th>LF_NU</th>\n",
       "      <th>HF</th>\n",
       "      <th>HF_PCT</th>\n",
       "      <th>HF_NU</th>\n",
       "      <th>TP</th>\n",
       "      <th>LF_HF</th>\n",
       "      <th>HF_LF</th>\n",
       "      <th>sampen</th>\n",
       "      <th>higuci</th>\n",
       "    </tr>\n",
       "  </thead>\n",
       "  <tbody>\n",
       "    <tr>\n",
       "      <th>0</th>\n",
       "      <td>0.435965</td>\n",
       "      <td>0.296233</td>\n",
       "      <td>0.212099</td>\n",
       "      <td>0.475113</td>\n",
       "      <td>0.475064</td>\n",
       "      <td>0.123454</td>\n",
       "      <td>0.319352</td>\n",
       "      <td>0.282572</td>\n",
       "      <td>0.097561</td>\n",
       "      <td>0.475064</td>\n",
       "      <td>...</td>\n",
       "      <td>0.332752</td>\n",
       "      <td>0.950116</td>\n",
       "      <td>0.042425</td>\n",
       "      <td>0.031993</td>\n",
       "      <td>0.049884</td>\n",
       "      <td>0.254282</td>\n",
       "      <td>0.008044</td>\n",
       "      <td>0.035395</td>\n",
       "      <td>0.947182</td>\n",
       "      <td>0.395743</td>\n",
       "    </tr>\n",
       "    <tr>\n",
       "      <th>1</th>\n",
       "      <td>0.506031</td>\n",
       "      <td>0.379515</td>\n",
       "      <td>0.100855</td>\n",
       "      <td>0.352360</td>\n",
       "      <td>0.352353</td>\n",
       "      <td>0.069644</td>\n",
       "      <td>0.240343</td>\n",
       "      <td>0.142132</td>\n",
       "      <td>0.000000</td>\n",
       "      <td>0.352353</td>\n",
       "      <td>...</td>\n",
       "      <td>0.274393</td>\n",
       "      <td>0.990309</td>\n",
       "      <td>0.005616</td>\n",
       "      <td>0.005192</td>\n",
       "      <td>0.009691</td>\n",
       "      <td>0.202013</td>\n",
       "      <td>0.041695</td>\n",
       "      <td>0.006793</td>\n",
       "      <td>0.966481</td>\n",
       "      <td>0.155015</td>\n",
       "    </tr>\n",
       "    <tr>\n",
       "      <th>2</th>\n",
       "      <td>0.452786</td>\n",
       "      <td>0.343109</td>\n",
       "      <td>0.106784</td>\n",
       "      <td>0.510695</td>\n",
       "      <td>0.510700</td>\n",
       "      <td>0.048624</td>\n",
       "      <td>0.287823</td>\n",
       "      <td>0.331641</td>\n",
       "      <td>0.036585</td>\n",
       "      <td>0.510700</td>\n",
       "      <td>...</td>\n",
       "      <td>0.609394</td>\n",
       "      <td>0.965567</td>\n",
       "      <td>0.037615</td>\n",
       "      <td>0.038990</td>\n",
       "      <td>0.034433</td>\n",
       "      <td>0.177376</td>\n",
       "      <td>0.011799</td>\n",
       "      <td>0.024316</td>\n",
       "      <td>0.944735</td>\n",
       "      <td>0.434949</td>\n",
       "    </tr>\n",
       "    <tr>\n",
       "      <th>3</th>\n",
       "      <td>0.431575</td>\n",
       "      <td>0.331183</td>\n",
       "      <td>0.117737</td>\n",
       "      <td>0.482979</td>\n",
       "      <td>0.482965</td>\n",
       "      <td>0.059545</td>\n",
       "      <td>0.308733</td>\n",
       "      <td>0.299492</td>\n",
       "      <td>0.024390</td>\n",
       "      <td>0.482965</td>\n",
       "      <td>...</td>\n",
       "      <td>0.358023</td>\n",
       "      <td>0.941462</td>\n",
       "      <td>0.049723</td>\n",
       "      <td>0.040267</td>\n",
       "      <td>0.058538</td>\n",
       "      <td>0.234906</td>\n",
       "      <td>0.006801</td>\n",
       "      <td>0.041645</td>\n",
       "      <td>0.968615</td>\n",
       "      <td>0.445258</td>\n",
       "    </tr>\n",
       "    <tr>\n",
       "      <th>4</th>\n",
       "      <td>0.338444</td>\n",
       "      <td>0.258746</td>\n",
       "      <td>0.066260</td>\n",
       "      <td>0.648543</td>\n",
       "      <td>0.648539</td>\n",
       "      <td>0.011691</td>\n",
       "      <td>0.397269</td>\n",
       "      <td>0.512690</td>\n",
       "      <td>0.036585</td>\n",
       "      <td>0.648539</td>\n",
       "      <td>...</td>\n",
       "      <td>0.687361</td>\n",
       "      <td>0.891485</td>\n",
       "      <td>0.132137</td>\n",
       "      <td>0.140323</td>\n",
       "      <td>0.108515</td>\n",
       "      <td>0.172403</td>\n",
       "      <td>0.003486</td>\n",
       "      <td>0.078401</td>\n",
       "      <td>0.992379</td>\n",
       "      <td>0.658937</td>\n",
       "    </tr>\n",
       "  </tbody>\n",
       "</table>\n",
       "<p>5 rows × 34 columns</p>\n",
       "</div>"
      ],
      "text/plain": [
       "    MEAN_RR  MEDIAN_RR      SDRR     RMSSD      SDSD  SDRR_RMSSD        HR  \\\n",
       "0  0.435965   0.296233  0.212099  0.475113  0.475064    0.123454  0.319352   \n",
       "1  0.506031   0.379515  0.100855  0.352360  0.352353    0.069644  0.240343   \n",
       "2  0.452786   0.343109  0.106784  0.510695  0.510700    0.048624  0.287823   \n",
       "3  0.431575   0.331183  0.117737  0.482979  0.482965    0.059545  0.308733   \n",
       "4  0.338444   0.258746  0.066260  0.648543  0.648539    0.011691  0.397269   \n",
       "\n",
       "      pNN25     pNN50       SD1  ...    LF_PCT     LF_NU        HF    HF_PCT  \\\n",
       "0  0.282572  0.097561  0.475064  ...  0.332752  0.950116  0.042425  0.031993   \n",
       "1  0.142132  0.000000  0.352353  ...  0.274393  0.990309  0.005616  0.005192   \n",
       "2  0.331641  0.036585  0.510700  ...  0.609394  0.965567  0.037615  0.038990   \n",
       "3  0.299492  0.024390  0.482965  ...  0.358023  0.941462  0.049723  0.040267   \n",
       "4  0.512690  0.036585  0.648539  ...  0.687361  0.891485  0.132137  0.140323   \n",
       "\n",
       "      HF_NU        TP     LF_HF     HF_LF    sampen    higuci  \n",
       "0  0.049884  0.254282  0.008044  0.035395  0.947182  0.395743  \n",
       "1  0.009691  0.202013  0.041695  0.006793  0.966481  0.155015  \n",
       "2  0.034433  0.177376  0.011799  0.024316  0.944735  0.434949  \n",
       "3  0.058538  0.234906  0.006801  0.041645  0.968615  0.445258  \n",
       "4  0.108515  0.172403  0.003486  0.078401  0.992379  0.658937  \n",
       "\n",
       "[5 rows x 34 columns]"
      ]
     },
     "execution_count": 22,
     "metadata": {},
     "output_type": "execute_result"
    }
   ],
   "source": [
    "min_max = MinMaxScaler()\n",
    "# train_x = min_max.fit_transform(train_x)\n",
    "# test_x = min_max.fit_transform(test_x)\n",
    "\n",
    "for c in dataset.columns: \n",
    "   dataset[c] = min_max.fit_transform(dataset[[c]])\n",
    "\n",
    "dataset.head()"
   ]
  },
  {
   "cell_type": "code",
   "execution_count": 23,
   "id": "c7a8c355",
   "metadata": {},
   "outputs": [],
   "source": [
    "# min_max = MinMaxScaler()\n",
    "# # train_x = min_max.fit_transform(train_x)\n",
    "# # test_x = min_max.fit_transform(test_x)\n",
    "\n",
    "# for c in test_x.columns: \n",
    "#    test_x[c] = min_max.fit_transform(test_x[[c]])\n",
    "\n",
    "# test_x.head()"
   ]
  },
  {
   "cell_type": "code",
   "execution_count": 24,
   "id": "33905a2a",
   "metadata": {
    "scrolled": true
   },
   "outputs": [
    {
     "data": {
      "text/html": [
       "<div>\n",
       "<style scoped>\n",
       "    .dataframe tbody tr th:only-of-type {\n",
       "        vertical-align: middle;\n",
       "    }\n",
       "\n",
       "    .dataframe tbody tr th {\n",
       "        vertical-align: top;\n",
       "    }\n",
       "\n",
       "    .dataframe thead th {\n",
       "        text-align: right;\n",
       "    }\n",
       "</style>\n",
       "<table border=\"1\" class=\"dataframe\">\n",
       "  <thead>\n",
       "    <tr style=\"text-align: right;\">\n",
       "      <th></th>\n",
       "      <th>MEAN_RR</th>\n",
       "      <th>MEDIAN_RR</th>\n",
       "      <th>SDRR</th>\n",
       "      <th>RMSSD</th>\n",
       "      <th>SDSD</th>\n",
       "      <th>SDRR_RMSSD</th>\n",
       "      <th>HR</th>\n",
       "      <th>pNN25</th>\n",
       "      <th>pNN50</th>\n",
       "      <th>SD1</th>\n",
       "      <th>...</th>\n",
       "      <th>LF_PCT</th>\n",
       "      <th>LF_NU</th>\n",
       "      <th>HF</th>\n",
       "      <th>HF_PCT</th>\n",
       "      <th>HF_NU</th>\n",
       "      <th>TP</th>\n",
       "      <th>LF_HF</th>\n",
       "      <th>HF_LF</th>\n",
       "      <th>sampen</th>\n",
       "      <th>higuci</th>\n",
       "    </tr>\n",
       "  </thead>\n",
       "  <tbody>\n",
       "    <tr>\n",
       "      <th>0</th>\n",
       "      <td>0.435965</td>\n",
       "      <td>0.296233</td>\n",
       "      <td>0.212099</td>\n",
       "      <td>0.475113</td>\n",
       "      <td>0.475064</td>\n",
       "      <td>0.123454</td>\n",
       "      <td>0.319352</td>\n",
       "      <td>0.282572</td>\n",
       "      <td>0.097561</td>\n",
       "      <td>0.475064</td>\n",
       "      <td>...</td>\n",
       "      <td>0.332752</td>\n",
       "      <td>0.950116</td>\n",
       "      <td>0.042425</td>\n",
       "      <td>0.031993</td>\n",
       "      <td>0.049884</td>\n",
       "      <td>0.254282</td>\n",
       "      <td>0.008044</td>\n",
       "      <td>0.035395</td>\n",
       "      <td>0.947182</td>\n",
       "      <td>0.395743</td>\n",
       "    </tr>\n",
       "    <tr>\n",
       "      <th>1</th>\n",
       "      <td>0.506031</td>\n",
       "      <td>0.379515</td>\n",
       "      <td>0.100855</td>\n",
       "      <td>0.352360</td>\n",
       "      <td>0.352353</td>\n",
       "      <td>0.069644</td>\n",
       "      <td>0.240343</td>\n",
       "      <td>0.142132</td>\n",
       "      <td>0.000000</td>\n",
       "      <td>0.352353</td>\n",
       "      <td>...</td>\n",
       "      <td>0.274393</td>\n",
       "      <td>0.990309</td>\n",
       "      <td>0.005616</td>\n",
       "      <td>0.005192</td>\n",
       "      <td>0.009691</td>\n",
       "      <td>0.202013</td>\n",
       "      <td>0.041695</td>\n",
       "      <td>0.006793</td>\n",
       "      <td>0.966481</td>\n",
       "      <td>0.155015</td>\n",
       "    </tr>\n",
       "    <tr>\n",
       "      <th>2</th>\n",
       "      <td>0.452786</td>\n",
       "      <td>0.343109</td>\n",
       "      <td>0.106784</td>\n",
       "      <td>0.510695</td>\n",
       "      <td>0.510700</td>\n",
       "      <td>0.048624</td>\n",
       "      <td>0.287823</td>\n",
       "      <td>0.331641</td>\n",
       "      <td>0.036585</td>\n",
       "      <td>0.510700</td>\n",
       "      <td>...</td>\n",
       "      <td>0.609394</td>\n",
       "      <td>0.965567</td>\n",
       "      <td>0.037615</td>\n",
       "      <td>0.038990</td>\n",
       "      <td>0.034433</td>\n",
       "      <td>0.177376</td>\n",
       "      <td>0.011799</td>\n",
       "      <td>0.024316</td>\n",
       "      <td>0.944735</td>\n",
       "      <td>0.434949</td>\n",
       "    </tr>\n",
       "    <tr>\n",
       "      <th>3</th>\n",
       "      <td>0.431575</td>\n",
       "      <td>0.331183</td>\n",
       "      <td>0.117737</td>\n",
       "      <td>0.482979</td>\n",
       "      <td>0.482965</td>\n",
       "      <td>0.059545</td>\n",
       "      <td>0.308733</td>\n",
       "      <td>0.299492</td>\n",
       "      <td>0.024390</td>\n",
       "      <td>0.482965</td>\n",
       "      <td>...</td>\n",
       "      <td>0.358023</td>\n",
       "      <td>0.941462</td>\n",
       "      <td>0.049723</td>\n",
       "      <td>0.040267</td>\n",
       "      <td>0.058538</td>\n",
       "      <td>0.234906</td>\n",
       "      <td>0.006801</td>\n",
       "      <td>0.041645</td>\n",
       "      <td>0.968615</td>\n",
       "      <td>0.445258</td>\n",
       "    </tr>\n",
       "    <tr>\n",
       "      <th>4</th>\n",
       "      <td>0.338444</td>\n",
       "      <td>0.258746</td>\n",
       "      <td>0.066260</td>\n",
       "      <td>0.648543</td>\n",
       "      <td>0.648539</td>\n",
       "      <td>0.011691</td>\n",
       "      <td>0.397269</td>\n",
       "      <td>0.512690</td>\n",
       "      <td>0.036585</td>\n",
       "      <td>0.648539</td>\n",
       "      <td>...</td>\n",
       "      <td>0.687361</td>\n",
       "      <td>0.891485</td>\n",
       "      <td>0.132137</td>\n",
       "      <td>0.140323</td>\n",
       "      <td>0.108515</td>\n",
       "      <td>0.172403</td>\n",
       "      <td>0.003486</td>\n",
       "      <td>0.078401</td>\n",
       "      <td>0.992379</td>\n",
       "      <td>0.658937</td>\n",
       "    </tr>\n",
       "  </tbody>\n",
       "</table>\n",
       "<p>5 rows × 34 columns</p>\n",
       "</div>"
      ],
      "text/plain": [
       "    MEAN_RR  MEDIAN_RR      SDRR     RMSSD      SDSD  SDRR_RMSSD        HR  \\\n",
       "0  0.435965   0.296233  0.212099  0.475113  0.475064    0.123454  0.319352   \n",
       "1  0.506031   0.379515  0.100855  0.352360  0.352353    0.069644  0.240343   \n",
       "2  0.452786   0.343109  0.106784  0.510695  0.510700    0.048624  0.287823   \n",
       "3  0.431575   0.331183  0.117737  0.482979  0.482965    0.059545  0.308733   \n",
       "4  0.338444   0.258746  0.066260  0.648543  0.648539    0.011691  0.397269   \n",
       "\n",
       "      pNN25     pNN50       SD1  ...    LF_PCT     LF_NU        HF    HF_PCT  \\\n",
       "0  0.282572  0.097561  0.475064  ...  0.332752  0.950116  0.042425  0.031993   \n",
       "1  0.142132  0.000000  0.352353  ...  0.274393  0.990309  0.005616  0.005192   \n",
       "2  0.331641  0.036585  0.510700  ...  0.609394  0.965567  0.037615  0.038990   \n",
       "3  0.299492  0.024390  0.482965  ...  0.358023  0.941462  0.049723  0.040267   \n",
       "4  0.512690  0.036585  0.648539  ...  0.687361  0.891485  0.132137  0.140323   \n",
       "\n",
       "      HF_NU        TP     LF_HF     HF_LF    sampen    higuci  \n",
       "0  0.049884  0.254282  0.008044  0.035395  0.947182  0.395743  \n",
       "1  0.009691  0.202013  0.041695  0.006793  0.966481  0.155015  \n",
       "2  0.034433  0.177376  0.011799  0.024316  0.944735  0.434949  \n",
       "3  0.058538  0.234906  0.006801  0.041645  0.968615  0.445258  \n",
       "4  0.108515  0.172403  0.003486  0.078401  0.992379  0.658937  \n",
       "\n",
       "[5 rows x 34 columns]"
      ]
     },
     "execution_count": 24,
     "metadata": {},
     "output_type": "execute_result"
    }
   ],
   "source": [
    "mini_data = dataset[:10000]\n",
    "mini_data.head()"
   ]
  },
  {
   "cell_type": "code",
   "execution_count": null,
   "id": "bdf12dd8",
   "metadata": {
    "scrolled": true
   },
   "outputs": [],
   "source": []
  },
  {
   "cell_type": "markdown",
   "id": "a56a6719",
   "metadata": {},
   "source": [
    "# Training and Testing data"
   ]
  },
  {
   "cell_type": "code",
   "execution_count": 25,
   "id": "23ec41f4",
   "metadata": {},
   "outputs": [],
   "source": [
    "from sklearn import model_selection"
   ]
  },
  {
   "cell_type": "code",
   "execution_count": null,
   "id": "3ade7710",
   "metadata": {},
   "outputs": [],
   "source": []
  },
  {
   "cell_type": "code",
   "execution_count": 26,
   "id": "b41aa461",
   "metadata": {},
   "outputs": [
    {
     "name": "stdout",
     "output_type": "stream",
     "text": [
      "Train x :  (295431, 34)\n",
      "Train y :  (295431,)\n",
      "test x :  (73858, 34)\n",
      "test y :  (73858,)\n"
     ]
    }
   ],
   "source": [
    "# print(\"Train x : \", train_x.shape)\n",
    "# print(\"Train y : \" , train_y.shape)\n",
    "X_train, X_test, y_train, y_test = model_selection.train_test_split(dataset,y, test_size=.2)\n",
    "print(\"Train x : \", X_train.shape)\n",
    "print(\"Train y : \" , y_train.shape)\n",
    "print(\"test x : \", X_test.shape)\n",
    "print(\"test y : \" , y_test.shape)"
   ]
  },
  {
   "cell_type": "code",
   "execution_count": 27,
   "id": "a8d8201d",
   "metadata": {},
   "outputs": [],
   "source": [
    "# for testing dataset \n",
    "# test_y = test['condition']\n",
    "# test_x = test.drop('condition', axis=1)"
   ]
  },
  {
   "cell_type": "code",
   "execution_count": 28,
   "id": "2983416f",
   "metadata": {},
   "outputs": [],
   "source": [
    "# print(\"Test x : \", test_x.shape)\n",
    "# print(\"Test y : \" , test_y.shape)"
   ]
  },
  {
   "cell_type": "code",
   "execution_count": 29,
   "id": "1dfc3298",
   "metadata": {},
   "outputs": [
    {
     "data": {
      "text/plain": [
       "Index(['MEAN_RR', 'MEDIAN_RR', 'SDRR', 'RMSSD', 'SDSD', 'SDRR_RMSSD', 'HR',\n",
       "       'pNN25', 'pNN50', 'SD1', 'SD2', 'KURT', 'SKEW', 'MEAN_REL_RR',\n",
       "       'MEDIAN_REL_RR', 'SDRR_REL_RR', 'RMSSD_REL_RR', 'SDSD_REL_RR',\n",
       "       'SDRR_RMSSD_REL_RR', 'KURT_REL_RR', 'SKEW_REL_RR', 'VLF', 'VLF_PCT',\n",
       "       'LF', 'LF_PCT', 'LF_NU', 'HF', 'HF_PCT', 'HF_NU', 'TP', 'LF_HF',\n",
       "       'HF_LF', 'sampen', 'higuci'],\n",
       "      dtype='object')"
      ]
     },
     "execution_count": 29,
     "metadata": {},
     "output_type": "execute_result"
    }
   ],
   "source": [
    "X_train.columns"
   ]
  },
  {
   "cell_type": "code",
   "execution_count": 30,
   "id": "01066101",
   "metadata": {},
   "outputs": [
    {
     "data": {
      "text/plain": [
       "48656     1\n",
       "365097    1\n",
       "338286    1\n",
       "310246    2\n",
       "229097    1\n",
       "         ..\n",
       "290950    1\n",
       "317792    1\n",
       "8725      1\n",
       "56410     1\n",
       "114604    1\n",
       "Name: condition, Length: 295431, dtype: int32"
      ]
     },
     "execution_count": 30,
     "metadata": {},
     "output_type": "execute_result"
    }
   ],
   "source": [
    "y_train"
   ]
  },
  {
   "cell_type": "markdown",
   "id": "0341d2dd",
   "metadata": {},
   "source": [
    "# Support Vector Machine model"
   ]
  },
  {
   "cell_type": "code",
   "execution_count": 31,
   "id": "424bb06b",
   "metadata": {},
   "outputs": [],
   "source": [
    "from sklearn.svm import SVC, LinearSVC\n",
    "from sklearn import linear_model\n",
    "from sklearn.naive_bayes import GaussianNB\n",
    "from sklearn.ensemble import RandomForestClassifier\n"
   ]
  },
  {
   "cell_type": "markdown",
   "id": "122b760d",
   "metadata": {},
   "source": [
    "# Model Training "
   ]
  },
  {
   "cell_type": "code",
   "execution_count": null,
   "id": "c9e1fbb6",
   "metadata": {},
   "outputs": [],
   "source": [
    "clf = SVC()\n",
    "clf.fit(X_train, y_train)"
   ]
  },
  {
   "cell_type": "code",
   "execution_count": 33,
   "id": "8ba31144",
   "metadata": {},
   "outputs": [
    {
     "ename": "NameError",
     "evalue": "name 'test_x' is not defined",
     "output_type": "error",
     "traceback": [
      "\u001b[1;31m---------------------------------------------------------------------------\u001b[0m",
      "\u001b[1;31mNameError\u001b[0m                                 Traceback (most recent call last)",
      "Input \u001b[1;32mIn [33]\u001b[0m, in \u001b[0;36m<cell line: 1>\u001b[1;34m()\u001b[0m\n\u001b[1;32m----> 1\u001b[0m clf\u001b[38;5;241m.\u001b[39mscore(\u001b[43mtest_x\u001b[49m, test_y)\n",
      "\u001b[1;31mNameError\u001b[0m: name 'test_x' is not defined"
     ]
    }
   ],
   "source": [
    "clf.score(X_test, y_test)"
   ]
  },
  {
   "cell_type": "code",
   "execution_count": null,
   "id": "7fedf6ec",
   "metadata": {},
   "outputs": [],
   "source": []
  },
  {
   "cell_type": "code",
   "execution_count": null,
   "id": "d9edc8cf",
   "metadata": {},
   "outputs": [],
   "source": []
  },
  {
   "cell_type": "code",
   "execution_count": null,
   "id": "cc1dfd7a",
   "metadata": {},
   "outputs": [],
   "source": [
    "from sklearn import svm\n",
    "\n",
    "svr = svm.SVR()\n",
    "svr.fit(train_x, train_y)"
   ]
  },
  {
   "cell_type": "code",
   "execution_count": null,
   "id": "59beeba7",
   "metadata": {},
   "outputs": [],
   "source": []
  },
  {
   "cell_type": "code",
   "execution_count": null,
   "id": "a9710182",
   "metadata": {},
   "outputs": [],
   "source": []
  },
  {
   "cell_type": "code",
   "execution_count": 45,
   "id": "fc5626cd",
   "metadata": {},
   "outputs": [
    {
     "name": "stderr",
     "output_type": "stream",
     "text": [
      "c:\\users\\binary\\appdata\\local\\programs\\python\\python39\\lib\\site-packages\\sklearn\\linear_model\\_logistic.py:814: ConvergenceWarning: lbfgs failed to converge (status=1):\n",
      "STOP: TOTAL NO. of ITERATIONS REACHED LIMIT.\n",
      "\n",
      "Increase the number of iterations (max_iter) or scale the data as shown in:\n",
      "    https://scikit-learn.org/stable/modules/preprocessing.html\n",
      "Please also refer to the documentation for alternative solver options:\n",
      "    https://scikit-learn.org/stable/modules/linear_model.html#logistic-regression\n",
      "  n_iter_i = _check_optimize_result(\n"
     ]
    },
    {
     "data": {
      "text/plain": [
       "LogisticRegression()"
      ]
     },
     "execution_count": 45,
     "metadata": {},
     "output_type": "execute_result"
    }
   ],
   "source": [
    "lr = linear_model.LogisticRegression()\n",
    "lr.fit(train_x, train_y)"
   ]
  },
  {
   "cell_type": "code",
   "execution_count": 46,
   "id": "b86f5507",
   "metadata": {},
   "outputs": [
    {
     "data": {
      "text/plain": [
       "0.6337581946238393"
      ]
     },
     "execution_count": 46,
     "metadata": {},
     "output_type": "execute_result"
    }
   ],
   "source": [
    "lr.score(test_x, test_y)"
   ]
  },
  {
   "cell_type": "markdown",
   "id": "8517d42e",
   "metadata": {},
   "source": [
    "# Model Testing"
   ]
  },
  {
   "cell_type": "code",
   "execution_count": 35,
   "id": "5a05764e",
   "metadata": {},
   "outputs": [],
   "source": [
    "from sklearn.naive_bayes import GaussianNB"
   ]
  },
  {
   "cell_type": "code",
   "execution_count": 41,
   "id": "1dc47ec8",
   "metadata": {},
   "outputs": [
    {
     "data": {
      "text/plain": [
       "GaussianNB()"
      ]
     },
     "execution_count": 41,
     "metadata": {},
     "output_type": "execute_result"
    }
   ],
   "source": [
    "gnb = GaussianNB()\n",
    "gnb.fit(train_x, train_y)"
   ]
  },
  {
   "cell_type": "code",
   "execution_count": 42,
   "id": "2afe6280",
   "metadata": {},
   "outputs": [
    {
     "data": {
      "text/plain": [
       "0.5177052616186971"
      ]
     },
     "execution_count": 42,
     "metadata": {},
     "output_type": "execute_result"
    }
   ],
   "source": [
    "gnb.score(test_x, test_y)"
   ]
  },
  {
   "cell_type": "code",
   "execution_count": null,
   "id": "d146cae2",
   "metadata": {},
   "outputs": [],
   "source": []
  },
  {
   "cell_type": "code",
   "execution_count": 52,
   "id": "e6381f9d",
   "metadata": {},
   "outputs": [
    {
     "ename": "KeyboardInterrupt",
     "evalue": "",
     "output_type": "error",
     "traceback": [
      "\u001b[1;31m---------------------------------------------------------------------------\u001b[0m",
      "\u001b[1;31mKeyboardInterrupt\u001b[0m                         Traceback (most recent call last)",
      "Input \u001b[1;32mIn [52]\u001b[0m, in \u001b[0;36m<cell line: 2>\u001b[1;34m()\u001b[0m\n\u001b[0;32m      1\u001b[0m rf \u001b[38;5;241m=\u001b[39m RandomForestClassifier()\n\u001b[1;32m----> 2\u001b[0m \u001b[43mrf\u001b[49m\u001b[38;5;241;43m.\u001b[39;49m\u001b[43mfit\u001b[49m\u001b[43m(\u001b[49m\u001b[43mtrain_x\u001b[49m\u001b[43m,\u001b[49m\u001b[43m \u001b[49m\u001b[43mtrain_y\u001b[49m\u001b[43m)\u001b[49m\n",
      "File \u001b[1;32mc:\\users\\binary\\appdata\\local\\programs\\python\\python39\\lib\\site-packages\\sklearn\\ensemble\\_forest.py:450\u001b[0m, in \u001b[0;36mBaseForest.fit\u001b[1;34m(self, X, y, sample_weight)\u001b[0m\n\u001b[0;32m    439\u001b[0m trees \u001b[38;5;241m=\u001b[39m [\n\u001b[0;32m    440\u001b[0m     \u001b[38;5;28mself\u001b[39m\u001b[38;5;241m.\u001b[39m_make_estimator(append\u001b[38;5;241m=\u001b[39m\u001b[38;5;28;01mFalse\u001b[39;00m, random_state\u001b[38;5;241m=\u001b[39mrandom_state)\n\u001b[0;32m    441\u001b[0m     \u001b[38;5;28;01mfor\u001b[39;00m i \u001b[38;5;129;01min\u001b[39;00m \u001b[38;5;28mrange\u001b[39m(n_more_estimators)\n\u001b[0;32m    442\u001b[0m ]\n\u001b[0;32m    444\u001b[0m \u001b[38;5;66;03m# Parallel loop: we prefer the threading backend as the Cython code\u001b[39;00m\n\u001b[0;32m    445\u001b[0m \u001b[38;5;66;03m# for fitting the trees is internally releasing the Python GIL\u001b[39;00m\n\u001b[0;32m    446\u001b[0m \u001b[38;5;66;03m# making threading more efficient than multiprocessing in\u001b[39;00m\n\u001b[0;32m    447\u001b[0m \u001b[38;5;66;03m# that case. However, for joblib 0.12+ we respect any\u001b[39;00m\n\u001b[0;32m    448\u001b[0m \u001b[38;5;66;03m# parallel_backend contexts set at a higher level,\u001b[39;00m\n\u001b[0;32m    449\u001b[0m \u001b[38;5;66;03m# since correctness does not rely on using threads.\u001b[39;00m\n\u001b[1;32m--> 450\u001b[0m trees \u001b[38;5;241m=\u001b[39m \u001b[43mParallel\u001b[49m\u001b[43m(\u001b[49m\n\u001b[0;32m    451\u001b[0m \u001b[43m    \u001b[49m\u001b[43mn_jobs\u001b[49m\u001b[38;5;241;43m=\u001b[39;49m\u001b[38;5;28;43mself\u001b[39;49m\u001b[38;5;241;43m.\u001b[39;49m\u001b[43mn_jobs\u001b[49m\u001b[43m,\u001b[49m\n\u001b[0;32m    452\u001b[0m \u001b[43m    \u001b[49m\u001b[43mverbose\u001b[49m\u001b[38;5;241;43m=\u001b[39;49m\u001b[38;5;28;43mself\u001b[39;49m\u001b[38;5;241;43m.\u001b[39;49m\u001b[43mverbose\u001b[49m\u001b[43m,\u001b[49m\n\u001b[0;32m    453\u001b[0m \u001b[43m    \u001b[49m\u001b[38;5;241;43m*\u001b[39;49m\u001b[38;5;241;43m*\u001b[39;49m\u001b[43m_joblib_parallel_args\u001b[49m\u001b[43m(\u001b[49m\u001b[43mprefer\u001b[49m\u001b[38;5;241;43m=\u001b[39;49m\u001b[38;5;124;43m\"\u001b[39;49m\u001b[38;5;124;43mthreads\u001b[39;49m\u001b[38;5;124;43m\"\u001b[39;49m\u001b[43m)\u001b[49m\u001b[43m,\u001b[49m\n\u001b[0;32m    454\u001b[0m \u001b[43m\u001b[49m\u001b[43m)\u001b[49m\u001b[43m(\u001b[49m\n\u001b[0;32m    455\u001b[0m \u001b[43m    \u001b[49m\u001b[43mdelayed\u001b[49m\u001b[43m(\u001b[49m\u001b[43m_parallel_build_trees\u001b[49m\u001b[43m)\u001b[49m\u001b[43m(\u001b[49m\n\u001b[0;32m    456\u001b[0m \u001b[43m        \u001b[49m\u001b[43mt\u001b[49m\u001b[43m,\u001b[49m\n\u001b[0;32m    457\u001b[0m \u001b[43m        \u001b[49m\u001b[38;5;28;43mself\u001b[39;49m\u001b[43m,\u001b[49m\n\u001b[0;32m    458\u001b[0m \u001b[43m        \u001b[49m\u001b[43mX\u001b[49m\u001b[43m,\u001b[49m\n\u001b[0;32m    459\u001b[0m \u001b[43m        \u001b[49m\u001b[43my\u001b[49m\u001b[43m,\u001b[49m\n\u001b[0;32m    460\u001b[0m \u001b[43m        \u001b[49m\u001b[43msample_weight\u001b[49m\u001b[43m,\u001b[49m\n\u001b[0;32m    461\u001b[0m \u001b[43m        \u001b[49m\u001b[43mi\u001b[49m\u001b[43m,\u001b[49m\n\u001b[0;32m    462\u001b[0m \u001b[43m        \u001b[49m\u001b[38;5;28;43mlen\u001b[39;49m\u001b[43m(\u001b[49m\u001b[43mtrees\u001b[49m\u001b[43m)\u001b[49m\u001b[43m,\u001b[49m\n\u001b[0;32m    463\u001b[0m \u001b[43m        \u001b[49m\u001b[43mverbose\u001b[49m\u001b[38;5;241;43m=\u001b[39;49m\u001b[38;5;28;43mself\u001b[39;49m\u001b[38;5;241;43m.\u001b[39;49m\u001b[43mverbose\u001b[49m\u001b[43m,\u001b[49m\n\u001b[0;32m    464\u001b[0m \u001b[43m        \u001b[49m\u001b[43mclass_weight\u001b[49m\u001b[38;5;241;43m=\u001b[39;49m\u001b[38;5;28;43mself\u001b[39;49m\u001b[38;5;241;43m.\u001b[39;49m\u001b[43mclass_weight\u001b[49m\u001b[43m,\u001b[49m\n\u001b[0;32m    465\u001b[0m \u001b[43m        \u001b[49m\u001b[43mn_samples_bootstrap\u001b[49m\u001b[38;5;241;43m=\u001b[39;49m\u001b[43mn_samples_bootstrap\u001b[49m\u001b[43m,\u001b[49m\n\u001b[0;32m    466\u001b[0m \u001b[43m    \u001b[49m\u001b[43m)\u001b[49m\n\u001b[0;32m    467\u001b[0m \u001b[43m    \u001b[49m\u001b[38;5;28;43;01mfor\u001b[39;49;00m\u001b[43m \u001b[49m\u001b[43mi\u001b[49m\u001b[43m,\u001b[49m\u001b[43m \u001b[49m\u001b[43mt\u001b[49m\u001b[43m \u001b[49m\u001b[38;5;129;43;01min\u001b[39;49;00m\u001b[43m \u001b[49m\u001b[38;5;28;43menumerate\u001b[39;49m\u001b[43m(\u001b[49m\u001b[43mtrees\u001b[49m\u001b[43m)\u001b[49m\n\u001b[0;32m    468\u001b[0m \u001b[43m\u001b[49m\u001b[43m)\u001b[49m\n\u001b[0;32m    470\u001b[0m \u001b[38;5;66;03m# Collect newly grown trees\u001b[39;00m\n\u001b[0;32m    471\u001b[0m \u001b[38;5;28mself\u001b[39m\u001b[38;5;241m.\u001b[39mestimators_\u001b[38;5;241m.\u001b[39mextend(trees)\n",
      "File \u001b[1;32mc:\\users\\binary\\appdata\\local\\programs\\python\\python39\\lib\\site-packages\\joblib\\parallel.py:1046\u001b[0m, in \u001b[0;36mParallel.__call__\u001b[1;34m(self, iterable)\u001b[0m\n\u001b[0;32m   1043\u001b[0m \u001b[38;5;28;01mif\u001b[39;00m \u001b[38;5;28mself\u001b[39m\u001b[38;5;241m.\u001b[39mdispatch_one_batch(iterator):\n\u001b[0;32m   1044\u001b[0m     \u001b[38;5;28mself\u001b[39m\u001b[38;5;241m.\u001b[39m_iterating \u001b[38;5;241m=\u001b[39m \u001b[38;5;28mself\u001b[39m\u001b[38;5;241m.\u001b[39m_original_iterator \u001b[38;5;129;01mis\u001b[39;00m \u001b[38;5;129;01mnot\u001b[39;00m \u001b[38;5;28;01mNone\u001b[39;00m\n\u001b[1;32m-> 1046\u001b[0m \u001b[38;5;28;01mwhile\u001b[39;00m \u001b[38;5;28;43mself\u001b[39;49m\u001b[38;5;241;43m.\u001b[39;49m\u001b[43mdispatch_one_batch\u001b[49m\u001b[43m(\u001b[49m\u001b[43miterator\u001b[49m\u001b[43m)\u001b[49m:\n\u001b[0;32m   1047\u001b[0m     \u001b[38;5;28;01mpass\u001b[39;00m\n\u001b[0;32m   1049\u001b[0m \u001b[38;5;28;01mif\u001b[39;00m pre_dispatch \u001b[38;5;241m==\u001b[39m \u001b[38;5;124m\"\u001b[39m\u001b[38;5;124mall\u001b[39m\u001b[38;5;124m\"\u001b[39m \u001b[38;5;129;01mor\u001b[39;00m n_jobs \u001b[38;5;241m==\u001b[39m \u001b[38;5;241m1\u001b[39m:\n\u001b[0;32m   1050\u001b[0m     \u001b[38;5;66;03m# The iterable was consumed all at once by the above for loop.\u001b[39;00m\n\u001b[0;32m   1051\u001b[0m     \u001b[38;5;66;03m# No need to wait for async callbacks to trigger to\u001b[39;00m\n\u001b[0;32m   1052\u001b[0m     \u001b[38;5;66;03m# consumption.\u001b[39;00m\n",
      "File \u001b[1;32mc:\\users\\binary\\appdata\\local\\programs\\python\\python39\\lib\\site-packages\\joblib\\parallel.py:861\u001b[0m, in \u001b[0;36mParallel.dispatch_one_batch\u001b[1;34m(self, iterator)\u001b[0m\n\u001b[0;32m    859\u001b[0m     \u001b[38;5;28;01mreturn\u001b[39;00m \u001b[38;5;28;01mFalse\u001b[39;00m\n\u001b[0;32m    860\u001b[0m \u001b[38;5;28;01melse\u001b[39;00m:\n\u001b[1;32m--> 861\u001b[0m     \u001b[38;5;28;43mself\u001b[39;49m\u001b[38;5;241;43m.\u001b[39;49m\u001b[43m_dispatch\u001b[49m\u001b[43m(\u001b[49m\u001b[43mtasks\u001b[49m\u001b[43m)\u001b[49m\n\u001b[0;32m    862\u001b[0m     \u001b[38;5;28;01mreturn\u001b[39;00m \u001b[38;5;28;01mTrue\u001b[39;00m\n",
      "File \u001b[1;32mc:\\users\\binary\\appdata\\local\\programs\\python\\python39\\lib\\site-packages\\joblib\\parallel.py:779\u001b[0m, in \u001b[0;36mParallel._dispatch\u001b[1;34m(self, batch)\u001b[0m\n\u001b[0;32m    777\u001b[0m \u001b[38;5;28;01mwith\u001b[39;00m \u001b[38;5;28mself\u001b[39m\u001b[38;5;241m.\u001b[39m_lock:\n\u001b[0;32m    778\u001b[0m     job_idx \u001b[38;5;241m=\u001b[39m \u001b[38;5;28mlen\u001b[39m(\u001b[38;5;28mself\u001b[39m\u001b[38;5;241m.\u001b[39m_jobs)\n\u001b[1;32m--> 779\u001b[0m     job \u001b[38;5;241m=\u001b[39m \u001b[38;5;28;43mself\u001b[39;49m\u001b[38;5;241;43m.\u001b[39;49m\u001b[43m_backend\u001b[49m\u001b[38;5;241;43m.\u001b[39;49m\u001b[43mapply_async\u001b[49m\u001b[43m(\u001b[49m\u001b[43mbatch\u001b[49m\u001b[43m,\u001b[49m\u001b[43m \u001b[49m\u001b[43mcallback\u001b[49m\u001b[38;5;241;43m=\u001b[39;49m\u001b[43mcb\u001b[49m\u001b[43m)\u001b[49m\n\u001b[0;32m    780\u001b[0m     \u001b[38;5;66;03m# A job can complete so quickly than its callback is\u001b[39;00m\n\u001b[0;32m    781\u001b[0m     \u001b[38;5;66;03m# called before we get here, causing self._jobs to\u001b[39;00m\n\u001b[0;32m    782\u001b[0m     \u001b[38;5;66;03m# grow. To ensure correct results ordering, .insert is\u001b[39;00m\n\u001b[0;32m    783\u001b[0m     \u001b[38;5;66;03m# used (rather than .append) in the following line\u001b[39;00m\n\u001b[0;32m    784\u001b[0m     \u001b[38;5;28mself\u001b[39m\u001b[38;5;241m.\u001b[39m_jobs\u001b[38;5;241m.\u001b[39minsert(job_idx, job)\n",
      "File \u001b[1;32mc:\\users\\binary\\appdata\\local\\programs\\python\\python39\\lib\\site-packages\\joblib\\_parallel_backends.py:208\u001b[0m, in \u001b[0;36mSequentialBackend.apply_async\u001b[1;34m(self, func, callback)\u001b[0m\n\u001b[0;32m    206\u001b[0m \u001b[38;5;28;01mdef\u001b[39;00m \u001b[38;5;21mapply_async\u001b[39m(\u001b[38;5;28mself\u001b[39m, func, callback\u001b[38;5;241m=\u001b[39m\u001b[38;5;28;01mNone\u001b[39;00m):\n\u001b[0;32m    207\u001b[0m     \u001b[38;5;124;03m\"\"\"Schedule a func to be run\"\"\"\u001b[39;00m\n\u001b[1;32m--> 208\u001b[0m     result \u001b[38;5;241m=\u001b[39m \u001b[43mImmediateResult\u001b[49m\u001b[43m(\u001b[49m\u001b[43mfunc\u001b[49m\u001b[43m)\u001b[49m\n\u001b[0;32m    209\u001b[0m     \u001b[38;5;28;01mif\u001b[39;00m callback:\n\u001b[0;32m    210\u001b[0m         callback(result)\n",
      "File \u001b[1;32mc:\\users\\binary\\appdata\\local\\programs\\python\\python39\\lib\\site-packages\\joblib\\_parallel_backends.py:572\u001b[0m, in \u001b[0;36mImmediateResult.__init__\u001b[1;34m(self, batch)\u001b[0m\n\u001b[0;32m    569\u001b[0m \u001b[38;5;28;01mdef\u001b[39;00m \u001b[38;5;21m__init__\u001b[39m(\u001b[38;5;28mself\u001b[39m, batch):\n\u001b[0;32m    570\u001b[0m     \u001b[38;5;66;03m# Don't delay the application, to avoid keeping the input\u001b[39;00m\n\u001b[0;32m    571\u001b[0m     \u001b[38;5;66;03m# arguments in memory\u001b[39;00m\n\u001b[1;32m--> 572\u001b[0m     \u001b[38;5;28mself\u001b[39m\u001b[38;5;241m.\u001b[39mresults \u001b[38;5;241m=\u001b[39m \u001b[43mbatch\u001b[49m\u001b[43m(\u001b[49m\u001b[43m)\u001b[49m\n",
      "File \u001b[1;32mc:\\users\\binary\\appdata\\local\\programs\\python\\python39\\lib\\site-packages\\joblib\\parallel.py:262\u001b[0m, in \u001b[0;36mBatchedCalls.__call__\u001b[1;34m(self)\u001b[0m\n\u001b[0;32m    258\u001b[0m \u001b[38;5;28;01mdef\u001b[39;00m \u001b[38;5;21m__call__\u001b[39m(\u001b[38;5;28mself\u001b[39m):\n\u001b[0;32m    259\u001b[0m     \u001b[38;5;66;03m# Set the default nested backend to self._backend but do not set the\u001b[39;00m\n\u001b[0;32m    260\u001b[0m     \u001b[38;5;66;03m# change the default number of processes to -1\u001b[39;00m\n\u001b[0;32m    261\u001b[0m     \u001b[38;5;28;01mwith\u001b[39;00m parallel_backend(\u001b[38;5;28mself\u001b[39m\u001b[38;5;241m.\u001b[39m_backend, n_jobs\u001b[38;5;241m=\u001b[39m\u001b[38;5;28mself\u001b[39m\u001b[38;5;241m.\u001b[39m_n_jobs):\n\u001b[1;32m--> 262\u001b[0m         \u001b[38;5;28;01mreturn\u001b[39;00m [func(\u001b[38;5;241m*\u001b[39margs, \u001b[38;5;241m*\u001b[39m\u001b[38;5;241m*\u001b[39mkwargs)\n\u001b[0;32m    263\u001b[0m                 \u001b[38;5;28;01mfor\u001b[39;00m func, args, kwargs \u001b[38;5;129;01min\u001b[39;00m \u001b[38;5;28mself\u001b[39m\u001b[38;5;241m.\u001b[39mitems]\n",
      "File \u001b[1;32mc:\\users\\binary\\appdata\\local\\programs\\python\\python39\\lib\\site-packages\\joblib\\parallel.py:262\u001b[0m, in \u001b[0;36m<listcomp>\u001b[1;34m(.0)\u001b[0m\n\u001b[0;32m    258\u001b[0m \u001b[38;5;28;01mdef\u001b[39;00m \u001b[38;5;21m__call__\u001b[39m(\u001b[38;5;28mself\u001b[39m):\n\u001b[0;32m    259\u001b[0m     \u001b[38;5;66;03m# Set the default nested backend to self._backend but do not set the\u001b[39;00m\n\u001b[0;32m    260\u001b[0m     \u001b[38;5;66;03m# change the default number of processes to -1\u001b[39;00m\n\u001b[0;32m    261\u001b[0m     \u001b[38;5;28;01mwith\u001b[39;00m parallel_backend(\u001b[38;5;28mself\u001b[39m\u001b[38;5;241m.\u001b[39m_backend, n_jobs\u001b[38;5;241m=\u001b[39m\u001b[38;5;28mself\u001b[39m\u001b[38;5;241m.\u001b[39m_n_jobs):\n\u001b[1;32m--> 262\u001b[0m         \u001b[38;5;28;01mreturn\u001b[39;00m [func(\u001b[38;5;241m*\u001b[39margs, \u001b[38;5;241m*\u001b[39m\u001b[38;5;241m*\u001b[39mkwargs)\n\u001b[0;32m    263\u001b[0m                 \u001b[38;5;28;01mfor\u001b[39;00m func, args, kwargs \u001b[38;5;129;01min\u001b[39;00m \u001b[38;5;28mself\u001b[39m\u001b[38;5;241m.\u001b[39mitems]\n",
      "File \u001b[1;32mc:\\users\\binary\\appdata\\local\\programs\\python\\python39\\lib\\site-packages\\sklearn\\utils\\fixes.py:216\u001b[0m, in \u001b[0;36m_FuncWrapper.__call__\u001b[1;34m(self, *args, **kwargs)\u001b[0m\n\u001b[0;32m    214\u001b[0m \u001b[38;5;28;01mdef\u001b[39;00m \u001b[38;5;21m__call__\u001b[39m(\u001b[38;5;28mself\u001b[39m, \u001b[38;5;241m*\u001b[39margs, \u001b[38;5;241m*\u001b[39m\u001b[38;5;241m*\u001b[39mkwargs):\n\u001b[0;32m    215\u001b[0m     \u001b[38;5;28;01mwith\u001b[39;00m config_context(\u001b[38;5;241m*\u001b[39m\u001b[38;5;241m*\u001b[39m\u001b[38;5;28mself\u001b[39m\u001b[38;5;241m.\u001b[39mconfig):\n\u001b[1;32m--> 216\u001b[0m         \u001b[38;5;28;01mreturn\u001b[39;00m \u001b[38;5;28mself\u001b[39m\u001b[38;5;241m.\u001b[39mfunction(\u001b[38;5;241m*\u001b[39margs, \u001b[38;5;241m*\u001b[39m\u001b[38;5;241m*\u001b[39mkwargs)\n",
      "File \u001b[1;32mc:\\users\\binary\\appdata\\local\\programs\\python\\python39\\lib\\site-packages\\sklearn\\ensemble\\_forest.py:185\u001b[0m, in \u001b[0;36m_parallel_build_trees\u001b[1;34m(tree, forest, X, y, sample_weight, tree_idx, n_trees, verbose, class_weight, n_samples_bootstrap)\u001b[0m\n\u001b[0;32m    182\u001b[0m     \u001b[38;5;28;01melif\u001b[39;00m class_weight \u001b[38;5;241m==\u001b[39m \u001b[38;5;124m\"\u001b[39m\u001b[38;5;124mbalanced_subsample\u001b[39m\u001b[38;5;124m\"\u001b[39m:\n\u001b[0;32m    183\u001b[0m         curr_sample_weight \u001b[38;5;241m*\u001b[39m\u001b[38;5;241m=\u001b[39m compute_sample_weight(\u001b[38;5;124m\"\u001b[39m\u001b[38;5;124mbalanced\u001b[39m\u001b[38;5;124m\"\u001b[39m, y, indices\u001b[38;5;241m=\u001b[39mindices)\n\u001b[1;32m--> 185\u001b[0m     \u001b[43mtree\u001b[49m\u001b[38;5;241;43m.\u001b[39;49m\u001b[43mfit\u001b[49m\u001b[43m(\u001b[49m\u001b[43mX\u001b[49m\u001b[43m,\u001b[49m\u001b[43m \u001b[49m\u001b[43my\u001b[49m\u001b[43m,\u001b[49m\u001b[43m \u001b[49m\u001b[43msample_weight\u001b[49m\u001b[38;5;241;43m=\u001b[39;49m\u001b[43mcurr_sample_weight\u001b[49m\u001b[43m,\u001b[49m\u001b[43m \u001b[49m\u001b[43mcheck_input\u001b[49m\u001b[38;5;241;43m=\u001b[39;49m\u001b[38;5;28;43;01mFalse\u001b[39;49;00m\u001b[43m)\u001b[49m\n\u001b[0;32m    186\u001b[0m \u001b[38;5;28;01melse\u001b[39;00m:\n\u001b[0;32m    187\u001b[0m     tree\u001b[38;5;241m.\u001b[39mfit(X, y, sample_weight\u001b[38;5;241m=\u001b[39msample_weight, check_input\u001b[38;5;241m=\u001b[39m\u001b[38;5;28;01mFalse\u001b[39;00m)\n",
      "File \u001b[1;32mc:\\users\\binary\\appdata\\local\\programs\\python\\python39\\lib\\site-packages\\sklearn\\tree\\_classes.py:937\u001b[0m, in \u001b[0;36mDecisionTreeClassifier.fit\u001b[1;34m(self, X, y, sample_weight, check_input, X_idx_sorted)\u001b[0m\n\u001b[0;32m    899\u001b[0m \u001b[38;5;28;01mdef\u001b[39;00m \u001b[38;5;21mfit\u001b[39m(\n\u001b[0;32m    900\u001b[0m     \u001b[38;5;28mself\u001b[39m, X, y, sample_weight\u001b[38;5;241m=\u001b[39m\u001b[38;5;28;01mNone\u001b[39;00m, check_input\u001b[38;5;241m=\u001b[39m\u001b[38;5;28;01mTrue\u001b[39;00m, X_idx_sorted\u001b[38;5;241m=\u001b[39m\u001b[38;5;124m\"\u001b[39m\u001b[38;5;124mdeprecated\u001b[39m\u001b[38;5;124m\"\u001b[39m\n\u001b[0;32m    901\u001b[0m ):\n\u001b[0;32m    902\u001b[0m     \u001b[38;5;124;03m\"\"\"Build a decision tree classifier from the training set (X, y).\u001b[39;00m\n\u001b[0;32m    903\u001b[0m \n\u001b[0;32m    904\u001b[0m \u001b[38;5;124;03m    Parameters\u001b[39;00m\n\u001b[1;32m   (...)\u001b[0m\n\u001b[0;32m    934\u001b[0m \u001b[38;5;124;03m        Fitted estimator.\u001b[39;00m\n\u001b[0;32m    935\u001b[0m \u001b[38;5;124;03m    \"\"\"\u001b[39;00m\n\u001b[1;32m--> 937\u001b[0m     \u001b[38;5;28;43msuper\u001b[39;49m\u001b[43m(\u001b[49m\u001b[43m)\u001b[49m\u001b[38;5;241;43m.\u001b[39;49m\u001b[43mfit\u001b[49m\u001b[43m(\u001b[49m\n\u001b[0;32m    938\u001b[0m \u001b[43m        \u001b[49m\u001b[43mX\u001b[49m\u001b[43m,\u001b[49m\n\u001b[0;32m    939\u001b[0m \u001b[43m        \u001b[49m\u001b[43my\u001b[49m\u001b[43m,\u001b[49m\n\u001b[0;32m    940\u001b[0m \u001b[43m        \u001b[49m\u001b[43msample_weight\u001b[49m\u001b[38;5;241;43m=\u001b[39;49m\u001b[43msample_weight\u001b[49m\u001b[43m,\u001b[49m\n\u001b[0;32m    941\u001b[0m \u001b[43m        \u001b[49m\u001b[43mcheck_input\u001b[49m\u001b[38;5;241;43m=\u001b[39;49m\u001b[43mcheck_input\u001b[49m\u001b[43m,\u001b[49m\n\u001b[0;32m    942\u001b[0m \u001b[43m        \u001b[49m\u001b[43mX_idx_sorted\u001b[49m\u001b[38;5;241;43m=\u001b[39;49m\u001b[43mX_idx_sorted\u001b[49m\u001b[43m,\u001b[49m\n\u001b[0;32m    943\u001b[0m \u001b[43m    \u001b[49m\u001b[43m)\u001b[49m\n\u001b[0;32m    944\u001b[0m     \u001b[38;5;28;01mreturn\u001b[39;00m \u001b[38;5;28mself\u001b[39m\n",
      "File \u001b[1;32mc:\\users\\binary\\appdata\\local\\programs\\python\\python39\\lib\\site-packages\\sklearn\\tree\\_classes.py:420\u001b[0m, in \u001b[0;36mBaseDecisionTree.fit\u001b[1;34m(self, X, y, sample_weight, check_input, X_idx_sorted)\u001b[0m\n\u001b[0;32m    409\u001b[0m \u001b[38;5;28;01melse\u001b[39;00m:\n\u001b[0;32m    410\u001b[0m     builder \u001b[38;5;241m=\u001b[39m BestFirstTreeBuilder(\n\u001b[0;32m    411\u001b[0m         splitter,\n\u001b[0;32m    412\u001b[0m         min_samples_split,\n\u001b[1;32m   (...)\u001b[0m\n\u001b[0;32m    417\u001b[0m         \u001b[38;5;28mself\u001b[39m\u001b[38;5;241m.\u001b[39mmin_impurity_decrease,\n\u001b[0;32m    418\u001b[0m     )\n\u001b[1;32m--> 420\u001b[0m \u001b[43mbuilder\u001b[49m\u001b[38;5;241;43m.\u001b[39;49m\u001b[43mbuild\u001b[49m\u001b[43m(\u001b[49m\u001b[38;5;28;43mself\u001b[39;49m\u001b[38;5;241;43m.\u001b[39;49m\u001b[43mtree_\u001b[49m\u001b[43m,\u001b[49m\u001b[43m \u001b[49m\u001b[43mX\u001b[49m\u001b[43m,\u001b[49m\u001b[43m \u001b[49m\u001b[43my\u001b[49m\u001b[43m,\u001b[49m\u001b[43m \u001b[49m\u001b[43msample_weight\u001b[49m\u001b[43m)\u001b[49m\n\u001b[0;32m    422\u001b[0m \u001b[38;5;28;01mif\u001b[39;00m \u001b[38;5;28mself\u001b[39m\u001b[38;5;241m.\u001b[39mn_outputs_ \u001b[38;5;241m==\u001b[39m \u001b[38;5;241m1\u001b[39m \u001b[38;5;129;01mand\u001b[39;00m is_classifier(\u001b[38;5;28mself\u001b[39m):\n\u001b[0;32m    423\u001b[0m     \u001b[38;5;28mself\u001b[39m\u001b[38;5;241m.\u001b[39mn_classes_ \u001b[38;5;241m=\u001b[39m \u001b[38;5;28mself\u001b[39m\u001b[38;5;241m.\u001b[39mn_classes_[\u001b[38;5;241m0\u001b[39m]\n",
      "\u001b[1;31mKeyboardInterrupt\u001b[0m: "
     ]
    }
   ],
   "source": [
    "rf = RandomForestClassifier()\n",
    "rf.fit(train_x, train_y)"
   ]
  },
  {
   "cell_type": "code",
   "execution_count": null,
   "id": "a5ce460d",
   "metadata": {},
   "outputs": [],
   "source": [
    "rf.score(test_x, test_y)"
   ]
  }
 ],
 "metadata": {
  "kernelspec": {
   "display_name": "Python 3 (ipykernel)",
   "language": "python",
   "name": "python3"
  },
  "language_info": {
   "codemirror_mode": {
    "name": "ipython",
    "version": 3
   },
   "file_extension": ".py",
   "mimetype": "text/x-python",
   "name": "python",
   "nbconvert_exporter": "python",
   "pygments_lexer": "ipython3",
   "version": "3.9.0"
  }
 },
 "nbformat": 4,
 "nbformat_minor": 5
}
