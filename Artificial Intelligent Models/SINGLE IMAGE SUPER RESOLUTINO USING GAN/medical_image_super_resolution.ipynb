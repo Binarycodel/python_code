{
 "cells": [
  {
   "cell_type": "code",
   "execution_count": 5,
   "id": "1bdbda5a",
   "metadata": {},
   "outputs": [
    {
     "name": "stdout",
     "output_type": "stream",
     "text": [
      "Keras : 2.8.0\n",
      "OpenCV: 4.5.5\n",
      "numpy : 1.22.3\n",
      "mathplotlib : 3.5.1\n",
      "skimage : 0.19.2\n"
     ]
    }
   ],
   "source": [
    "import sys\n",
    "import keras\n",
    "import cv2\n",
    "import matplotlib\n",
    "import skimage\n",
    "import numpy\n",
    "\n",
    "\n",
    "\n",
    "print('Keras : {}'.format(keras.__version__))\n",
    "print('OpenCV: {}'.format(cv2.__version__))\n",
    "print('numpy : {}'.format(numpy.__version__))\n",
    "print('mathplotlib : {}'.format(matplotlib.__version__))\n",
    "print('skimage : {}'.format(skimage.__version__))"
   ]
  },
  {
   "cell_type": "code",
   "execution_count": 19,
   "id": "97c0e55c",
   "metadata": {},
   "outputs": [],
   "source": [
    "# importing nessary metrics package\n",
    "import tensorflow as tf\n",
    "import math\n",
    "from skimage.metrics import structural_similarity as ssim"
   ]
  },
  {
   "cell_type": "code",
   "execution_count": 49,
   "id": "a1577ba0",
   "metadata": {},
   "outputs": [],
   "source": [
    "# defining the signal to noise ratio\n",
    "def psnr(target, ref): \n",
    "    \n",
    "    target_data = target.astype(float)\n",
    "    ref_data = ref.astype(float)\n",
    "    \n",
    "    diff = ref_data - target_data\n",
    "    diff = diff.flatten('C')\n",
    "    \n",
    "    rmse = math.sqrt(np.mean(diff ** 2.))\n",
    "    \n",
    "    return 20 * math.log10(255./rmse)\n",
    "\n",
    "#  defining function for the mean squared error (MSE)\n",
    "def mse(target, ref):\n",
    "    \n",
    "    err = np.sum((target.astype('float')) - ref.astype('float') ** 2)\n",
    "    err /= float(target.shape[0] *target.shape[1])\n",
    "    return err\n",
    "\n",
    "# function to combined\n",
    "def compare_image(target, ref):\n",
    "    scores = []\n",
    "    scores.append(psnr(target,ref))\n",
    "    scores.append(mse(target, ref))\n",
    "    scores.append(ssim(target, rel, multichannel=True))\n",
    "    \n",
    "    return scores\n",
    "    "
   ]
  },
  {
   "cell_type": "code",
   "execution_count": 70,
   "id": "7801cc7d",
   "metadata": {},
   "outputs": [],
   "source": [
    "# dir(skimage.metrics)\n",
    "# loading the image \n",
    "import os\n",
    "\n",
    "def prepare_images(path, factor):\n",
    "    \n",
    "    for file in os.listdir(path):\n",
    "        \n",
    "        img = cv2.imread(path + '/' + file)\n",
    "        print(file, img.shape )\n",
    "        h, w, c = img.shape\n",
    "        new_height = h/factor\n",
    "        new_width = w/factor\n",
    "        \n",
    "        img = cv2.resize(img, (new_width, new_height), interpolation =cv2.INTER_NEAREST )\n",
    "        \n",
    "        img = cv2.resize(img, (w, h))\n",
    "        \n",
    "        print(f'serving {file}')\n",
    "        cv2.imwrite(f'images/{file}', img)"
   ]
  },
  {
   "cell_type": "code",
   "execution_count": 71,
   "id": "f7783687",
   "metadata": {
    "scrolled": true
   },
   "outputs": [
    {
     "name": "stdout",
     "output_type": "stream",
     "text": [
      "0.png (384, 384, 3)\n"
     ]
    },
    {
     "ename": "error",
     "evalue": "OpenCV(4.5.5) :-1: error: (-5:Bad argument) in function 'resize'\n> Overload resolution failed:\n>  - Can't parse 'dsize'. Sequence item with index 0 has a wrong type\n>  - Can't parse 'dsize'. Sequence item with index 0 has a wrong type\n",
     "output_type": "error",
     "traceback": [
      "\u001b[1;31m---------------------------------------------------------------------------\u001b[0m",
      "\u001b[1;31merror\u001b[0m                                     Traceback (most recent call last)",
      "Input \u001b[1;32mIn [71]\u001b[0m, in \u001b[0;36m<cell line: 1>\u001b[1;34m()\u001b[0m\n\u001b[1;32m----> 1\u001b[0m \u001b[43mprepare_images\u001b[49m\u001b[43m(\u001b[49m\u001b[38;5;124;43m'\u001b[39;49m\u001b[38;5;124;43msource/\u001b[39;49m\u001b[38;5;124;43m'\u001b[39;49m\u001b[43m,\u001b[49m\u001b[43m \u001b[49m\u001b[38;5;241;43m2\u001b[39;49m\u001b[43m)\u001b[49m\n",
      "Input \u001b[1;32mIn [70]\u001b[0m, in \u001b[0;36mprepare_images\u001b[1;34m(path, factor)\u001b[0m\n\u001b[0;32m     12\u001b[0m new_height \u001b[38;5;241m=\u001b[39m h\u001b[38;5;241m/\u001b[39mfactor\n\u001b[0;32m     13\u001b[0m new_width \u001b[38;5;241m=\u001b[39m w\u001b[38;5;241m/\u001b[39mfactor\n\u001b[1;32m---> 15\u001b[0m img \u001b[38;5;241m=\u001b[39m \u001b[43mcv2\u001b[49m\u001b[38;5;241;43m.\u001b[39;49m\u001b[43mresize\u001b[49m\u001b[43m(\u001b[49m\u001b[43mimg\u001b[49m\u001b[43m,\u001b[49m\u001b[43m \u001b[49m\u001b[43m(\u001b[49m\u001b[43mnew_width\u001b[49m\u001b[43m,\u001b[49m\u001b[43m \u001b[49m\u001b[43mnew_height\u001b[49m\u001b[43m)\u001b[49m\u001b[43m,\u001b[49m\u001b[43m \u001b[49m\u001b[43minterpolation\u001b[49m\u001b[43m \u001b[49m\u001b[38;5;241;43m=\u001b[39;49m\u001b[43mcv2\u001b[49m\u001b[38;5;241;43m.\u001b[39;49m\u001b[43mINTER_NEAREST\u001b[49m\u001b[43m \u001b[49m\u001b[43m)\u001b[49m\n\u001b[0;32m     17\u001b[0m img \u001b[38;5;241m=\u001b[39m cv2\u001b[38;5;241m.\u001b[39mresize(img, (w, h))\n\u001b[0;32m     19\u001b[0m \u001b[38;5;28mprint\u001b[39m(\u001b[38;5;124mf\u001b[39m\u001b[38;5;124m'\u001b[39m\u001b[38;5;124mserving \u001b[39m\u001b[38;5;132;01m{\u001b[39;00mfile\u001b[38;5;132;01m}\u001b[39;00m\u001b[38;5;124m'\u001b[39m)\n",
      "\u001b[1;31merror\u001b[0m: OpenCV(4.5.5) :-1: error: (-5:Bad argument) in function 'resize'\n> Overload resolution failed:\n>  - Can't parse 'dsize'. Sequence item with index 0 has a wrong type\n>  - Can't parse 'dsize'. Sequence item with index 0 has a wrong type\n"
     ]
    }
   ],
   "source": [
    "prepare_images('source/', 2)"
   ]
  },
  {
   "cell_type": "code",
   "execution_count": 40,
   "id": "02c1ad9b",
   "metadata": {},
   "outputs": [
    {
     "name": "stdout",
     "output_type": "stream",
     "text": [
      "(128, 128, 3)\n",
      "(128, 128, 3)\n",
      "(128, 128, 3)\n",
      "(128, 128, 3)\n",
      "(128, 128, 3)\n"
     ]
    }
   ],
   "source": [
    "train_dir = \"dataset\" \n",
    "for img in os.listdir( train_dir + \"/source\"):\n",
    "    img_array = cv2.imread(train_dir + \"/source/\" + img)\n",
    "   \n",
    "    img_array = cv2.resize(img_array, (128,128))\n",
    "    print(img_array.shape)\n",
    "    lr_img_array = cv2.resize(img_array,(32,32))\n",
    "    cv2.imwrite(train_dir+ \"/hr_image/\" + img, img_array)\n",
    "    cv2.imwrite(train_dir+ \"/lr_image/\"+ img, lr_img_array)"
   ]
  },
  {
   "cell_type": "code",
   "execution_count": 50,
   "id": "393b7ca1",
   "metadata": {},
   "outputs": [
    {
     "ename": "ValueError",
     "evalue": "operands could not be broadcast together with shapes (32,32,3) (581,612,3) ",
     "output_type": "error",
     "traceback": [
      "\u001b[1;31m---------------------------------------------------------------------------\u001b[0m",
      "\u001b[1;31mValueError\u001b[0m                                Traceback (most recent call last)",
      "Input \u001b[1;32mIn [50]\u001b[0m, in \u001b[0;36m<cell line: 2>\u001b[1;34m()\u001b[0m\n\u001b[0;32m      3\u001b[0m target \u001b[38;5;241m=\u001b[39m cv2\u001b[38;5;241m.\u001b[39mimread(\u001b[38;5;124mf\u001b[39m\u001b[38;5;124m'\u001b[39m\u001b[38;5;124mdataset/source/\u001b[39m\u001b[38;5;132;01m{\u001b[39;00mfile\u001b[38;5;132;01m}\u001b[39;00m\u001b[38;5;124m'\u001b[39m)\n\u001b[0;32m      4\u001b[0m ref \u001b[38;5;241m=\u001b[39m cv2\u001b[38;5;241m.\u001b[39mimread(\u001b[38;5;124mf\u001b[39m\u001b[38;5;124m'\u001b[39m\u001b[38;5;124mdataset/lr_image/\u001b[39m\u001b[38;5;132;01m{\u001b[39;00mfile\u001b[38;5;132;01m}\u001b[39;00m\u001b[38;5;124m'\u001b[39m)    \n\u001b[1;32m----> 5\u001b[0m scores \u001b[38;5;241m=\u001b[39m \u001b[43mcompare_image\u001b[49m\u001b[43m(\u001b[49m\u001b[43mtarget\u001b[49m\u001b[43m,\u001b[49m\u001b[43m \u001b[49m\u001b[43mref\u001b[49m\u001b[43m)\u001b[49m\n",
      "Input \u001b[1;32mIn [49]\u001b[0m, in \u001b[0;36mcompare_image\u001b[1;34m(target, ref)\u001b[0m\n\u001b[0;32m     22\u001b[0m \u001b[38;5;28;01mdef\u001b[39;00m \u001b[38;5;21mcompare_image\u001b[39m(target, ref):\n\u001b[0;32m     23\u001b[0m     scores \u001b[38;5;241m=\u001b[39m []\n\u001b[1;32m---> 24\u001b[0m     scores\u001b[38;5;241m.\u001b[39mappend(\u001b[43mpsnr\u001b[49m\u001b[43m(\u001b[49m\u001b[43mtarget\u001b[49m\u001b[43m,\u001b[49m\u001b[43mref\u001b[49m\u001b[43m)\u001b[49m)\n\u001b[0;32m     25\u001b[0m     scores\u001b[38;5;241m.\u001b[39mappend(mse(target, ref))\n\u001b[0;32m     26\u001b[0m     scores\u001b[38;5;241m.\u001b[39mappend(ssim(target, rel, multichannel\u001b[38;5;241m=\u001b[39m\u001b[38;5;28;01mTrue\u001b[39;00m))\n",
      "Input \u001b[1;32mIn [49]\u001b[0m, in \u001b[0;36mpsnr\u001b[1;34m(target, ref)\u001b[0m\n\u001b[0;32m      4\u001b[0m target_data \u001b[38;5;241m=\u001b[39m target\u001b[38;5;241m.\u001b[39mastype(\u001b[38;5;28mfloat\u001b[39m)\n\u001b[0;32m      5\u001b[0m ref_data \u001b[38;5;241m=\u001b[39m ref\u001b[38;5;241m.\u001b[39mastype(\u001b[38;5;28mfloat\u001b[39m)\n\u001b[1;32m----> 7\u001b[0m diff \u001b[38;5;241m=\u001b[39m \u001b[43mref_data\u001b[49m\u001b[43m \u001b[49m\u001b[38;5;241;43m-\u001b[39;49m\u001b[43m \u001b[49m\u001b[43mtarget_data\u001b[49m\n\u001b[0;32m      8\u001b[0m diff \u001b[38;5;241m=\u001b[39m diff\u001b[38;5;241m.\u001b[39mflatten(\u001b[38;5;124m'\u001b[39m\u001b[38;5;124mC\u001b[39m\u001b[38;5;124m'\u001b[39m)\n\u001b[0;32m     10\u001b[0m rmse \u001b[38;5;241m=\u001b[39m math\u001b[38;5;241m.\u001b[39msqrt(np\u001b[38;5;241m.\u001b[39mmean(diff \u001b[38;5;241m*\u001b[39m\u001b[38;5;241m*\u001b[39m \u001b[38;5;241m2.\u001b[39m))\n",
      "\u001b[1;31mValueError\u001b[0m: operands could not be broadcast together with shapes (32,32,3) (581,612,3) "
     ]
    }
   ],
   "source": [
    "# testing generated image \n",
    "for file in os.listdir('dataset/lr_image'):\n",
    "    target = cv2.imread(f'dataset/source/{file}')\n",
    "    ref = cv2.imread(f'dataset/lr_image/{file}')    \n",
    "    scores = compare_image(target, ref) "
   ]
  },
  {
   "cell_type": "code",
   "execution_count": null,
   "id": "2e5f0dc6",
   "metadata": {},
   "outputs": [],
   "source": []
  }
 ],
 "metadata": {
  "kernelspec": {
   "display_name": "Python 3 (ipykernel)",
   "language": "python",
   "name": "python3"
  },
  "language_info": {
   "codemirror_mode": {
    "name": "ipython",
    "version": 3
   },
   "file_extension": ".py",
   "mimetype": "text/x-python",
   "name": "python",
   "nbconvert_exporter": "python",
   "pygments_lexer": "ipython3",
   "version": "3.9.0"
  }
 },
 "nbformat": 4,
 "nbformat_minor": 5
}
