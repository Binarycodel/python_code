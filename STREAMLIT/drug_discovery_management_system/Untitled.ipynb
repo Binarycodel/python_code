{
 "cells": [
  {
   "cell_type": "code",
   "execution_count": 7,
   "id": "58c7cb0e",
   "metadata": {},
   "outputs": [
    {
     "ename": "ImportError",
     "evalue": "cannot import name 'PRCS1_V1_5' from 'Crypto.Cipher' (c:\\users\\binary\\appdata\\local\\programs\\python\\python39\\lib\\site-packages\\Crypto\\Cipher\\__init__.py)",
     "output_type": "error",
     "traceback": [
      "\u001b[1;31m---------------------------------------------------------------------------\u001b[0m",
      "\u001b[1;31mImportError\u001b[0m                               Traceback (most recent call last)",
      "Input \u001b[1;32mIn [7]\u001b[0m, in \u001b[0;36m<cell line: 6>\u001b[1;34m()\u001b[0m\n\u001b[0;32m      4\u001b[0m \u001b[38;5;28;01mimport\u001b[39;00m \u001b[38;5;21;01mCrypto\u001b[39;00m\u001b[38;5;21;01m.\u001b[39;00m\u001b[38;5;21;01mRandom\u001b[39;00m \u001b[38;5;28;01mas\u001b[39;00m \u001b[38;5;21;01mrand\u001b[39;00m\n\u001b[0;32m      5\u001b[0m \u001b[38;5;28;01mfrom\u001b[39;00m \u001b[38;5;21;01mCrypto\u001b[39;00m\u001b[38;5;21;01m.\u001b[39;00m\u001b[38;5;21;01mPublicKey\u001b[39;00m \u001b[38;5;28;01mimport\u001b[39;00m RSA\n\u001b[1;32m----> 6\u001b[0m \u001b[38;5;28;01mfrom\u001b[39;00m \u001b[38;5;21;01mCrypto\u001b[39;00m\u001b[38;5;21;01m.\u001b[39;00m\u001b[38;5;21;01mCipher\u001b[39;00m \u001b[38;5;28;01mimport\u001b[39;00m PRCS1_V1_5\n\u001b[0;32m      9\u001b[0m \u001b[38;5;28;01mclass\u001b[39;00m \u001b[38;5;21;01mClient\u001b[39;00m:\n\u001b[0;32m     11\u001b[0m     \u001b[38;5;28;01mdef\u001b[39;00m \u001b[38;5;21m__init__\u001b[39m(\u001b[38;5;28mself\u001b[39m) \u001b[38;5;241m-\u001b[39m\u001b[38;5;241m>\u001b[39m \u001b[38;5;28;01mNone\u001b[39;00m:\n",
      "\u001b[1;31mImportError\u001b[0m: cannot import name 'PRCS1_V1_5' from 'Crypto.Cipher' (c:\\users\\binary\\appdata\\local\\programs\\python\\python39\\lib\\site-packages\\Crypto\\Cipher\\__init__.py)"
     ]
    }
   ],
   "source": [
    "import binascii\n",
    "from random import random\n",
    "import Crypto\n",
    "import Crypto.Random as rand\n",
    "from Crypto.PublicKey import RSA\n",
    "from Crypto.Cipher import PRCS1_V1_5\n",
    "\n",
    "\n",
    "class Client:\n",
    "\n",
    "    def __init__(self) -> None:\n",
    "        random_val = rand.new().read\n",
    "        # generating private, and public key\n",
    "        self.private_key = RSA.generate(1024, random_val)\n",
    "        self.public_key = self.private_key.publickey()\n",
    "        self.signer = PRCS1_V1_5.new(self.private_key)\n",
    "        #print(self.public_key)\n",
    "\n",
    "        self.identity : None\n",
    "\n",
    "        # OTHER USE ATTRIBUTE \n",
    "\n",
    "    @property\n",
    "    def identity(self):\n",
    "        id = binascii.hexlify(self.public_key.export_key(format='DER')).decode('ascii')\n",
    "        return id\n",
    "\n",
    "    @identity.setter\n",
    "    def identity(self):\n",
    "        self.private_key\n",
    "        pass \n",
    "\n",
    "\n",
    "    def __str__(self) -> str:\n",
    "        string = f'identity ->> {self.identity}'\n",
    "        return string\n",
    "\n",
    "\n",
    "def byte_to_string(binary_data):\n",
    "    string = binary_data.decode('utf8')\n",
    "    return string\n",
    "\n",
    "def string_to_byte(string_data):\n",
    "    byte = string_data.encode('utf-8')\n",
    "    return byte\n",
    "\n",
    "\n",
    "\n",
    "\n",
    "\n",
    "\n",
    "\n",
    "client = Client()\n",
    "\n",
    "\n",
    "print(client.private_key)\n",
    "print(\"=======================================================\")\n",
    "key = client.private_key.export_key(format='DER')\n",
    "print(type(key))\n",
    "\n",
    "im_key = RSA.import_key(key)\n",
    "print(im_key)"
   ]
  },
  {
   "cell_type": "code",
   "execution_count": null,
   "id": "bb27ac22",
   "metadata": {},
   "outputs": [],
   "source": []
  }
 ],
 "metadata": {
  "kernelspec": {
   "display_name": "Python 3 (ipykernel)",
   "language": "python",
   "name": "python3"
  },
  "language_info": {
   "codemirror_mode": {
    "name": "ipython",
    "version": 3
   },
   "file_extension": ".py",
   "mimetype": "text/x-python",
   "name": "python",
   "nbconvert_exporter": "python",
   "pygments_lexer": "ipython3",
   "version": "3.9.0"
  }
 },
 "nbformat": 4,
 "nbformat_minor": 5
}
